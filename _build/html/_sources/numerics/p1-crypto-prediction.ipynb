{
  "cells": [
    {
      "cell_type": "markdown",
      "metadata": {},
      "source": [
        "# Crypto Prediction"
      ]
    },
    {
      "cell_type": "markdown",
      "metadata": {
        "colab": {
          "base_uri": "https://localhost:8080/"
        },
        "id": "TN2kacZcjoab",
        "outputId": "d340eea8-0576-4086-e761-dd635759ae8a"
      },
      "source": [
        "Question\n",
        "1. how to handle missing value?"
      ]
    },
    {
      "cell_type": "markdown",
      "metadata": {
        "id": "U23lp_0Yj7vZ"
      },
      "source": [
        "# TODO"
      ]
    },
    {
      "cell_type": "code",
      "execution_count": null,
      "metadata": {
        "id": "N6E_06inj9AS"
      },
      "outputs": [],
      "source": [
        "# impute non zero y\n",
        "# tune ICA"
      ]
    },
    {
      "cell_type": "markdown",
      "metadata": {
        "id": "8ZCd2MVokzEM"
      },
      "source": [
        "#Notes"
      ]
    },
    {
      "cell_type": "markdown",
      "metadata": {
        "id": "R5bE4ChavXDc"
      },
      "source": [
        "1. This is a regression / prediction problem"
      ]
    },
    {
      "cell_type": "code",
      "execution_count": null,
      "metadata": {
        "id": "DrvYwo3hit9M"
      },
      "outputs": [],
      "source": [
        "# gpu_info = !nvidia-smi\n",
        "# gpu_info = '\\n'.join(gpu_info)\n",
        "# if gpu_info.find('failed') >= 0:\n",
        "#   print('Not connected to a GPU')\n",
        "# else:\n",
        "#   print(gpu_info)"
      ]
    },
    {
      "cell_type": "code",
      "execution_count": null,
      "metadata": {
        "id": "STclOW0Adkw-"
      },
      "outputs": [],
      "source": [
        "# # # # Load the Drive helper and mount\n",
        "# from google.colab import drive\n",
        "# drive.mount('/content/drive')"
      ]
    },
    {
      "cell_type": "code",
      "execution_count": null,
      "metadata": {
        "id": "8A5rcgKJeMVL"
      },
      "outputs": [],
      "source": [
        "#!unzip \"/content/drive/My Drive/crypto_prediction/data.zip\" -d \"/content\""
      ]
    },
    {
      "cell_type": "code",
      "execution_count": null,
      "metadata": {
        "id": "WyPzODcMfBmW"
      },
      "outputs": [],
      "source": [
        "# Import libraries\n",
        "import pandas as pd\n",
        "import numpy as np\n",
        "import matplotlib.pyplot as plt\n",
        "from sklearn.model_selection import train_test_split\n",
        "from sklearn.linear_model import LinearRegression\n",
        "from google.colab import files"
      ]
    },
    {
      "cell_type": "code",
      "execution_count": null,
      "metadata": {
        "id": "xN1bIlHVfDFr"
      },
      "outputs": [],
      "source": [
        "# Load files\n",
        "train = pd.read_csv('Train.csv')\n",
        "test = pd.read_csv('Test.csv')\n",
        "ss = pd.read_csv('SampleSubmission.csv')"
      ]
    },
    {
      "cell_type": "code",
      "execution_count": null,
      "metadata": {
        "colab": {
          "base_uri": "https://localhost:8080/"
        },
        "id": "oenZJsXzfFDR",
        "outputId": "2328f6df-652e-4ebf-cac6-5fc10e291d2f"
      },
      "outputs": [
        {
          "data": {
            "text/plain": [
              "((12632, 49), (6222, 48), (6222, 2))"
            ]
          },
          "execution_count": 12,
          "metadata": {},
          "output_type": "execute_result"
        }
      ],
      "source": [
        "# check data shapes\n",
        "train.shape, test.shape, ss.shape"
      ]
    },
    {
      "cell_type": "code",
      "execution_count": null,
      "metadata": {
        "colab": {
          "base_uri": "https://localhost:8080/",
          "height": 224
        },
        "id": "c7iEFDKQfG3f",
        "outputId": "889f88ee-515e-4b62-b89e-a0b7ad13ce00"
      },
      "outputs": [
        {
          "data": {
            "text/html": [
              "<div>\n",
              "<style scoped>\n",
              "    .dataframe tbody tr th:only-of-type {\n",
              "        vertical-align: middle;\n",
              "    }\n",
              "\n",
              "    .dataframe tbody tr th {\n",
              "        vertical-align: top;\n",
              "    }\n",
              "\n",
              "    .dataframe thead th {\n",
              "        text-align: right;\n",
              "    }\n",
              "</style>\n",
              "<table border=\"1\" class=\"dataframe\">\n",
              "  <thead>\n",
              "    <tr style=\"text-align: right;\">\n",
              "      <th></th>\n",
              "      <th>id</th>\n",
              "      <th>asset_id</th>\n",
              "      <th>open</th>\n",
              "      <th>high</th>\n",
              "      <th>low</th>\n",
              "      <th>volume</th>\n",
              "      <th>market_cap</th>\n",
              "      <th>url_shares</th>\n",
              "      <th>unique_url_shares</th>\n",
              "      <th>reddit_posts</th>\n",
              "      <th>reddit_posts_score</th>\n",
              "      <th>reddit_comments</th>\n",
              "      <th>reddit_comments_score</th>\n",
              "      <th>tweets</th>\n",
              "      <th>tweet_spam</th>\n",
              "      <th>tweet_followers</th>\n",
              "      <th>tweet_quotes</th>\n",
              "      <th>tweet_retweets</th>\n",
              "      <th>tweet_replies</th>\n",
              "      <th>tweet_favorites</th>\n",
              "      <th>tweet_sentiment1</th>\n",
              "      <th>tweet_sentiment2</th>\n",
              "      <th>tweet_sentiment3</th>\n",
              "      <th>tweet_sentiment4</th>\n",
              "      <th>tweet_sentiment5</th>\n",
              "      <th>tweet_sentiment_impact1</th>\n",
              "      <th>tweet_sentiment_impact2</th>\n",
              "      <th>tweet_sentiment_impact3</th>\n",
              "      <th>tweet_sentiment_impact4</th>\n",
              "      <th>tweet_sentiment_impact5</th>\n",
              "      <th>social_score</th>\n",
              "      <th>average_sentiment</th>\n",
              "      <th>news</th>\n",
              "      <th>price_score</th>\n",
              "      <th>social_impact_score</th>\n",
              "      <th>correlation_rank</th>\n",
              "      <th>galaxy_score</th>\n",
              "      <th>volatility</th>\n",
              "      <th>market_cap_rank</th>\n",
              "      <th>percent_change_24h_rank</th>\n",
              "      <th>volume_24h_rank</th>\n",
              "      <th>social_volume_24h_rank</th>\n",
              "      <th>social_score_24h_rank</th>\n",
              "      <th>medium</th>\n",
              "      <th>youtube</th>\n",
              "      <th>social_volume</th>\n",
              "      <th>percent_change_24h</th>\n",
              "      <th>market_cap_global</th>\n",
              "      <th>close</th>\n",
              "    </tr>\n",
              "  </thead>\n",
              "  <tbody>\n",
              "    <tr>\n",
              "      <th>0</th>\n",
              "      <td>ID_322qz6</td>\n",
              "      <td>1</td>\n",
              "      <td>9422.849081</td>\n",
              "      <td>9428.490628</td>\n",
              "      <td>9422.849081</td>\n",
              "      <td>7.131986e+08</td>\n",
              "      <td>1.737635e+11</td>\n",
              "      <td>1689.0</td>\n",
              "      <td>817.0</td>\n",
              "      <td>55.0</td>\n",
              "      <td>105.0</td>\n",
              "      <td>61.0</td>\n",
              "      <td>271.0</td>\n",
              "      <td>3420.0</td>\n",
              "      <td>1671.0</td>\n",
              "      <td>11675867.0</td>\n",
              "      <td>39.0</td>\n",
              "      <td>1343.0</td>\n",
              "      <td>448.0</td>\n",
              "      <td>2237.0</td>\n",
              "      <td>124.0</td>\n",
              "      <td>330.0</td>\n",
              "      <td>331.0</td>\n",
              "      <td>2515.0</td>\n",
              "      <td>120.0</td>\n",
              "      <td>506133.0</td>\n",
              "      <td>1326610.0</td>\n",
              "      <td>1159677.0</td>\n",
              "      <td>8406185.0</td>\n",
              "      <td>281329.0</td>\n",
              "      <td>11681999.0</td>\n",
              "      <td>3.6</td>\n",
              "      <td>69.0</td>\n",
              "      <td>2.7</td>\n",
              "      <td>3.6</td>\n",
              "      <td>3.3</td>\n",
              "      <td>66.0</td>\n",
              "      <td>0.007118</td>\n",
              "      <td>1.0</td>\n",
              "      <td>606.0</td>\n",
              "      <td>2.0</td>\n",
              "      <td>1.0</td>\n",
              "      <td>1.0</td>\n",
              "      <td>2.0</td>\n",
              "      <td>5.0</td>\n",
              "      <td>4422</td>\n",
              "      <td>1.434516</td>\n",
              "      <td>2.818066e+11</td>\n",
              "      <td>9428.279323</td>\n",
              "    </tr>\n",
              "    <tr>\n",
              "      <th>1</th>\n",
              "      <td>ID_3239o9</td>\n",
              "      <td>1</td>\n",
              "      <td>7985.359278</td>\n",
              "      <td>7992.059917</td>\n",
              "      <td>7967.567267</td>\n",
              "      <td>4.004755e+08</td>\n",
              "      <td>1.426942e+11</td>\n",
              "      <td>920.0</td>\n",
              "      <td>544.0</td>\n",
              "      <td>20.0</td>\n",
              "      <td>531.0</td>\n",
              "      <td>103.0</td>\n",
              "      <td>533.0</td>\n",
              "      <td>1491.0</td>\n",
              "      <td>242.0</td>\n",
              "      <td>5917814.0</td>\n",
              "      <td>195.0</td>\n",
              "      <td>1070.0</td>\n",
              "      <td>671.0</td>\n",
              "      <td>3888.0</td>\n",
              "      <td>1.0</td>\n",
              "      <td>52.0</td>\n",
              "      <td>315.0</td>\n",
              "      <td>1100.0</td>\n",
              "      <td>23.0</td>\n",
              "      <td>1320.0</td>\n",
              "      <td>381117.0</td>\n",
              "      <td>1706376.0</td>\n",
              "      <td>3754815.0</td>\n",
              "      <td>80010.0</td>\n",
              "      <td>5924770.0</td>\n",
              "      <td>3.7</td>\n",
              "      <td>1.0</td>\n",
              "      <td>2.0</td>\n",
              "      <td>2.0</td>\n",
              "      <td>1.0</td>\n",
              "      <td>43.5</td>\n",
              "      <td>0.009419</td>\n",
              "      <td>1.0</td>\n",
              "      <td>NaN</td>\n",
              "      <td>NaN</td>\n",
              "      <td>NaN</td>\n",
              "      <td>NaN</td>\n",
              "      <td>NaN</td>\n",
              "      <td>NaN</td>\n",
              "      <td>2159</td>\n",
              "      <td>-2.459507</td>\n",
              "      <td>2.126897e+11</td>\n",
              "      <td>7967.567267</td>\n",
              "    </tr>\n",
              "    <tr>\n",
              "      <th>2</th>\n",
              "      <td>ID_323J9k</td>\n",
              "      <td>1</td>\n",
              "      <td>49202.033778</td>\n",
              "      <td>49394.593518</td>\n",
              "      <td>49068.057046</td>\n",
              "      <td>3.017729e+09</td>\n",
              "      <td>9.166977e+11</td>\n",
              "      <td>1446.0</td>\n",
              "      <td>975.0</td>\n",
              "      <td>72.0</td>\n",
              "      <td>1152.0</td>\n",
              "      <td>187.0</td>\n",
              "      <td>905.0</td>\n",
              "      <td>9346.0</td>\n",
              "      <td>4013.0</td>\n",
              "      <td>47778746.0</td>\n",
              "      <td>104.0</td>\n",
              "      <td>2014.0</td>\n",
              "      <td>1099.0</td>\n",
              "      <td>11476.0</td>\n",
              "      <td>331.0</td>\n",
              "      <td>923.0</td>\n",
              "      <td>864.0</td>\n",
              "      <td>6786.0</td>\n",
              "      <td>442.0</td>\n",
              "      <td>9848462.0</td>\n",
              "      <td>5178557.0</td>\n",
              "      <td>2145663.0</td>\n",
              "      <td>25510267.0</td>\n",
              "      <td>5110490.0</td>\n",
              "      <td>47796942.0</td>\n",
              "      <td>3.7</td>\n",
              "      <td>22.0</td>\n",
              "      <td>3.1</td>\n",
              "      <td>3.0</td>\n",
              "      <td>3.3</td>\n",
              "      <td>65.5</td>\n",
              "      <td>0.013530</td>\n",
              "      <td>1.0</td>\n",
              "      <td>692.0</td>\n",
              "      <td>3.0</td>\n",
              "      <td>1.0</td>\n",
              "      <td>1.0</td>\n",
              "      <td>NaN</td>\n",
              "      <td>NaN</td>\n",
              "      <td>10602</td>\n",
              "      <td>4.942448</td>\n",
              "      <td>1.530712e+12</td>\n",
              "      <td>49120.738484</td>\n",
              "    </tr>\n",
              "    <tr>\n",
              "      <th>3</th>\n",
              "      <td>ID_323y5P</td>\n",
              "      <td>1</td>\n",
              "      <td>NaN</td>\n",
              "      <td>NaN</td>\n",
              "      <td>NaN</td>\n",
              "      <td>NaN</td>\n",
              "      <td>NaN</td>\n",
              "      <td>NaN</td>\n",
              "      <td>NaN</td>\n",
              "      <td>17.0</td>\n",
              "      <td>424.0</td>\n",
              "      <td>268.0</td>\n",
              "      <td>443.0</td>\n",
              "      <td>NaN</td>\n",
              "      <td>NaN</td>\n",
              "      <td>NaN</td>\n",
              "      <td>NaN</td>\n",
              "      <td>NaN</td>\n",
              "      <td>NaN</td>\n",
              "      <td>NaN</td>\n",
              "      <td>NaN</td>\n",
              "      <td>NaN</td>\n",
              "      <td>NaN</td>\n",
              "      <td>NaN</td>\n",
              "      <td>NaN</td>\n",
              "      <td>NaN</td>\n",
              "      <td>NaN</td>\n",
              "      <td>NaN</td>\n",
              "      <td>NaN</td>\n",
              "      <td>NaN</td>\n",
              "      <td>NaN</td>\n",
              "      <td>NaN</td>\n",
              "      <td>NaN</td>\n",
              "      <td>NaN</td>\n",
              "      <td>NaN</td>\n",
              "      <td>NaN</td>\n",
              "      <td>NaN</td>\n",
              "      <td>NaN</td>\n",
              "      <td>NaN</td>\n",
              "      <td>NaN</td>\n",
              "      <td>NaN</td>\n",
              "      <td>NaN</td>\n",
              "      <td>NaN</td>\n",
              "      <td>NaN</td>\n",
              "      <td>NaN</td>\n",
              "      <td>285</td>\n",
              "      <td>NaN</td>\n",
              "      <td>NaN</td>\n",
              "      <td>NaN</td>\n",
              "    </tr>\n",
              "    <tr>\n",
              "      <th>4</th>\n",
              "      <td>ID_324kJH</td>\n",
              "      <td>1</td>\n",
              "      <td>10535.737119</td>\n",
              "      <td>10535.737119</td>\n",
              "      <td>10384.798216</td>\n",
              "      <td>1.150053e+09</td>\n",
              "      <td>1.921183e+11</td>\n",
              "      <td>1012.0</td>\n",
              "      <td>638.0</td>\n",
              "      <td>24.0</td>\n",
              "      <td>42.0</td>\n",
              "      <td>50.0</td>\n",
              "      <td>173.0</td>\n",
              "      <td>3262.0</td>\n",
              "      <td>1652.0</td>\n",
              "      <td>14422172.0</td>\n",
              "      <td>21.0</td>\n",
              "      <td>511.0</td>\n",
              "      <td>190.0</td>\n",
              "      <td>2284.0</td>\n",
              "      <td>86.0</td>\n",
              "      <td>280.0</td>\n",
              "      <td>443.0</td>\n",
              "      <td>2284.0</td>\n",
              "      <td>169.0</td>\n",
              "      <td>311017.0</td>\n",
              "      <td>1977833.0</td>\n",
              "      <td>731277.0</td>\n",
              "      <td>10964321.0</td>\n",
              "      <td>440730.0</td>\n",
              "      <td>14426405.0</td>\n",
              "      <td>3.7</td>\n",
              "      <td>22.0</td>\n",
              "      <td>4.7</td>\n",
              "      <td>3.8</td>\n",
              "      <td>4.4</td>\n",
              "      <td>83.0</td>\n",
              "      <td>0.010332</td>\n",
              "      <td>1.0</td>\n",
              "      <td>749.0</td>\n",
              "      <td>2.0</td>\n",
              "      <td>1.0</td>\n",
              "      <td>1.0</td>\n",
              "      <td>NaN</td>\n",
              "      <td>2.0</td>\n",
              "      <td>3996</td>\n",
              "      <td>2.609576</td>\n",
              "      <td>3.386925e+11</td>\n",
              "      <td>10384.798216</td>\n",
              "    </tr>\n",
              "  </tbody>\n",
              "</table>\n",
              "</div>"
            ],
            "text/plain": [
              "          id  asset_id  ...  market_cap_global         close\n",
              "0  ID_322qz6         1  ...       2.818066e+11   9428.279323\n",
              "1  ID_3239o9         1  ...       2.126897e+11   7967.567267\n",
              "2  ID_323J9k         1  ...       1.530712e+12  49120.738484\n",
              "3  ID_323y5P         1  ...                NaN           NaN\n",
              "4  ID_324kJH         1  ...       3.386925e+11  10384.798216\n",
              "\n",
              "[5 rows x 49 columns]"
            ]
          },
          "execution_count": 13,
          "metadata": {},
          "output_type": "execute_result"
        }
      ],
      "source": [
        "# Preview train\n",
        "train.head()"
      ]
    },
    {
      "cell_type": "code",
      "execution_count": null,
      "metadata": {
        "colab": {
          "base_uri": "https://localhost:8080/",
          "height": 224
        },
        "id": "dFTjedyFfJfY",
        "outputId": "022095f5-e3ad-4219-c2de-89fc0cc567cd"
      },
      "outputs": [
        {
          "data": {
            "text/html": [
              "<div>\n",
              "<style scoped>\n",
              "    .dataframe tbody tr th:only-of-type {\n",
              "        vertical-align: middle;\n",
              "    }\n",
              "\n",
              "    .dataframe tbody tr th {\n",
              "        vertical-align: top;\n",
              "    }\n",
              "\n",
              "    .dataframe thead th {\n",
              "        text-align: right;\n",
              "    }\n",
              "</style>\n",
              "<table border=\"1\" class=\"dataframe\">\n",
              "  <thead>\n",
              "    <tr style=\"text-align: right;\">\n",
              "      <th></th>\n",
              "      <th>id</th>\n",
              "      <th>asset_id</th>\n",
              "      <th>open</th>\n",
              "      <th>high</th>\n",
              "      <th>low</th>\n",
              "      <th>volume</th>\n",
              "      <th>market_cap</th>\n",
              "      <th>url_shares</th>\n",
              "      <th>unique_url_shares</th>\n",
              "      <th>reddit_posts</th>\n",
              "      <th>reddit_posts_score</th>\n",
              "      <th>reddit_comments</th>\n",
              "      <th>reddit_comments_score</th>\n",
              "      <th>tweets</th>\n",
              "      <th>tweet_spam</th>\n",
              "      <th>tweet_followers</th>\n",
              "      <th>tweet_quotes</th>\n",
              "      <th>tweet_retweets</th>\n",
              "      <th>tweet_replies</th>\n",
              "      <th>tweet_favorites</th>\n",
              "      <th>tweet_sentiment1</th>\n",
              "      <th>tweet_sentiment2</th>\n",
              "      <th>tweet_sentiment3</th>\n",
              "      <th>tweet_sentiment4</th>\n",
              "      <th>tweet_sentiment5</th>\n",
              "      <th>tweet_sentiment_impact1</th>\n",
              "      <th>tweet_sentiment_impact2</th>\n",
              "      <th>tweet_sentiment_impact3</th>\n",
              "      <th>tweet_sentiment_impact4</th>\n",
              "      <th>tweet_sentiment_impact5</th>\n",
              "      <th>social_score</th>\n",
              "      <th>average_sentiment</th>\n",
              "      <th>news</th>\n",
              "      <th>price_score</th>\n",
              "      <th>social_impact_score</th>\n",
              "      <th>correlation_rank</th>\n",
              "      <th>galaxy_score</th>\n",
              "      <th>volatility</th>\n",
              "      <th>market_cap_rank</th>\n",
              "      <th>percent_change_24h_rank</th>\n",
              "      <th>volume_24h_rank</th>\n",
              "      <th>social_volume_24h_rank</th>\n",
              "      <th>social_score_24h_rank</th>\n",
              "      <th>medium</th>\n",
              "      <th>youtube</th>\n",
              "      <th>social_volume</th>\n",
              "      <th>percent_change_24h</th>\n",
              "      <th>market_cap_global</th>\n",
              "    </tr>\n",
              "  </thead>\n",
              "  <tbody>\n",
              "    <tr>\n",
              "      <th>0</th>\n",
              "      <td>ID_323Sn2</td>\n",
              "      <td>1</td>\n",
              "      <td>NaN</td>\n",
              "      <td>NaN</td>\n",
              "      <td>NaN</td>\n",
              "      <td>NaN</td>\n",
              "      <td>NaN</td>\n",
              "      <td>NaN</td>\n",
              "      <td>NaN</td>\n",
              "      <td>7.0</td>\n",
              "      <td>56.0</td>\n",
              "      <td>2.0</td>\n",
              "      <td>11.0</td>\n",
              "      <td>NaN</td>\n",
              "      <td>NaN</td>\n",
              "      <td>NaN</td>\n",
              "      <td>NaN</td>\n",
              "      <td>NaN</td>\n",
              "      <td>NaN</td>\n",
              "      <td>NaN</td>\n",
              "      <td>NaN</td>\n",
              "      <td>NaN</td>\n",
              "      <td>NaN</td>\n",
              "      <td>NaN</td>\n",
              "      <td>NaN</td>\n",
              "      <td>NaN</td>\n",
              "      <td>NaN</td>\n",
              "      <td>NaN</td>\n",
              "      <td>NaN</td>\n",
              "      <td>NaN</td>\n",
              "      <td>NaN</td>\n",
              "      <td>NaN</td>\n",
              "      <td>NaN</td>\n",
              "      <td>NaN</td>\n",
              "      <td>NaN</td>\n",
              "      <td>NaN</td>\n",
              "      <td>NaN</td>\n",
              "      <td>NaN</td>\n",
              "      <td>NaN</td>\n",
              "      <td>NaN</td>\n",
              "      <td>NaN</td>\n",
              "      <td>NaN</td>\n",
              "      <td>NaN</td>\n",
              "      <td>NaN</td>\n",
              "      <td>NaN</td>\n",
              "      <td>9</td>\n",
              "      <td>NaN</td>\n",
              "      <td>NaN</td>\n",
              "    </tr>\n",
              "    <tr>\n",
              "      <th>1</th>\n",
              "      <td>ID_325SNW</td>\n",
              "      <td>1</td>\n",
              "      <td>11335.062188</td>\n",
              "      <td>11351.690956</td>\n",
              "      <td>11335.062188</td>\n",
              "      <td>1.064152e+09</td>\n",
              "      <td>2.101463e+11</td>\n",
              "      <td>1664.0</td>\n",
              "      <td>1045.0</td>\n",
              "      <td>64.0</td>\n",
              "      <td>213.0</td>\n",
              "      <td>51.0</td>\n",
              "      <td>274.0</td>\n",
              "      <td>6046.0</td>\n",
              "      <td>3034.0</td>\n",
              "      <td>23453171.0</td>\n",
              "      <td>119.0</td>\n",
              "      <td>2305.0</td>\n",
              "      <td>1367.0</td>\n",
              "      <td>6252.0</td>\n",
              "      <td>151.0</td>\n",
              "      <td>565.0</td>\n",
              "      <td>603.0</td>\n",
              "      <td>4553.0</td>\n",
              "      <td>174.0</td>\n",
              "      <td>2900568.0</td>\n",
              "      <td>1898920.0</td>\n",
              "      <td>2268741.0</td>\n",
              "      <td>14056214.0</td>\n",
              "      <td>2338771.0</td>\n",
              "      <td>23465365.0</td>\n",
              "      <td>3.7</td>\n",
              "      <td>39.0</td>\n",
              "      <td>3.2</td>\n",
              "      <td>3.4</td>\n",
              "      <td>2.8</td>\n",
              "      <td>65.5</td>\n",
              "      <td>0.004407</td>\n",
              "      <td>1.0</td>\n",
              "      <td>711.0</td>\n",
              "      <td>2.0</td>\n",
              "      <td>1.0</td>\n",
              "      <td>1.0</td>\n",
              "      <td>1.0</td>\n",
              "      <td>1.0</td>\n",
              "      <td>7245</td>\n",
              "      <td>-0.555698</td>\n",
              "      <td>3.631052e+11</td>\n",
              "    </tr>\n",
              "    <tr>\n",
              "      <th>2</th>\n",
              "      <td>ID_325uzE</td>\n",
              "      <td>1</td>\n",
              "      <td>6322.560756</td>\n",
              "      <td>6328.362354</td>\n",
              "      <td>6294.714484</td>\n",
              "      <td>1.516268e+09</td>\n",
              "      <td>1.153862e+11</td>\n",
              "      <td>397.0</td>\n",
              "      <td>255.0</td>\n",
              "      <td>11.0</td>\n",
              "      <td>72.0</td>\n",
              "      <td>30.0</td>\n",
              "      <td>112.0</td>\n",
              "      <td>2404.0</td>\n",
              "      <td>304.0</td>\n",
              "      <td>3831278.0</td>\n",
              "      <td>12.0</td>\n",
              "      <td>346.0</td>\n",
              "      <td>73.0</td>\n",
              "      <td>604.0</td>\n",
              "      <td>39.0</td>\n",
              "      <td>103.0</td>\n",
              "      <td>668.0</td>\n",
              "      <td>1406.0</td>\n",
              "      <td>188.0</td>\n",
              "      <td>29147.0</td>\n",
              "      <td>411178.0</td>\n",
              "      <td>873284.0</td>\n",
              "      <td>2389256.0</td>\n",
              "      <td>129448.0</td>\n",
              "      <td>3832828.0</td>\n",
              "      <td>3.7</td>\n",
              "      <td>2.0</td>\n",
              "      <td>3.0</td>\n",
              "      <td>3.0</td>\n",
              "      <td>3.4</td>\n",
              "      <td>65.5</td>\n",
              "      <td>0.024035</td>\n",
              "      <td>1.0</td>\n",
              "      <td>715.0</td>\n",
              "      <td>2.0</td>\n",
              "      <td>1.0</td>\n",
              "      <td>1.0</td>\n",
              "      <td>NaN</td>\n",
              "      <td>NaN</td>\n",
              "      <td>2702</td>\n",
              "      <td>1.689370</td>\n",
              "      <td>1.771075e+11</td>\n",
              "    </tr>\n",
              "    <tr>\n",
              "      <th>3</th>\n",
              "      <td>ID_328qCx</td>\n",
              "      <td>1</td>\n",
              "      <td>NaN</td>\n",
              "      <td>NaN</td>\n",
              "      <td>NaN</td>\n",
              "      <td>NaN</td>\n",
              "      <td>NaN</td>\n",
              "      <td>NaN</td>\n",
              "      <td>NaN</td>\n",
              "      <td>8.0</td>\n",
              "      <td>96.0</td>\n",
              "      <td>217.0</td>\n",
              "      <td>244.0</td>\n",
              "      <td>NaN</td>\n",
              "      <td>NaN</td>\n",
              "      <td>NaN</td>\n",
              "      <td>NaN</td>\n",
              "      <td>NaN</td>\n",
              "      <td>NaN</td>\n",
              "      <td>NaN</td>\n",
              "      <td>NaN</td>\n",
              "      <td>NaN</td>\n",
              "      <td>NaN</td>\n",
              "      <td>NaN</td>\n",
              "      <td>NaN</td>\n",
              "      <td>NaN</td>\n",
              "      <td>NaN</td>\n",
              "      <td>NaN</td>\n",
              "      <td>NaN</td>\n",
              "      <td>NaN</td>\n",
              "      <td>NaN</td>\n",
              "      <td>NaN</td>\n",
              "      <td>NaN</td>\n",
              "      <td>NaN</td>\n",
              "      <td>NaN</td>\n",
              "      <td>NaN</td>\n",
              "      <td>NaN</td>\n",
              "      <td>NaN</td>\n",
              "      <td>NaN</td>\n",
              "      <td>NaN</td>\n",
              "      <td>NaN</td>\n",
              "      <td>NaN</td>\n",
              "      <td>NaN</td>\n",
              "      <td>NaN</td>\n",
              "      <td>NaN</td>\n",
              "      <td>225</td>\n",
              "      <td>NaN</td>\n",
              "      <td>NaN</td>\n",
              "    </tr>\n",
              "    <tr>\n",
              "      <th>4</th>\n",
              "      <td>ID_3293uJ</td>\n",
              "      <td>1</td>\n",
              "      <td>NaN</td>\n",
              "      <td>NaN</td>\n",
              "      <td>NaN</td>\n",
              "      <td>NaN</td>\n",
              "      <td>NaN</td>\n",
              "      <td>NaN</td>\n",
              "      <td>NaN</td>\n",
              "      <td>26.0</td>\n",
              "      <td>49.0</td>\n",
              "      <td>33.0</td>\n",
              "      <td>38.0</td>\n",
              "      <td>NaN</td>\n",
              "      <td>NaN</td>\n",
              "      <td>NaN</td>\n",
              "      <td>NaN</td>\n",
              "      <td>NaN</td>\n",
              "      <td>NaN</td>\n",
              "      <td>NaN</td>\n",
              "      <td>NaN</td>\n",
              "      <td>NaN</td>\n",
              "      <td>NaN</td>\n",
              "      <td>NaN</td>\n",
              "      <td>NaN</td>\n",
              "      <td>NaN</td>\n",
              "      <td>NaN</td>\n",
              "      <td>NaN</td>\n",
              "      <td>NaN</td>\n",
              "      <td>NaN</td>\n",
              "      <td>NaN</td>\n",
              "      <td>NaN</td>\n",
              "      <td>NaN</td>\n",
              "      <td>NaN</td>\n",
              "      <td>NaN</td>\n",
              "      <td>NaN</td>\n",
              "      <td>NaN</td>\n",
              "      <td>NaN</td>\n",
              "      <td>NaN</td>\n",
              "      <td>NaN</td>\n",
              "      <td>NaN</td>\n",
              "      <td>NaN</td>\n",
              "      <td>NaN</td>\n",
              "      <td>NaN</td>\n",
              "      <td>NaN</td>\n",
              "      <td>59</td>\n",
              "      <td>NaN</td>\n",
              "      <td>NaN</td>\n",
              "    </tr>\n",
              "  </tbody>\n",
              "</table>\n",
              "</div>"
            ],
            "text/plain": [
              "          id  asset_id  ...  percent_change_24h  market_cap_global\n",
              "0  ID_323Sn2         1  ...                 NaN                NaN\n",
              "1  ID_325SNW         1  ...           -0.555698       3.631052e+11\n",
              "2  ID_325uzE         1  ...            1.689370       1.771075e+11\n",
              "3  ID_328qCx         1  ...                 NaN                NaN\n",
              "4  ID_3293uJ         1  ...                 NaN                NaN\n",
              "\n",
              "[5 rows x 48 columns]"
            ]
          },
          "execution_count": 14,
          "metadata": {},
          "output_type": "execute_result"
        }
      ],
      "source": [
        "test.head()"
      ]
    },
    {
      "cell_type": "code",
      "execution_count": null,
      "metadata": {
        "colab": {
          "base_uri": "https://localhost:8080/",
          "height": 204
        },
        "id": "Dr5P13DxfL_T",
        "outputId": "d817f767-18e3-4ca1-b0d8-492f8475c13a"
      },
      "outputs": [
        {
          "data": {
            "text/html": [
              "<div>\n",
              "<style scoped>\n",
              "    .dataframe tbody tr th:only-of-type {\n",
              "        vertical-align: middle;\n",
              "    }\n",
              "\n",
              "    .dataframe tbody tr th {\n",
              "        vertical-align: top;\n",
              "    }\n",
              "\n",
              "    .dataframe thead th {\n",
              "        text-align: right;\n",
              "    }\n",
              "</style>\n",
              "<table border=\"1\" class=\"dataframe\">\n",
              "  <thead>\n",
              "    <tr style=\"text-align: right;\">\n",
              "      <th></th>\n",
              "      <th>id</th>\n",
              "      <th>close</th>\n",
              "    </tr>\n",
              "  </thead>\n",
              "  <tbody>\n",
              "    <tr>\n",
              "      <th>0</th>\n",
              "      <td>ID_323Sn2</td>\n",
              "      <td>0</td>\n",
              "    </tr>\n",
              "    <tr>\n",
              "      <th>1</th>\n",
              "      <td>ID_325SNW</td>\n",
              "      <td>0</td>\n",
              "    </tr>\n",
              "    <tr>\n",
              "      <th>2</th>\n",
              "      <td>ID_325uzE</td>\n",
              "      <td>0</td>\n",
              "    </tr>\n",
              "    <tr>\n",
              "      <th>3</th>\n",
              "      <td>ID_328qCx</td>\n",
              "      <td>0</td>\n",
              "    </tr>\n",
              "    <tr>\n",
              "      <th>4</th>\n",
              "      <td>ID_3293uJ</td>\n",
              "      <td>0</td>\n",
              "    </tr>\n",
              "  </tbody>\n",
              "</table>\n",
              "</div>"
            ],
            "text/plain": [
              "          id  close\n",
              "0  ID_323Sn2      0\n",
              "1  ID_325SNW      0\n",
              "2  ID_325uzE      0\n",
              "3  ID_328qCx      0\n",
              "4  ID_3293uJ      0"
            ]
          },
          "execution_count": 15,
          "metadata": {},
          "output_type": "execute_result"
        }
      ],
      "source": [
        "ss.head()"
      ]
    },
    {
      "cell_type": "code",
      "execution_count": null,
      "metadata": {
        "colab": {
          "base_uri": "https://localhost:8080/",
          "height": 609
        },
        "id": "NMGZKdaKfOVO",
        "outputId": "2d7dd21d-1726-4723-a057-d55507348cd4"
      },
      "outputs": [
        {
          "data": {
            "image/png": "[encoded data removed]",
            "text/plain": [
              "<Figure size 648x720 with 1 Axes>"
            ]
          },
          "metadata": {
            "needs_background": "light"
          },
          "output_type": "display_data"
        }
      ],
      "source": [
        "# Check if there any missing values in train set\n",
        "ax = train.isna().sum().sort_values().plot(kind = 'barh', figsize = (9, 10))\n",
        "plt.title('Percentage of Missing Values Per Column in Train Set', fontdict={'size':15})\n",
        "for p in ax.patches:\n",
        "    percentage ='{:,.0f}%'.format((p.get_width()/train.shape[0])*100)\n",
        "    width, height =p.get_width(),p.get_height()\n",
        "    x=p.get_x()+width+0.02\n",
        "    y=p.get_y()+height/2\n",
        "    ax.annotate(percentage,(x,y))"
      ]
    },
    {
      "cell_type": "code",
      "execution_count": null,
      "metadata": {
        "colab": {
          "base_uri": "https://localhost:8080/",
          "height": 609
        },
        "id": "MRFXgF9ffb55",
        "outputId": "4a90a135-7a9e-41fe-893f-8e1bbb1f3f29"
      },
      "outputs": [
        {
          "data": {
            "image/png": "[encoded data removed]",
            "text/plain": [
              "<Figure size 648x720 with 1 Axes>"
            ]
          },
          "metadata": {
            "needs_background": "light"
          },
          "output_type": "display_data"
        }
      ],
      "source": [
        "# Check if there missing values in test set\n",
        "ax = test.isna().sum().sort_values().plot(kind = 'barh', figsize = (9, 10))\n",
        "plt.title('Percentage of Missing Values Per Column in Test Set', fontdict={'size':15})\n",
        "\n",
        "for p in ax.patches:\n",
        "    percentage ='{:,.1f}%'.format((p.get_width()/test.shape[0])*100)\n",
        "    width, height =p.get_width(),p.get_height()\n",
        "    x=p.get_x()+width+0.02\n",
        "    y=p.get_y()+height/2\n",
        "    ax.annotate(percentage,(x,y))"
      ]
    },
    {
      "cell_type": "code",
      "execution_count": null,
      "metadata": {
        "id": "YjW60nd-gIev"
      },
      "outputs": [],
      "source": [
        "# fill missing values\n",
        "train = train.fillna(0)\n",
        "test = test.fillna(0)"
      ]
    },
    {
      "cell_type": "code",
      "execution_count": null,
      "metadata": {
        "colab": {
          "base_uri": "https://localhost:8080/",
          "height": 224
        },
        "id": "2FhloJIuswJn",
        "outputId": "1fb2a4e0-a1c6-4360-b5ad-75e591dff079"
      },
      "outputs": [
        {
          "data": {
            "text/html": [
              "<div>\n",
              "<style scoped>\n",
              "    .dataframe tbody tr th:only-of-type {\n",
              "        vertical-align: middle;\n",
              "    }\n",
              "\n",
              "    .dataframe tbody tr th {\n",
              "        vertical-align: top;\n",
              "    }\n",
              "\n",
              "    .dataframe thead th {\n",
              "        text-align: right;\n",
              "    }\n",
              "</style>\n",
              "<table border=\"1\" class=\"dataframe\">\n",
              "  <thead>\n",
              "    <tr style=\"text-align: right;\">\n",
              "      <th></th>\n",
              "      <th>id</th>\n",
              "      <th>asset_id</th>\n",
              "      <th>open</th>\n",
              "      <th>high</th>\n",
              "      <th>low</th>\n",
              "      <th>volume</th>\n",
              "      <th>market_cap</th>\n",
              "      <th>url_shares</th>\n",
              "      <th>unique_url_shares</th>\n",
              "      <th>reddit_posts</th>\n",
              "      <th>reddit_posts_score</th>\n",
              "      <th>reddit_comments</th>\n",
              "      <th>reddit_comments_score</th>\n",
              "      <th>tweets</th>\n",
              "      <th>tweet_spam</th>\n",
              "      <th>tweet_followers</th>\n",
              "      <th>tweet_quotes</th>\n",
              "      <th>tweet_retweets</th>\n",
              "      <th>tweet_replies</th>\n",
              "      <th>tweet_favorites</th>\n",
              "      <th>tweet_sentiment1</th>\n",
              "      <th>tweet_sentiment2</th>\n",
              "      <th>tweet_sentiment3</th>\n",
              "      <th>tweet_sentiment4</th>\n",
              "      <th>tweet_sentiment5</th>\n",
              "      <th>tweet_sentiment_impact1</th>\n",
              "      <th>tweet_sentiment_impact2</th>\n",
              "      <th>tweet_sentiment_impact3</th>\n",
              "      <th>tweet_sentiment_impact4</th>\n",
              "      <th>tweet_sentiment_impact5</th>\n",
              "      <th>social_score</th>\n",
              "      <th>average_sentiment</th>\n",
              "      <th>news</th>\n",
              "      <th>price_score</th>\n",
              "      <th>social_impact_score</th>\n",
              "      <th>correlation_rank</th>\n",
              "      <th>galaxy_score</th>\n",
              "      <th>volatility</th>\n",
              "      <th>market_cap_rank</th>\n",
              "      <th>percent_change_24h_rank</th>\n",
              "      <th>volume_24h_rank</th>\n",
              "      <th>social_volume_24h_rank</th>\n",
              "      <th>social_score_24h_rank</th>\n",
              "      <th>medium</th>\n",
              "      <th>youtube</th>\n",
              "      <th>social_volume</th>\n",
              "      <th>percent_change_24h</th>\n",
              "      <th>market_cap_global</th>\n",
              "      <th>close</th>\n",
              "    </tr>\n",
              "  </thead>\n",
              "  <tbody>\n",
              "    <tr>\n",
              "      <th>0</th>\n",
              "      <td>ID_322qz6</td>\n",
              "      <td>1</td>\n",
              "      <td>9422.849081</td>\n",
              "      <td>9428.490628</td>\n",
              "      <td>9422.849081</td>\n",
              "      <td>7.131986e+08</td>\n",
              "      <td>1.737635e+11</td>\n",
              "      <td>1689.0</td>\n",
              "      <td>817.0</td>\n",
              "      <td>55.0</td>\n",
              "      <td>105.0</td>\n",
              "      <td>61.0</td>\n",
              "      <td>271.0</td>\n",
              "      <td>3420.0</td>\n",
              "      <td>1671.0</td>\n",
              "      <td>11675867.0</td>\n",
              "      <td>39.0</td>\n",
              "      <td>1343.0</td>\n",
              "      <td>448.0</td>\n",
              "      <td>2237.0</td>\n",
              "      <td>124.0</td>\n",
              "      <td>330.0</td>\n",
              "      <td>331.0</td>\n",
              "      <td>2515.0</td>\n",
              "      <td>120.0</td>\n",
              "      <td>506133.0</td>\n",
              "      <td>1326610.0</td>\n",
              "      <td>1159677.0</td>\n",
              "      <td>8406185.0</td>\n",
              "      <td>281329.0</td>\n",
              "      <td>11681999.0</td>\n",
              "      <td>3.6</td>\n",
              "      <td>69.0</td>\n",
              "      <td>2.7</td>\n",
              "      <td>3.6</td>\n",
              "      <td>3.3</td>\n",
              "      <td>66.0</td>\n",
              "      <td>0.007118</td>\n",
              "      <td>1.0</td>\n",
              "      <td>606.0</td>\n",
              "      <td>2.0</td>\n",
              "      <td>1.0</td>\n",
              "      <td>1.0</td>\n",
              "      <td>2.0</td>\n",
              "      <td>5.0</td>\n",
              "      <td>4422</td>\n",
              "      <td>1.434516</td>\n",
              "      <td>2.818066e+11</td>\n",
              "      <td>9428.279323</td>\n",
              "    </tr>\n",
              "    <tr>\n",
              "      <th>1</th>\n",
              "      <td>ID_3239o9</td>\n",
              "      <td>1</td>\n",
              "      <td>7985.359278</td>\n",
              "      <td>7992.059917</td>\n",
              "      <td>7967.567267</td>\n",
              "      <td>4.004755e+08</td>\n",
              "      <td>1.426942e+11</td>\n",
              "      <td>920.0</td>\n",
              "      <td>544.0</td>\n",
              "      <td>20.0</td>\n",
              "      <td>531.0</td>\n",
              "      <td>103.0</td>\n",
              "      <td>533.0</td>\n",
              "      <td>1491.0</td>\n",
              "      <td>242.0</td>\n",
              "      <td>5917814.0</td>\n",
              "      <td>195.0</td>\n",
              "      <td>1070.0</td>\n",
              "      <td>671.0</td>\n",
              "      <td>3888.0</td>\n",
              "      <td>1.0</td>\n",
              "      <td>52.0</td>\n",
              "      <td>315.0</td>\n",
              "      <td>1100.0</td>\n",
              "      <td>23.0</td>\n",
              "      <td>1320.0</td>\n",
              "      <td>381117.0</td>\n",
              "      <td>1706376.0</td>\n",
              "      <td>3754815.0</td>\n",
              "      <td>80010.0</td>\n",
              "      <td>5924770.0</td>\n",
              "      <td>3.7</td>\n",
              "      <td>1.0</td>\n",
              "      <td>2.0</td>\n",
              "      <td>2.0</td>\n",
              "      <td>1.0</td>\n",
              "      <td>43.5</td>\n",
              "      <td>0.009419</td>\n",
              "      <td>1.0</td>\n",
              "      <td>0.0</td>\n",
              "      <td>0.0</td>\n",
              "      <td>0.0</td>\n",
              "      <td>0.0</td>\n",
              "      <td>0.0</td>\n",
              "      <td>0.0</td>\n",
              "      <td>2159</td>\n",
              "      <td>-2.459507</td>\n",
              "      <td>2.126897e+11</td>\n",
              "      <td>7967.567267</td>\n",
              "    </tr>\n",
              "    <tr>\n",
              "      <th>2</th>\n",
              "      <td>ID_323J9k</td>\n",
              "      <td>1</td>\n",
              "      <td>49202.033778</td>\n",
              "      <td>49394.593518</td>\n",
              "      <td>49068.057046</td>\n",
              "      <td>3.017729e+09</td>\n",
              "      <td>9.166977e+11</td>\n",
              "      <td>1446.0</td>\n",
              "      <td>975.0</td>\n",
              "      <td>72.0</td>\n",
              "      <td>1152.0</td>\n",
              "      <td>187.0</td>\n",
              "      <td>905.0</td>\n",
              "      <td>9346.0</td>\n",
              "      <td>4013.0</td>\n",
              "      <td>47778746.0</td>\n",
              "      <td>104.0</td>\n",
              "      <td>2014.0</td>\n",
              "      <td>1099.0</td>\n",
              "      <td>11476.0</td>\n",
              "      <td>331.0</td>\n",
              "      <td>923.0</td>\n",
              "      <td>864.0</td>\n",
              "      <td>6786.0</td>\n",
              "      <td>442.0</td>\n",
              "      <td>9848462.0</td>\n",
              "      <td>5178557.0</td>\n",
              "      <td>2145663.0</td>\n",
              "      <td>25510267.0</td>\n",
              "      <td>5110490.0</td>\n",
              "      <td>47796942.0</td>\n",
              "      <td>3.7</td>\n",
              "      <td>22.0</td>\n",
              "      <td>3.1</td>\n",
              "      <td>3.0</td>\n",
              "      <td>3.3</td>\n",
              "      <td>65.5</td>\n",
              "      <td>0.013530</td>\n",
              "      <td>1.0</td>\n",
              "      <td>692.0</td>\n",
              "      <td>3.0</td>\n",
              "      <td>1.0</td>\n",
              "      <td>1.0</td>\n",
              "      <td>0.0</td>\n",
              "      <td>0.0</td>\n",
              "      <td>10602</td>\n",
              "      <td>4.942448</td>\n",
              "      <td>1.530712e+12</td>\n",
              "      <td>49120.738484</td>\n",
              "    </tr>\n",
              "    <tr>\n",
              "      <th>3</th>\n",
              "      <td>ID_323y5P</td>\n",
              "      <td>1</td>\n",
              "      <td>0.000000</td>\n",
              "      <td>0.000000</td>\n",
              "      <td>0.000000</td>\n",
              "      <td>0.000000e+00</td>\n",
              "      <td>0.000000e+00</td>\n",
              "      <td>0.0</td>\n",
              "      <td>0.0</td>\n",
              "      <td>17.0</td>\n",
              "      <td>424.0</td>\n",
              "      <td>268.0</td>\n",
              "      <td>443.0</td>\n",
              "      <td>0.0</td>\n",
              "      <td>0.0</td>\n",
              "      <td>0.0</td>\n",
              "      <td>0.0</td>\n",
              "      <td>0.0</td>\n",
              "      <td>0.0</td>\n",
              "      <td>0.0</td>\n",
              "      <td>0.0</td>\n",
              "      <td>0.0</td>\n",
              "      <td>0.0</td>\n",
              "      <td>0.0</td>\n",
              "      <td>0.0</td>\n",
              "      <td>0.0</td>\n",
              "      <td>0.0</td>\n",
              "      <td>0.0</td>\n",
              "      <td>0.0</td>\n",
              "      <td>0.0</td>\n",
              "      <td>0.0</td>\n",
              "      <td>0.0</td>\n",
              "      <td>0.0</td>\n",
              "      <td>0.0</td>\n",
              "      <td>0.0</td>\n",
              "      <td>0.0</td>\n",
              "      <td>0.0</td>\n",
              "      <td>0.000000</td>\n",
              "      <td>0.0</td>\n",
              "      <td>0.0</td>\n",
              "      <td>0.0</td>\n",
              "      <td>0.0</td>\n",
              "      <td>0.0</td>\n",
              "      <td>0.0</td>\n",
              "      <td>0.0</td>\n",
              "      <td>285</td>\n",
              "      <td>0.000000</td>\n",
              "      <td>0.000000e+00</td>\n",
              "      <td>0.000000</td>\n",
              "    </tr>\n",
              "    <tr>\n",
              "      <th>4</th>\n",
              "      <td>ID_324kJH</td>\n",
              "      <td>1</td>\n",
              "      <td>10535.737119</td>\n",
              "      <td>10535.737119</td>\n",
              "      <td>10384.798216</td>\n",
              "      <td>1.150053e+09</td>\n",
              "      <td>1.921183e+11</td>\n",
              "      <td>1012.0</td>\n",
              "      <td>638.0</td>\n",
              "      <td>24.0</td>\n",
              "      <td>42.0</td>\n",
              "      <td>50.0</td>\n",
              "      <td>173.0</td>\n",
              "      <td>3262.0</td>\n",
              "      <td>1652.0</td>\n",
              "      <td>14422172.0</td>\n",
              "      <td>21.0</td>\n",
              "      <td>511.0</td>\n",
              "      <td>190.0</td>\n",
              "      <td>2284.0</td>\n",
              "      <td>86.0</td>\n",
              "      <td>280.0</td>\n",
              "      <td>443.0</td>\n",
              "      <td>2284.0</td>\n",
              "      <td>169.0</td>\n",
              "      <td>311017.0</td>\n",
              "      <td>1977833.0</td>\n",
              "      <td>731277.0</td>\n",
              "      <td>10964321.0</td>\n",
              "      <td>440730.0</td>\n",
              "      <td>14426405.0</td>\n",
              "      <td>3.7</td>\n",
              "      <td>22.0</td>\n",
              "      <td>4.7</td>\n",
              "      <td>3.8</td>\n",
              "      <td>4.4</td>\n",
              "      <td>83.0</td>\n",
              "      <td>0.010332</td>\n",
              "      <td>1.0</td>\n",
              "      <td>749.0</td>\n",
              "      <td>2.0</td>\n",
              "      <td>1.0</td>\n",
              "      <td>1.0</td>\n",
              "      <td>0.0</td>\n",
              "      <td>2.0</td>\n",
              "      <td>3996</td>\n",
              "      <td>2.609576</td>\n",
              "      <td>3.386925e+11</td>\n",
              "      <td>10384.798216</td>\n",
              "    </tr>\n",
              "  </tbody>\n",
              "</table>\n",
              "</div>"
            ],
            "text/plain": [
              "          id  asset_id  ...  market_cap_global         close\n",
              "0  ID_322qz6         1  ...       2.818066e+11   9428.279323\n",
              "1  ID_3239o9         1  ...       2.126897e+11   7967.567267\n",
              "2  ID_323J9k         1  ...       1.530712e+12  49120.738484\n",
              "3  ID_323y5P         1  ...       0.000000e+00      0.000000\n",
              "4  ID_324kJH         1  ...       3.386925e+11  10384.798216\n",
              "\n",
              "[5 rows x 49 columns]"
            ]
          },
          "execution_count": 19,
          "metadata": {},
          "output_type": "execute_result"
        }
      ],
      "source": [
        "train.head()"
      ]
    },
    {
      "cell_type": "code",
      "execution_count": null,
      "metadata": {
        "colab": {
          "base_uri": "https://localhost:8080/"
        },
        "id": "Cei97tf7gdz9",
        "outputId": "f4381569-1b69-4170-9954-ab1f8cc22ceb"
      },
      "outputs": [
        {
          "data": {
            "text/plain": [
              "(False, False)"
            ]
          },
          "execution_count": 20,
          "metadata": {},
          "output_type": "execute_result"
        }
      ],
      "source": [
        "# Check for duplicates\n",
        "train.duplicated().any(), test.duplicated().any()"
      ]
    },
    {
      "cell_type": "code",
      "execution_count": null,
      "metadata": {
        "id": "4VQqWzOZiFyu"
      },
      "outputs": [],
      "source": [
        "SEED = 23\n",
        "# Select main columns to be used in training\n",
        "main_cols = train.columns.difference(['id', 'close','medium','asset_id', 'social_volume_24h_rank', 'volume_24h_rank', 'market_cap_rank', 'social_score_24h_rank', 'tweet_followers']) # assert_id exclude since all 1, volatility, 'youtube', \n",
        "\n",
        "X = train[main_cols]\n",
        "y = train.close.astype(float)\n",
        "\n",
        "# Split data into train and test sets\n",
        "X_train, X_test, y_train, y_test = train_test_split(X,y,test_size=0.1, random_state=42)"
      ]
    },
    {
      "cell_type": "markdown",
      "metadata": {
        "id": "Atny8BaLPj85"
      },
      "source": [
        "# Final"
      ]
    },
    {
      "cell_type": "code",
      "execution_count": null,
      "metadata": {
        "id": "S0HY2OflS0uL"
      },
      "outputs": [],
      "source": [
        "from sklearn.model_selection import RepeatedKFold\n",
        "\n",
        "from sklearn.tree import ExtraTreeRegressor\n",
        "from sklearn.ensemble import RandomForestRegressor\n",
        "from xgboost import XGBRegressor\n",
        "from sklearn.linear_model import Ridge\n",
        "\n",
        "\n",
        "from sklearn.model_selection import cross_val_score\n",
        "from numpy import mean, std\n"
      ]
    },
    {
      "cell_type": "code",
      "execution_count": null,
      "metadata": {
        "colab": {
          "base_uri": "https://localhost:8080/"
        },
        "id": "OwA1HbuZPmlQ",
        "outputId": "f897aa5e-f76e-4c56-8e69-7acf7fcea32a"
      },
      "outputs": [
        {
          "name": "stdout",
          "output_type": "stream",
          "text": [
            "(7774, 45)\n",
            "(7774,)\n",
            "(843, 45)\n",
            "(843,)\n"
          ]
        }
      ],
      "source": [
        "# y_cleaned = y_train[y_train != 0]\n",
        "# y_cleaned.index\n",
        "# X_cleaned = X_train[X_train.index.isin(list(y_cleaned.index))]\n",
        "# print(X_cleaned.shape)\n",
        "# print(y_cleaned.shape)\n",
        "# y_test_cleaned = y_test[y_test != 0]\n",
        "# X_test_cleaned = X_test[X_test.index.isin(list(y_test_cleaned.index))]\n",
        "# print(X_test_cleaned.shape)\n",
        "# print(y_test_cleaned.shape)"
      ]
    },
    {
      "cell_type": "code",
      "execution_count": null,
      "metadata": {
        "colab": {
          "base_uri": "https://localhost:8080/"
        },
        "id": "6yE1B2a-U3M_",
        "outputId": "009476ef-717a-4bd0-9984-656172a9f92d"
      },
      "outputs": [
        {
          "name": "stdout",
          "output_type": "stream",
          "text": [
            "(11254, 45) (11254,)\n",
            "number of outlier row removed:  114\n",
            "percentage of outliers removed:  0.010028149190710767\n"
          ]
        }
      ],
      "source": [
        "# used on X_train instead of X_delete as above\n",
        "\n",
        "from sklearn.ensemble import IsolationForest\n",
        "\n",
        "iso = IsolationForest(random_state=SEED, contamination=0.1)\n",
        "y_pred = iso.fit_predict(X_train)\n",
        "X_train_cleaned = X_train[np.where(y_pred == 1, True, False)]\n",
        "y_train_cleaned = y_train[np.where(y_pred == 1, True, False)]\n",
        "\n",
        "# summarize the shape of the updated training dataset\n",
        "print(X_train_cleaned.shape, y_train_cleaned.shape)\n",
        "cleaned,_ = X_train_cleaned.shape\n",
        "\n",
        "total, _ = X_train.shape\n",
        "print(\"number of outlier row removed: \", total - cleaned)\n",
        "print(\"percentage of outliers removed: \", (total-cleaned) / total)"
      ]
    },
    {
      "cell_type": "code",
      "execution_count": null,
      "metadata": {
        "colab": {
          "base_uri": "https://localhost:8080/"
        },
        "id": "TWXm5hAeU-3V",
        "outputId": "42179baf-07c4-43ff-b78f-f61870952411"
      },
      "outputs": [
        {
          "name": "stderr",
          "output_type": "stream",
          "text": [
            "/usr/local/lib/python3.7/dist-packages/sklearn/linear_model/_ridge.py:148: LinAlgWarning: Ill-conditioned matrix (rcond=2.94201e-28): result may not be accurate.\n",
            "  overwrite_a=True).T\n"
          ]
        },
        {
          "data": {
            "text/plain": [
              "55.8501606006677"
            ]
          },
          "execution_count": 61,
          "metadata": {},
          "output_type": "execute_result"
        }
      ],
      "source": [
        "#submission\n",
        "ridge_rg = Ridge(alpha=1, solver=\"auto\", random_state=SEED)\n",
        "\n",
        "#ridge_rg.fit(X_train_cleaned, y_train_cleaned) # 81\n",
        "\n",
        "ridge_rg.fit(X_train, y_train) # 77\n",
        "\n",
        "y_pred = ridge_rg.predict(X_test)\n",
        "\n",
        "#ridge_rg.fit(X_delete_cleaned, y_delete_cleaned) # 81\n",
        "#ridge_rg.fit(X_reduced, y_delete)x # 81\n",
        "#y_pred = ridge_rg.predict(X_test_reduced)\n",
        "\n",
        "#y_pred = ridge_rg.predict(X_test_imputed)\n",
        "\n",
        "from sklearn.metrics import mean_squared_error\n",
        "mean_squared_error(y_pred, y_test, squared=False)"
      ]
    },
    {
      "cell_type": "code",
      "execution_count": null,
      "metadata": {
        "colab": {
          "base_uri": "https://localhost:8080/"
        },
        "id": "7bzeKLp2Wu_7",
        "outputId": "f9492c65-ddd0-4d82-d293-21bba84510c2"
      },
      "outputs": [
        {
          "name": "stdout",
          "output_type": "stream",
          "text": [
            "RMSE: -67.142 (13.430)\n"
          ]
        }
      ],
      "source": [
        "# evaluate the model\n",
        "\n",
        "ridge_rg = Ridge(alpha=1, solver=\"auto\", random_state=SEED)\n",
        "\n",
        "cv = RepeatedKFold(n_splits=10, n_repeats=1, random_state=SEED)\n",
        "#n_scores = cross_val_score(ridge_rg, X_train, y_train, scoring='neg_root_mean_squared_error', cv=cv, n_jobs=-1, error_score='raise')\n",
        "n_scores = cross_val_score(ext, X_cleaned, y_cleaned, scoring='neg_root_mean_squared_error', cv=cv, n_jobs=-1, error_score='raise')\n",
        "\n",
        "print('RMSE: %.3f (%.3f)' % (mean(n_scores), std(n_scores))) # ['id', 'close', 'asset_id'] -> RMSE: -61.251 (11.243)"
      ]
    },
    {
      "cell_type": "code",
      "execution_count": null,
      "metadata": {
        "colab": {
          "base_uri": "https://localhost:8080/"
        },
        "id": "8HV9lyVRStB6",
        "outputId": "4492efb6-39ac-458d-8723-be62b7dc66e3"
      },
      "outputs": [
        {
          "name": "stdout",
          "output_type": "stream",
          "text": [
            "RMSE: -56.201 (8.062)\n"
          ]
        }
      ],
      "source": [
        "# evaluate the model\n",
        "\n",
        "ext = ExtraTreesRegressor(random_state=SEED, n_estimators=130, max_depth=39, min_samples_split=2)  # 39->RMSE: -56.458 (8.914)\n",
        "\n",
        "\n",
        "cv = RepeatedKFold(n_splits=10, n_repeats=1, random_state=SEED)\n",
        "n_scores = cross_val_score(ext, X_train, y_train, scoring='neg_root_mean_squared_error', cv=cv, n_jobs=-1, error_score='raise')\n",
        "#n_scores = cross_val_score(ext, X_cleaned, y_cleaned, scoring='neg_root_mean_squared_error', cv=cv, n_jobs=-1, error_score='raise')\n",
        "\n",
        "print('RMSE: %.3f (%.3f)' % (mean(n_scores), std(n_scores))) # ['id', 'close', 'asset_id'] -> RMSE: -61.251 (11.243)"
      ]
    },
    {
      "cell_type": "code",
      "execution_count": null,
      "metadata": {
        "id": "VuahoXkaP_YK"
      },
      "outputs": [],
      "source": [
        "def fit_model(model, X_given=X_train, y_given=y_train, X_test_given=X_test):\n",
        "    # # Fit Model\n",
        "    model.fit(X_given, y_given)\n",
        "    # Predict\n",
        "    y_pred = model.predict(X_test_given)\n",
        "    from sklearn.metrics import mean_squared_error\n",
        "    print(mean_squared_error(y_pred, y_test, squared=False))"
      ]
    },
    {
      "cell_type": "code",
      "execution_count": null,
      "metadata": {
        "colab": {
          "base_uri": "https://localhost:8080/",
          "height": 405
        },
        "id": "g6Xh048HP6g_",
        "outputId": "ab1aca41-a198-46c4-e1bf-bcbad82e2ce6"
      },
      "outputs": [
        {
          "name": "stdout",
          "output_type": "stream",
          "text": [
            "59.632469543757274\n"
          ]
        },
        {
          "ename": "ValueError",
          "evalue": "ignored",
          "output_type": "error",
          "traceback": [
            "\u001b[0;31m---------------------------------------------------------------------------\u001b[0m",
            "\u001b[0;31mValueError\u001b[0m                                Traceback (most recent call last)",
            "\u001b[0;32m<ipython-input-35-9cfad293a4d2>\u001b[0m in \u001b[0;36m<module>\u001b[0;34m()\u001b[0m\n\u001b[1;32m      6\u001b[0m \u001b[0mfit_model\u001b[0m\u001b[0;34m(\u001b[0m\u001b[0mext\u001b[0m\u001b[0;34m,\u001b[0m \u001b[0mX_train\u001b[0m\u001b[0;34m,\u001b[0m \u001b[0my_train\u001b[0m\u001b[0;34m,\u001b[0m \u001b[0mX_test\u001b[0m\u001b[0;34m)\u001b[0m\u001b[0;31m# 59.632469543757274\u001b[0m\u001b[0;34m\u001b[0m\u001b[0;34m\u001b[0m\u001b[0m\n\u001b[1;32m      7\u001b[0m \u001b[0;34m\u001b[0m\u001b[0m\n\u001b[0;32m----> 8\u001b[0;31m \u001b[0mfit_model\u001b[0m\u001b[0;34m(\u001b[0m\u001b[0mext\u001b[0m\u001b[0;34m,\u001b[0m \u001b[0mX_cleaned\u001b[0m\u001b[0;34m,\u001b[0m \u001b[0my_cleaned\u001b[0m\u001b[0;34m,\u001b[0m \u001b[0mX_test\u001b[0m\u001b[0;34m)\u001b[0m\u001b[0;34m\u001b[0m\u001b[0;34m\u001b[0m\u001b[0m\n\u001b[0m\u001b[1;32m      9\u001b[0m \u001b[0;31m#fit_model(ext, X_delete, y_delete)\u001b[0m\u001b[0;34m\u001b[0m\u001b[0;34m\u001b[0m\u001b[0;34m\u001b[0m\u001b[0m\n\u001b[1;32m     10\u001b[0m \u001b[0;31m# 83\u001b[0m\u001b[0;34m\u001b[0m\u001b[0;34m\u001b[0m\u001b[0;34m\u001b[0m\u001b[0m\n",
            "\u001b[0;32m<ipython-input-19-03d0bfdbf8fc>\u001b[0m in \u001b[0;36mfit_model\u001b[0;34m(model, X_given, y_given, X_test_given)\u001b[0m\n\u001b[1;32m      3\u001b[0m     \u001b[0mmodel\u001b[0m\u001b[0;34m.\u001b[0m\u001b[0mfit\u001b[0m\u001b[0;34m(\u001b[0m\u001b[0mX_given\u001b[0m\u001b[0;34m,\u001b[0m \u001b[0my_given\u001b[0m\u001b[0;34m)\u001b[0m\u001b[0;34m\u001b[0m\u001b[0;34m\u001b[0m\u001b[0m\n\u001b[1;32m      4\u001b[0m     \u001b[0;31m# Predict\u001b[0m\u001b[0;34m\u001b[0m\u001b[0;34m\u001b[0m\u001b[0;34m\u001b[0m\u001b[0m\n\u001b[0;32m----> 5\u001b[0;31m     \u001b[0my_pred\u001b[0m \u001b[0;34m=\u001b[0m \u001b[0mmodel\u001b[0m\u001b[0;34m.\u001b[0m\u001b[0mpredict\u001b[0m\u001b[0;34m(\u001b[0m\u001b[0mX_test_given\u001b[0m\u001b[0;34m)\u001b[0m\u001b[0;34m\u001b[0m\u001b[0;34m\u001b[0m\u001b[0m\n\u001b[0m\u001b[1;32m      6\u001b[0m     \u001b[0;32mfrom\u001b[0m \u001b[0msklearn\u001b[0m\u001b[0;34m.\u001b[0m\u001b[0mmetrics\u001b[0m \u001b[0;32mimport\u001b[0m \u001b[0mmean_squared_error\u001b[0m\u001b[0;34m\u001b[0m\u001b[0;34m\u001b[0m\u001b[0m\n\u001b[1;32m      7\u001b[0m     \u001b[0mprint\u001b[0m\u001b[0;34m(\u001b[0m\u001b[0mmean_squared_error\u001b[0m\u001b[0;34m(\u001b[0m\u001b[0my_pred\u001b[0m\u001b[0;34m,\u001b[0m \u001b[0my_test\u001b[0m\u001b[0;34m,\u001b[0m \u001b[0msquared\u001b[0m\u001b[0;34m=\u001b[0m\u001b[0;32mFalse\u001b[0m\u001b[0;34m)\u001b[0m\u001b[0;34m)\u001b[0m\u001b[0;34m\u001b[0m\u001b[0;34m\u001b[0m\u001b[0m\n",
            "\u001b[0;32m/usr/local/lib/python3.7/dist-packages/sklearn/ensemble/_forest.py\u001b[0m in \u001b[0;36mpredict\u001b[0;34m(self, X)\u001b[0m\n\u001b[1;32m    764\u001b[0m         \u001b[0mcheck_is_fitted\u001b[0m\u001b[0;34m(\u001b[0m\u001b[0mself\u001b[0m\u001b[0;34m)\u001b[0m\u001b[0;34m\u001b[0m\u001b[0;34m\u001b[0m\u001b[0m\n\u001b[1;32m    765\u001b[0m         \u001b[0;31m# Check data\u001b[0m\u001b[0;34m\u001b[0m\u001b[0;34m\u001b[0m\u001b[0;34m\u001b[0m\u001b[0m\n\u001b[0;32m--> 766\u001b[0;31m         \u001b[0mX\u001b[0m \u001b[0;34m=\u001b[0m \u001b[0mself\u001b[0m\u001b[0;34m.\u001b[0m\u001b[0m_validate_X_predict\u001b[0m\u001b[0;34m(\u001b[0m\u001b[0mX\u001b[0m\u001b[0;34m)\u001b[0m\u001b[0;34m\u001b[0m\u001b[0;34m\u001b[0m\u001b[0m\n\u001b[0m\u001b[1;32m    767\u001b[0m \u001b[0;34m\u001b[0m\u001b[0m\n\u001b[1;32m    768\u001b[0m         \u001b[0;31m# Assign chunk of trees to jobs\u001b[0m\u001b[0;34m\u001b[0m\u001b[0;34m\u001b[0m\u001b[0;34m\u001b[0m\u001b[0m\n",
            "\u001b[0;32m/usr/local/lib/python3.7/dist-packages/sklearn/ensemble/_forest.py\u001b[0m in \u001b[0;36m_validate_X_predict\u001b[0;34m(self, X)\u001b[0m\n\u001b[1;32m    410\u001b[0m         \u001b[0mcheck_is_fitted\u001b[0m\u001b[0;34m(\u001b[0m\u001b[0mself\u001b[0m\u001b[0;34m)\u001b[0m\u001b[0;34m\u001b[0m\u001b[0;34m\u001b[0m\u001b[0m\n\u001b[1;32m    411\u001b[0m \u001b[0;34m\u001b[0m\u001b[0m\n\u001b[0;32m--> 412\u001b[0;31m         \u001b[0;32mreturn\u001b[0m \u001b[0mself\u001b[0m\u001b[0;34m.\u001b[0m\u001b[0mestimators_\u001b[0m\u001b[0;34m[\u001b[0m\u001b[0;36m0\u001b[0m\u001b[0;34m]\u001b[0m\u001b[0;34m.\u001b[0m\u001b[0m_validate_X_predict\u001b[0m\u001b[0;34m(\u001b[0m\u001b[0mX\u001b[0m\u001b[0;34m,\u001b[0m \u001b[0mcheck_input\u001b[0m\u001b[0;34m=\u001b[0m\u001b[0;32mTrue\u001b[0m\u001b[0;34m)\u001b[0m\u001b[0;34m\u001b[0m\u001b[0;34m\u001b[0m\u001b[0m\n\u001b[0m\u001b[1;32m    413\u001b[0m \u001b[0;34m\u001b[0m\u001b[0m\n\u001b[1;32m    414\u001b[0m     \u001b[0;34m@\u001b[0m\u001b[0mproperty\u001b[0m\u001b[0;34m\u001b[0m\u001b[0;34m\u001b[0m\u001b[0m\n",
            "\u001b[0;32m/usr/local/lib/python3.7/dist-packages/sklearn/tree/_classes.py\u001b[0m in \u001b[0;36m_validate_X_predict\u001b[0;34m(self, X, check_input)\u001b[0m\n\u001b[1;32m    389\u001b[0m                              \u001b[0;34m\"match the input. Model n_features is %s and \"\u001b[0m\u001b[0;34m\u001b[0m\u001b[0;34m\u001b[0m\u001b[0m\n\u001b[1;32m    390\u001b[0m                              \u001b[0;34m\"input n_features is %s \"\u001b[0m\u001b[0;34m\u001b[0m\u001b[0;34m\u001b[0m\u001b[0m\n\u001b[0;32m--> 391\u001b[0;31m                              % (self.n_features_, n_features))\n\u001b[0m\u001b[1;32m    392\u001b[0m \u001b[0;34m\u001b[0m\u001b[0m\n\u001b[1;32m    393\u001b[0m         \u001b[0;32mreturn\u001b[0m \u001b[0mX\u001b[0m\u001b[0;34m\u001b[0m\u001b[0;34m\u001b[0m\u001b[0m\n",
            "\u001b[0;31mValueError\u001b[0m: Number of features of the model must match the input. Model n_features is 44 and input n_features is 45 "
          ]
        }
      ],
      "source": [
        "\n",
        "from sklearn.ensemble import ExtraTreesRegressor\n",
        "\n",
        "ext = ExtraTreesRegressor(random_state=SEED, n_estimators=130, max_depth=39, min_samples_split=2)  \n",
        "\n",
        "fit_model(ext, X_train, y_train, X_test)# 59.632469543757274\n",
        "\n",
        "#fit_model(ext, X_cleaned, y_cleaned, X_test)\n",
        "#fit_model(ext, X_delete, y_delete)\n",
        "# 83\n",
        "#fit_model(ext, X_train_scaled, y_train, X_test_scaled) #worse\n",
        "#fit_model(ext, X_train_imp_mean, y_train, X_test_imp_mean) 137.67830689850263\n",
        "#fit_model(ext, X_reduced, y_train, X_test_reduced)"
      ]
    },
    {
      "cell_type": "markdown",
      "metadata": {
        "id": "4piSF6HKVgJo"
      },
      "source": [
        "## Pre-processing"
      ]
    },
    {
      "cell_type": "markdown",
      "metadata": {
        "id": "hNtZs5oQnzWB"
      },
      "source": [
        "## delete"
      ]
    },
    {
      "cell_type": "code",
      "execution_count": null,
      "metadata": {
        "colab": {
          "base_uri": "https://localhost:8080/"
        },
        "id": "MFnPnAii3NQd",
        "outputId": "d2566bd1-ac41-42c1-9e5d-c5ae6e5aa25a"
      },
      "outputs": [
        {
          "name": "stdout",
          "output_type": "stream",
          "text": [
            "1263\n",
            "864\n"
          ]
        }
      ],
      "source": [
        "print(len(X_train))\n",
        "n_zeros_allow =39  #(X_train.shape[1])//6, 41, 39(77)\n",
        "#print(\"number of half columns\",n_zeros_th)\n",
        "\n",
        "X_delete = X_train[X_train.eq(0).sum(1) < n_zeros_allow] #X_train[(X_train != 0).all(1)]\n",
        "print(len(X_delete))\n",
        "X_delete.head()\n",
        "y_delete = y_train[y_train.index.isin(list(X_delete.index))]"
      ]
    },
    {
      "cell_type": "markdown",
      "metadata": {
        "id": "2Q-ItJOoEVQS"
      },
      "source": [
        "## isoforest"
      ]
    },
    {
      "cell_type": "markdown",
      "metadata": {
        "id": "GxUAhgE8FAJH"
      },
      "source": [
        "### x_delete"
      ]
    },
    {
      "cell_type": "code",
      "execution_count": null,
      "metadata": {
        "colab": {
          "base_uri": "https://localhost:8080/",
          "height": 239
        },
        "id": "A1lZ9YJfEUWO",
        "outputId": "06fad938-cb6f-4ff6-c430-c601969830f0"
      },
      "outputs": [
        {
          "ename": "NameError",
          "evalue": "ignored",
          "output_type": "error",
          "traceback": [
            "\u001b[0;31m---------------------------------------------------------------------------\u001b[0m",
            "\u001b[0;31mNameError\u001b[0m                                 Traceback (most recent call last)",
            "\u001b[0;32m<ipython-input-97-907510452ecf>\u001b[0m in \u001b[0;36m<module>\u001b[0;34m()\u001b[0m\n\u001b[1;32m      7\u001b[0m \u001b[0;34m\u001b[0m\u001b[0m\n\u001b[1;32m      8\u001b[0m \u001b[0miso\u001b[0m \u001b[0;34m=\u001b[0m \u001b[0mIsolationForest\u001b[0m\u001b[0;34m(\u001b[0m\u001b[0mrandom_state\u001b[0m\u001b[0;34m=\u001b[0m\u001b[0mSEED\u001b[0m\u001b[0;34m,\u001b[0m \u001b[0mcontamination\u001b[0m\u001b[0;34m=\u001b[0m\u001b[0;36m0.1\u001b[0m\u001b[0;34m)\u001b[0m\u001b[0;34m\u001b[0m\u001b[0;34m\u001b[0m\u001b[0m\n\u001b[0;32m----> 9\u001b[0;31m \u001b[0my_pred\u001b[0m \u001b[0;34m=\u001b[0m \u001b[0miso\u001b[0m\u001b[0;34m.\u001b[0m\u001b[0mfit_predict\u001b[0m\u001b[0;34m(\u001b[0m\u001b[0mX_delete\u001b[0m\u001b[0;34m)\u001b[0m\u001b[0;34m\u001b[0m\u001b[0;34m\u001b[0m\u001b[0m\n\u001b[0m\u001b[1;32m     10\u001b[0m \u001b[0mX_delete_cleaned\u001b[0m \u001b[0;34m=\u001b[0m \u001b[0mX_delete\u001b[0m\u001b[0;34m[\u001b[0m\u001b[0mnp\u001b[0m\u001b[0;34m.\u001b[0m\u001b[0mwhere\u001b[0m\u001b[0;34m(\u001b[0m\u001b[0my_pred\u001b[0m \u001b[0;34m==\u001b[0m \u001b[0;36m1\u001b[0m\u001b[0;34m,\u001b[0m \u001b[0;32mTrue\u001b[0m\u001b[0;34m,\u001b[0m \u001b[0;32mFalse\u001b[0m\u001b[0;34m)\u001b[0m\u001b[0;34m]\u001b[0m\u001b[0;34m\u001b[0m\u001b[0;34m\u001b[0m\u001b[0m\n\u001b[1;32m     11\u001b[0m \u001b[0my_delete_cleaned\u001b[0m \u001b[0;34m=\u001b[0m \u001b[0my_delete\u001b[0m\u001b[0;34m[\u001b[0m\u001b[0mnp\u001b[0m\u001b[0;34m.\u001b[0m\u001b[0mwhere\u001b[0m\u001b[0;34m(\u001b[0m\u001b[0my_pred\u001b[0m \u001b[0;34m==\u001b[0m \u001b[0;36m1\u001b[0m\u001b[0;34m,\u001b[0m \u001b[0;32mTrue\u001b[0m\u001b[0;34m,\u001b[0m \u001b[0;32mFalse\u001b[0m\u001b[0;34m)\u001b[0m\u001b[0;34m]\u001b[0m\u001b[0;34m\u001b[0m\u001b[0;34m\u001b[0m\u001b[0m\n",
            "\u001b[0;31mNameError\u001b[0m: name 'X_delete' is not defined"
          ]
        }
      ],
      "source": [
        "# # used on X_train instead of X_delete as above\n",
        "\n",
        "# from sklearn.ensemble import IsolationForest\n",
        "# from sklearn.metrics import make_scorer, f1_score\n",
        "# from sklearn import model_selection\n",
        "# from sklearn.datasets import make_classification\n",
        "\n",
        "# iso = IsolationForest(random_state=SEED, contamination=0.1)\n",
        "# y_pred = iso.fit_predict(X_delete)\n",
        "# X_delete_cleaned = X_delete[np.where(y_pred == 1, True, False)]\n",
        "# y_delete_cleaned = y_delete[np.where(y_pred == 1, True, False)]\n",
        "\n",
        "# # summarize the shape of the updated training dataset\n",
        "# print(X_delete_cleaned.shape, y_delete_cleaned.shape)\n",
        "# cleaned,_ = X_delete_cleaned.shape\n",
        "\n",
        "# total, _ = X_delete.shape\n",
        "# print(\"number of outlier row removed: \", total - cleaned)\n",
        "# print(\"percentage of outliers removed: \", (total-cleaned) / total)"
      ]
    },
    {
      "cell_type": "markdown",
      "metadata": {
        "id": "YKXTM3gwFC28"
      },
      "source": [
        "### x_train"
      ]
    },
    {
      "cell_type": "code",
      "execution_count": null,
      "metadata": {
        "colab": {
          "base_uri": "https://localhost:8080/"
        },
        "id": "stXxI9I_FCFV",
        "outputId": "bfda3f09-6a2e-40e1-fdfd-a955e3ee7ce8"
      },
      "outputs": [
        {
          "name": "stdout",
          "output_type": "stream",
          "text": [
            "(10799, 80) (10799,)\n",
            "number of outlier row removed:  569\n",
            "percentage of outliers removed:  0.05005277973258269\n"
          ]
        }
      ],
      "source": [
        "# used on X_train instead of X_delete as above\n",
        "\n",
        "from sklearn.ensemble import IsolationForest\n",
        "from sklearn.metrics import make_scorer, f1_score\n",
        "from sklearn import model_selection\n",
        "from sklearn.datasets import make_classification\n",
        "\n",
        "iso = IsolationForest(random_state=SEED, contamination=0.05)\n",
        "y_pred = iso.fit_predict(X_train)\n",
        "X_train_cleaned = X_train[np.where(y_pred == 1, True, False)]\n",
        "y_train_cleaned = y_train[np.where(y_pred == 1, True, False)]\n",
        "\n",
        "# summarize the shape of the updated training dataset\n",
        "print(X_train_cleaned.shape, y_train_cleaned.shape)\n",
        "cleaned,_ = X_train_cleaned.shape\n",
        "\n",
        "total, _ = X_train.shape\n",
        "print(\"number of outlier row removed: \", total - cleaned)\n",
        "print(\"percentage of outliers removed: \", (total-cleaned) / total)"
      ]
    },
    {
      "cell_type": "markdown",
      "metadata": {
        "id": "XLnQpXt5XdLa"
      },
      "source": [
        "## standardised (bad)"
      ]
    },
    {
      "cell_type": "code",
      "execution_count": null,
      "metadata": {
        "id": "sIxYj8ibVi67"
      },
      "outputs": [],
      "source": [
        "from sklearn import preprocessing\n",
        "scaler = preprocessing.StandardScaler().fit(X_train)\n",
        "X_delete_scaled = scaler.transform(X_delete)"
      ]
    },
    {
      "cell_type": "code",
      "execution_count": null,
      "metadata": {
        "id": "7jrS5VQ8X6AI"
      },
      "outputs": [],
      "source": [
        "from sklearn import preprocessing\n",
        "scaler = preprocessing.StandardScaler().fit(X_test)\n",
        "X_test_scaled = scaler.transform(X_test)"
      ]
    },
    {
      "cell_type": "markdown",
      "metadata": {
        "id": "7AdY8fm_b_F_"
      },
      "source": [
        "## robust scaler (bad result)"
      ]
    },
    {
      "cell_type": "code",
      "execution_count": null,
      "metadata": {
        "id": "WSTMjy21cBLa"
      },
      "outputs": [],
      "source": [
        "from sklearn.preprocessing import RobustScaler\n",
        "transformer = RobustScaler().fit(X_delete)\n",
        "X_delete_robust = transformer.transform(X_delete)\n",
        "\n",
        "transformer = RobustScaler().fit(X_test)\n",
        "X_test_robust = transformer.transform(X_test)"
      ]
    },
    {
      "cell_type": "markdown",
      "metadata": {
        "id": "0Youf56Q0vFs"
      },
      "source": [
        "## remove nans,zeros trial"
      ]
    },
    {
      "cell_type": "markdown",
      "metadata": {
        "id": "aOlwv0suxb0M"
      },
      "source": [
        "remove rows contain half nan"
      ]
    },
    {
      "cell_type": "code",
      "execution_count": null,
      "metadata": {
        "colab": {
          "base_uri": "https://localhost:8080/"
        },
        "id": "MvOYXL9zuxKG",
        "outputId": "62c585a5-e897-4cf8-981e-d36d27b130e0"
      },
      "outputs": [
        {
          "data": {
            "text/html": [
              "<div>\n",
              "<style scoped>\n",
              "    .dataframe tbody tr th:only-of-type {\n",
              "        vertical-align: middle;\n",
              "    }\n",
              "\n",
              "    .dataframe tbody tr th {\n",
              "        vertical-align: top;\n",
              "    }\n",
              "\n",
              "    .dataframe thead th {\n",
              "        text-align: right;\n",
              "    }\n",
              "</style>\n",
              "<table border=\"1\" class=\"dataframe\">\n",
              "  <thead>\n",
              "    <tr style=\"text-align: right;\">\n",
              "      <th></th>\n",
              "      <th>0</th>\n",
              "      <th>1</th>\n",
              "      <th>2</th>\n",
              "      <th>3</th>\n",
              "      <th>4</th>\n",
              "      <th>5</th>\n",
              "      <th>6</th>\n",
              "      <th>7</th>\n",
              "      <th>8</th>\n",
              "      <th>9</th>\n",
              "    </tr>\n",
              "  </thead>\n",
              "  <tbody>\n",
              "    <tr>\n",
              "      <th>0</th>\n",
              "      <td>1.0</td>\n",
              "      <td>1.0</td>\n",
              "      <td>NaN</td>\n",
              "      <td>NaN</td>\n",
              "      <td>1.0</td>\n",
              "      <td>1.0</td>\n",
              "      <td>1.0</td>\n",
              "      <td>1.0</td>\n",
              "      <td>NaN</td>\n",
              "      <td>1.0</td>\n",
              "    </tr>\n",
              "    <tr>\n",
              "      <th>1</th>\n",
              "      <td>NaN</td>\n",
              "      <td>1.0</td>\n",
              "      <td>1.0</td>\n",
              "      <td>1.0</td>\n",
              "      <td>1.0</td>\n",
              "      <td>1.0</td>\n",
              "      <td>NaN</td>\n",
              "      <td>1.0</td>\n",
              "      <td>NaN</td>\n",
              "      <td>1.0</td>\n",
              "    </tr>\n",
              "    <tr>\n",
              "      <th>2</th>\n",
              "      <td>1.0</td>\n",
              "      <td>1.0</td>\n",
              "      <td>NaN</td>\n",
              "      <td>1.0</td>\n",
              "      <td>1.0</td>\n",
              "      <td>NaN</td>\n",
              "      <td>1.0</td>\n",
              "      <td>NaN</td>\n",
              "      <td>NaN</td>\n",
              "      <td>NaN</td>\n",
              "    </tr>\n",
              "    <tr>\n",
              "      <th>3</th>\n",
              "      <td>1.0</td>\n",
              "      <td>1.0</td>\n",
              "      <td>NaN</td>\n",
              "      <td>NaN</td>\n",
              "      <td>1.0</td>\n",
              "      <td>NaN</td>\n",
              "      <td>1.0</td>\n",
              "      <td>NaN</td>\n",
              "      <td>1.0</td>\n",
              "      <td>NaN</td>\n",
              "    </tr>\n",
              "    <tr>\n",
              "      <th>4</th>\n",
              "      <td>NaN</td>\n",
              "      <td>NaN</td>\n",
              "      <td>NaN</td>\n",
              "      <td>1.0</td>\n",
              "      <td>1.0</td>\n",
              "      <td>NaN</td>\n",
              "      <td>1.0</td>\n",
              "      <td>1.0</td>\n",
              "      <td>1.0</td>\n",
              "      <td>NaN</td>\n",
              "    </tr>\n",
              "  </tbody>\n",
              "</table>\n",
              "</div>"
            ],
            "text/plain": [
              "     0    1    2    3    4    5    6    7    8    9\n",
              "0  1.0  1.0  NaN  NaN  1.0  1.0  1.0  1.0  NaN  1.0\n",
              "1  NaN  1.0  1.0  1.0  1.0  1.0  NaN  1.0  NaN  1.0\n",
              "2  1.0  1.0  NaN  1.0  1.0  NaN  1.0  NaN  NaN  NaN\n",
              "3  1.0  1.0  NaN  NaN  1.0  NaN  1.0  NaN  1.0  NaN\n",
              "4  NaN  NaN  NaN  1.0  1.0  NaN  1.0  1.0  1.0  NaN"
            ]
          },
          "execution_count": 180,
          "metadata": {},
          "output_type": "execute_result"
        }
      ],
      "source": [
        "# np.random.seed([SEED])\n",
        "# df = pd.DataFrame(np.random.choice([1, np.nan], size=(5, 10)))\n",
        "\n",
        "# df"
      ]
    },
    {
      "cell_type": "code",
      "execution_count": null,
      "metadata": {
        "colab": {
          "base_uri": "https://localhost:8080/"
        },
        "id": "_cHaNiKQvDLV",
        "outputId": "37475499-b114-4546-a18a-35edc216a368"
      },
      "outputs": [
        {
          "data": {
            "text/plain": [
              "(5, 10)"
            ]
          },
          "execution_count": 167,
          "metadata": {},
          "output_type": "execute_result"
        }
      ],
      "source": [
        "df.shape"
      ]
    },
    {
      "cell_type": "code",
      "execution_count": null,
      "metadata": {
        "colab": {
          "base_uri": "https://localhost:8080/"
        },
        "id": "a02tHpVyu-hR",
        "outputId": "20014a55-df44-4eb8-be73-7cc3dc720ea7"
      },
      "outputs": [
        {
          "name": "stdout",
          "output_type": "stream",
          "text": [
            "6\n"
          ]
        },
        {
          "data": {
            "text/html": [
              "<div>\n",
              "<style scoped>\n",
              "    .dataframe tbody tr th:only-of-type {\n",
              "        vertical-align: middle;\n",
              "    }\n",
              "\n",
              "    .dataframe tbody tr th {\n",
              "        vertical-align: top;\n",
              "    }\n",
              "\n",
              "    .dataframe thead th {\n",
              "        text-align: right;\n",
              "    }\n",
              "</style>\n",
              "<table border=\"1\" class=\"dataframe\">\n",
              "  <thead>\n",
              "    <tr style=\"text-align: right;\">\n",
              "      <th></th>\n",
              "      <th>0</th>\n",
              "      <th>1</th>\n",
              "      <th>2</th>\n",
              "      <th>3</th>\n",
              "      <th>4</th>\n",
              "      <th>5</th>\n",
              "      <th>6</th>\n",
              "      <th>7</th>\n",
              "      <th>8</th>\n",
              "      <th>9</th>\n",
              "    </tr>\n",
              "  </thead>\n",
              "  <tbody>\n",
              "    <tr>\n",
              "      <th>0</th>\n",
              "      <td>1.0</td>\n",
              "      <td>1.0</td>\n",
              "      <td>NaN</td>\n",
              "      <td>NaN</td>\n",
              "      <td>1.0</td>\n",
              "      <td>1.0</td>\n",
              "      <td>1.0</td>\n",
              "      <td>1.0</td>\n",
              "      <td>NaN</td>\n",
              "      <td>1.0</td>\n",
              "    </tr>\n",
              "    <tr>\n",
              "      <th>1</th>\n",
              "      <td>NaN</td>\n",
              "      <td>1.0</td>\n",
              "      <td>1.0</td>\n",
              "      <td>1.0</td>\n",
              "      <td>1.0</td>\n",
              "      <td>1.0</td>\n",
              "      <td>NaN</td>\n",
              "      <td>1.0</td>\n",
              "      <td>NaN</td>\n",
              "      <td>1.0</td>\n",
              "    </tr>\n",
              "  </tbody>\n",
              "</table>\n",
              "</div>"
            ],
            "text/plain": [
              "     0    1    2    3    4    5    6    7   8    9\n",
              "0  1.0  1.0  NaN  NaN  1.0  1.0  1.0  1.0 NaN  1.0\n",
              "1  NaN  1.0  1.0  1.0  1.0  1.0  NaN  1.0 NaN  1.0"
            ]
          },
          "execution_count": 184,
          "metadata": {},
          "output_type": "execute_result"
        }
      ],
      "source": [
        "# n_not_empty = 6 #df.shape[1]/2\n",
        "# print(th)\n",
        "# df.dropna(thresh = n_not_empty, axis = 0, inplace = True)\n",
        "# df\n",
        "\n"
      ]
    },
    {
      "cell_type": "markdown",
      "metadata": {
        "id": "H16ePUoExhyh"
      },
      "source": [
        "remove rows contain half zeros"
      ]
    },
    {
      "cell_type": "code",
      "execution_count": null,
      "metadata": {
        "colab": {
          "base_uri": "https://localhost:8080/"
        },
        "id": "1GgbsYWTxltR",
        "outputId": "f69283b0-b6ab-450e-8239-7fda408af2d6"
      },
      "outputs": [
        {
          "data": {
            "text/html": [
              "<div>\n",
              "<style scoped>\n",
              "    .dataframe tbody tr th:only-of-type {\n",
              "        vertical-align: middle;\n",
              "    }\n",
              "\n",
              "    .dataframe tbody tr th {\n",
              "        vertical-align: top;\n",
              "    }\n",
              "\n",
              "    .dataframe thead th {\n",
              "        text-align: right;\n",
              "    }\n",
              "</style>\n",
              "<table border=\"1\" class=\"dataframe\">\n",
              "  <thead>\n",
              "    <tr style=\"text-align: right;\">\n",
              "      <th></th>\n",
              "      <th>0</th>\n",
              "      <th>1</th>\n",
              "      <th>2</th>\n",
              "      <th>3</th>\n",
              "      <th>4</th>\n",
              "      <th>5</th>\n",
              "      <th>6</th>\n",
              "      <th>7</th>\n",
              "      <th>8</th>\n",
              "      <th>9</th>\n",
              "    </tr>\n",
              "  </thead>\n",
              "  <tbody>\n",
              "    <tr>\n",
              "      <th>0</th>\n",
              "      <td>1</td>\n",
              "      <td>1</td>\n",
              "      <td>0</td>\n",
              "      <td>0</td>\n",
              "      <td>1</td>\n",
              "      <td>1</td>\n",
              "      <td>1</td>\n",
              "      <td>1</td>\n",
              "      <td>0</td>\n",
              "      <td>1</td>\n",
              "    </tr>\n",
              "    <tr>\n",
              "      <th>1</th>\n",
              "      <td>0</td>\n",
              "      <td>1</td>\n",
              "      <td>1</td>\n",
              "      <td>1</td>\n",
              "      <td>1</td>\n",
              "      <td>1</td>\n",
              "      <td>0</td>\n",
              "      <td>1</td>\n",
              "      <td>0</td>\n",
              "      <td>1</td>\n",
              "    </tr>\n",
              "    <tr>\n",
              "      <th>2</th>\n",
              "      <td>1</td>\n",
              "      <td>1</td>\n",
              "      <td>0</td>\n",
              "      <td>1</td>\n",
              "      <td>1</td>\n",
              "      <td>0</td>\n",
              "      <td>1</td>\n",
              "      <td>0</td>\n",
              "      <td>0</td>\n",
              "      <td>0</td>\n",
              "    </tr>\n",
              "    <tr>\n",
              "      <th>3</th>\n",
              "      <td>1</td>\n",
              "      <td>1</td>\n",
              "      <td>0</td>\n",
              "      <td>0</td>\n",
              "      <td>1</td>\n",
              "      <td>0</td>\n",
              "      <td>1</td>\n",
              "      <td>0</td>\n",
              "      <td>1</td>\n",
              "      <td>0</td>\n",
              "    </tr>\n",
              "    <tr>\n",
              "      <th>4</th>\n",
              "      <td>0</td>\n",
              "      <td>0</td>\n",
              "      <td>0</td>\n",
              "      <td>1</td>\n",
              "      <td>1</td>\n",
              "      <td>0</td>\n",
              "      <td>1</td>\n",
              "      <td>1</td>\n",
              "      <td>1</td>\n",
              "      <td>0</td>\n",
              "    </tr>\n",
              "  </tbody>\n",
              "</table>\n",
              "</div>"
            ],
            "text/plain": [
              "   0  1  2  3  4  5  6  7  8  9\n",
              "0  1  1  0  0  1  1  1  1  0  1\n",
              "1  0  1  1  1  1  1  0  1  0  1\n",
              "2  1  1  0  1  1  0  1  0  0  0\n",
              "3  1  1  0  0  1  0  1  0  1  0\n",
              "4  0  0  0  1  1  0  1  1  1  0"
            ]
          },
          "execution_count": 193,
          "metadata": {},
          "output_type": "execute_result"
        }
      ],
      "source": [
        "# np.random.seed([SEED])\n",
        "# df = pd.DataFrame(np.random.choice([1, 0], size=(5, 10)))\n",
        "\n",
        "# df"
      ]
    },
    {
      "cell_type": "code",
      "execution_count": null,
      "metadata": {
        "colab": {
          "base_uri": "https://localhost:8080/"
        },
        "id": "Oamg00IFyLZ9",
        "outputId": "f9927846-410f-40f6-b5b8-81d2fba38ac7"
      },
      "outputs": [
        {
          "data": {
            "text/plain": [
              "0    3\n",
              "1    3\n",
              "2    5\n",
              "3    5\n",
              "4    5\n",
              "dtype: int64"
            ]
          },
          "execution_count": 191,
          "metadata": {},
          "output_type": "execute_result"
        }
      ],
      "source": [
        "# df.eq(0).sum(axis=1)"
      ]
    },
    {
      "cell_type": "code",
      "execution_count": null,
      "metadata": {
        "colab": {
          "base_uri": "https://localhost:8080/"
        },
        "id": "P3HT2NFFx5Qw",
        "outputId": "f4765e7a-8db8-4cec-d67c-92ee0e912280"
      },
      "outputs": [
        {
          "name": "stdout",
          "output_type": "stream",
          "text": [
            "5\n"
          ]
        },
        {
          "data": {
            "text/html": [
              "<div>\n",
              "<style scoped>\n",
              "    .dataframe tbody tr th:only-of-type {\n",
              "        vertical-align: middle;\n",
              "    }\n",
              "\n",
              "    .dataframe tbody tr th {\n",
              "        vertical-align: top;\n",
              "    }\n",
              "\n",
              "    .dataframe thead th {\n",
              "        text-align: right;\n",
              "    }\n",
              "</style>\n",
              "<table border=\"1\" class=\"dataframe\">\n",
              "  <thead>\n",
              "    <tr style=\"text-align: right;\">\n",
              "      <th></th>\n",
              "      <th>0</th>\n",
              "      <th>1</th>\n",
              "      <th>2</th>\n",
              "      <th>3</th>\n",
              "      <th>4</th>\n",
              "      <th>5</th>\n",
              "      <th>6</th>\n",
              "      <th>7</th>\n",
              "      <th>8</th>\n",
              "      <th>9</th>\n",
              "    </tr>\n",
              "  </thead>\n",
              "  <tbody>\n",
              "    <tr>\n",
              "      <th>0</th>\n",
              "      <td>1</td>\n",
              "      <td>1</td>\n",
              "      <td>0</td>\n",
              "      <td>0</td>\n",
              "      <td>1</td>\n",
              "      <td>1</td>\n",
              "      <td>1</td>\n",
              "      <td>1</td>\n",
              "      <td>0</td>\n",
              "      <td>1</td>\n",
              "    </tr>\n",
              "    <tr>\n",
              "      <th>1</th>\n",
              "      <td>0</td>\n",
              "      <td>1</td>\n",
              "      <td>1</td>\n",
              "      <td>1</td>\n",
              "      <td>1</td>\n",
              "      <td>1</td>\n",
              "      <td>0</td>\n",
              "      <td>1</td>\n",
              "      <td>0</td>\n",
              "      <td>1</td>\n",
              "    </tr>\n",
              "  </tbody>\n",
              "</table>\n",
              "</div>"
            ],
            "text/plain": [
              "   0  1  2  3  4  5  6  7  8  9\n",
              "0  1  1  0  0  1  1  1  1  0  1\n",
              "1  0  1  1  1  1  1  0  1  0  1"
            ]
          },
          "execution_count": 196,
          "metadata": {},
          "output_type": "execute_result"
        }
      ],
      "source": [
        "# n_zeros =(df.shape[1])//2\n",
        "# print(n_zeros)\n",
        "# df[df.eq(0).sum(1) < n_zeros]"
      ]
    },
    {
      "cell_type": "markdown",
      "metadata": {
        "id": "v7_RiUNLx0Y3"
      },
      "source": [
        "remove rows that contain at least one zero's"
      ]
    },
    {
      "cell_type": "code",
      "execution_count": null,
      "metadata": {
        "colab": {
          "base_uri": "https://localhost:8080/"
        },
        "id": "q6NXsT3iSPYv",
        "outputId": "49a8f732-1237-4e45-e775-12b4fcc17d79"
      },
      "outputs": [
        {
          "name": "stdout",
          "output_type": "stream",
          "text": [
            "10105\n",
            "5724\n"
          ]
        }
      ],
      "source": [
        "print(len(X_train))\n",
        "X_delete = X_train[(X_train != 0).all(1)]\n",
        "print(len(X_delete))\n",
        "X_delete.head()\n",
        "y_delete = y_train[y_train.index.isin(list(X_delete.index))]"
      ]
    },
    {
      "cell_type": "markdown",
      "metadata": {
        "id": "wTODpEsh0nFK"
      },
      "source": [
        "## remove half zeros"
      ]
    },
    {
      "cell_type": "code",
      "execution_count": null,
      "metadata": {
        "colab": {
          "base_uri": "https://localhost:8080/"
        },
        "id": "YSkyDf_Jyy-T",
        "outputId": "73d6762f-691d-4308-855e-5621b98bf6ae"
      },
      "outputs": [
        {
          "name": "stdout",
          "output_type": "stream",
          "text": [
            "10105\n",
            "9703\n"
          ]
        }
      ],
      "source": [
        "# print(len(X_train))\n",
        "# n_zeros_allow = 42  #(X_train.shape[1])//6\n",
        "# #print(\"number of half columns\",n_zeros_th)\n",
        "\n",
        "# X_delete = X_train[X_train.eq(0).sum(1) < n_zeros_allow] #X_train[(X_train != 0).all(1)]\n",
        "# print(len(X_delete))\n",
        "# X_delete.head()\n",
        "# y_delete = y_train[y_train.index.isin(list(X_delete.index))]"
      ]
    },
    {
      "cell_type": "markdown",
      "metadata": {
        "id": "hEEB-qEy1Zgw"
      },
      "source": [
        "## iso forest on X_delete"
      ]
    },
    {
      "cell_type": "code",
      "execution_count": null,
      "metadata": {
        "colab": {
          "base_uri": "https://localhost:8080/"
        },
        "id": "xHOFHMF0VZYG",
        "outputId": "94954d70-c661-4a0b-ed78-c7e6fa9a16ee"
      },
      "outputs": [
        {
          "name": "stdout",
          "output_type": "stream",
          "text": [
            "(6300, 45) (6300,)\n",
            "number of outlier row removed:  631\n",
            "percentage of outliers removed:  0.0910402539316116\n"
          ]
        }
      ],
      "source": [
        "from sklearn.ensemble import IsolationForest\n",
        "from sklearn.metrics import make_scorer, f1_score\n",
        "from sklearn import model_selection\n",
        "from sklearn.datasets import make_classification\n",
        "\n",
        "iso = IsolationForest(random_state=SEED)\n",
        "y_pred = iso.fit_predict(X_delete)\n",
        "X_delete_cleaned = X_delete[np.where(y_pred == 1, True, False)]\n",
        "y_delete_cleaned = y_delete[np.where(y_pred == 1, True, False)]\n",
        "\n",
        "# summarize the shape of the updated training dataset\n",
        "print(X_delete_cleaned.shape, y_delete_cleaned.shape)\n",
        "cleaned,_ = X_delete_cleaned.shape\n",
        "\n",
        "total, _ = X_delete.shape\n",
        "print(\"number of outlier row removed: \", total - cleaned)\n",
        "print(\"percentage of outliers removed: \", (total-cleaned) / total)"
      ]
    },
    {
      "cell_type": "code",
      "execution_count": null,
      "metadata": {
        "colab": {
          "base_uri": "https://localhost:8080/"
        },
        "id": "go3rYxXCbI6d",
        "outputId": "1bc26396-7386-43ad-cecf-e274f469a965"
      },
      "outputs": [
        {
          "name": "stdout",
          "output_type": "stream",
          "text": [
            "(0, 45) (0,)\n",
            "number of outlier row removed:  6931\n",
            "percentage of outliers removed:  1.0\n"
          ]
        }
      ],
      "source": [
        "# from sklearn.cluster import DBSCAN, not working\n",
        "\n",
        "# db = DBSCAN(eps=0.0001, min_samples=100).fit(X_delete)\n",
        "# X_delete_cleaned = X_delete[db.labels_ != -1]\n",
        "# y_delete_cleaned = y_delete[db.labels_ != -1]\n",
        "\n",
        "# # summarize the shape of the updated training dataset\n",
        "# print(X_delete_cleaned.shape, y_delete_cleaned.shape)\n",
        "# cleaned,_ = X_delete_cleaned.shape\n",
        "\n",
        "# total, _ = X_delete.shape\n",
        "# print(\"number of outlier row removed: \", total - cleaned)\n",
        "# print(\"percentage of outliers removed: \", (total-cleaned) / total)"
      ]
    },
    {
      "cell_type": "code",
      "execution_count": null,
      "metadata": {
        "colab": {
          "base_uri": "https://localhost:8080/"
        },
        "id": "c8FONHEKiWGR",
        "outputId": "a096f835-c05b-4b92-f029-f470dfa65a10"
      },
      "outputs": [
        {
          "name": "stdout",
          "output_type": "stream",
          "text": [
            "(9094, 45) (9094,)\n",
            "number of outlier row removed:  1011\n",
            "percentage of outliers removed:  0.10004948045522019\n"
          ]
        }
      ],
      "source": [
        "# from sklearn.ensemble import IsolationForest\n",
        "# from sklearn.metrics import make_scorer, f1_score\n",
        "# from sklearn import model_selection\n",
        "# from sklearn.datasets import make_classification\n",
        "\n",
        "# iso = IsolationForest(random_state=SEED, contamination=0.1)\n",
        "# y_pred = iso.fit_predict(X_train)\n",
        "# X_train_cleaned = X_train[np.where(y_pred == 1, True, False)]\n",
        "# y_train_cleaned = y_train[np.where(y_pred == 1, True, False)]\n",
        "\n",
        "# # summarize the shape of the updated training dataset\n",
        "# print(X_train_cleaned.shape, y_train_cleaned.shape)\n",
        "# cleaned,_ = X_train_cleaned.shape\n",
        "\n",
        "# total, _ = X_train.shape\n",
        "# print(\"number of outlier row removed: \", total - cleaned)\n",
        "# print(\"percentage of outliers removed: \", (total-cleaned) / total)"
      ]
    },
    {
      "cell_type": "markdown",
      "metadata": {
        "id": "MqbfDjuDJ08e"
      },
      "source": [
        "## imputation"
      ]
    },
    {
      "cell_type": "markdown",
      "metadata": {
        "id": "KbICeAxW-XQ_"
      },
      "source": [
        "### univariate (bad result)"
      ]
    },
    {
      "cell_type": "code",
      "execution_count": null,
      "metadata": {
        "id": "CG6UDs5p-Z9U"
      },
      "outputs": [],
      "source": [
        "from sklearn.impute import SimpleImputer\n",
        "X_imp_median = SimpleImputer(missing_values=0, strategy='median')\n",
        "X_imp_median = X_imp_median.fit_transform(X_train)\n",
        "\n",
        "import pandas as pd\n",
        "X_imp_median = pd.DataFrame(X_imp_median, columns = list(X_train.columns))\n",
        "\n",
        "# dont impute row contain zero, thes outlier should be learnt to predict the missing value as in the final test set\n",
        "X_cleaned_zero = X_train[X_train.index.isin(list(y_train[y_train.close ==0].index))]\n",
        "\n",
        "cols = list(X_cleaned_zero.columns)\n",
        "X_imp_median.loc[X_imp_median.index.isin(X_cleaned_zero.index), cols] = X_cleaned_zero[cols] # replace row from one dataframe to another"
      ]
    },
    {
      "cell_type": "code",
      "execution_count": null,
      "metadata": {
        "id": "mfJoiwD_OuYq"
      },
      "outputs": [],
      "source": [
        "from sklearn.impute import SimpleImputer\n",
        "X_test_imp_median = SimpleImputer(missing_values=0, strategy='median')\n",
        "X_test_imp_median = X_test_imp_median.fit_transform(X_test)\n",
        "\n",
        "import pandas as pd\n",
        "X_test_imp_median = pd.DataFrame(X_test_imp_median, columns = list(X_test.columns))\n",
        "\n",
        "X_test_cleaned_zero = X_test[X_test.index.isin(list(y_test[y_test==0].index))]\n",
        "\n",
        "cols = list(X_test_cleaned_zero.columns)\n",
        "X_test_imp_median.loc[X_test_imp_median.index.isin(X_test_cleaned_zero.index), cols] = X_test_cleaned_zero[cols] # replace row from one dataframe to another"
      ]
    },
    {
      "cell_type": "code",
      "execution_count": null,
      "metadata": {
        "colab": {
          "base_uri": "https://localhost:8080/"
        },
        "id": "F5TleRzrPCk-",
        "outputId": "bf914fb6-c1ef-4f48-cd0b-78ecf6c70fb2"
      },
      "outputs": [
        {
          "data": {
            "text/plain": [
              "421"
            ]
          },
          "execution_count": 215,
          "metadata": {},
          "output_type": "execute_result"
        }
      ],
      "source": [
        "#len(list(y_test[y_test==0].index))"
      ]
    },
    {
      "cell_type": "code",
      "execution_count": null,
      "metadata": {
        "id": "ptdttyJyFlBg"
      },
      "outputs": [],
      "source": [
        "# # zeros\n",
        "# y_cleaned_zero = y_train[y_train.close.astype(int) == 0]\n",
        "# X_cleaned_zero = X_train[X_train.index.isin(list(y_cleaned_zero.index))]\n",
        "\n",
        "# print(X_train.shape)\n",
        "# print(y_train.shape)\n",
        "# print()\n",
        "# print(X_cleaned_zero.shape)\n",
        "# print(y_cleaned_zero.shape)"
      ]
    },
    {
      "cell_type": "code",
      "execution_count": null,
      "metadata": {
        "id": "dQPj2TWDGJN9"
      },
      "outputs": [],
      "source": []
    },
    {
      "cell_type": "code",
      "execution_count": null,
      "metadata": {
        "id": "89BQQkoIKcFB"
      },
      "outputs": [],
      "source": [
        "# #(y_train==0).sum()\n",
        "# # y_train[y_train.close == 0]\n",
        "# X_cleaned_zero"
      ]
    },
    {
      "cell_type": "code",
      "execution_count": null,
      "metadata": {
        "colab": {
          "base_uri": "https://localhost:8080/"
        },
        "id": "ceh2CFLuIU3X",
        "outputId": "f24b9bdf-27e7-4b61-d8bf-9b1f3008645b"
      },
      "outputs": [
        {
          "data": {
            "text/plain": [
              "social_volume               0.000000\n",
              "reddit_comments             1.653765\n",
              "reddit_posts                1.803308\n",
              "reddit_comments_score       1.944053\n",
              "reddit_posts_score          1.979240\n",
              "news                       31.069669\n",
              "average_sentiment          31.615060\n",
              "tweet_sentiment3           31.615060\n",
              "tweet_sentiment4           31.615060\n",
              "tweet_sentiment5           31.615060\n",
              "tweet_sentiment_impact1    31.615060\n",
              "tweet_sentiment_impact2    31.615060\n",
              "tweet_sentiment_impact3    31.615060\n",
              "tweet_sentiment_impact4    31.615060\n",
              "tweet_sentiment_impact5    31.615060\n",
              "tweet_spam                 31.615060\n",
              "tweets                     31.615060\n",
              "unique_url_shares          31.615060\n",
              "url_shares                 31.615060\n",
              "volatility                 31.615060\n",
              "tweet_sentiment2           31.615060\n",
              "tweet_sentiment1           31.615060\n",
              "tweet_favorites            31.615060\n",
              "tweet_replies              31.615060\n",
              "correlation_rank           31.615060\n",
              "galaxy_score               31.615060\n",
              "high                       31.615060\n",
              "low                        31.615060\n",
              "market_cap                 31.615060\n",
              "market_cap_global          31.615060\n",
              "tweet_retweets             31.615060\n",
              "open                       31.615060\n",
              "percent_change_24h_rank    31.615060\n",
              "price_score                31.615060\n",
              "social_impact_score        31.615060\n",
              "social_score               31.615060\n",
              "volume                     31.615060\n",
              "tweet_quotes               31.615060\n",
              "percent_change_24h         31.615060\n",
              "youtube                    31.615060\n",
              "dtype: float64"
            ]
          },
          "execution_count": 218,
          "metadata": {},
          "output_type": "execute_result"
        }
      ],
      "source": [
        "(X_imp_mean==0).astype(int).sum().sort_values()/len(X_imp_mean)*100"
      ]
    },
    {
      "cell_type": "code",
      "execution_count": null,
      "metadata": {
        "colab": {
          "base_uri": "https://localhost:8080/"
        },
        "id": "WLezN8T6Ij2O",
        "outputId": "6b01572d-82f1-43a7-9eb1-ac026dd057e3"
      },
      "outputs": [
        {
          "data": {
            "text/plain": [
              "social_volume               0.000000\n",
              "reddit_comments             1.812104\n",
              "reddit_posts                1.970443\n",
              "reddit_comments_score       2.102393\n",
              "reddit_posts_score          2.172766\n",
              "high                       31.615060\n",
              "low                        31.615060\n",
              "open                       31.615060\n",
              "volume                     31.720619\n",
              "tweet_sentiment4           31.870162\n",
              "tweet_sentiment5           31.870162\n",
              "tweet_sentiment_impact2    31.870162\n",
              "tweet_sentiment_impact3    31.870162\n",
              "tweet_sentiment_impact4    31.870162\n",
              "social_impact_score        31.870162\n",
              "average_sentiment          31.870162\n",
              "price_score                31.870162\n",
              "tweet_sentiment_impact5    31.870162\n",
              "tweet_spam                 31.870162\n",
              "tweets                     31.870162\n",
              "galaxy_score               31.870162\n",
              "correlation_rank           31.870162\n",
              "tweet_sentiment2           31.870162\n",
              "tweet_sentiment3           31.870162\n",
              "unique_url_shares          31.940535\n",
              "url_shares                 31.940535\n",
              "tweet_favorites            31.958128\n",
              "tweet_retweets             31.958128\n",
              "tweet_replies              32.019704\n",
              "social_score               32.028501\n",
              "tweet_quotes               32.054891\n",
              "news                       32.054891\n",
              "volatility                 32.186840\n",
              "market_cap                 33.515130\n",
              "market_cap_global          33.743842\n",
              "percent_change_24h         33.998944\n",
              "percent_change_24h_rank    35.749472\n",
              "tweet_sentiment1           37.623153\n",
              "tweet_sentiment_impact1    37.649543\n",
              "youtube                    62.121745\n",
              "dtype: float64"
            ]
          },
          "execution_count": 210,
          "metadata": {},
          "output_type": "execute_result"
        }
      ],
      "source": [
        " (X_train==0).astype(int).sum().sort_values()/len(X_train)*100"
      ]
    },
    {
      "cell_type": "code",
      "execution_count": null,
      "metadata": {
        "colab": {
          "base_uri": "https://localhost:8080/"
        },
        "id": "_4RszTzMQko9",
        "outputId": "40488bd9-b700-4a24-b4e1-92315fd04e4e"
      },
      "outputs": [
        {
          "data": {
            "text/plain": [
              "social_volume              0.000000\n",
              "reddit_posts               0.079114\n",
              "reddit_posts_score         0.158228\n",
              "reddit_comments            0.395570\n",
              "reddit_comments_score      0.474684\n",
              "average_sentiment          3.243671\n",
              "tweet_sentiment2           3.243671\n",
              "tweet_sentiment3           3.243671\n",
              "tweet_sentiment4           3.243671\n",
              "tweet_sentiment5           3.243671\n",
              "tweet_sentiment_impact1    3.243671\n",
              "tweet_sentiment_impact2    3.243671\n",
              "tweet_sentiment_impact3    3.243671\n",
              "tweet_sentiment_impact4    3.243671\n",
              "tweet_sentiment_impact5    3.243671\n",
              "tweet_spam                 3.243671\n",
              "tweets                     3.243671\n",
              "unique_url_shares          3.243671\n",
              "url_shares                 3.243671\n",
              "volatility                 3.243671\n",
              "tweet_sentiment1           3.243671\n",
              "tweet_retweets             3.243671\n",
              "tweet_favorites            3.243671\n",
              "tweet_quotes               3.243671\n",
              "correlation_rank           3.243671\n",
              "galaxy_score               3.243671\n",
              "high                       3.243671\n",
              "low                        3.243671\n",
              "market_cap                 3.243671\n",
              "market_cap_global          3.243671\n",
              "tweet_replies              3.243671\n",
              "news                       3.243671\n",
              "percent_change_24h         3.243671\n",
              "percent_change_24h_rank    3.243671\n",
              "price_score                3.243671\n",
              "social_impact_score        3.243671\n",
              "social_score               3.243671\n",
              "volume                     3.243671\n",
              "open                       3.243671\n",
              "youtube                    3.243671\n",
              "dtype: float64"
            ]
          },
          "execution_count": 221,
          "metadata": {},
          "output_type": "execute_result"
        }
      ],
      "source": [
        "(X_test_imp_median==0).astype(int).sum().sort_values()/len(X_test_imp_median)*100"
      ]
    },
    {
      "cell_type": "code",
      "execution_count": null,
      "metadata": {
        "colab": {
          "base_uri": "https://localhost:8080/"
        },
        "id": "9BLvVscoQwqR",
        "outputId": "0ed9b717-5a4e-443f-e1bc-dffcbbe456f7"
      },
      "outputs": [
        {
          "data": {
            "text/plain": [
              "social_volume               0.000000\n",
              "reddit_posts                1.344937\n",
              "reddit_comments             1.898734\n",
              "reddit_posts_score          1.977848\n",
              "reddit_comments_score       2.136076\n",
              "high                       33.306962\n",
              "low                        33.306962\n",
              "open                       33.306962\n",
              "volume                     33.306962\n",
              "average_sentiment          33.623418\n",
              "tweet_sentiment2           33.623418\n",
              "tweet_sentiment3           33.623418\n",
              "tweet_sentiment5           33.623418\n",
              "tweet_sentiment_impact2    33.623418\n",
              "tweet_sentiment_impact3    33.623418\n",
              "tweet_sentiment_impact4    33.623418\n",
              "tweet_sentiment_impact5    33.623418\n",
              "tweet_spam                 33.623418\n",
              "tweets                     33.623418\n",
              "tweet_sentiment4           33.623418\n",
              "tweet_retweets             33.623418\n",
              "tweet_favorites            33.623418\n",
              "social_impact_score        33.623418\n",
              "price_score                33.623418\n",
              "correlation_rank           33.623418\n",
              "galaxy_score               33.623418\n",
              "tweet_quotes               33.702532\n",
              "social_score               33.702532\n",
              "url_shares                 33.702532\n",
              "unique_url_shares          33.702532\n",
              "tweet_replies              33.702532\n",
              "volatility                 33.781646\n",
              "news                       34.177215\n",
              "market_cap                 35.047468\n",
              "market_cap_global          35.205696\n",
              "percent_change_24h         35.917722\n",
              "percent_change_24h_rank    36.471519\n",
              "tweet_sentiment_impact1    38.449367\n",
              "tweet_sentiment1           38.449367\n",
              "youtube                    62.025316\n",
              "dtype: float64"
            ]
          },
          "execution_count": 222,
          "metadata": {},
          "output_type": "execute_result"
        }
      ],
      "source": [
        "(X_test==0).astype(int).sum().sort_values()/len(X_test)*100"
      ]
    },
    {
      "cell_type": "markdown",
      "metadata": {
        "id": "_ohyYWXe-P3T"
      },
      "source": [
        "### multivariate "
      ]
    },
    {
      "cell_type": "markdown",
      "metadata": {
        "id": "GIFDGczh_Z-J"
      },
      "source": [
        "#### convert numpy to pandas"
      ]
    },
    {
      "cell_type": "code",
      "execution_count": null,
      "metadata": {
        "colab": {
          "base_uri": "https://localhost:8080/"
        },
        "id": "PO_GQ5PwqoKL",
        "outputId": "396a214d-877a-4120-cc61-549091e07747"
      },
      "outputs": [
        {
          "name": "stdout",
          "output_type": "stream",
          "text": [
            "(7774, 40)\n",
            "(7774,)\n",
            "(843, 40)\n",
            "(843,)\n"
          ]
        }
      ],
      "source": [
        "# no zeros\n",
        "y_cleaned = y_train[y_train != 0]\n",
        "y_cleaned.index\n",
        "X_cleaned = X_train[X_train.index.isin(list(y_cleaned.index))]\n",
        "print(X_cleaned.shape)\n",
        "print(y_cleaned.shape)\n",
        "\n",
        "y_test_cleaned = y_test[y_test != 0]\n",
        "X_test_cleaned = X_test[X_test.index.isin(list(y_test_cleaned.index))]\n",
        "print(X_test_cleaned.shape)\n",
        "print(y_test_cleaned.shape)"
      ]
    },
    {
      "cell_type": "code",
      "execution_count": null,
      "metadata": {
        "colab": {
          "base_uri": "https://localhost:8080/"
        },
        "id": "cfqYw4m4q2cP",
        "outputId": "674f46fd-9904-4baa-e542-7b949295fe54"
      },
      "outputs": [
        {
          "name": "stdout",
          "output_type": "stream",
          "text": [
            "(3594, 40)\n",
            "(3594,)\n"
          ]
        }
      ],
      "source": [
        "# zeros\n",
        "y_cleaned_zero = y_train[y_train == 0]\n",
        "X_cleaned_zero = X_train[X_train.index.isin(list(y_cleaned_zero.index))]\n",
        "print(X_cleaned_zero.shape)\n",
        "print(y_cleaned_zero.shape)"
      ]
    },
    {
      "cell_type": "code",
      "execution_count": null,
      "metadata": {
        "id": "nH53gfocqFC-"
      },
      "outputs": [],
      "source": [
        "import numpy as np\n",
        "from sklearn.experimental import enable_iterative_imputer\n",
        "from sklearn.impute import IterativeImputer\n",
        "imp_mean = IterativeImputer(random_state=SEED, missing_values=0) # here the missing value is instead 0 since we fill nan with zeros beforehand\n",
        "\n",
        "X_imputed = imp_mean.fit_transform(X_cleaned)\n",
        "\n",
        "import pandas as pd\n",
        "X_imputed = pd.DataFrame(X_imputed, columns = list(X_cleaned.columns))"
      ]
    },
    {
      "cell_type": "code",
      "execution_count": null,
      "metadata": {
        "id": "XYnl5AuWrkPp"
      },
      "outputs": [],
      "source": [
        "X_new = X_imputed.append(X_cleaned_zero, ignore_index=True)"
      ]
    },
    {
      "cell_type": "code",
      "execution_count": null,
      "metadata": {
        "colab": {
          "base_uri": "https://localhost:8080/",
          "height": 224
        },
        "id": "Frb2ynnUqv-Q",
        "outputId": "673b844e-45e2-4ac0-b5f8-da6af0850a35"
      },
      "outputs": [
        {
          "data": {
            "text/html": [
              "<div>\n",
              "<style scoped>\n",
              "    .dataframe tbody tr th:only-of-type {\n",
              "        vertical-align: middle;\n",
              "    }\n",
              "\n",
              "    .dataframe tbody tr th {\n",
              "        vertical-align: top;\n",
              "    }\n",
              "\n",
              "    .dataframe thead th {\n",
              "        text-align: right;\n",
              "    }\n",
              "</style>\n",
              "<table border=\"1\" class=\"dataframe\">\n",
              "  <thead>\n",
              "    <tr style=\"text-align: right;\">\n",
              "      <th></th>\n",
              "      <th>average_sentiment</th>\n",
              "      <th>correlation_rank</th>\n",
              "      <th>galaxy_score</th>\n",
              "      <th>high</th>\n",
              "      <th>low</th>\n",
              "      <th>market_cap</th>\n",
              "      <th>market_cap_global</th>\n",
              "      <th>news</th>\n",
              "      <th>open</th>\n",
              "      <th>percent_change_24h</th>\n",
              "      <th>percent_change_24h_rank</th>\n",
              "      <th>price_score</th>\n",
              "      <th>reddit_comments</th>\n",
              "      <th>reddit_comments_score</th>\n",
              "      <th>reddit_posts</th>\n",
              "      <th>reddit_posts_score</th>\n",
              "      <th>social_impact_score</th>\n",
              "      <th>social_score</th>\n",
              "      <th>social_volume</th>\n",
              "      <th>tweet_favorites</th>\n",
              "      <th>tweet_quotes</th>\n",
              "      <th>tweet_replies</th>\n",
              "      <th>tweet_retweets</th>\n",
              "      <th>tweet_sentiment1</th>\n",
              "      <th>tweet_sentiment2</th>\n",
              "      <th>tweet_sentiment3</th>\n",
              "      <th>tweet_sentiment4</th>\n",
              "      <th>tweet_sentiment5</th>\n",
              "      <th>tweet_sentiment_impact1</th>\n",
              "      <th>tweet_sentiment_impact2</th>\n",
              "      <th>tweet_sentiment_impact3</th>\n",
              "      <th>tweet_sentiment_impact4</th>\n",
              "      <th>tweet_sentiment_impact5</th>\n",
              "      <th>tweet_spam</th>\n",
              "      <th>tweets</th>\n",
              "      <th>unique_url_shares</th>\n",
              "      <th>url_shares</th>\n",
              "      <th>volatility</th>\n",
              "      <th>volume</th>\n",
              "      <th>youtube</th>\n",
              "    </tr>\n",
              "  </thead>\n",
              "  <tbody>\n",
              "    <tr>\n",
              "      <th>0</th>\n",
              "      <td>3.6</td>\n",
              "      <td>2.6</td>\n",
              "      <td>68.0</td>\n",
              "      <td>18318.452773</td>\n",
              "      <td>18303.958107</td>\n",
              "      <td>3.395272e+11</td>\n",
              "      <td>5.449273e+11</td>\n",
              "      <td>18.000000</td>\n",
              "      <td>18318.452773</td>\n",
              "      <td>-4.559145</td>\n",
              "      <td>1076.0</td>\n",
              "      <td>3.2</td>\n",
              "      <td>67.0</td>\n",
              "      <td>156.0</td>\n",
              "      <td>51.0</td>\n",
              "      <td>172.0</td>\n",
              "      <td>4.2</td>\n",
              "      <td>14111388.0</td>\n",
              "      <td>5408.0</td>\n",
              "      <td>2417.0</td>\n",
              "      <td>41.0</td>\n",
              "      <td>243.0</td>\n",
              "      <td>521.0</td>\n",
              "      <td>62.0</td>\n",
              "      <td>572.0</td>\n",
              "      <td>611.0</td>\n",
              "      <td>3198.0</td>\n",
              "      <td>89.0</td>\n",
              "      <td>125248.0</td>\n",
              "      <td>2618138.0</td>\n",
              "      <td>3011192.0</td>\n",
              "      <td>8098383.0</td>\n",
              "      <td>256430.0</td>\n",
              "      <td>1563.0</td>\n",
              "      <td>4532.0</td>\n",
              "      <td>740.0</td>\n",
              "      <td>1669.0</td>\n",
              "      <td>0.016692</td>\n",
              "      <td>9.944220e+08</td>\n",
              "      <td>2.0</td>\n",
              "    </tr>\n",
              "    <tr>\n",
              "      <th>1</th>\n",
              "      <td>3.7</td>\n",
              "      <td>4.7</td>\n",
              "      <td>77.5</td>\n",
              "      <td>7550.592958</td>\n",
              "      <td>7538.033373</td>\n",
              "      <td>1.379543e+11</td>\n",
              "      <td>2.171955e+11</td>\n",
              "      <td>36.000000</td>\n",
              "      <td>7550.592958</td>\n",
              "      <td>5.901404</td>\n",
              "      <td>477.0</td>\n",
              "      <td>3.1</td>\n",
              "      <td>68.0</td>\n",
              "      <td>265.0</td>\n",
              "      <td>58.0</td>\n",
              "      <td>192.0</td>\n",
              "      <td>4.0</td>\n",
              "      <td>20964482.0</td>\n",
              "      <td>5818.0</td>\n",
              "      <td>3868.0</td>\n",
              "      <td>84.0</td>\n",
              "      <td>437.0</td>\n",
              "      <td>1409.0</td>\n",
              "      <td>155.0</td>\n",
              "      <td>154.0</td>\n",
              "      <td>928.0</td>\n",
              "      <td>3229.0</td>\n",
              "      <td>244.0</td>\n",
              "      <td>443382.0</td>\n",
              "      <td>412029.0</td>\n",
              "      <td>3674794.0</td>\n",
              "      <td>16057947.0</td>\n",
              "      <td>374229.0</td>\n",
              "      <td>595.0</td>\n",
              "      <td>4710.0</td>\n",
              "      <td>946.0</td>\n",
              "      <td>1644.0</td>\n",
              "      <td>0.025393</td>\n",
              "      <td>1.401598e+09</td>\n",
              "      <td>5.0</td>\n",
              "    </tr>\n",
              "    <tr>\n",
              "      <th>2</th>\n",
              "      <td>3.7</td>\n",
              "      <td>3.3</td>\n",
              "      <td>70.0</td>\n",
              "      <td>9123.040273</td>\n",
              "      <td>9115.024817</td>\n",
              "      <td>1.673726e+11</td>\n",
              "      <td>2.669533e+11</td>\n",
              "      <td>25.000000</td>\n",
              "      <td>9119.815677</td>\n",
              "      <td>-0.093935</td>\n",
              "      <td>1096.0</td>\n",
              "      <td>2.8</td>\n",
              "      <td>39.0</td>\n",
              "      <td>60.0</td>\n",
              "      <td>26.0</td>\n",
              "      <td>113.0</td>\n",
              "      <td>4.2</td>\n",
              "      <td>12238225.0</td>\n",
              "      <td>3905.0</td>\n",
              "      <td>2203.0</td>\n",
              "      <td>18.0</td>\n",
              "      <td>1155.0</td>\n",
              "      <td>2012.0</td>\n",
              "      <td>73.0</td>\n",
              "      <td>282.0</td>\n",
              "      <td>326.0</td>\n",
              "      <td>2409.0</td>\n",
              "      <td>95.0</td>\n",
              "      <td>174656.0</td>\n",
              "      <td>1547011.0</td>\n",
              "      <td>633933.0</td>\n",
              "      <td>9617342.0</td>\n",
              "      <td>264188.0</td>\n",
              "      <td>1298.0</td>\n",
              "      <td>3185.0</td>\n",
              "      <td>630.0</td>\n",
              "      <td>922.0</td>\n",
              "      <td>0.005119</td>\n",
              "      <td>6.270151e+08</td>\n",
              "      <td>1.0</td>\n",
              "    </tr>\n",
              "    <tr>\n",
              "      <th>3</th>\n",
              "      <td>3.6</td>\n",
              "      <td>2.5</td>\n",
              "      <td>70.5</td>\n",
              "      <td>6315.471122</td>\n",
              "      <td>6309.281509</td>\n",
              "      <td>1.166195e+11</td>\n",
              "      <td>1.766512e+11</td>\n",
              "      <td>0.053464</td>\n",
              "      <td>6315.471122</td>\n",
              "      <td>-7.804890</td>\n",
              "      <td>1125.0</td>\n",
              "      <td>3.9</td>\n",
              "      <td>89.0</td>\n",
              "      <td>633.0</td>\n",
              "      <td>27.0</td>\n",
              "      <td>646.0</td>\n",
              "      <td>4.1</td>\n",
              "      <td>8026249.0</td>\n",
              "      <td>2913.0</td>\n",
              "      <td>2213.0</td>\n",
              "      <td>56.0</td>\n",
              "      <td>304.0</td>\n",
              "      <td>427.0</td>\n",
              "      <td>64.0</td>\n",
              "      <td>169.0</td>\n",
              "      <td>451.0</td>\n",
              "      <td>1597.0</td>\n",
              "      <td>133.0</td>\n",
              "      <td>124026.0</td>\n",
              "      <td>748828.0</td>\n",
              "      <td>1227341.0</td>\n",
              "      <td>5769267.0</td>\n",
              "      <td>155603.0</td>\n",
              "      <td>212.0</td>\n",
              "      <td>2414.0</td>\n",
              "      <td>383.0</td>\n",
              "      <td>530.0</td>\n",
              "      <td>0.016701</td>\n",
              "      <td>1.389393e+09</td>\n",
              "      <td>1.0</td>\n",
              "    </tr>\n",
              "    <tr>\n",
              "      <th>4</th>\n",
              "      <td>3.6</td>\n",
              "      <td>4.5</td>\n",
              "      <td>76.0</td>\n",
              "      <td>46787.898272</td>\n",
              "      <td>46250.250495</td>\n",
              "      <td>8.654892e+11</td>\n",
              "      <td>1.396854e+12</td>\n",
              "      <td>27.000000</td>\n",
              "      <td>46557.829521</td>\n",
              "      <td>21.242381</td>\n",
              "      <td>285.0</td>\n",
              "      <td>3.4</td>\n",
              "      <td>236.0</td>\n",
              "      <td>528.0</td>\n",
              "      <td>104.0</td>\n",
              "      <td>554.0</td>\n",
              "      <td>3.7</td>\n",
              "      <td>217887100.0</td>\n",
              "      <td>21873.0</td>\n",
              "      <td>29993.0</td>\n",
              "      <td>502.0</td>\n",
              "      <td>1913.0</td>\n",
              "      <td>7738.0</td>\n",
              "      <td>390.0</td>\n",
              "      <td>2574.0</td>\n",
              "      <td>1411.0</td>\n",
              "      <td>15475.0</td>\n",
              "      <td>499.0</td>\n",
              "      <td>21279720.0</td>\n",
              "      <td>8320581.0</td>\n",
              "      <td>7831069.0</td>\n",
              "      <td>170831811.0</td>\n",
              "      <td>9620719.0</td>\n",
              "      <td>3313.0</td>\n",
              "      <td>20349.0</td>\n",
              "      <td>1157.0</td>\n",
              "      <td>2118.0</td>\n",
              "      <td>0.074106</td>\n",
              "      <td>3.519595e+09</td>\n",
              "      <td>3.0</td>\n",
              "    </tr>\n",
              "  </tbody>\n",
              "</table>\n",
              "</div>"
            ],
            "text/plain": [
              "   average_sentiment  correlation_rank  ...        volume  youtube\n",
              "0                3.6               2.6  ...  9.944220e+08      2.0\n",
              "1                3.7               4.7  ...  1.401598e+09      5.0\n",
              "2                3.7               3.3  ...  6.270151e+08      1.0\n",
              "3                3.6               2.5  ...  1.389393e+09      1.0\n",
              "4                3.6               4.5  ...  3.519595e+09      3.0\n",
              "\n",
              "[5 rows x 40 columns]"
            ]
          },
          "execution_count": 151,
          "metadata": {},
          "output_type": "execute_result"
        }
      ],
      "source": [
        "X_new.head()"
      ]
    },
    {
      "cell_type": "code",
      "execution_count": null,
      "metadata": {
        "colab": {
          "base_uri": "https://localhost:8080/",
          "height": 224
        },
        "id": "d-nQweKJs3MO",
        "outputId": "55dec24f-a3fb-446c-cd51-7d848f2c9704"
      },
      "outputs": [
        {
          "data": {
            "text/html": [
              "<div>\n",
              "<style scoped>\n",
              "    .dataframe tbody tr th:only-of-type {\n",
              "        vertical-align: middle;\n",
              "    }\n",
              "\n",
              "    .dataframe tbody tr th {\n",
              "        vertical-align: top;\n",
              "    }\n",
              "\n",
              "    .dataframe thead th {\n",
              "        text-align: right;\n",
              "    }\n",
              "</style>\n",
              "<table border=\"1\" class=\"dataframe\">\n",
              "  <thead>\n",
              "    <tr style=\"text-align: right;\">\n",
              "      <th></th>\n",
              "      <th>average_sentiment</th>\n",
              "      <th>correlation_rank</th>\n",
              "      <th>galaxy_score</th>\n",
              "      <th>high</th>\n",
              "      <th>low</th>\n",
              "      <th>market_cap</th>\n",
              "      <th>market_cap_global</th>\n",
              "      <th>news</th>\n",
              "      <th>open</th>\n",
              "      <th>percent_change_24h</th>\n",
              "      <th>percent_change_24h_rank</th>\n",
              "      <th>price_score</th>\n",
              "      <th>reddit_comments</th>\n",
              "      <th>reddit_comments_score</th>\n",
              "      <th>reddit_posts</th>\n",
              "      <th>reddit_posts_score</th>\n",
              "      <th>social_impact_score</th>\n",
              "      <th>social_score</th>\n",
              "      <th>social_volume</th>\n",
              "      <th>tweet_favorites</th>\n",
              "      <th>tweet_quotes</th>\n",
              "      <th>tweet_replies</th>\n",
              "      <th>tweet_retweets</th>\n",
              "      <th>tweet_sentiment1</th>\n",
              "      <th>tweet_sentiment2</th>\n",
              "      <th>tweet_sentiment3</th>\n",
              "      <th>tweet_sentiment4</th>\n",
              "      <th>tweet_sentiment5</th>\n",
              "      <th>tweet_sentiment_impact1</th>\n",
              "      <th>tweet_sentiment_impact2</th>\n",
              "      <th>tweet_sentiment_impact3</th>\n",
              "      <th>tweet_sentiment_impact4</th>\n",
              "      <th>tweet_sentiment_impact5</th>\n",
              "      <th>tweet_spam</th>\n",
              "      <th>tweets</th>\n",
              "      <th>unique_url_shares</th>\n",
              "      <th>url_shares</th>\n",
              "      <th>volatility</th>\n",
              "      <th>volume</th>\n",
              "      <th>youtube</th>\n",
              "    </tr>\n",
              "  </thead>\n",
              "  <tbody>\n",
              "    <tr>\n",
              "      <th>5350</th>\n",
              "      <td>3.6</td>\n",
              "      <td>2.6</td>\n",
              "      <td>68.0</td>\n",
              "      <td>18318.452773</td>\n",
              "      <td>18303.958107</td>\n",
              "      <td>3.395272e+11</td>\n",
              "      <td>5.449273e+11</td>\n",
              "      <td>18.0</td>\n",
              "      <td>18318.452773</td>\n",
              "      <td>-4.559145</td>\n",
              "      <td>1076.0</td>\n",
              "      <td>3.2</td>\n",
              "      <td>67.0</td>\n",
              "      <td>156.0</td>\n",
              "      <td>51.0</td>\n",
              "      <td>172.0</td>\n",
              "      <td>4.2</td>\n",
              "      <td>14111388.0</td>\n",
              "      <td>5408</td>\n",
              "      <td>2417.0</td>\n",
              "      <td>41.0</td>\n",
              "      <td>243.0</td>\n",
              "      <td>521.0</td>\n",
              "      <td>62.0</td>\n",
              "      <td>572.0</td>\n",
              "      <td>611.0</td>\n",
              "      <td>3198.0</td>\n",
              "      <td>89.0</td>\n",
              "      <td>125248.0</td>\n",
              "      <td>2618138.0</td>\n",
              "      <td>3011192.0</td>\n",
              "      <td>8098383.0</td>\n",
              "      <td>256430.0</td>\n",
              "      <td>1563.0</td>\n",
              "      <td>4532.0</td>\n",
              "      <td>740.0</td>\n",
              "      <td>1669.0</td>\n",
              "      <td>0.016692</td>\n",
              "      <td>9.944220e+08</td>\n",
              "      <td>2.0</td>\n",
              "    </tr>\n",
              "    <tr>\n",
              "      <th>2582</th>\n",
              "      <td>3.7</td>\n",
              "      <td>4.7</td>\n",
              "      <td>77.5</td>\n",
              "      <td>7550.592958</td>\n",
              "      <td>7538.033373</td>\n",
              "      <td>1.379543e+11</td>\n",
              "      <td>2.171955e+11</td>\n",
              "      <td>36.0</td>\n",
              "      <td>7550.592958</td>\n",
              "      <td>5.901404</td>\n",
              "      <td>477.0</td>\n",
              "      <td>3.1</td>\n",
              "      <td>68.0</td>\n",
              "      <td>265.0</td>\n",
              "      <td>58.0</td>\n",
              "      <td>192.0</td>\n",
              "      <td>4.0</td>\n",
              "      <td>20964482.0</td>\n",
              "      <td>5818</td>\n",
              "      <td>3868.0</td>\n",
              "      <td>84.0</td>\n",
              "      <td>437.0</td>\n",
              "      <td>1409.0</td>\n",
              "      <td>155.0</td>\n",
              "      <td>154.0</td>\n",
              "      <td>928.0</td>\n",
              "      <td>3229.0</td>\n",
              "      <td>244.0</td>\n",
              "      <td>443382.0</td>\n",
              "      <td>412029.0</td>\n",
              "      <td>3674794.0</td>\n",
              "      <td>16057947.0</td>\n",
              "      <td>374229.0</td>\n",
              "      <td>595.0</td>\n",
              "      <td>4710.0</td>\n",
              "      <td>946.0</td>\n",
              "      <td>1644.0</td>\n",
              "      <td>0.025393</td>\n",
              "      <td>1.401598e+09</td>\n",
              "      <td>5.0</td>\n",
              "    </tr>\n",
              "    <tr>\n",
              "      <th>8857</th>\n",
              "      <td>3.7</td>\n",
              "      <td>3.3</td>\n",
              "      <td>70.0</td>\n",
              "      <td>9123.040273</td>\n",
              "      <td>9115.024817</td>\n",
              "      <td>1.673726e+11</td>\n",
              "      <td>2.669533e+11</td>\n",
              "      <td>25.0</td>\n",
              "      <td>9119.815677</td>\n",
              "      <td>-0.093935</td>\n",
              "      <td>1096.0</td>\n",
              "      <td>2.8</td>\n",
              "      <td>39.0</td>\n",
              "      <td>60.0</td>\n",
              "      <td>26.0</td>\n",
              "      <td>113.0</td>\n",
              "      <td>4.2</td>\n",
              "      <td>12238225.0</td>\n",
              "      <td>3905</td>\n",
              "      <td>2203.0</td>\n",
              "      <td>18.0</td>\n",
              "      <td>1155.0</td>\n",
              "      <td>2012.0</td>\n",
              "      <td>73.0</td>\n",
              "      <td>282.0</td>\n",
              "      <td>326.0</td>\n",
              "      <td>2409.0</td>\n",
              "      <td>95.0</td>\n",
              "      <td>174656.0</td>\n",
              "      <td>1547011.0</td>\n",
              "      <td>633933.0</td>\n",
              "      <td>9617342.0</td>\n",
              "      <td>264188.0</td>\n",
              "      <td>1298.0</td>\n",
              "      <td>3185.0</td>\n",
              "      <td>630.0</td>\n",
              "      <td>922.0</td>\n",
              "      <td>0.005119</td>\n",
              "      <td>6.270151e+08</td>\n",
              "      <td>1.0</td>\n",
              "    </tr>\n",
              "    <tr>\n",
              "      <th>11178</th>\n",
              "      <td>3.6</td>\n",
              "      <td>2.5</td>\n",
              "      <td>70.5</td>\n",
              "      <td>6315.471122</td>\n",
              "      <td>6309.281509</td>\n",
              "      <td>1.166195e+11</td>\n",
              "      <td>1.766512e+11</td>\n",
              "      <td>0.0</td>\n",
              "      <td>6315.471122</td>\n",
              "      <td>-7.804890</td>\n",
              "      <td>1125.0</td>\n",
              "      <td>3.9</td>\n",
              "      <td>89.0</td>\n",
              "      <td>633.0</td>\n",
              "      <td>27.0</td>\n",
              "      <td>646.0</td>\n",
              "      <td>4.1</td>\n",
              "      <td>8026249.0</td>\n",
              "      <td>2913</td>\n",
              "      <td>2213.0</td>\n",
              "      <td>56.0</td>\n",
              "      <td>304.0</td>\n",
              "      <td>427.0</td>\n",
              "      <td>64.0</td>\n",
              "      <td>169.0</td>\n",
              "      <td>451.0</td>\n",
              "      <td>1597.0</td>\n",
              "      <td>133.0</td>\n",
              "      <td>124026.0</td>\n",
              "      <td>748828.0</td>\n",
              "      <td>1227341.0</td>\n",
              "      <td>5769267.0</td>\n",
              "      <td>155603.0</td>\n",
              "      <td>212.0</td>\n",
              "      <td>2414.0</td>\n",
              "      <td>383.0</td>\n",
              "      <td>530.0</td>\n",
              "      <td>0.016701</td>\n",
              "      <td>1.389393e+09</td>\n",
              "      <td>1.0</td>\n",
              "    </tr>\n",
              "    <tr>\n",
              "      <th>10337</th>\n",
              "      <td>0.0</td>\n",
              "      <td>0.0</td>\n",
              "      <td>0.0</td>\n",
              "      <td>0.000000</td>\n",
              "      <td>0.000000</td>\n",
              "      <td>0.000000e+00</td>\n",
              "      <td>0.000000e+00</td>\n",
              "      <td>0.0</td>\n",
              "      <td>0.000000</td>\n",
              "      <td>0.000000</td>\n",
              "      <td>0.0</td>\n",
              "      <td>0.0</td>\n",
              "      <td>122.0</td>\n",
              "      <td>200.0</td>\n",
              "      <td>10.0</td>\n",
              "      <td>26.0</td>\n",
              "      <td>0.0</td>\n",
              "      <td>0.0</td>\n",
              "      <td>132</td>\n",
              "      <td>0.0</td>\n",
              "      <td>0.0</td>\n",
              "      <td>0.0</td>\n",
              "      <td>0.0</td>\n",
              "      <td>0.0</td>\n",
              "      <td>0.0</td>\n",
              "      <td>0.0</td>\n",
              "      <td>0.0</td>\n",
              "      <td>0.0</td>\n",
              "      <td>0.0</td>\n",
              "      <td>0.0</td>\n",
              "      <td>0.0</td>\n",
              "      <td>0.0</td>\n",
              "      <td>0.0</td>\n",
              "      <td>0.0</td>\n",
              "      <td>0.0</td>\n",
              "      <td>0.0</td>\n",
              "      <td>0.0</td>\n",
              "      <td>0.000000</td>\n",
              "      <td>0.000000e+00</td>\n",
              "      <td>0.0</td>\n",
              "    </tr>\n",
              "  </tbody>\n",
              "</table>\n",
              "</div>"
            ],
            "text/plain": [
              "       average_sentiment  correlation_rank  ...        volume  youtube\n",
              "5350                 3.6               2.6  ...  9.944220e+08      2.0\n",
              "2582                 3.7               4.7  ...  1.401598e+09      5.0\n",
              "8857                 3.7               3.3  ...  6.270151e+08      1.0\n",
              "11178                3.6               2.5  ...  1.389393e+09      1.0\n",
              "10337                0.0               0.0  ...  0.000000e+00      0.0\n",
              "\n",
              "[5 rows x 40 columns]"
            ]
          },
          "execution_count": 153,
          "metadata": {},
          "output_type": "execute_result"
        }
      ],
      "source": [
        "X_train.head()"
      ]
    },
    {
      "cell_type": "code",
      "execution_count": null,
      "metadata": {
        "colab": {
          "base_uri": "https://localhost:8080/",
          "height": 224
        },
        "id": "jiqtkzwgt5CK",
        "outputId": "13c4c0fb-cd8c-46c0-e808-d9b1a5af7efb"
      },
      "outputs": [
        {
          "data": {
            "text/html": [
              "<div>\n",
              "<style scoped>\n",
              "    .dataframe tbody tr th:only-of-type {\n",
              "        vertical-align: middle;\n",
              "    }\n",
              "\n",
              "    .dataframe tbody tr th {\n",
              "        vertical-align: top;\n",
              "    }\n",
              "\n",
              "    .dataframe thead th {\n",
              "        text-align: right;\n",
              "    }\n",
              "</style>\n",
              "<table border=\"1\" class=\"dataframe\">\n",
              "  <thead>\n",
              "    <tr style=\"text-align: right;\">\n",
              "      <th></th>\n",
              "      <th>average_sentiment</th>\n",
              "      <th>correlation_rank</th>\n",
              "      <th>galaxy_score</th>\n",
              "      <th>high</th>\n",
              "      <th>low</th>\n",
              "      <th>market_cap</th>\n",
              "      <th>market_cap_global</th>\n",
              "      <th>news</th>\n",
              "      <th>open</th>\n",
              "      <th>percent_change_24h</th>\n",
              "      <th>percent_change_24h_rank</th>\n",
              "      <th>price_score</th>\n",
              "      <th>reddit_comments</th>\n",
              "      <th>reddit_comments_score</th>\n",
              "      <th>reddit_posts</th>\n",
              "      <th>reddit_posts_score</th>\n",
              "      <th>social_impact_score</th>\n",
              "      <th>social_score</th>\n",
              "      <th>social_volume</th>\n",
              "      <th>tweet_favorites</th>\n",
              "      <th>tweet_quotes</th>\n",
              "      <th>tweet_replies</th>\n",
              "      <th>tweet_retweets</th>\n",
              "      <th>tweet_sentiment1</th>\n",
              "      <th>tweet_sentiment2</th>\n",
              "      <th>tweet_sentiment3</th>\n",
              "      <th>tweet_sentiment4</th>\n",
              "      <th>tweet_sentiment5</th>\n",
              "      <th>tweet_sentiment_impact1</th>\n",
              "      <th>tweet_sentiment_impact2</th>\n",
              "      <th>tweet_sentiment_impact3</th>\n",
              "      <th>tweet_sentiment_impact4</th>\n",
              "      <th>tweet_sentiment_impact5</th>\n",
              "      <th>tweet_spam</th>\n",
              "      <th>tweets</th>\n",
              "      <th>unique_url_shares</th>\n",
              "      <th>url_shares</th>\n",
              "      <th>volatility</th>\n",
              "      <th>volume</th>\n",
              "      <th>youtube</th>\n",
              "    </tr>\n",
              "  </thead>\n",
              "  <tbody>\n",
              "    <tr>\n",
              "      <th>0</th>\n",
              "      <td>3.6</td>\n",
              "      <td>2.6</td>\n",
              "      <td>68.0</td>\n",
              "      <td>18318.452773</td>\n",
              "      <td>18303.958107</td>\n",
              "      <td>3.395272e+11</td>\n",
              "      <td>5.449273e+11</td>\n",
              "      <td>18.000000</td>\n",
              "      <td>18318.452773</td>\n",
              "      <td>-4.559145</td>\n",
              "      <td>1076.0</td>\n",
              "      <td>3.2</td>\n",
              "      <td>67.0</td>\n",
              "      <td>156.0</td>\n",
              "      <td>51.0</td>\n",
              "      <td>172.0</td>\n",
              "      <td>4.2</td>\n",
              "      <td>14111388.0</td>\n",
              "      <td>5408.0</td>\n",
              "      <td>2417.0</td>\n",
              "      <td>41.0</td>\n",
              "      <td>243.0</td>\n",
              "      <td>521.0</td>\n",
              "      <td>62.0</td>\n",
              "      <td>572.0</td>\n",
              "      <td>611.0</td>\n",
              "      <td>3198.0</td>\n",
              "      <td>89.0</td>\n",
              "      <td>125248.0</td>\n",
              "      <td>2618138.0</td>\n",
              "      <td>3011192.0</td>\n",
              "      <td>8098383.0</td>\n",
              "      <td>256430.0</td>\n",
              "      <td>1563.0</td>\n",
              "      <td>4532.0</td>\n",
              "      <td>740.0</td>\n",
              "      <td>1669.0</td>\n",
              "      <td>0.016692</td>\n",
              "      <td>9.944220e+08</td>\n",
              "      <td>2.0</td>\n",
              "    </tr>\n",
              "    <tr>\n",
              "      <th>1</th>\n",
              "      <td>3.7</td>\n",
              "      <td>4.7</td>\n",
              "      <td>77.5</td>\n",
              "      <td>7550.592958</td>\n",
              "      <td>7538.033373</td>\n",
              "      <td>1.379543e+11</td>\n",
              "      <td>2.171955e+11</td>\n",
              "      <td>36.000000</td>\n",
              "      <td>7550.592958</td>\n",
              "      <td>5.901404</td>\n",
              "      <td>477.0</td>\n",
              "      <td>3.1</td>\n",
              "      <td>68.0</td>\n",
              "      <td>265.0</td>\n",
              "      <td>58.0</td>\n",
              "      <td>192.0</td>\n",
              "      <td>4.0</td>\n",
              "      <td>20964482.0</td>\n",
              "      <td>5818.0</td>\n",
              "      <td>3868.0</td>\n",
              "      <td>84.0</td>\n",
              "      <td>437.0</td>\n",
              "      <td>1409.0</td>\n",
              "      <td>155.0</td>\n",
              "      <td>154.0</td>\n",
              "      <td>928.0</td>\n",
              "      <td>3229.0</td>\n",
              "      <td>244.0</td>\n",
              "      <td>443382.0</td>\n",
              "      <td>412029.0</td>\n",
              "      <td>3674794.0</td>\n",
              "      <td>16057947.0</td>\n",
              "      <td>374229.0</td>\n",
              "      <td>595.0</td>\n",
              "      <td>4710.0</td>\n",
              "      <td>946.0</td>\n",
              "      <td>1644.0</td>\n",
              "      <td>0.025393</td>\n",
              "      <td>1.401598e+09</td>\n",
              "      <td>5.0</td>\n",
              "    </tr>\n",
              "    <tr>\n",
              "      <th>2</th>\n",
              "      <td>3.7</td>\n",
              "      <td>3.3</td>\n",
              "      <td>70.0</td>\n",
              "      <td>9123.040273</td>\n",
              "      <td>9115.024817</td>\n",
              "      <td>1.673726e+11</td>\n",
              "      <td>2.669533e+11</td>\n",
              "      <td>25.000000</td>\n",
              "      <td>9119.815677</td>\n",
              "      <td>-0.093935</td>\n",
              "      <td>1096.0</td>\n",
              "      <td>2.8</td>\n",
              "      <td>39.0</td>\n",
              "      <td>60.0</td>\n",
              "      <td>26.0</td>\n",
              "      <td>113.0</td>\n",
              "      <td>4.2</td>\n",
              "      <td>12238225.0</td>\n",
              "      <td>3905.0</td>\n",
              "      <td>2203.0</td>\n",
              "      <td>18.0</td>\n",
              "      <td>1155.0</td>\n",
              "      <td>2012.0</td>\n",
              "      <td>73.0</td>\n",
              "      <td>282.0</td>\n",
              "      <td>326.0</td>\n",
              "      <td>2409.0</td>\n",
              "      <td>95.0</td>\n",
              "      <td>174656.0</td>\n",
              "      <td>1547011.0</td>\n",
              "      <td>633933.0</td>\n",
              "      <td>9617342.0</td>\n",
              "      <td>264188.0</td>\n",
              "      <td>1298.0</td>\n",
              "      <td>3185.0</td>\n",
              "      <td>630.0</td>\n",
              "      <td>922.0</td>\n",
              "      <td>0.005119</td>\n",
              "      <td>6.270151e+08</td>\n",
              "      <td>1.0</td>\n",
              "    </tr>\n",
              "    <tr>\n",
              "      <th>3</th>\n",
              "      <td>3.6</td>\n",
              "      <td>2.5</td>\n",
              "      <td>70.5</td>\n",
              "      <td>6315.471122</td>\n",
              "      <td>6309.281509</td>\n",
              "      <td>1.166195e+11</td>\n",
              "      <td>1.766512e+11</td>\n",
              "      <td>0.053464</td>\n",
              "      <td>6315.471122</td>\n",
              "      <td>-7.804890</td>\n",
              "      <td>1125.0</td>\n",
              "      <td>3.9</td>\n",
              "      <td>89.0</td>\n",
              "      <td>633.0</td>\n",
              "      <td>27.0</td>\n",
              "      <td>646.0</td>\n",
              "      <td>4.1</td>\n",
              "      <td>8026249.0</td>\n",
              "      <td>2913.0</td>\n",
              "      <td>2213.0</td>\n",
              "      <td>56.0</td>\n",
              "      <td>304.0</td>\n",
              "      <td>427.0</td>\n",
              "      <td>64.0</td>\n",
              "      <td>169.0</td>\n",
              "      <td>451.0</td>\n",
              "      <td>1597.0</td>\n",
              "      <td>133.0</td>\n",
              "      <td>124026.0</td>\n",
              "      <td>748828.0</td>\n",
              "      <td>1227341.0</td>\n",
              "      <td>5769267.0</td>\n",
              "      <td>155603.0</td>\n",
              "      <td>212.0</td>\n",
              "      <td>2414.0</td>\n",
              "      <td>383.0</td>\n",
              "      <td>530.0</td>\n",
              "      <td>0.016701</td>\n",
              "      <td>1.389393e+09</td>\n",
              "      <td>1.0</td>\n",
              "    </tr>\n",
              "    <tr>\n",
              "      <th>4</th>\n",
              "      <td>3.6</td>\n",
              "      <td>4.5</td>\n",
              "      <td>76.0</td>\n",
              "      <td>46787.898272</td>\n",
              "      <td>46250.250495</td>\n",
              "      <td>8.654892e+11</td>\n",
              "      <td>1.396854e+12</td>\n",
              "      <td>27.000000</td>\n",
              "      <td>46557.829521</td>\n",
              "      <td>21.242381</td>\n",
              "      <td>285.0</td>\n",
              "      <td>3.4</td>\n",
              "      <td>236.0</td>\n",
              "      <td>528.0</td>\n",
              "      <td>104.0</td>\n",
              "      <td>554.0</td>\n",
              "      <td>3.7</td>\n",
              "      <td>217887100.0</td>\n",
              "      <td>21873.0</td>\n",
              "      <td>29993.0</td>\n",
              "      <td>502.0</td>\n",
              "      <td>1913.0</td>\n",
              "      <td>7738.0</td>\n",
              "      <td>390.0</td>\n",
              "      <td>2574.0</td>\n",
              "      <td>1411.0</td>\n",
              "      <td>15475.0</td>\n",
              "      <td>499.0</td>\n",
              "      <td>21279720.0</td>\n",
              "      <td>8320581.0</td>\n",
              "      <td>7831069.0</td>\n",
              "      <td>170831811.0</td>\n",
              "      <td>9620719.0</td>\n",
              "      <td>3313.0</td>\n",
              "      <td>20349.0</td>\n",
              "      <td>1157.0</td>\n",
              "      <td>2118.0</td>\n",
              "      <td>0.074106</td>\n",
              "      <td>3.519595e+09</td>\n",
              "      <td>3.0</td>\n",
              "    </tr>\n",
              "  </tbody>\n",
              "</table>\n",
              "</div>"
            ],
            "text/plain": [
              "   average_sentiment  correlation_rank  ...        volume  youtube\n",
              "0                3.6               2.6  ...  9.944220e+08      2.0\n",
              "1                3.7               4.7  ...  1.401598e+09      5.0\n",
              "2                3.7               3.3  ...  6.270151e+08      1.0\n",
              "3                3.6               2.5  ...  1.389393e+09      1.0\n",
              "4                3.6               4.5  ...  3.519595e+09      3.0\n",
              "\n",
              "[5 rows x 40 columns]"
            ]
          },
          "execution_count": 154,
          "metadata": {},
          "output_type": "execute_result"
        }
      ],
      "source": [
        "X_imputed.head()"
      ]
    },
    {
      "cell_type": "code",
      "execution_count": null,
      "metadata": {
        "colab": {
          "base_uri": "https://localhost:8080/"
        },
        "id": "XQZzDtzvJ2fv",
        "outputId": "13a2673a-4b8d-4035-ffa1-3a1b78d88cf8"
      },
      "outputs": [
        {
          "name": "stdout",
          "output_type": "stream",
          "text": [
            "10105\n",
            "5684\n"
          ]
        }
      ],
      "source": [
        "# print(len(X_train))\n",
        "# X_no_zeros = X_train[(X_train != 0).all(1)]\n",
        "# print(len(X_no_zeros))\n",
        "# X_no_zeros.head()\n",
        "# y_no_zeros = y_train[y_train.index.isin(list(X_no_zeros.index))]"
      ]
    },
    {
      "cell_type": "code",
      "execution_count": null,
      "metadata": {
        "colab": {
          "base_uri": "https://localhost:8080/"
        },
        "id": "jZdBJ5BDKCPR",
        "outputId": "474af11f-cd93-4c17-e989-e6d78adf53a2"
      },
      "outputs": [
        {
          "name": "stderr",
          "output_type": "stream",
          "text": [
            "/usr/local/lib/python3.7/dist-packages/sklearn/impute/_iterative.py:686: ConvergenceWarning: [IterativeImputer] Early stopping criterion not reached.\n",
            "  \" reached.\", ConvergenceWarning)\n"
          ]
        }
      ],
      "source": [
        "# import numpy as np\n",
        "# from sklearn.experimental import enable_iterative_imputer\n",
        "# from sklearn.impute import IterativeImputer\n",
        "# imp_mean = IterativeImputer(random_state=SEED, missing_values=0, max_iter=100) # here the missing value is instead 0 since we fill nan with zeros beforehand\n",
        "\n",
        "# X_imputed = imp_mean.fit_transform(X_delete)\n",
        "\n",
        "# import pandas as pd\n",
        "# X_imputed = pd.DataFrame(X_imputed, columns = list(X_delete.columns))"
      ]
    },
    {
      "cell_type": "code",
      "execution_count": null,
      "metadata": {
        "id": "gReM0DQMxxJA"
      },
      "outputs": [],
      "source": [
        "#impute on x_delete\n",
        "import numpy as np\n",
        "from sklearn.experimental import enable_iterative_imputer\n",
        "from sklearn.impute import IterativeImputer\n",
        "imp_mean = IterativeImputer(random_state=SEED, missing_values=0, sample_posterior=True) # here the missing value is instead 0 since we fill nan with zeros beforehand\n",
        "\n",
        "X_delete_imputed = imp_mean.fit_transform(X_delete)\n",
        "\n",
        "import pandas as pd\n",
        "X_delete_imputed = pd.DataFrame(X_delete_imputed, columns = list(X_delete.columns))"
      ]
    },
    {
      "cell_type": "code",
      "execution_count": null,
      "metadata": {
        "id": "7X5ePUDZO9wh"
      },
      "outputs": [],
      "source": [
        "X_train.head()"
      ]
    },
    {
      "cell_type": "code",
      "execution_count": null,
      "metadata": {
        "id": "syu7uQN2QQ7S"
      },
      "outputs": [],
      "source": [
        "X_imputed.head()"
      ]
    },
    {
      "cell_type": "code",
      "execution_count": null,
      "metadata": {
        "colab": {
          "base_uri": "https://localhost:8080/",
          "height": 80
        },
        "id": "EWX_p9DPQmXL",
        "outputId": "16ec5a92-b2e7-4176-8542-881458155a0a"
      },
      "outputs": [
        {
          "data": {
            "text/html": [
              "<div>\n",
              "<style scoped>\n",
              "    .dataframe tbody tr th:only-of-type {\n",
              "        vertical-align: middle;\n",
              "    }\n",
              "\n",
              "    .dataframe tbody tr th {\n",
              "        vertical-align: top;\n",
              "    }\n",
              "\n",
              "    .dataframe thead th {\n",
              "        text-align: right;\n",
              "    }\n",
              "</style>\n",
              "<table border=\"1\" class=\"dataframe\">\n",
              "  <thead>\n",
              "    <tr style=\"text-align: right;\">\n",
              "      <th></th>\n",
              "      <th>average_sentiment</th>\n",
              "      <th>correlation_rank</th>\n",
              "      <th>market_cap_rank</th>\n",
              "      <th>price_score</th>\n",
              "      <th>social_impact_score</th>\n",
              "      <th>social_score_24h_rank</th>\n",
              "      <th>social_volume_24h_rank</th>\n",
              "      <th>volatility</th>\n",
              "      <th>volume_24h_rank</th>\n",
              "    </tr>\n",
              "  </thead>\n",
              "  <tbody>\n",
              "    <tr>\n",
              "      <th>std</th>\n",
              "      <td>0.401672</td>\n",
              "      <td>0.802339</td>\n",
              "      <td>0.209366</td>\n",
              "      <td>0.847917</td>\n",
              "      <td>0.696761</td>\n",
              "      <td>0.260664</td>\n",
              "      <td>0.283554</td>\n",
              "      <td>0.019206</td>\n",
              "      <td>0.673301</td>\n",
              "    </tr>\n",
              "  </tbody>\n",
              "</table>\n",
              "</div>"
            ],
            "text/plain": [
              "     average_sentiment  correlation_rank  ...  volatility  volume_24h_rank\n",
              "std           0.401672          0.802339  ...    0.019206         0.673301\n",
              "\n",
              "[1 rows x 9 columns]"
            ]
          },
          "execution_count": 98,
          "metadata": {},
          "output_type": "execute_result"
        }
      ],
      "source": [
        "a = X_delete.describe().loc[['std']]\n",
        "b = a[a<=1]\n",
        "b.dropna(axis=1) # drop column contains nan"
      ]
    },
    {
      "cell_type": "code",
      "execution_count": null,
      "metadata": {
        "id": "Sj-UmHCl1enY"
      },
      "outputs": [],
      "source": [
        "X_train.describe()"
      ]
    },
    {
      "cell_type": "code",
      "execution_count": null,
      "metadata": {
        "id": "w4wYgoY1RGI5"
      },
      "outputs": [],
      "source": [
        "X_imputed.describe()"
      ]
    },
    {
      "cell_type": "code",
      "execution_count": null,
      "metadata": {
        "id": "cI4nHC33N29A"
      },
      "outputs": [],
      "source": [
        "# Check if there missing values in test set\n",
        "ax = X_imputed.isna().sum().sort_values().plot(kind = 'barh', figsize = (9, 10))\n",
        "plt.title('Percentage of Missing Values Per Column in Test Set', fontdict={'size':15})\n",
        "\n",
        "for p in ax.patches:\n",
        "    percentage ='{:,.1f}%'.format((p.get_width()/test.shape[0])*100)\n",
        "    width, height =p.get_width(),p.get_height()\n",
        "    x=p.get_x()+width+0.02\n",
        "    y=p.get_y()+height/2\n",
        "    ax.annotate(percentage,(x,y))"
      ]
    },
    {
      "cell_type": "markdown",
      "metadata": {
        "id": "wlLqE6JnJQIe"
      },
      "source": [
        "### Knn imputer (bad result)"
      ]
    },
    {
      "cell_type": "code",
      "execution_count": null,
      "metadata": {
        "id": "zf_HyaEkJUJc"
      },
      "outputs": [],
      "source": [
        "from sklearn.impute import KNNImputer\n",
        "\n",
        "imputer = KNNImputer(n_neighbors=2, weights=\"uniform\", missing_values=0)\n",
        "X_imp_knn = imputer.fit_transform(X_delete)"
      ]
    },
    {
      "cell_type": "markdown",
      "metadata": {
        "id": "Ri8anFa8zX0-"
      },
      "source": [
        "## Log transform"
      ]
    },
    {
      "cell_type": "code",
      "execution_count": null,
      "metadata": {
        "id": "U5rM_LA3zaO5"
      },
      "outputs": [],
      "source": [
        "# convert all 0 to 1\n",
        "X_delete_one = X_delete.replace(0, 1)"
      ]
    },
    {
      "cell_type": "code",
      "execution_count": null,
      "metadata": {
        "colab": {
          "base_uri": "https://localhost:8080/",
          "height": 609
        },
        "id": "5uMkRabd13l7",
        "outputId": "f9a29325-d995-4a57-fac8-9c4df7b827a9"
      },
      "outputs": [
        {
          "data": {
            "image/png": "[encoded data removed]",
            "text/plain": [
              "<Figure size 648x720 with 1 Axes>"
            ]
          },
          "metadata": {
            "needs_background": "light"
          },
          "output_type": "display_data"
        }
      ],
      "source": [
        "# Check if there missing values in test set\n",
        "ax = X_delete_one.isna().sum().sort_values().plot(kind = 'barh', figsize = (9, 10))\n",
        "plt.title('Percentage of Missing Values Per Column in X_delete_one Set', fontdict={'size':15})\n",
        "\n",
        "for p in ax.patches:\n",
        "    percentage ='{:,.1f}%'.format((p.get_width()/X_delete_one.shape[0])*100)\n",
        "    width, height =p.get_width(),p.get_height()\n",
        "    x=p.get_x()+width+0.02\n",
        "    y=p.get_y()+height/2\n",
        "    ax.annotate(percentage,(x,y))"
      ]
    },
    {
      "cell_type": "code",
      "execution_count": null,
      "metadata": {
        "id": "bWtBfHIOz-Le"
      },
      "outputs": [],
      "source": [
        "for c in [c for c in X_delete_one.columns if c != 'percent_change_24h']:\n",
        "    X_delete_one[c] = np.log(X_delete_one[c])"
      ]
    },
    {
      "cell_type": "code",
      "execution_count": null,
      "metadata": {
        "colab": {
          "base_uri": "https://localhost:8080/",
          "height": 316
        },
        "id": "dFNWlrAY01iz",
        "outputId": "a6056942-e1f6-42bf-f6f0-7478fa6867aa"
      },
      "outputs": [
        {
          "data": {
            "text/html": [
              "<div>\n",
              "<style scoped>\n",
              "    .dataframe tbody tr th:only-of-type {\n",
              "        vertical-align: middle;\n",
              "    }\n",
              "\n",
              "    .dataframe tbody tr th {\n",
              "        vertical-align: top;\n",
              "    }\n",
              "\n",
              "    .dataframe thead th {\n",
              "        text-align: right;\n",
              "    }\n",
              "</style>\n",
              "<table border=\"1\" class=\"dataframe\">\n",
              "  <thead>\n",
              "    <tr style=\"text-align: right;\">\n",
              "      <th></th>\n",
              "      <th>average_sentiment</th>\n",
              "      <th>correlation_rank</th>\n",
              "      <th>galaxy_score</th>\n",
              "      <th>high</th>\n",
              "      <th>low</th>\n",
              "      <th>market_cap</th>\n",
              "      <th>market_cap_global</th>\n",
              "      <th>market_cap_rank</th>\n",
              "      <th>news</th>\n",
              "      <th>open</th>\n",
              "      <th>percent_change_24h</th>\n",
              "      <th>percent_change_24h_rank</th>\n",
              "      <th>price_score</th>\n",
              "      <th>reddit_comments</th>\n",
              "      <th>reddit_comments_score</th>\n",
              "      <th>reddit_posts</th>\n",
              "      <th>reddit_posts_score</th>\n",
              "      <th>social_impact_score</th>\n",
              "      <th>social_score</th>\n",
              "      <th>social_score_24h_rank</th>\n",
              "      <th>social_volume</th>\n",
              "      <th>social_volume_24h_rank</th>\n",
              "      <th>tweet_favorites</th>\n",
              "      <th>tweet_followers</th>\n",
              "      <th>tweet_quotes</th>\n",
              "      <th>tweet_replies</th>\n",
              "      <th>tweet_retweets</th>\n",
              "      <th>tweet_sentiment1</th>\n",
              "      <th>tweet_sentiment2</th>\n",
              "      <th>tweet_sentiment3</th>\n",
              "      <th>tweet_sentiment4</th>\n",
              "      <th>tweet_sentiment5</th>\n",
              "      <th>tweet_sentiment_impact1</th>\n",
              "      <th>tweet_sentiment_impact2</th>\n",
              "      <th>tweet_sentiment_impact3</th>\n",
              "      <th>tweet_sentiment_impact4</th>\n",
              "      <th>tweet_sentiment_impact5</th>\n",
              "      <th>tweet_spam</th>\n",
              "      <th>tweets</th>\n",
              "      <th>unique_url_shares</th>\n",
              "      <th>url_shares</th>\n",
              "      <th>volatility</th>\n",
              "      <th>volume</th>\n",
              "      <th>volume_24h_rank</th>\n",
              "    </tr>\n",
              "  </thead>\n",
              "  <tbody>\n",
              "    <tr>\n",
              "      <th>count</th>\n",
              "      <td>6931.000000</td>\n",
              "      <td>6931.000000</td>\n",
              "      <td>6931.000000</td>\n",
              "      <td>6931.000000</td>\n",
              "      <td>6931.000000</td>\n",
              "      <td>6931.000000</td>\n",
              "      <td>6931.000000</td>\n",
              "      <td>6931.000000</td>\n",
              "      <td>6931.000000</td>\n",
              "      <td>6931.000000</td>\n",
              "      <td>6931.000000</td>\n",
              "      <td>6931.000000</td>\n",
              "      <td>6931.000000</td>\n",
              "      <td>6931.000000</td>\n",
              "      <td>6931.000000</td>\n",
              "      <td>6931.000000</td>\n",
              "      <td>6931.000000</td>\n",
              "      <td>6931.000000</td>\n",
              "      <td>6931.000000</td>\n",
              "      <td>6931.000000</td>\n",
              "      <td>6931.000000</td>\n",
              "      <td>6931.000000</td>\n",
              "      <td>6931.000000</td>\n",
              "      <td>6931.000000</td>\n",
              "      <td>6931.000000</td>\n",
              "      <td>6931.000000</td>\n",
              "      <td>6931.000000</td>\n",
              "      <td>6931.000000</td>\n",
              "      <td>6931.000000</td>\n",
              "      <td>6931.000000</td>\n",
              "      <td>6931.000000</td>\n",
              "      <td>6931.000000</td>\n",
              "      <td>6931.000000</td>\n",
              "      <td>6931.000000</td>\n",
              "      <td>6931.000000</td>\n",
              "      <td>6931.000000</td>\n",
              "      <td>6931.000000</td>\n",
              "      <td>6931.000000</td>\n",
              "      <td>6931.000000</td>\n",
              "      <td>6931.000000</td>\n",
              "      <td>6931.000000</td>\n",
              "      <td>6931.000000</td>\n",
              "      <td>6931.000000</td>\n",
              "      <td>6931.000000</td>\n",
              "    </tr>\n",
              "    <tr>\n",
              "      <th>mean</th>\n",
              "      <td>1.280709</td>\n",
              "      <td>1.145662</td>\n",
              "      <td>4.167462</td>\n",
              "      <td>9.335157</td>\n",
              "      <td>9.330090</td>\n",
              "      <td>25.168684</td>\n",
              "      <td>25.533135</td>\n",
              "      <td>0.000559</td>\n",
              "      <td>2.644729</td>\n",
              "      <td>9.332712</td>\n",
              "      <td>0.431318</td>\n",
              "      <td>6.213838</td>\n",
              "      <td>1.041845</td>\n",
              "      <td>4.115471</td>\n",
              "      <td>5.454444</td>\n",
              "      <td>3.596214</td>\n",
              "      <td>5.197910</td>\n",
              "      <td>1.275563</td>\n",
              "      <td>16.317229</td>\n",
              "      <td>0.004300</td>\n",
              "      <td>8.406353</td>\n",
              "      <td>0.012101</td>\n",
              "      <td>7.898097</td>\n",
              "      <td>16.349220</td>\n",
              "      <td>4.198457</td>\n",
              "      <td>5.836456</td>\n",
              "      <td>6.738478</td>\n",
              "      <td>4.166058</td>\n",
              "      <td>5.470390</td>\n",
              "      <td>6.280362</td>\n",
              "      <td>7.768856</td>\n",
              "      <td>5.078200</td>\n",
              "      <td>11.657594</td>\n",
              "      <td>13.838555</td>\n",
              "      <td>14.259675</td>\n",
              "      <td>15.944999</td>\n",
              "      <td>13.154737</td>\n",
              "      <td>6.661996</td>\n",
              "      <td>8.145969</td>\n",
              "      <td>6.469824</td>\n",
              "      <td>6.935324</td>\n",
              "      <td>-4.382385</td>\n",
              "      <td>20.557646</td>\n",
              "      <td>0.690247</td>\n",
              "    </tr>\n",
              "    <tr>\n",
              "      <th>std</th>\n",
              "      <td>0.141042</td>\n",
              "      <td>0.271429</td>\n",
              "      <td>0.460143</td>\n",
              "      <td>1.016547</td>\n",
              "      <td>1.015093</td>\n",
              "      <td>4.906869</td>\n",
              "      <td>5.190712</td>\n",
              "      <td>0.025902</td>\n",
              "      <td>1.377057</td>\n",
              "      <td>1.015821</td>\n",
              "      <td>3.595194</td>\n",
              "      <td>1.670587</td>\n",
              "      <td>0.333589</td>\n",
              "      <td>0.685528</td>\n",
              "      <td>0.865470</td>\n",
              "      <td>0.750048</td>\n",
              "      <td>1.087598</td>\n",
              "      <td>0.226548</td>\n",
              "      <td>2.131915</td>\n",
              "      <td>0.054430</td>\n",
              "      <td>0.739843</td>\n",
              "      <td>0.090788</td>\n",
              "      <td>1.377573</td>\n",
              "      <td>2.017651</td>\n",
              "      <td>1.224211</td>\n",
              "      <td>1.210479</td>\n",
              "      <td>1.179748</td>\n",
              "      <td>1.700216</td>\n",
              "      <td>1.140454</td>\n",
              "      <td>0.866613</td>\n",
              "      <td>1.063662</td>\n",
              "      <td>1.011610</td>\n",
              "      <td>4.170520</td>\n",
              "      <td>1.949880</td>\n",
              "      <td>1.704596</td>\n",
              "      <td>1.872859</td>\n",
              "      <td>1.984680</td>\n",
              "      <td>1.236635</td>\n",
              "      <td>1.085524</td>\n",
              "      <td>0.856175</td>\n",
              "      <td>0.935113</td>\n",
              "      <td>0.890956</td>\n",
              "      <td>2.056944</td>\n",
              "      <td>0.259346</td>\n",
              "    </tr>\n",
              "    <tr>\n",
              "      <th>min</th>\n",
              "      <td>0.000000</td>\n",
              "      <td>0.000000</td>\n",
              "      <td>0.000000</td>\n",
              "      <td>0.000000</td>\n",
              "      <td>0.000000</td>\n",
              "      <td>0.000000</td>\n",
              "      <td>0.000000</td>\n",
              "      <td>0.000000</td>\n",
              "      <td>0.000000</td>\n",
              "      <td>0.000000</td>\n",
              "      <td>-44.690403</td>\n",
              "      <td>0.000000</td>\n",
              "      <td>0.000000</td>\n",
              "      <td>0.000000</td>\n",
              "      <td>0.000000</td>\n",
              "      <td>0.000000</td>\n",
              "      <td>0.000000</td>\n",
              "      <td>0.000000</td>\n",
              "      <td>0.000000</td>\n",
              "      <td>0.000000</td>\n",
              "      <td>2.708050</td>\n",
              "      <td>0.000000</td>\n",
              "      <td>0.000000</td>\n",
              "      <td>0.000000</td>\n",
              "      <td>0.000000</td>\n",
              "      <td>0.000000</td>\n",
              "      <td>0.000000</td>\n",
              "      <td>0.000000</td>\n",
              "      <td>0.000000</td>\n",
              "      <td>0.000000</td>\n",
              "      <td>0.000000</td>\n",
              "      <td>0.000000</td>\n",
              "      <td>0.000000</td>\n",
              "      <td>0.000000</td>\n",
              "      <td>0.000000</td>\n",
              "      <td>0.000000</td>\n",
              "      <td>0.000000</td>\n",
              "      <td>0.000000</td>\n",
              "      <td>0.000000</td>\n",
              "      <td>0.000000</td>\n",
              "      <td>0.000000</td>\n",
              "      <td>-6.450457</td>\n",
              "      <td>0.000000</td>\n",
              "      <td>0.000000</td>\n",
              "    </tr>\n",
              "    <tr>\n",
              "      <th>25%</th>\n",
              "      <td>1.280934</td>\n",
              "      <td>1.029619</td>\n",
              "      <td>4.158883</td>\n",
              "      <td>9.031338</td>\n",
              "      <td>9.027570</td>\n",
              "      <td>25.712651</td>\n",
              "      <td>26.122971</td>\n",
              "      <td>0.000000</td>\n",
              "      <td>2.079442</td>\n",
              "      <td>9.029454</td>\n",
              "      <td>-1.161925</td>\n",
              "      <td>6.410175</td>\n",
              "      <td>0.993252</td>\n",
              "      <td>3.688879</td>\n",
              "      <td>4.897840</td>\n",
              "      <td>3.178054</td>\n",
              "      <td>4.521789</td>\n",
              "      <td>1.098612</td>\n",
              "      <td>16.027247</td>\n",
              "      <td>0.000000</td>\n",
              "      <td>8.078688</td>\n",
              "      <td>0.000000</td>\n",
              "      <td>7.289269</td>\n",
              "      <td>16.026966</td>\n",
              "      <td>3.465736</td>\n",
              "      <td>5.257495</td>\n",
              "      <td>6.228511</td>\n",
              "      <td>4.143135</td>\n",
              "      <td>4.948760</td>\n",
              "      <td>5.948035</td>\n",
              "      <td>7.424165</td>\n",
              "      <td>4.744932</td>\n",
              "      <td>11.877902</td>\n",
              "      <td>13.143772</td>\n",
              "      <td>13.928833</td>\n",
              "      <td>15.629707</td>\n",
              "      <td>12.519603</td>\n",
              "      <td>5.811141</td>\n",
              "      <td>7.851467</td>\n",
              "      <td>6.316261</td>\n",
              "      <td>6.738152</td>\n",
              "      <td>-4.951654</td>\n",
              "      <td>20.227576</td>\n",
              "      <td>0.693147</td>\n",
              "    </tr>\n",
              "    <tr>\n",
              "      <th>50%</th>\n",
              "      <td>1.308333</td>\n",
              "      <td>1.163151</td>\n",
              "      <td>4.219508</td>\n",
              "      <td>9.176753</td>\n",
              "      <td>9.171937</td>\n",
              "      <td>25.882394</td>\n",
              "      <td>26.317560</td>\n",
              "      <td>0.000000</td>\n",
              "      <td>3.178054</td>\n",
              "      <td>9.174331</td>\n",
              "      <td>0.364590</td>\n",
              "      <td>6.682109</td>\n",
              "      <td>1.098612</td>\n",
              "      <td>4.043051</td>\n",
              "      <td>5.416100</td>\n",
              "      <td>3.663562</td>\n",
              "      <td>5.147494</td>\n",
              "      <td>1.335001</td>\n",
              "      <td>16.459489</td>\n",
              "      <td>0.000000</td>\n",
              "      <td>8.392990</td>\n",
              "      <td>0.000000</td>\n",
              "      <td>7.906915</td>\n",
              "      <td>16.457579</td>\n",
              "      <td>4.234107</td>\n",
              "      <td>5.899897</td>\n",
              "      <td>6.771936</td>\n",
              "      <td>4.624973</td>\n",
              "      <td>5.525453</td>\n",
              "      <td>6.318968</td>\n",
              "      <td>7.786552</td>\n",
              "      <td>5.204007</td>\n",
              "      <td>12.701908</td>\n",
              "      <td>13.912596</td>\n",
              "      <td>14.339061</td>\n",
              "      <td>16.060438</td>\n",
              "      <td>13.185646</td>\n",
              "      <td>6.677083</td>\n",
              "      <td>8.186743</td>\n",
              "      <td>6.551080</td>\n",
              "      <td>7.016610</td>\n",
              "      <td>-4.476917</td>\n",
              "      <td>20.700272</td>\n",
              "      <td>0.693147</td>\n",
              "    </tr>\n",
              "    <tr>\n",
              "      <th>75%</th>\n",
              "      <td>1.308333</td>\n",
              "      <td>1.308333</td>\n",
              "      <td>4.276666</td>\n",
              "      <td>9.479518</td>\n",
              "      <td>9.476228</td>\n",
              "      <td>26.106928</td>\n",
              "      <td>26.647678</td>\n",
              "      <td>0.000000</td>\n",
              "      <td>3.610918</td>\n",
              "      <td>9.478626</td>\n",
              "      <td>1.777816</td>\n",
              "      <td>6.863803</td>\n",
              "      <td>1.193922</td>\n",
              "      <td>4.465908</td>\n",
              "      <td>6.017375</td>\n",
              "      <td>4.094345</td>\n",
              "      <td>5.855072</td>\n",
              "      <td>1.410987</td>\n",
              "      <td>16.943192</td>\n",
              "      <td>0.000000</td>\n",
              "      <td>8.744010</td>\n",
              "      <td>0.000000</td>\n",
              "      <td>8.581481</td>\n",
              "      <td>16.939164</td>\n",
              "      <td>4.993822</td>\n",
              "      <td>6.552508</td>\n",
              "      <td>7.324160</td>\n",
              "      <td>5.010635</td>\n",
              "      <td>6.167516</td>\n",
              "      <td>6.693324</td>\n",
              "      <td>8.194644</td>\n",
              "      <td>5.669881</td>\n",
              "      <td>13.566923</td>\n",
              "      <td>14.756853</td>\n",
              "      <td>14.787368</td>\n",
              "      <td>16.502479</td>\n",
              "      <td>13.919945</td>\n",
              "      <td>7.603399</td>\n",
              "      <td>8.561975</td>\n",
              "      <td>6.794587</td>\n",
              "      <td>7.318540</td>\n",
              "      <td>-3.959629</td>\n",
              "      <td>21.194629</td>\n",
              "      <td>0.693147</td>\n",
              "    </tr>\n",
              "    <tr>\n",
              "      <th>max</th>\n",
              "      <td>1.410987</td>\n",
              "      <td>1.609438</td>\n",
              "      <td>4.471639</td>\n",
              "      <td>11.026912</td>\n",
              "      <td>11.019828</td>\n",
              "      <td>27.762843</td>\n",
              "      <td>28.352522</td>\n",
              "      <td>1.791759</td>\n",
              "      <td>5.823046</td>\n",
              "      <td>11.025311</td>\n",
              "      <td>31.076357</td>\n",
              "      <td>7.306531</td>\n",
              "      <td>1.609438</td>\n",
              "      <td>7.195187</td>\n",
              "      <td>12.227002</td>\n",
              "      <td>6.214608</td>\n",
              "      <td>10.327415</td>\n",
              "      <td>1.609438</td>\n",
              "      <td>20.250456</td>\n",
              "      <td>0.693147</td>\n",
              "      <td>11.852472</td>\n",
              "      <td>0.693147</td>\n",
              "      <td>13.358406</td>\n",
              "      <td>20.249970</td>\n",
              "      <td>9.954656</td>\n",
              "      <td>10.542258</td>\n",
              "      <td>11.740746</td>\n",
              "      <td>8.213924</td>\n",
              "      <td>8.945984</td>\n",
              "      <td>9.216223</td>\n",
              "      <td>11.822452</td>\n",
              "      <td>8.551208</td>\n",
              "      <td>17.880073</td>\n",
              "      <td>18.477319</td>\n",
              "      <td>18.023778</td>\n",
              "      <td>19.849745</td>\n",
              "      <td>18.202606</td>\n",
              "      <td>9.532931</td>\n",
              "      <td>11.843301</td>\n",
              "      <td>8.492900</td>\n",
              "      <td>9.220984</td>\n",
              "      <td>0.000000</td>\n",
              "      <td>24.671751</td>\n",
              "      <td>2.302585</td>\n",
              "    </tr>\n",
              "  </tbody>\n",
              "</table>\n",
              "</div>"
            ],
            "text/plain": [
              "       average_sentiment  correlation_rank  ...       volume  volume_24h_rank\n",
              "count        6931.000000       6931.000000  ...  6931.000000      6931.000000\n",
              "mean            1.280709          1.145662  ...    20.557646         0.690247\n",
              "std             0.141042          0.271429  ...     2.056944         0.259346\n",
              "min             0.000000          0.000000  ...     0.000000         0.000000\n",
              "25%             1.280934          1.029619  ...    20.227576         0.693147\n",
              "50%             1.308333          1.163151  ...    20.700272         0.693147\n",
              "75%             1.308333          1.308333  ...    21.194629         0.693147\n",
              "max             1.410987          1.609438  ...    24.671751         2.302585\n",
              "\n",
              "[8 rows x 44 columns]"
            ]
          },
          "execution_count": 150,
          "metadata": {},
          "output_type": "execute_result"
        }
      ],
      "source": [
        "X_delete_one.describe()"
      ]
    },
    {
      "cell_type": "code",
      "execution_count": null,
      "metadata": {
        "colab": {
          "base_uri": "https://localhost:8080/"
        },
        "id": "8oPvBS4I0kQw",
        "outputId": "22210b2a-45a7-47b8-d084-73b20d5f96a1"
      },
      "outputs": [
        {
          "data": {
            "text/plain": [
              "2.995732273553991"
            ]
          },
          "execution_count": 139,
          "metadata": {},
          "output_type": "execute_result"
        }
      ],
      "source": [
        "np.log(20)"
      ]
    },
    {
      "cell_type": "markdown",
      "metadata": {
        "id": "TXT_FhthKzcc"
      },
      "source": [
        "# feature selection"
      ]
    },
    {
      "cell_type": "markdown",
      "metadata": {
        "id": "xnn-tqS2N425"
      },
      "source": [
        "## FeatureAgglomeration"
      ]
    },
    {
      "cell_type": "code",
      "execution_count": null,
      "metadata": {
        "colab": {
          "base_uri": "https://localhost:8080/"
        },
        "id": "R6AWT22LK42q",
        "outputId": "56bd8496-ca4c-4ef1-eba4-90c0fea775a3"
      },
      "outputs": [
        {
          "data": {
            "text/plain": [
              "(6931, 44)"
            ]
          },
          "execution_count": 220,
          "metadata": {},
          "output_type": "execute_result"
        }
      ],
      "source": [
        "import numpy as np\n",
        "from sklearn import datasets, cluster\n",
        "\n",
        "agglo = cluster.FeatureAgglomeration(affinity=\"euclidean\", linkage=\"average\", pooling_func=np.median, n_clusters=44) # , n_clusters=361)\n",
        "agglo.fit(X_delete)\n",
        "\n",
        "X_reduced = agglo.transform(X_delete)\n",
        "X_reduced.shape"
      ]
    },
    {
      "cell_type": "code",
      "execution_count": null,
      "metadata": {
        "colab": {
          "base_uri": "https://localhost:8080/"
        },
        "id": "DkRGpc3KWW1b",
        "outputId": "9b316412-6b02-4620-f8d6-2f34f24c66f3"
      },
      "outputs": [
        {
          "data": {
            "text/plain": [
              "(2527, 44)"
            ]
          },
          "execution_count": 221,
          "metadata": {},
          "output_type": "execute_result"
        }
      ],
      "source": [
        "import numpy as np\n",
        "from sklearn import datasets, cluster\n",
        "\n",
        "agglo = cluster.FeatureAgglomeration(affinity=\"euclidean\", linkage=\"average\", pooling_func=np.median, n_clusters=44) # , n_clusters=361)\n",
        "agglo.fit(X_test)\n",
        "\n",
        "X_test_reduced = agglo.transform(X_test)\n",
        "X_test_reduced.shape"
      ]
    },
    {
      "cell_type": "code",
      "execution_count": null,
      "metadata": {
        "id": "HotFNKz5K30j"
      },
      "outputs": [],
      "source": [
        " 'feature_preprocessor:feature_agglomeration:affinity': 'euclidean', 'feature_preprocessor:feature_agglomeration:linkage': 'average', 'feature_preprocessor:feature_agglomeration:n_clusters': 361, 'feature_preprocessor:feature_agglomeration:pooling_func': 'median', "
      ]
    },
    {
      "cell_type": "markdown",
      "metadata": {
        "id": "CNJGAvr75qxP"
      },
      "source": [
        "#PCA"
      ]
    },
    {
      "cell_type": "code",
      "execution_count": null,
      "metadata": {
        "colab": {
          "base_uri": "https://localhost:8080/",
          "height": 297
        },
        "id": "3hTK9zba5tje",
        "outputId": "7c003a9e-fc41-4637-a4f4-b56f1492c2e8"
      },
      "outputs": [
        {
          "data": {
            "text/plain": [
              "Text(0, 0.5, 'cumulative explained variance')"
            ]
          },
          "execution_count": 136,
          "metadata": {},
          "output_type": "execute_result"
        },
        {
          "data": {
            "image/png": "[encoded data removed]",
            "text/plain": [
              "<Figure size 576x288 with 1 Axes>"
            ]
          },
          "metadata": {
            "needs_background": "light"
          },
          "output_type": "display_data"
        }
      ],
      "source": [
        "from sklearn.decomposition import PCA\n",
        "\n",
        "pca = PCA().fit(X_train)\n",
        "plt.figure(figsize=(8,4))\n",
        "plt.plot(np.cumsum(pca.explained_variance_ratio_))\n",
        "\n",
        "plt.xlabel('PCA - number of components')\n",
        "plt.ylabel('cumulative explained variance')"
      ]
    },
    {
      "cell_type": "markdown",
      "metadata": {
        "id": "NjencoxO6fsM"
      },
      "source": [
        "##performance compare using PCA"
      ]
    },
    {
      "cell_type": "code",
      "execution_count": null,
      "metadata": {
        "colab": {
          "base_uri": "https://localhost:8080/",
          "height": 221
        },
        "id": "-dqzjR9C6g9q",
        "outputId": "76c0c9eb-12b9-4198-a76d-8bea3eeb1da9"
      },
      "outputs": [
        {
          "name": "stdout",
          "output_type": "stream",
          "text": [
            "# features 15 "
          ]
        },
        {
          "ename": "NameError",
          "evalue": "ignored",
          "output_type": "error",
          "traceback": [
            "\u001b[0;31m---------------------------------------------------------------------------\u001b[0m",
            "\u001b[0;31mNameError\u001b[0m                                 Traceback (most recent call last)",
            "\u001b[0;32m<ipython-input-149-c0bdd76f2bd4>\u001b[0m in \u001b[0;36m<module>\u001b[0;34m()\u001b[0m\n\u001b[1;32m      4\u001b[0m     \u001b[0mpca\u001b[0m\u001b[0;34m.\u001b[0m\u001b[0mfit\u001b[0m\u001b[0;34m(\u001b[0m\u001b[0mX_train\u001b[0m\u001b[0;34m)\u001b[0m\u001b[0;34m\u001b[0m\u001b[0;34m\u001b[0m\u001b[0m\n\u001b[1;32m      5\u001b[0m     \u001b[0mX_pca\u001b[0m \u001b[0;34m=\u001b[0m \u001b[0mpca\u001b[0m\u001b[0;34m.\u001b[0m\u001b[0mtransform\u001b[0m\u001b[0;34m(\u001b[0m\u001b[0mX_train\u001b[0m\u001b[0;34m)\u001b[0m\u001b[0;34m\u001b[0m\u001b[0;34m\u001b[0m\u001b[0m\n\u001b[0;32m----> 6\u001b[0;31m     \u001b[0mridge_rg\u001b[0m\u001b[0;34m(\u001b[0m\u001b[0mX_pca\u001b[0m\u001b[0;34m)\u001b[0m\u001b[0;34m\u001b[0m\u001b[0;34m\u001b[0m\u001b[0m\n\u001b[0m",
            "\u001b[0;31mNameError\u001b[0m: name 'ridge_rg' is not defined"
          ]
        }
      ],
      "source": [
        "for n_features in range(15,46,2):\n",
        "    print(\"# features\", n_features, end=\" \")\n",
        "    pca = PCA(n_components=n_features)\n",
        "    pca.fit(X_train)\n",
        "    X_pca = pca.transform(X_train)\n",
        "    ridge_rg(X_pca)"
      ]
    },
    {
      "cell_type": "code",
      "execution_count": null,
      "metadata": {
        "id": "iR2FB4jT76KJ"
      },
      "outputs": [],
      "source": [
        "for n_features in range(1,46,2):\n",
        "    print(\"# features\", n_features, end=\" \")\n",
        "    pca = PCA(n_components=n_features)\n",
        "    pca.fit(X_train)\n",
        "    X_pca = pca.transform(X_train)\n",
        "    #ext_rg(X_pca)\n",
        "    ext_rg(X_pca)"
      ]
    },
    {
      "cell_type": "code",
      "execution_count": null,
      "metadata": {
        "colab": {
          "base_uri": "https://localhost:8080/"
        },
        "id": "fjJVKGOGpwhc",
        "outputId": "37bb6555-9258-4d0c-e9cb-df01d6f57bc8"
      },
      "outputs": [
        {
          "name": "stdout",
          "output_type": "stream",
          "text": [
            "# features 15 168.14742867151642\n",
            "# features 20 189.1521141726684\n",
            "# features 25 187.66648479503453\n",
            "# features 30 184.77552379677832\n",
            "# features 35 195.20320081495618\n",
            "# features 40 191.40486048761647\n",
            "# features 45 195.37489487992585\n"
          ]
        }
      ],
      "source": [
        "# for n_features in range(15,46,5):\n",
        "#     print(\"# features\", n_features, end=\" \")\n",
        "#     pca = PCA(n_components=n_features)\n",
        "#     pca.fit(X_train)\n",
        "#     X_pca = pca.transform(X_train)\n",
        "#     X_pca_test = pca.transform(X_test)\n",
        "#     #submission\n",
        "#     ext_model = ExtraTreeRegressor(random_state=SEED, max_depth=21, splitter=\"best\")\n",
        "\n",
        "#     #ext_model.fit(X_train_cleaned, y_train_cleaned)\n",
        "#     ext_model.fit(X_pca, y_train)\n",
        "\n",
        "#     y_pred = ext_model.predict(X_pca_test)\n",
        "\n",
        "#     from sklearn.metrics import mean_squared_error\n",
        "#     a = mean_squared_error(y_pred, y_test, squared=False)\n",
        "#     print(a)"
      ]
    },
    {
      "cell_type": "markdown",
      "metadata": {
        "id": "wjLWitgxkFys"
      },
      "source": [
        "#Baseline score"
      ]
    },
    {
      "cell_type": "code",
      "execution_count": null,
      "metadata": {
        "id": "0gc70Y_gokfw"
      },
      "outputs": [],
      "source": [
        "# Load libraries\n",
        "\n",
        "from pandas import set_option\n",
        "#from pandas.tools.plotting import scatter_matrix\n",
        "from sklearn.model_selection import train_test_split\n",
        "from sklearn.model_selection import KFold\n",
        "from sklearn.model_selection import StratifiedKFold\n",
        "from sklearn.model_selection import cross_val_score # scoring - https://scikit-learn.org/stable/modules/model_evaluation.html\n",
        "from sklearn.model_selection import GridSearchCV\n",
        "\n",
        "from sklearn.metrics import classification_report\n",
        "from sklearn.metrics import confusion_matrix\n",
        "from sklearn.metrics import accuracy_score\n",
        "\n",
        "from sklearn.pipeline import Pipeline\n",
        "\n",
        "from sklearn import metrics\n",
        "\n",
        "import warnings\n",
        "warnings.filterwarnings(\"ignore\", category=FutureWarning)"
      ]
    },
    {
      "cell_type": "markdown",
      "metadata": {
        "id": "uLV30zUiPJ6k"
      },
      "source": [
        "#TabNet"
      ]
    },
    {
      "cell_type": "code",
      "execution_count": null,
      "metadata": {
        "id": "s0TVjeP9PNpb"
      },
      "outputs": [],
      "source": [
        "#!pip install pytorch-tabnet"
      ]
    },
    {
      "cell_type": "code",
      "execution_count": null,
      "metadata": {
        "colab": {
          "base_uri": "https://localhost:8080/",
          "height": 1000
        },
        "id": "xsDq0KiYPMK4",
        "outputId": "693242d9-cdaa-4ca5-9b42-469e17a48e8d"
      },
      "outputs": [
        {
          "name": "stdout",
          "output_type": "stream",
          "text": [
            "Device used : cuda\n",
            "epoch 0  | loss: 15383.74796| val_0_rmse: 20871.8557|  0:00:00s\n",
            "epoch 1  | loss: 15377.08634| val_0_rmse: 20853.42957|  0:00:00s\n",
            "epoch 2  | loss: 15332.95692| val_0_rmse: 20727.96772|  0:00:01s\n",
            "epoch 3  | loss: 15104.7989| val_0_rmse: 20272.3371|  0:00:01s\n",
            "epoch 4  | loss: 14302.26489| val_0_rmse: 19000.18078|  0:00:01s\n",
            "epoch 5  | loss: 12433.65079| val_0_rmse: 17297.30771|  0:00:01s\n",
            "epoch 6  | loss: 9342.0368| val_0_rmse: 16835.30316|  0:00:02s\n",
            "epoch 7  | loss: 7351.87619| val_0_rmse: 15392.02197|  0:00:02s\n",
            "epoch 8  | loss: 7476.71652| val_0_rmse: 10772.26357|  0:00:03s\n",
            "epoch 9  | loss: 6751.04557| val_0_rmse: 11512.46126|  0:00:03s\n",
            "epoch 10 | loss: 5494.20289| val_0_rmse: 9879.65493|  0:00:03s\n",
            "epoch 11 | loss: 4667.32959| val_0_rmse: 10297.51952|  0:00:04s\n",
            "epoch 12 | loss: 4523.28553| val_0_rmse: 8872.59179|  0:00:04s\n",
            "epoch 13 | loss: 3862.51647| val_0_rmse: 9890.17355|  0:00:04s\n",
            "epoch 14 | loss: 3232.31004| val_0_rmse: 6278.20827|  0:00:05s\n",
            "epoch 15 | loss: 2680.84944| val_0_rmse: 14841.73591|  0:00:05s\n",
            "epoch 16 | loss: 1700.7792| val_0_rmse: 13043.2708|  0:00:05s\n",
            "epoch 17 | loss: 1269.21187| val_0_rmse: 9414.43271|  0:00:05s\n",
            "epoch 18 | loss: 1024.86142| val_0_rmse: 1164.71386|  0:00:06s\n",
            "epoch 19 | loss: 1126.67504| val_0_rmse: 3455.35258|  0:00:06s\n",
            "epoch 20 | loss: 1324.41327| val_0_rmse: 2681.43834|  0:00:06s\n",
            "epoch 21 | loss: 1066.77404| val_0_rmse: 2973.03809|  0:00:07s\n",
            "epoch 22 | loss: 1217.94097| val_0_rmse: 2700.43143|  0:00:07s\n",
            "epoch 23 | loss: 1289.55254| val_0_rmse: 1792.07388|  0:00:07s\n",
            "epoch 24 | loss: 1244.9865| val_0_rmse: 1771.05465|  0:00:08s\n",
            "epoch 25 | loss: 1008.70281| val_0_rmse: 2448.51429|  0:00:08s\n",
            "epoch 26 | loss: 1180.57997| val_0_rmse: 1311.03688|  0:00:08s\n",
            "epoch 27 | loss: 1115.99997| val_0_rmse: 1383.76203|  0:00:09s\n",
            "epoch 28 | loss: 1044.6621| val_0_rmse: 1161.70551|  0:00:09s\n",
            "epoch 29 | loss: 1395.77444| val_0_rmse: 1394.4733|  0:00:09s\n",
            "epoch 30 | loss: 1129.12751| val_0_rmse: 1556.70433|  0:00:10s\n",
            "epoch 31 | loss: 1099.13101| val_0_rmse: 2000.19878|  0:00:10s\n",
            "epoch 32 | loss: 1109.41025| val_0_rmse: 1344.81859|  0:00:10s\n",
            "epoch 33 | loss: 1062.51602| val_0_rmse: 2744.10408|  0:00:11s\n",
            "epoch 34 | loss: 1020.28153| val_0_rmse: 1055.80794|  0:00:11s\n",
            "epoch 35 | loss: 1169.25984| val_0_rmse: 2492.17071|  0:00:11s\n",
            "epoch 36 | loss: 1229.93882| val_0_rmse: 666.00948|  0:00:12s\n",
            "epoch 37 | loss: 1021.43756| val_0_rmse: 1884.03683|  0:00:12s\n",
            "epoch 38 | loss: 1247.26298| val_0_rmse: 820.95524|  0:00:12s\n",
            "epoch 39 | loss: 1181.17994| val_0_rmse: 1599.54467|  0:00:13s\n",
            "epoch 40 | loss: 1018.20645| val_0_rmse: 1157.74123|  0:00:13s\n",
            "epoch 41 | loss: 1214.44794| val_0_rmse: 908.49951|  0:00:13s\n",
            "epoch 42 | loss: 1182.30152| val_0_rmse: 1885.34903|  0:00:14s\n",
            "epoch 43 | loss: 1060.45218| val_0_rmse: 1455.30289|  0:00:14s\n",
            "epoch 44 | loss: 1153.9477| val_0_rmse: 1811.71702|  0:00:14s\n",
            "epoch 45 | loss: 1086.04336| val_0_rmse: 1083.24652|  0:00:15s\n",
            "epoch 46 | loss: 1049.82788| val_0_rmse: 1102.5988|  0:00:15s\n",
            "epoch 47 | loss: 1050.24967| val_0_rmse: 2832.64156|  0:00:15s\n",
            "epoch 48 | loss: 1079.55991| val_0_rmse: 1188.75111|  0:00:16s\n",
            "epoch 49 | loss: 1032.55549| val_0_rmse: 774.50217|  0:00:16s\n",
            "epoch 50 | loss: 1243.24045| val_0_rmse: 1000.2235|  0:00:16s\n",
            "epoch 51 | loss: 1024.76835| val_0_rmse: 1016.13037|  0:00:16s\n",
            "epoch 52 | loss: 961.69266| val_0_rmse: 1715.57262|  0:00:17s\n",
            "epoch 53 | loss: 1126.23459| val_0_rmse: 1252.82037|  0:00:17s\n",
            "epoch 54 | loss: 955.24083| val_0_rmse: 528.51947|  0:00:17s\n",
            "epoch 55 | loss: 873.41541| val_0_rmse: 619.85041|  0:00:18s\n",
            "epoch 56 | loss: 993.79623| val_0_rmse: 1431.35065|  0:00:18s\n",
            "epoch 57 | loss: 1233.6993| val_0_rmse: 428.138 |  0:00:18s\n",
            "epoch 58 | loss: 1022.93836| val_0_rmse: 1125.86517|  0:00:19s\n",
            "epoch 59 | loss: 1127.28243| val_0_rmse: 532.16783|  0:00:19s\n",
            "epoch 60 | loss: 1216.1286| val_0_rmse: 1959.06392|  0:00:19s\n",
            "epoch 61 | loss: 1021.77763| val_0_rmse: 1519.30346|  0:00:20s\n",
            "epoch 62 | loss: 1051.39611| val_0_rmse: 1294.05571|  0:00:20s\n",
            "epoch 63 | loss: 1046.38175| val_0_rmse: 1392.26641|  0:00:20s\n",
            "epoch 64 | loss: 1141.66201| val_0_rmse: 758.20799|  0:00:21s\n",
            "epoch 65 | loss: 1027.60985| val_0_rmse: 1998.04427|  0:00:21s\n",
            "epoch 66 | loss: 1210.66045| val_0_rmse: 2476.67543|  0:00:21s\n",
            "epoch 67 | loss: 819.11585| val_0_rmse: 955.35153|  0:00:22s\n",
            "epoch 68 | loss: 785.67879| val_0_rmse: 273.5246|  0:00:22s\n",
            "epoch 69 | loss: 1012.90995| val_0_rmse: 657.10532|  0:00:22s\n",
            "epoch 70 | loss: 976.19394| val_0_rmse: 1821.6502|  0:00:23s\n",
            "epoch 71 | loss: 1020.05084| val_0_rmse: 1367.34244|  0:00:23s\n",
            "epoch 72 | loss: 975.55922| val_0_rmse: 503.52247|  0:00:23s\n",
            "epoch 73 | loss: 999.88751| val_0_rmse: 1746.08024|  0:00:24s\n",
            "epoch 74 | loss: 1020.0052| val_0_rmse: 1153.19114|  0:00:24s\n",
            "epoch 75 | loss: 1151.6459| val_0_rmse: 2470.3298|  0:00:24s\n",
            "epoch 76 | loss: 931.20653| val_0_rmse: 1215.88265|  0:00:25s\n",
            "epoch 77 | loss: 1002.72711| val_0_rmse: 3137.85244|  0:00:25s\n",
            "epoch 78 | loss: 957.18269| val_0_rmse: 726.32051|  0:00:25s\n",
            "epoch 79 | loss: 1010.73984| val_0_rmse: 617.18243|  0:00:26s\n",
            "epoch 80 | loss: 1083.05176| val_0_rmse: 466.71262|  0:00:26s\n",
            "epoch 81 | loss: 955.52577| val_0_rmse: 765.79269|  0:00:26s\n",
            "epoch 82 | loss: 890.24052| val_0_rmse: 1164.36947|  0:00:27s\n",
            "epoch 83 | loss: 950.08731| val_0_rmse: 1994.77306|  0:00:27s\n",
            "epoch 84 | loss: 1063.53492| val_0_rmse: 682.58045|  0:00:27s\n",
            "epoch 85 | loss: 930.95398| val_0_rmse: 1674.4135|  0:00:28s\n",
            "epoch 86 | loss: 1033.14685| val_0_rmse: 784.8127|  0:00:28s\n",
            "epoch 87 | loss: 944.67497| val_0_rmse: 911.04797|  0:00:28s\n",
            "epoch 88 | loss: 820.92347| val_0_rmse: 1656.77515|  0:00:29s\n",
            "epoch 89 | loss: 891.6126| val_0_rmse: 2418.38225|  0:00:29s\n",
            "epoch 90 | loss: 948.88329| val_0_rmse: 694.39128|  0:00:29s\n",
            "epoch 91 | loss: 883.03655| val_0_rmse: 1272.04447|  0:00:30s\n",
            "epoch 92 | loss: 916.96259| val_0_rmse: 3030.4508|  0:00:30s\n",
            "epoch 93 | loss: 1130.03461| val_0_rmse: 1600.68115|  0:00:30s\n",
            "epoch 94 | loss: 882.01821| val_0_rmse: 351.93759|  0:00:31s\n",
            "epoch 95 | loss: 993.37242| val_0_rmse: 572.25289|  0:00:31s\n",
            "epoch 96 | loss: 966.90183| val_0_rmse: 891.93367|  0:00:31s\n",
            "epoch 97 | loss: 752.06626| val_0_rmse: 852.67893|  0:00:32s\n",
            "epoch 98 | loss: 906.17603| val_0_rmse: 432.83634|  0:00:32s\n",
            "epoch 99 | loss: 988.53105| val_0_rmse: 1704.85859|  0:00:32s\n",
            "epoch 100| loss: 791.93803| val_0_rmse: 3195.2082|  0:00:33s\n",
            "epoch 101| loss: 827.3178| val_0_rmse: 3075.15443|  0:00:33s\n",
            "epoch 102| loss: 1001.87178| val_0_rmse: 1898.30548|  0:00:33s\n",
            "epoch 103| loss: 863.21853| val_0_rmse: 1078.32485|  0:00:34s\n",
            "epoch 104| loss: 696.66993| val_0_rmse: 317.94375|  0:00:34s\n",
            "epoch 105| loss: 961.55084| val_0_rmse: 794.36796|  0:00:34s\n",
            "epoch 106| loss: 875.18467| val_0_rmse: 723.75986|  0:00:35s\n",
            "epoch 107| loss: 860.50749| val_0_rmse: 670.11475|  0:00:35s\n",
            "epoch 108| loss: 994.5111| val_0_rmse: 1475.24958|  0:00:35s\n",
            "epoch 109| loss: 925.09206| val_0_rmse: 1693.20281|  0:00:36s\n",
            "epoch 110| loss: 1182.81142| val_0_rmse: 1085.98511|  0:00:36s\n",
            "epoch 111| loss: 868.38145| val_0_rmse: 558.22228|  0:00:36s\n",
            "epoch 112| loss: 894.40939| val_0_rmse: 604.40667|  0:00:37s\n",
            "epoch 113| loss: 778.36721| val_0_rmse: 711.25843|  0:00:37s\n",
            "epoch 114| loss: 914.04849| val_0_rmse: 1853.93456|  0:00:37s\n",
            "epoch 115| loss: 1171.13095| val_0_rmse: 1766.49206|  0:00:37s\n",
            "epoch 116| loss: 960.18204| val_0_rmse: 1271.58757|  0:00:38s\n",
            "epoch 117| loss: 856.59586| val_0_rmse: 374.3988|  0:00:38s\n",
            "epoch 118| loss: 795.72472| val_0_rmse: 967.21102|  0:00:38s\n",
            "epoch 119| loss: 845.99771| val_0_rmse: 1663.05781|  0:00:39s\n",
            "epoch 120| loss: 714.42093| val_0_rmse: 1821.91026|  0:00:39s\n",
            "epoch 121| loss: 923.86912| val_0_rmse: 2709.88254|  0:00:39s\n",
            "epoch 122| loss: 649.50639| val_0_rmse: 501.18161|  0:00:40s\n",
            "epoch 123| loss: 656.2344| val_0_rmse: 759.39188|  0:00:40s\n",
            "epoch 124| loss: 770.31202| val_0_rmse: 2213.18895|  0:00:40s\n",
            "epoch 125| loss: 849.7495| val_0_rmse: 1648.45866|  0:00:41s\n",
            "epoch 126| loss: 753.14835| val_0_rmse: 1911.85168|  0:00:41s\n",
            "epoch 127| loss: 836.62125| val_0_rmse: 786.91948|  0:00:41s\n",
            "epoch 128| loss: 739.19819| val_0_rmse: 1031.8384|  0:00:42s\n",
            "epoch 129| loss: 753.24204| val_0_rmse: 1934.90654|  0:00:42s\n",
            "epoch 130| loss: 712.32419| val_0_rmse: 543.97809|  0:00:42s\n",
            "epoch 131| loss: 808.76901| val_0_rmse: 860.01264|  0:00:43s\n",
            "epoch 132| loss: 795.47274| val_0_rmse: 641.38055|  0:00:43s\n",
            "epoch 133| loss: 655.67759| val_0_rmse: 2783.75686|  0:00:43s\n",
            "epoch 134| loss: 904.60535| val_0_rmse: 627.93456|  0:00:44s\n",
            "epoch 135| loss: 694.17548| val_0_rmse: 1007.02204|  0:00:44s\n",
            "epoch 136| loss: 663.30564| val_0_rmse: 684.75167|  0:00:44s\n",
            "epoch 137| loss: 666.6291| val_0_rmse: 2045.74612|  0:00:45s\n",
            "epoch 138| loss: 904.50226| val_0_rmse: 1262.84181|  0:00:45s\n",
            "epoch 139| loss: 688.93062| val_0_rmse: 2189.13012|  0:00:45s\n",
            "epoch 140| loss: 716.70929| val_0_rmse: 380.40007|  0:00:46s\n",
            "epoch 141| loss: 675.73614| val_0_rmse: 707.05279|  0:00:46s\n",
            "epoch 142| loss: 727.37843| val_0_rmse: 683.21442|  0:00:46s\n",
            "epoch 143| loss: 658.63747| val_0_rmse: 1952.75287|  0:00:47s\n",
            "epoch 144| loss: 1095.97488| val_0_rmse: 2980.90999|  0:00:47s\n",
            "epoch 145| loss: 1239.78875| val_0_rmse: 583.3558|  0:00:47s\n",
            "epoch 146| loss: 685.64797| val_0_rmse: 293.54394|  0:00:48s\n",
            "epoch 147| loss: 610.19849| val_0_rmse: 1312.11641|  0:00:48s\n",
            "epoch 148| loss: 858.74327| val_0_rmse: 1345.06019|  0:00:48s\n",
            "epoch 149| loss: 704.65503| val_0_rmse: 1661.38725|  0:00:49s\n",
            "epoch 150| loss: 720.10001| val_0_rmse: 1463.17916|  0:00:49s\n",
            "epoch 151| loss: 708.21034| val_0_rmse: 1143.56902|  0:00:49s\n",
            "epoch 152| loss: 718.92223| val_0_rmse: 1220.51636|  0:00:49s\n",
            "epoch 153| loss: 735.60171| val_0_rmse: 269.21477|  0:00:50s\n",
            "epoch 154| loss: 827.22864| val_0_rmse: 1732.21193|  0:00:50s\n",
            "epoch 155| loss: 743.04969| val_0_rmse: 779.20586|  0:00:51s\n",
            "epoch 156| loss: 561.59607| val_0_rmse: 1080.75297|  0:00:51s\n",
            "epoch 157| loss: 783.03509| val_0_rmse: 2406.39388|  0:00:51s\n",
            "epoch 158| loss: 730.44057| val_0_rmse: 839.28133|  0:00:51s\n",
            "epoch 159| loss: 724.74056| val_0_rmse: 570.50507|  0:00:52s\n",
            "epoch 160| loss: 691.77502| val_0_rmse: 694.11146|  0:00:52s\n",
            "epoch 161| loss: 687.54158| val_0_rmse: 1292.5415|  0:00:52s\n",
            "epoch 162| loss: 841.76807| val_0_rmse: 1610.27744|  0:00:53s\n",
            "epoch 163| loss: 664.86148| val_0_rmse: 1305.85232|  0:00:53s\n",
            "epoch 164| loss: 607.43216| val_0_rmse: 1096.38765|  0:00:53s\n",
            "epoch 165| loss: 687.68522| val_0_rmse: 471.86578|  0:00:54s\n",
            "epoch 166| loss: 764.48634| val_0_rmse: 1432.30534|  0:00:54s\n",
            "epoch 167| loss: 586.81474| val_0_rmse: 1034.47245|  0:00:54s\n",
            "epoch 168| loss: 603.59442| val_0_rmse: 749.1932|  0:00:55s\n",
            "epoch 169| loss: 653.95604| val_0_rmse: 1010.96613|  0:00:55s\n",
            "epoch 170| loss: 673.77557| val_0_rmse: 486.75405|  0:00:55s\n",
            "epoch 171| loss: 686.30328| val_0_rmse: 470.83742|  0:00:56s\n",
            "epoch 172| loss: 648.03866| val_0_rmse: 318.98265|  0:00:56s\n",
            "epoch 173| loss: 559.34644| val_0_rmse: 807.26415|  0:00:56s\n",
            "epoch 174| loss: 598.88651| val_0_rmse: 1016.26098|  0:00:57s\n",
            "epoch 175| loss: 625.38742| val_0_rmse: 664.03321|  0:00:57s\n",
            "epoch 176| loss: 762.15783| val_0_rmse: 792.48149|  0:00:57s\n",
            "epoch 177| loss: 638.33213| val_0_rmse: 739.17807|  0:00:58s\n",
            "epoch 178| loss: 739.72233| val_0_rmse: 963.72436|  0:00:58s\n",
            "epoch 179| loss: 604.21267| val_0_rmse: 1172.69749|  0:00:58s\n",
            "epoch 180| loss: 678.50648| val_0_rmse: 1306.2589|  0:00:59s\n",
            "epoch 181| loss: 730.19376| val_0_rmse: 1042.8117|  0:00:59s\n",
            "epoch 182| loss: 575.9482| val_0_rmse: 697.50373|  0:00:59s\n",
            "epoch 183| loss: 715.61283| val_0_rmse: 778.67068|  0:01:00s\n",
            "epoch 184| loss: 632.63323| val_0_rmse: 825.73881|  0:01:00s\n",
            "epoch 185| loss: 730.80087| val_0_rmse: 658.98325|  0:01:00s\n",
            "epoch 186| loss: 643.99971| val_0_rmse: 983.89316|  0:01:01s\n",
            "epoch 187| loss: 742.1372| val_0_rmse: 872.94688|  0:01:01s\n",
            "epoch 188| loss: 869.8008| val_0_rmse: 963.27469|  0:01:01s\n",
            "epoch 189| loss: 610.76895| val_0_rmse: 1038.37889|  0:01:02s\n",
            "epoch 190| loss: 631.90802| val_0_rmse: 1033.0225|  0:01:02s\n",
            "epoch 191| loss: 669.40349| val_0_rmse: 1051.96043|  0:01:02s\n",
            "epoch 192| loss: 716.24454| val_0_rmse: 836.44888|  0:01:03s\n",
            "epoch 193| loss: 556.34493| val_0_rmse: 712.8488|  0:01:03s\n",
            "epoch 194| loss: 562.51421| val_0_rmse: 696.50354|  0:01:03s\n",
            "epoch 195| loss: 707.78064| val_0_rmse: 1121.06037|  0:01:04s\n",
            "epoch 196| loss: 715.84908| val_0_rmse: 1136.43046|  0:01:04s\n",
            "epoch 197| loss: 689.62639| val_0_rmse: 769.5364|  0:01:04s\n",
            "epoch 198| loss: 586.43469| val_0_rmse: 574.43675|  0:01:05s\n",
            "epoch 199| loss: 757.30351| val_0_rmse: 735.76683|  0:01:05s\n",
            "epoch 200| loss: 687.55176| val_0_rmse: 1026.16817|  0:01:05s\n",
            "epoch 201| loss: 649.11818| val_0_rmse: 987.0765|  0:01:06s\n",
            "epoch 202| loss: 671.46789| val_0_rmse: 809.58606|  0:01:06s\n",
            "epoch 203| loss: 641.17037| val_0_rmse: 490.82273|  0:01:06s\n",
            "epoch 204| loss: 690.37281| val_0_rmse: 612.97676|  0:01:07s\n",
            "epoch 205| loss: 646.46648| val_0_rmse: 761.70948|  0:01:07s\n",
            "epoch 206| loss: 663.11092| val_0_rmse: 1016.34662|  0:01:07s\n",
            "epoch 207| loss: 733.32281| val_0_rmse: 1198.37564|  0:01:08s\n",
            "epoch 208| loss: 608.78415| val_0_rmse: 1048.97521|  0:01:08s\n",
            "epoch 209| loss: 577.29583| val_0_rmse: 899.99671|  0:01:08s\n",
            "epoch 210| loss: 879.82324| val_0_rmse: 806.65712|  0:01:08s\n",
            "epoch 211| loss: 686.43054| val_0_rmse: 634.51969|  0:01:09s\n",
            "epoch 212| loss: 589.73648| val_0_rmse: 444.24784|  0:01:09s\n",
            "epoch 213| loss: 589.42313| val_0_rmse: 600.94659|  0:01:10s\n",
            "epoch 214| loss: 656.43823| val_0_rmse: 802.05142|  0:01:10s\n",
            "epoch 215| loss: 712.47647| val_0_rmse: 919.45989|  0:01:10s\n",
            "epoch 216| loss: 627.99809| val_0_rmse: 841.14625|  0:01:10s\n",
            "epoch 217| loss: 637.66622| val_0_rmse: 782.71933|  0:01:11s\n",
            "epoch 218| loss: 623.238 | val_0_rmse: 625.99267|  0:01:11s\n",
            "epoch 219| loss: 647.54327| val_0_rmse: 849.7763|  0:01:11s\n",
            "epoch 220| loss: 690.79333| val_0_rmse: 942.30351|  0:01:12s\n",
            "epoch 221| loss: 644.57187| val_0_rmse: 918.33605|  0:01:12s\n",
            "epoch 222| loss: 649.18577| val_0_rmse: 854.72585|  0:01:12s\n",
            "epoch 223| loss: 596.08921| val_0_rmse: 579.18845|  0:01:13s\n",
            "epoch 224| loss: 698.64025| val_0_rmse: 828.61643|  0:01:13s\n",
            "epoch 225| loss: 719.71312| val_0_rmse: 1054.38368|  0:01:13s\n",
            "epoch 226| loss: 697.44944| val_0_rmse: 958.92633|  0:01:14s\n",
            "epoch 227| loss: 684.92476| val_0_rmse: 922.86794|  0:01:14s\n",
            "epoch 228| loss: 600.40882| val_0_rmse: 840.03115|  0:01:14s\n",
            "epoch 229| loss: 521.65149| val_0_rmse: 683.70147|  0:01:15s\n",
            "epoch 230| loss: 566.4053| val_0_rmse: 513.72131|  0:01:15s\n",
            "epoch 231| loss: 608.63586| val_0_rmse: 665.12069|  0:01:15s\n",
            "epoch 232| loss: 530.6461| val_0_rmse: 855.19843|  0:01:16s\n",
            "epoch 233| loss: 688.55103| val_0_rmse: 1003.46802|  0:01:16s\n",
            "epoch 234| loss: 581.75444| val_0_rmse: 715.688 |  0:01:16s\n",
            "epoch 235| loss: 606.88579| val_0_rmse: 714.46583|  0:01:17s\n",
            "epoch 236| loss: 523.94473| val_0_rmse: 738.89638|  0:01:17s\n",
            "epoch 237| loss: 615.70177| val_0_rmse: 907.23742|  0:01:17s\n",
            "epoch 238| loss: 627.16348| val_0_rmse: 760.40032|  0:01:18s\n",
            "epoch 239| loss: 589.31389| val_0_rmse: 801.88168|  0:01:18s\n",
            "epoch 240| loss: 508.61754| val_0_rmse: 744.1287|  0:01:18s\n",
            "epoch 241| loss: 693.63839| val_0_rmse: 773.89126|  0:01:19s\n",
            "epoch 242| loss: 648.4201| val_0_rmse: 766.75149|  0:01:19s\n",
            "epoch 243| loss: 741.77207| val_0_rmse: 839.4761|  0:01:19s\n",
            "epoch 244| loss: 588.03488| val_0_rmse: 699.40201|  0:01:20s\n",
            "epoch 245| loss: 643.77284| val_0_rmse: 784.91812|  0:01:20s\n",
            "epoch 246| loss: 627.22055| val_0_rmse: 651.02804|  0:01:20s\n",
            "epoch 247| loss: 566.22021| val_0_rmse: 682.84463|  0:01:21s\n",
            "epoch 248| loss: 537.61247| val_0_rmse: 749.78413|  0:01:21s\n",
            "epoch 249| loss: 694.01087| val_0_rmse: 863.47116|  0:01:21s\n",
            "epoch 250| loss: 635.79076| val_0_rmse: 963.57989|  0:01:21s\n",
            "epoch 251| loss: 593.61305| val_0_rmse: 865.34655|  0:01:22s\n",
            "epoch 252| loss: 637.58064| val_0_rmse: 709.01996|  0:01:22s\n",
            "epoch 253| loss: 659.78022| val_0_rmse: 613.78412|  0:01:22s\n",
            "epoch 254| loss: 630.92955| val_0_rmse: 662.94636|  0:01:23s\n",
            "epoch 255| loss: 654.97217| val_0_rmse: 837.38276|  0:01:23s\n",
            "epoch 256| loss: 674.60894| val_0_rmse: 899.66138|  0:01:23s\n",
            "epoch 257| loss: 615.63969| val_0_rmse: 854.78817|  0:01:24s\n",
            "epoch 258| loss: 614.16575| val_0_rmse: 834.28244|  0:01:24s\n",
            "epoch 259| loss: 644.85316| val_0_rmse: 802.31684|  0:01:24s\n",
            "epoch 260| loss: 652.10361| val_0_rmse: 884.48061|  0:01:25s\n",
            "epoch 261| loss: 543.20969| val_0_rmse: 890.40853|  0:01:25s\n",
            "epoch 262| loss: 542.58097| val_0_rmse: 754.12584|  0:01:25s\n",
            "epoch 263| loss: 692.97981| val_0_rmse: 876.32366|  0:01:26s\n",
            "epoch 264| loss: 742.85151| val_0_rmse: 883.00713|  0:01:26s\n",
            "epoch 265| loss: 658.84051| val_0_rmse: 864.98951|  0:01:26s\n",
            "epoch 266| loss: 697.64505| val_0_rmse: 923.68497|  0:01:27s\n",
            "epoch 267| loss: 603.38603| val_0_rmse: 795.92228|  0:01:27s\n",
            "epoch 268| loss: 608.70209| val_0_rmse: 800.37272|  0:01:27s\n",
            "epoch 269| loss: 571.39687| val_0_rmse: 768.82035|  0:01:28s\n",
            "epoch 270| loss: 659.25033| val_0_rmse: 833.19779|  0:01:28s\n",
            "epoch 271| loss: 619.55815| val_0_rmse: 825.41916|  0:01:28s\n",
            "epoch 272| loss: 562.4479| val_0_rmse: 804.14553|  0:01:29s\n",
            "epoch 273| loss: 676.54113| val_0_rmse: 933.2382|  0:01:29s\n",
            "epoch 274| loss: 554.16433| val_0_rmse: 773.05774|  0:01:29s\n",
            "epoch 275| loss: 595.97684| val_0_rmse: 735.79935|  0:01:29s\n",
            "epoch 276| loss: 590.11908| val_0_rmse: 785.93849|  0:01:30s\n",
            "epoch 277| loss: 730.26947| val_0_rmse: 792.01651|  0:01:30s\n",
            "epoch 278| loss: 652.14268| val_0_rmse: 942.26797|  0:01:30s\n",
            "epoch 279| loss: 676.80825| val_0_rmse: 747.22137|  0:01:31s\n",
            "epoch 280| loss: 651.50329| val_0_rmse: 732.66597|  0:01:31s\n",
            "epoch 281| loss: 677.69813| val_0_rmse: 798.66427|  0:01:31s\n",
            "epoch 282| loss: 713.02005| val_0_rmse: 803.98659|  0:01:32s\n",
            "epoch 283| loss: 735.66748| val_0_rmse: 909.19103|  0:01:32s\n",
            "epoch 284| loss: 606.91314| val_0_rmse: 824.90634|  0:01:32s\n",
            "epoch 285| loss: 673.44901| val_0_rmse: 930.824 |  0:01:33s\n",
            "epoch 286| loss: 632.47607| val_0_rmse: 941.49846|  0:01:33s\n",
            "epoch 287| loss: 635.57694| val_0_rmse: 819.90896|  0:01:33s\n",
            "epoch 288| loss: 581.04002| val_0_rmse: 872.21457|  0:01:34s\n",
            "epoch 289| loss: 841.56514| val_0_rmse: 961.75522|  0:01:34s\n",
            "epoch 290| loss: 606.07037| val_0_rmse: 903.40937|  0:01:34s\n",
            "epoch 291| loss: 685.32481| val_0_rmse: 850.19462|  0:01:35s\n",
            "epoch 292| loss: 608.32438| val_0_rmse: 779.78668|  0:01:35s\n",
            "epoch 293| loss: 656.1049| val_0_rmse: 895.74045|  0:01:35s\n",
            "epoch 294| loss: 615.83444| val_0_rmse: 774.05542|  0:01:36s\n",
            "epoch 295| loss: 616.73077| val_0_rmse: 761.7971|  0:01:36s\n",
            "epoch 296| loss: 534.19808| val_0_rmse: 852.88929|  0:01:36s\n",
            "epoch 297| loss: 588.04239| val_0_rmse: 807.10139|  0:01:37s\n",
            "epoch 298| loss: 621.56352| val_0_rmse: 842.4037|  0:01:37s\n",
            "epoch 299| loss: 673.51926| val_0_rmse: 893.81118|  0:01:37s\n",
            "epoch 300| loss: 704.5639| val_0_rmse: 923.23966|  0:01:38s\n",
            "epoch 301| loss: 529.72723| val_0_rmse: 790.2869|  0:01:38s\n",
            "epoch 302| loss: 668.05417| val_0_rmse: 773.92455|  0:01:38s\n",
            "epoch 303| loss: 763.00622| val_0_rmse: 913.31936|  0:01:39s\n",
            "epoch 304| loss: 739.50499| val_0_rmse: 931.71867|  0:01:39s\n",
            "epoch 305| loss: 507.82615| val_0_rmse: 789.21263|  0:01:39s\n",
            "epoch 306| loss: 606.11607| val_0_rmse: 760.1402|  0:01:40s\n",
            "epoch 307| loss: 612.74664| val_0_rmse: 745.4184|  0:01:40s\n",
            "epoch 308| loss: 633.77292| val_0_rmse: 754.54149|  0:01:40s\n",
            "epoch 309| loss: 631.52411| val_0_rmse: 745.58076|  0:01:41s\n",
            "epoch 310| loss: 718.85119| val_0_rmse: 920.50404|  0:01:41s\n",
            "epoch 311| loss: 630.62939| val_0_rmse: 822.7101|  0:01:41s\n",
            "epoch 312| loss: 594.23688| val_0_rmse: 769.45466|  0:01:42s\n",
            "epoch 313| loss: 684.54023| val_0_rmse: 936.96747|  0:01:42s\n",
            "epoch 314| loss: 704.86774| val_0_rmse: 995.92536|  0:01:42s\n",
            "epoch 315| loss: 478.77709| val_0_rmse: 817.10039|  0:01:43s\n",
            "epoch 316| loss: 674.61845| val_0_rmse: 887.12379|  0:01:43s\n",
            "epoch 317| loss: 723.53747| val_0_rmse: 894.02364|  0:01:43s\n",
            "epoch 318| loss: 631.27734| val_0_rmse: 793.93243|  0:01:44s\n",
            "epoch 319| loss: 678.14411| val_0_rmse: 884.38037|  0:01:44s\n",
            "epoch 320| loss: 638.18084| val_0_rmse: 833.03109|  0:01:44s\n",
            "epoch 321| loss: 634.05803| val_0_rmse: 837.61618|  0:01:45s\n",
            "epoch 322| loss: 591.56643| val_0_rmse: 853.32489|  0:01:45s\n",
            "epoch 323| loss: 639.17998| val_0_rmse: 838.03485|  0:01:45s\n",
            "epoch 324| loss: 595.91438| val_0_rmse: 800.09765|  0:01:46s\n",
            "epoch 325| loss: 648.78792| val_0_rmse: 900.56996|  0:01:46s\n",
            "epoch 326| loss: 511.91412| val_0_rmse: 693.3009|  0:01:46s\n",
            "epoch 327| loss: 591.45231| val_0_rmse: 828.78456|  0:01:47s\n",
            "epoch 328| loss: 661.83948| val_0_rmse: 961.4829|  0:01:47s\n",
            "epoch 329| loss: 571.95642| val_0_rmse: 803.46553|  0:01:47s\n",
            "epoch 330| loss: 616.71178| val_0_rmse: 798.34631|  0:01:48s\n",
            "epoch 331| loss: 579.62023| val_0_rmse: 808.17572|  0:01:48s\n",
            "epoch 332| loss: 668.3341| val_0_rmse: 928.17702|  0:01:48s\n",
            "epoch 333| loss: 693.7509| val_0_rmse: 933.8369|  0:01:49s\n",
            "epoch 334| loss: 636.97938| val_0_rmse: 876.11979|  0:01:49s\n",
            "epoch 335| loss: 774.29929| val_0_rmse: 898.8715|  0:01:49s\n",
            "epoch 336| loss: 607.2768| val_0_rmse: 936.27224|  0:01:50s\n",
            "epoch 337| loss: 688.80398| val_0_rmse: 865.70791|  0:01:50s\n",
            "epoch 338| loss: 558.84119| val_0_rmse: 789.20271|  0:01:50s\n",
            "epoch 339| loss: 616.97116| val_0_rmse: 885.10725|  0:01:51s\n",
            "epoch 340| loss: 702.06919| val_0_rmse: 938.05358|  0:01:51s\n",
            "epoch 341| loss: 599.08949| val_0_rmse: 769.49847|  0:01:51s\n",
            "epoch 342| loss: 634.95877| val_0_rmse: 885.22415|  0:01:52s\n",
            "epoch 343| loss: 563.88217| val_0_rmse: 793.85532|  0:01:52s\n",
            "epoch 344| loss: 627.29334| val_0_rmse: 730.3468|  0:01:52s\n",
            "epoch 345| loss: 632.13732| val_0_rmse: 787.25765|  0:01:52s\n",
            "epoch 346| loss: 716.68168| val_0_rmse: 929.28762|  0:01:53s\n",
            "epoch 347| loss: 557.68958| val_0_rmse: 837.71005|  0:01:53s\n",
            "epoch 348| loss: 535.2286| val_0_rmse: 833.30299|  0:01:53s\n",
            "epoch 349| loss: 587.18246| val_0_rmse: 867.66121|  0:01:54s\n",
            "epoch 350| loss: 640.82979| val_0_rmse: 914.75443|  0:01:54s\n",
            "epoch 351| loss: 596.00324| val_0_rmse: 902.36442|  0:01:54s\n",
            "epoch 352| loss: 758.72884| val_0_rmse: 1060.29621|  0:01:55s\n",
            "epoch 353| loss: 708.81901| val_0_rmse: 1015.05587|  0:01:55s\n",
            "epoch 354| loss: 727.19638| val_0_rmse: 980.33031|  0:01:55s\n",
            "epoch 355| loss: 536.41927| val_0_rmse: 703.67459|  0:01:56s\n",
            "epoch 356| loss: 632.50849| val_0_rmse: 682.69041|  0:01:56s\n",
            "epoch 357| loss: 655.70405| val_0_rmse: 790.00559|  0:01:56s\n",
            "epoch 358| loss: 577.02314| val_0_rmse: 834.95917|  0:01:57s\n",
            "epoch 359| loss: 679.31845| val_0_rmse: 924.12866|  0:01:57s\n",
            "epoch 360| loss: 598.90748| val_0_rmse: 717.87419|  0:01:57s\n",
            "epoch 361| loss: 633.20257| val_0_rmse: 889.85698|  0:01:58s\n",
            "epoch 362| loss: 592.23585| val_0_rmse: 779.77696|  0:01:58s\n",
            "epoch 363| loss: 646.83985| val_0_rmse: 806.11963|  0:01:58s\n",
            "epoch 364| loss: 623.13284| val_0_rmse: 784.51586|  0:01:59s\n",
            "epoch 365| loss: 619.19234| val_0_rmse: 773.65607|  0:01:59s\n",
            "epoch 366| loss: 586.7416| val_0_rmse: 729.44596|  0:01:59s\n",
            "epoch 367| loss: 623.4382| val_0_rmse: 780.96067|  0:02:00s\n",
            "epoch 368| loss: 602.33024| val_0_rmse: 814.64434|  0:02:00s\n",
            "epoch 369| loss: 595.49955| val_0_rmse: 826.06534|  0:02:00s\n",
            "epoch 370| loss: 701.30351| val_0_rmse: 986.98688|  0:02:01s\n",
            "epoch 371| loss: 617.91532| val_0_rmse: 901.82476|  0:02:01s\n",
            "epoch 372| loss: 646.8438| val_0_rmse: 870.75244|  0:02:01s\n",
            "epoch 373| loss: 701.97185| val_0_rmse: 833.52565|  0:02:02s\n",
            "epoch 374| loss: 654.21728| val_0_rmse: 872.7599|  0:02:02s\n",
            "epoch 375| loss: 635.04553| val_0_rmse: 864.64937|  0:02:02s\n",
            "epoch 376| loss: 608.67277| val_0_rmse: 814.10488|  0:02:03s\n",
            "epoch 377| loss: 708.84631| val_0_rmse: 869.18742|  0:02:03s\n",
            "epoch 378| loss: 592.60806| val_0_rmse: 857.76325|  0:02:03s\n",
            "epoch 379| loss: 624.75615| val_0_rmse: 893.19586|  0:02:04s\n",
            "epoch 380| loss: 663.316 | val_0_rmse: 789.28374|  0:02:04s\n",
            "epoch 381| loss: 682.85168| val_0_rmse: 842.74373|  0:02:04s\n",
            "epoch 382| loss: 583.52365| val_0_rmse: 792.14863|  0:02:04s\n",
            "epoch 383| loss: 603.3215| val_0_rmse: 797.24732|  0:02:05s\n",
            "epoch 384| loss: 643.85557| val_0_rmse: 744.84791|  0:02:05s\n",
            "epoch 385| loss: 685.69005| val_0_rmse: 875.24594|  0:02:06s\n",
            "epoch 386| loss: 610.27685| val_0_rmse: 881.63249|  0:02:06s\n",
            "epoch 387| loss: 596.9058| val_0_rmse: 764.22809|  0:02:06s\n",
            "epoch 388| loss: 676.10544| val_0_rmse: 808.09853|  0:02:07s\n",
            "epoch 389| loss: 600.48163| val_0_rmse: 721.51776|  0:02:07s\n",
            "epoch 390| loss: 682.03957| val_0_rmse: 818.69819|  0:02:07s\n",
            "epoch 391| loss: 640.47204| val_0_rmse: 868.56535|  0:02:07s\n",
            "epoch 392| loss: 637.21986| val_0_rmse: 884.63039|  0:02:08s\n",
            "epoch 393| loss: 617.41466| val_0_rmse: 910.26574|  0:02:08s\n",
            "epoch 394| loss: 659.35516| val_0_rmse: 852.58136|  0:02:08s\n",
            "epoch 395| loss: 563.59685| val_0_rmse: 828.29569|  0:02:09s\n",
            "epoch 396| loss: 623.87709| val_0_rmse: 870.28384|  0:02:09s\n",
            "epoch 397| loss: 620.52426| val_0_rmse: 750.31266|  0:02:09s\n",
            "epoch 398| loss: 564.57325| val_0_rmse: 872.87429|  0:02:10s\n",
            "epoch 399| loss: 598.30348| val_0_rmse: 844.64581|  0:02:10s\n",
            "epoch 400| loss: 592.87029| val_0_rmse: 818.39859|  0:02:10s\n",
            "epoch 401| loss: 656.5562| val_0_rmse: 896.82915|  0:02:11s\n",
            "epoch 402| loss: 695.44346| val_0_rmse: 858.73438|  0:02:11s\n",
            "epoch 403| loss: 577.9875| val_0_rmse: 808.62597|  0:02:11s\n",
            "epoch 404| loss: 693.82384| val_0_rmse: 873.7176|  0:02:12s\n",
            "epoch 405| loss: 615.93248| val_0_rmse: 736.89518|  0:02:12s\n",
            "epoch 406| loss: 732.33569| val_0_rmse: 876.66089|  0:02:12s\n",
            "epoch 407| loss: 604.76919| val_0_rmse: 886.06102|  0:02:13s\n",
            "epoch 408| loss: 640.75427| val_0_rmse: 751.23081|  0:02:13s\n",
            "epoch 409| loss: 664.71146| val_0_rmse: 756.66825|  0:02:13s\n",
            "epoch 410| loss: 725.76448| val_0_rmse: 875.85614|  0:02:14s\n",
            "epoch 411| loss: 693.8325| val_0_rmse: 857.5247|  0:02:14s\n",
            "epoch 412| loss: 721.22253| val_0_rmse: 882.22373|  0:02:14s\n",
            "epoch 413| loss: 623.06052| val_0_rmse: 851.87262|  0:02:15s\n",
            "epoch 414| loss: 620.14478| val_0_rmse: 791.59267|  0:02:15s\n",
            "epoch 415| loss: 686.81944| val_0_rmse: 760.91097|  0:02:15s\n",
            "epoch 416| loss: 636.88745| val_0_rmse: 854.73483|  0:02:16s\n",
            "epoch 417| loss: 720.35892| val_0_rmse: 914.81682|  0:02:16s\n",
            "epoch 418| loss: 624.02816| val_0_rmse: 905.40542|  0:02:16s\n",
            "epoch 419| loss: 626.06127| val_0_rmse: 818.84895|  0:02:17s\n",
            "epoch 420| loss: 563.10335| val_0_rmse: 784.81559|  0:02:17s\n",
            "epoch 421| loss: 502.63541| val_0_rmse: 662.37839|  0:02:17s\n",
            "epoch 422| loss: 618.9571| val_0_rmse: 744.22406|  0:02:18s\n",
            "epoch 423| loss: 624.42972| val_0_rmse: 827.31691|  0:02:18s\n",
            "epoch 424| loss: 630.27896| val_0_rmse: 875.77563|  0:02:18s\n",
            "epoch 425| loss: 638.87292| val_0_rmse: 963.54465|  0:02:19s\n",
            "epoch 426| loss: 563.0647| val_0_rmse: 826.94368|  0:02:19s\n",
            "epoch 427| loss: 659.77691| val_0_rmse: 801.64509|  0:02:19s\n",
            "epoch 428| loss: 631.62959| val_0_rmse: 871.12957|  0:02:20s\n",
            "epoch 429| loss: 705.49845| val_0_rmse: 831.02839|  0:02:20s\n",
            "epoch 430| loss: 663.37498| val_0_rmse: 841.21267|  0:02:20s\n",
            "epoch 431| loss: 610.23862| val_0_rmse: 771.83087|  0:02:21s\n",
            "epoch 432| loss: 634.57347| val_0_rmse: 795.67669|  0:02:21s\n",
            "epoch 433| loss: 799.18753| val_0_rmse: 883.36005|  0:02:21s\n",
            "epoch 434| loss: 715.48067| val_0_rmse: 867.04198|  0:02:22s\n",
            "epoch 435| loss: 561.69036| val_0_rmse: 883.8357|  0:02:22s\n",
            "epoch 436| loss: 720.70297| val_0_rmse: 944.35951|  0:02:22s\n",
            "epoch 437| loss: 611.07695| val_0_rmse: 814.41547|  0:02:23s\n",
            "epoch 438| loss: 610.80349| val_0_rmse: 862.70325|  0:02:23s\n",
            "epoch 439| loss: 635.55859| val_0_rmse: 868.80574|  0:02:23s\n",
            "epoch 440| loss: 632.50201| val_0_rmse: 780.10286|  0:02:23s\n",
            "epoch 441| loss: 606.14988| val_0_rmse: 801.17976|  0:02:24s\n",
            "epoch 442| loss: 640.09874| val_0_rmse: 870.93862|  0:02:24s\n",
            "epoch 443| loss: 629.69876| val_0_rmse: 854.27369|  0:02:24s\n",
            "epoch 444| loss: 657.94391| val_0_rmse: 826.1386|  0:02:25s\n",
            "epoch 445| loss: 626.63351| val_0_rmse: 751.17038|  0:02:25s\n",
            "epoch 446| loss: 629.2315| val_0_rmse: 832.12683|  0:02:26s\n",
            "epoch 447| loss: 677.93623| val_0_rmse: 826.77104|  0:02:26s\n",
            "epoch 448| loss: 583.5286| val_0_rmse: 810.20513|  0:02:26s\n",
            "epoch 449| loss: 673.41178| val_0_rmse: 827.1757|  0:02:26s\n",
            "epoch 450| loss: 580.8493| val_0_rmse: 753.65502|  0:02:27s\n",
            "epoch 451| loss: 571.45372| val_0_rmse: 833.42302|  0:02:27s\n",
            "epoch 452| loss: 638.74695| val_0_rmse: 892.65048|  0:02:27s\n",
            "epoch 453| loss: 653.83  | val_0_rmse: 797.75712|  0:02:28s\n",
            "epoch 454| loss: 659.61164| val_0_rmse: 830.70415|  0:02:28s\n",
            "epoch 455| loss: 658.88046| val_0_rmse: 810.98442|  0:02:28s\n",
            "epoch 456| loss: 714.58604| val_0_rmse: 821.98657|  0:02:29s\n",
            "epoch 457| loss: 546.12119| val_0_rmse: 836.67177|  0:02:29s\n",
            "epoch 458| loss: 623.0132| val_0_rmse: 739.56405|  0:02:29s\n",
            "epoch 459| loss: 726.48769| val_0_rmse: 697.12039|  0:02:30s\n",
            "epoch 460| loss: 644.32227| val_0_rmse: 806.6029|  0:02:30s\n",
            "epoch 461| loss: 548.79692| val_0_rmse: 694.26271|  0:02:30s\n",
            "epoch 462| loss: 679.05121| val_0_rmse: 875.31619|  0:02:31s\n",
            "epoch 463| loss: 731.10261| val_0_rmse: 933.01594|  0:02:31s\n",
            "epoch 464| loss: 540.87479| val_0_rmse: 794.18028|  0:02:31s\n",
            "epoch 465| loss: 635.52941| val_0_rmse: 866.14156|  0:02:32s\n",
            "epoch 466| loss: 619.98887| val_0_rmse: 771.87808|  0:02:32s\n",
            "epoch 467| loss: 802.98857| val_0_rmse: 939.02134|  0:02:32s\n",
            "epoch 468| loss: 641.00724| val_0_rmse: 929.72282|  0:02:33s\n",
            "epoch 469| loss: 556.88513| val_0_rmse: 939.6745|  0:02:33s\n",
            "epoch 470| loss: 684.13484| val_0_rmse: 885.01557|  0:02:33s\n",
            "epoch 471| loss: 615.27049| val_0_rmse: 847.57251|  0:02:34s\n",
            "epoch 472| loss: 643.78176| val_0_rmse: 809.795 |  0:02:34s\n",
            "epoch 473| loss: 584.74349| val_0_rmse: 857.03104|  0:02:34s\n",
            "epoch 474| loss: 554.93719| val_0_rmse: 754.05675|  0:02:35s\n",
            "epoch 475| loss: 658.32865| val_0_rmse: 809.45976|  0:02:35s\n",
            "epoch 476| loss: 555.36442| val_0_rmse: 751.64629|  0:02:35s\n",
            "epoch 477| loss: 618.89578| val_0_rmse: 756.88188|  0:02:36s\n",
            "epoch 478| loss: 663.20538| val_0_rmse: 833.46991|  0:02:36s\n",
            "epoch 479| loss: 591.42686| val_0_rmse: 806.57901|  0:02:36s\n",
            "epoch 480| loss: 598.50462| val_0_rmse: 812.83459|  0:02:36s\n",
            "epoch 481| loss: 665.08416| val_0_rmse: 820.33898|  0:02:37s\n",
            "epoch 482| loss: 607.06775| val_0_rmse: 858.98682|  0:02:37s\n",
            "epoch 483| loss: 645.46275| val_0_rmse: 857.79667|  0:02:38s\n",
            "epoch 484| loss: 652.35003| val_0_rmse: 845.65378|  0:02:38s\n",
            "epoch 485| loss: 552.50943| val_0_rmse: 829.86297|  0:02:38s\n",
            "epoch 486| loss: 703.41056| val_0_rmse: 810.98604|  0:02:38s\n",
            "epoch 487| loss: 495.95592| val_0_rmse: 729.6242|  0:02:39s\n",
            "epoch 488| loss: 604.21425| val_0_rmse: 797.90604|  0:02:39s\n",
            "epoch 489| loss: 685.2489| val_0_rmse: 800.3271|  0:02:39s\n",
            "epoch 490| loss: 601.63803| val_0_rmse: 812.56778|  0:02:40s\n",
            "epoch 491| loss: 666.14288| val_0_rmse: 945.9116|  0:02:40s\n",
            "epoch 492| loss: 577.51837| val_0_rmse: 804.27101|  0:02:40s\n",
            "epoch 493| loss: 603.45326| val_0_rmse: 815.51193|  0:02:41s\n",
            "epoch 494| loss: 586.72253| val_0_rmse: 767.23301|  0:02:41s\n",
            "epoch 495| loss: 527.75941| val_0_rmse: 698.20773|  0:02:41s\n",
            "epoch 496| loss: 577.90281| val_0_rmse: 835.88323|  0:02:42s\n",
            "epoch 497| loss: 618.09879| val_0_rmse: 796.81467|  0:02:42s\n",
            "epoch 498| loss: 696.82005| val_0_rmse: 854.34995|  0:02:42s\n",
            "epoch 499| loss: 727.05933| val_0_rmse: 916.25607|  0:02:43s\n",
            "epoch 500| loss: 547.61071| val_0_rmse: 810.95855|  0:02:43s\n",
            "epoch 501| loss: 684.40904| val_0_rmse: 805.98701|  0:02:43s\n",
            "epoch 502| loss: 619.99804| val_0_rmse: 798.56421|  0:02:44s\n",
            "epoch 503| loss: 736.6762| val_0_rmse: 922.79297|  0:02:44s\n",
            "epoch 504| loss: 538.39113| val_0_rmse: 833.07848|  0:02:44s\n",
            "epoch 505| loss: 618.2415| val_0_rmse: 837.61263|  0:02:45s\n",
            "epoch 506| loss: 577.1689| val_0_rmse: 802.29606|  0:02:45s\n",
            "epoch 507| loss: 728.17697| val_0_rmse: 885.57899|  0:02:45s\n",
            "epoch 508| loss: 609.54267| val_0_rmse: 760.98435|  0:02:46s\n",
            "epoch 509| loss: 664.66729| val_0_rmse: 781.82119|  0:02:46s\n",
            "epoch 510| loss: 647.59828| val_0_rmse: 941.35495|  0:02:46s\n",
            "epoch 511| loss: 589.22063| val_0_rmse: 814.00232|  0:02:47s\n",
            "epoch 512| loss: 650.12905| val_0_rmse: 788.11516|  0:02:47s\n",
            "epoch 513| loss: 602.41104| val_0_rmse: 897.16308|  0:02:47s\n",
            "epoch 514| loss: 563.21575| val_0_rmse: 878.03657|  0:02:48s\n",
            "epoch 515| loss: 681.26362| val_0_rmse: 907.807 |  0:02:48s\n",
            "epoch 516| loss: 641.73963| val_0_rmse: 971.91303|  0:02:48s\n",
            "epoch 517| loss: 614.60923| val_0_rmse: 840.44606|  0:02:49s\n",
            "epoch 518| loss: 608.46478| val_0_rmse: 886.7337|  0:02:49s\n",
            "epoch 519| loss: 556.49442| val_0_rmse: 733.23613|  0:02:49s\n",
            "epoch 520| loss: 573.41321| val_0_rmse: 723.93251|  0:02:50s\n",
            "epoch 521| loss: 598.99786| val_0_rmse: 786.12253|  0:02:50s\n",
            "epoch 522| loss: 606.38857| val_0_rmse: 891.97917|  0:02:50s\n",
            "epoch 523| loss: 645.54786| val_0_rmse: 920.37069|  0:02:51s\n",
            "epoch 524| loss: 707.57367| val_0_rmse: 998.11728|  0:02:51s\n",
            "epoch 525| loss: 581.57559| val_0_rmse: 817.97298|  0:02:51s\n",
            "epoch 526| loss: 644.02537| val_0_rmse: 908.43207|  0:02:52s\n",
            "epoch 527| loss: 560.96699| val_0_rmse: 914.32263|  0:02:52s\n",
            "epoch 528| loss: 545.2848| val_0_rmse: 778.54009|  0:02:52s\n",
            "epoch 529| loss: 665.84576| val_0_rmse: 823.10963|  0:02:53s\n",
            "epoch 530| loss: 696.02818| val_0_rmse: 823.39911|  0:02:53s\n",
            "epoch 531| loss: 631.76508| val_0_rmse: 728.68406|  0:02:53s\n",
            "epoch 532| loss: 681.10156| val_0_rmse: 938.7774|  0:02:54s\n",
            "epoch 533| loss: 668.44143| val_0_rmse: 865.19223|  0:02:54s\n",
            "epoch 534| loss: 718.12018| val_0_rmse: 844.74059|  0:02:54s\n",
            "epoch 535| loss: 656.70846| val_0_rmse: 789.17395|  0:02:55s\n",
            "epoch 536| loss: 631.7241| val_0_rmse: 830.81647|  0:02:55s\n",
            "epoch 537| loss: 641.63881| val_0_rmse: 871.93985|  0:02:55s\n",
            "epoch 538| loss: 603.37827| val_0_rmse: 822.35992|  0:02:56s\n",
            "epoch 539| loss: 646.0931| val_0_rmse: 742.38786|  0:02:56s\n",
            "epoch 540| loss: 659.30639| val_0_rmse: 803.49375|  0:02:56s\n",
            "epoch 541| loss: 677.78004| val_0_rmse: 914.49419|  0:02:57s\n",
            "epoch 542| loss: 516.39587| val_0_rmse: 749.56863|  0:02:57s\n",
            "epoch 543| loss: 594.81364| val_0_rmse: 871.77559|  0:02:57s\n",
            "epoch 544| loss: 744.36789| val_0_rmse: 886.30928|  0:02:58s\n",
            "epoch 545| loss: 650.7092| val_0_rmse: 805.58671|  0:02:58s\n",
            "epoch 546| loss: 519.29046| val_0_rmse: 705.3801|  0:02:58s\n",
            "epoch 547| loss: 621.44618| val_0_rmse: 854.0153|  0:02:59s\n",
            "epoch 548| loss: 669.6966| val_0_rmse: 889.94916|  0:02:59s\n",
            "epoch 549| loss: 586.32722| val_0_rmse: 863.66973|  0:02:59s\n",
            "epoch 550| loss: 692.09796| val_0_rmse: 895.3411|  0:02:59s\n",
            "epoch 551| loss: 685.83525| val_0_rmse: 893.95024|  0:03:00s\n",
            "epoch 552| loss: 631.65179| val_0_rmse: 891.76112|  0:03:00s\n",
            "epoch 553| loss: 590.00582| val_0_rmse: 856.3819|  0:03:01s\n",
            "epoch 554| loss: 666.03301| val_0_rmse: 875.5319|  0:03:01s\n",
            "epoch 555| loss: 650.423 | val_0_rmse: 808.61661|  0:03:01s\n",
            "epoch 556| loss: 646.72206| val_0_rmse: 801.24211|  0:03:01s\n",
            "epoch 557| loss: 741.10922| val_0_rmse: 1030.22011|  0:03:02s\n",
            "epoch 558| loss: 664.90197| val_0_rmse: 992.14754|  0:03:02s\n",
            "epoch 559| loss: 569.61862| val_0_rmse: 776.18693|  0:03:02s\n",
            "epoch 560| loss: 703.86035| val_0_rmse: 855.67678|  0:03:03s\n",
            "epoch 561| loss: 638.35141| val_0_rmse: 770.66516|  0:03:03s\n",
            "epoch 562| loss: 595.1932| val_0_rmse: 774.76484|  0:03:03s\n",
            "epoch 563| loss: 607.87903| val_0_rmse: 801.41103|  0:03:04s\n",
            "epoch 564| loss: 642.27327| val_0_rmse: 828.27012|  0:03:04s\n",
            "epoch 565| loss: 698.97928| val_0_rmse: 773.90413|  0:03:04s\n",
            "epoch 566| loss: 664.49525| val_0_rmse: 884.81414|  0:03:05s\n",
            "epoch 567| loss: 568.10835| val_0_rmse: 823.41631|  0:03:05s\n",
            "epoch 568| loss: 649.95576| val_0_rmse: 895.76794|  0:03:05s\n",
            "epoch 569| loss: 657.35582| val_0_rmse: 919.4699|  0:03:06s\n",
            "epoch 570| loss: 637.07085| val_0_rmse: 927.61749|  0:03:06s\n",
            "epoch 571| loss: 680.41523| val_0_rmse: 939.17534|  0:03:06s\n",
            "epoch 572| loss: 610.04658| val_0_rmse: 836.3388|  0:03:07s\n",
            "epoch 573| loss: 572.49802| val_0_rmse: 824.28379|  0:03:07s\n",
            "epoch 574| loss: 608.35036| val_0_rmse: 797.04229|  0:03:07s\n",
            "epoch 575| loss: 717.10673| val_0_rmse: 865.75969|  0:03:08s\n",
            "epoch 576| loss: 699.60754| val_0_rmse: 923.4922|  0:03:08s\n",
            "epoch 577| loss: 640.75191| val_0_rmse: 792.78857|  0:03:08s\n",
            "epoch 578| loss: 565.4341| val_0_rmse: 801.83206|  0:03:09s\n",
            "epoch 579| loss: 655.31268| val_0_rmse: 804.43563|  0:03:09s\n",
            "epoch 580| loss: 604.47237| val_0_rmse: 772.31992|  0:03:09s\n",
            "epoch 581| loss: 631.90427| val_0_rmse: 758.93941|  0:03:10s\n",
            "epoch 582| loss: 648.59091| val_0_rmse: 847.15695|  0:03:10s\n",
            "epoch 583| loss: 658.97042| val_0_rmse: 824.16638|  0:03:10s\n",
            "epoch 584| loss: 559.86908| val_0_rmse: 770.95888|  0:03:11s\n",
            "epoch 585| loss: 630.57688| val_0_rmse: 745.24375|  0:03:11s\n",
            "epoch 586| loss: 811.1134| val_0_rmse: 923.59035|  0:03:11s\n",
            "epoch 587| loss: 442.70387| val_0_rmse: 655.12602|  0:03:12s\n",
            "epoch 588| loss: 657.14495| val_0_rmse: 784.45496|  0:03:12s\n",
            "epoch 589| loss: 702.91866| val_0_rmse: 779.42489|  0:03:12s\n",
            "epoch 590| loss: 702.92998| val_0_rmse: 860.38143|  0:03:13s\n",
            "epoch 591| loss: 550.12501| val_0_rmse: 837.93551|  0:03:13s\n",
            "epoch 592| loss: 601.23064| val_0_rmse: 813.27252|  0:03:13s\n",
            "epoch 593| loss: 618.92219| val_0_rmse: 753.95672|  0:03:14s\n",
            "epoch 594| loss: 603.08981| val_0_rmse: 673.26213|  0:03:14s\n",
            "epoch 595| loss: 620.1782| val_0_rmse: 740.38469|  0:03:14s\n",
            "epoch 596| loss: 624.45392| val_0_rmse: 700.11618|  0:03:15s\n",
            "epoch 597| loss: 650.54722| val_0_rmse: 877.26872|  0:03:15s\n",
            "epoch 598| loss: 672.34876| val_0_rmse: 843.54955|  0:03:15s\n",
            "epoch 599| loss: 623.95686| val_0_rmse: 779.9139|  0:03:16s\n",
            "epoch 600| loss: 601.78742| val_0_rmse: 794.01044|  0:03:16s\n",
            "epoch 601| loss: 582.00597| val_0_rmse: 842.97832|  0:03:16s\n",
            "epoch 602| loss: 719.24893| val_0_rmse: 945.36356|  0:03:17s\n",
            "epoch 603| loss: 582.61305| val_0_rmse: 808.10799|  0:03:17s\n",
            "epoch 604| loss: 671.06453| val_0_rmse: 878.67458|  0:03:17s\n",
            "epoch 605| loss: 532.25981| val_0_rmse: 706.93265|  0:03:18s\n",
            "epoch 606| loss: 589.96779| val_0_rmse: 735.03226|  0:03:18s\n",
            "epoch 607| loss: 639.3516| val_0_rmse: 840.97079|  0:03:18s\n",
            "epoch 608| loss: 565.99608| val_0_rmse: 813.62981|  0:03:18s\n",
            "epoch 609| loss: 562.34334| val_0_rmse: 925.67547|  0:03:19s\n",
            "epoch 610| loss: 631.49621| val_0_rmse: 801.37947|  0:03:19s\n",
            "epoch 611| loss: 679.35512| val_0_rmse: 944.66055|  0:03:20s\n",
            "epoch 612| loss: 636.62629| val_0_rmse: 795.7097|  0:03:20s\n",
            "epoch 613| loss: 556.3659| val_0_rmse: 738.00538|  0:03:20s\n",
            "epoch 614| loss: 653.36231| val_0_rmse: 823.14851|  0:03:20s\n",
            "epoch 615| loss: 631.29432| val_0_rmse: 834.03206|  0:03:21s\n",
            "epoch 616| loss: 686.38841| val_0_rmse: 919.62425|  0:03:21s\n",
            "epoch 617| loss: 579.22164| val_0_rmse: 804.478 |  0:03:21s\n",
            "epoch 618| loss: 702.68851| val_0_rmse: 848.90246|  0:03:22s\n",
            "epoch 619| loss: 586.02103| val_0_rmse: 726.94889|  0:03:22s\n",
            "epoch 620| loss: 680.67536| val_0_rmse: 812.11878|  0:03:22s\n",
            "epoch 621| loss: 651.64503| val_0_rmse: 889.79025|  0:03:23s\n",
            "epoch 622| loss: 688.84645| val_0_rmse: 942.77167|  0:03:23s\n",
            "epoch 623| loss: 604.96061| val_0_rmse: 819.40867|  0:03:23s\n",
            "epoch 624| loss: 641.07116| val_0_rmse: 900.46072|  0:03:24s\n",
            "epoch 625| loss: 666.62448| val_0_rmse: 842.33257|  0:03:24s\n",
            "epoch 626| loss: 532.17407| val_0_rmse: 755.49645|  0:03:24s\n",
            "epoch 627| loss: 625.47458| val_0_rmse: 772.98817|  0:03:25s\n",
            "epoch 628| loss: 605.43004| val_0_rmse: 831.18288|  0:03:25s\n",
            "epoch 629| loss: 704.15481| val_0_rmse: 927.43195|  0:03:25s\n",
            "epoch 630| loss: 651.95155| val_0_rmse: 822.96995|  0:03:26s\n",
            "epoch 631| loss: 662.89265| val_0_rmse: 848.00755|  0:03:26s\n",
            "epoch 632| loss: 578.91643| val_0_rmse: 779.64335|  0:03:26s\n",
            "epoch 633| loss: 686.82375| val_0_rmse: 913.83091|  0:03:27s\n",
            "epoch 634| loss: 653.77472| val_0_rmse: 897.83018|  0:03:27s\n",
            "epoch 635| loss: 608.00632| val_0_rmse: 909.13318|  0:03:27s\n",
            "epoch 636| loss: 698.12195| val_0_rmse: 871.84831|  0:03:28s\n",
            "epoch 637| loss: 609.07258| val_0_rmse: 807.60435|  0:03:28s\n",
            "epoch 638| loss: 707.41239| val_0_rmse: 837.9203|  0:03:28s\n",
            "epoch 639| loss: 615.32666| val_0_rmse: 770.86554|  0:03:29s\n",
            "epoch 640| loss: 628.55071| val_0_rmse: 792.43875|  0:03:29s\n",
            "epoch 641| loss: 572.92239| val_0_rmse: 699.32591|  0:03:29s\n"
          ]
        },
        {
          "ename": "KeyboardInterrupt",
          "evalue": "ignored",
          "output_type": "error",
          "traceback": [
            "\u001b[0;31m---------------------------------------------------------------------------\u001b[0m",
            "\u001b[0;31mKeyboardInterrupt\u001b[0m                         Traceback (most recent call last)",
            "\u001b[0;32m<ipython-input-64-cacafe65364a>\u001b[0m in \u001b[0;36m<module>\u001b[0;34m()\u001b[0m\n\u001b[1;32m     48\u001b[0m   \u001b[0mdrop_last\u001b[0m\u001b[0;34m=\u001b[0m\u001b[0;32mFalse\u001b[0m\u001b[0;34m,\u001b[0m\u001b[0;34m\u001b[0m\u001b[0;34m\u001b[0m\u001b[0m\n\u001b[1;32m     49\u001b[0m   \u001b[0mpatience\u001b[0m\u001b[0;34m=\u001b[0m\u001b[0;36m500\u001b[0m\u001b[0;34m,\u001b[0m\u001b[0;34m\u001b[0m\u001b[0;34m\u001b[0m\u001b[0m\n\u001b[0;32m---> 50\u001b[0;31m   \u001b[0mloss_fn\u001b[0m\u001b[0;34m=\u001b[0m\u001b[0mcriterion\u001b[0m\u001b[0;34m\u001b[0m\u001b[0;34m\u001b[0m\u001b[0m\n\u001b[0m\u001b[1;32m     51\u001b[0m )\n",
            "\u001b[0;32m/usr/local/lib/python3.7/dist-packages/pytorch_tabnet/abstract_model.py\u001b[0m in \u001b[0;36mfit\u001b[0;34m(self, X_train, y_train, eval_set, eval_name, eval_metric, loss_fn, weights, max_epochs, patience, batch_size, virtual_batch_size, num_workers, drop_last, callbacks, pin_memory, from_unsupervised)\u001b[0m\n\u001b[1;32m    221\u001b[0m             \u001b[0mself\u001b[0m\u001b[0;34m.\u001b[0m\u001b[0m_callback_container\u001b[0m\u001b[0;34m.\u001b[0m\u001b[0mon_epoch_begin\u001b[0m\u001b[0;34m(\u001b[0m\u001b[0mepoch_idx\u001b[0m\u001b[0;34m)\u001b[0m\u001b[0;34m\u001b[0m\u001b[0;34m\u001b[0m\u001b[0m\n\u001b[1;32m    222\u001b[0m \u001b[0;34m\u001b[0m\u001b[0m\n\u001b[0;32m--> 223\u001b[0;31m             \u001b[0mself\u001b[0m\u001b[0;34m.\u001b[0m\u001b[0m_train_epoch\u001b[0m\u001b[0;34m(\u001b[0m\u001b[0mtrain_dataloader\u001b[0m\u001b[0;34m)\u001b[0m\u001b[0;34m\u001b[0m\u001b[0;34m\u001b[0m\u001b[0m\n\u001b[0m\u001b[1;32m    224\u001b[0m \u001b[0;34m\u001b[0m\u001b[0m\n\u001b[1;32m    225\u001b[0m             \u001b[0;31m# Apply predict epoch to all eval sets\u001b[0m\u001b[0;34m\u001b[0m\u001b[0;34m\u001b[0m\u001b[0;34m\u001b[0m\u001b[0m\n",
            "\u001b[0;32m/usr/local/lib/python3.7/dist-packages/pytorch_tabnet/abstract_model.py\u001b[0m in \u001b[0;36m_train_epoch\u001b[0;34m(self, train_loader)\u001b[0m\n\u001b[1;32m    432\u001b[0m             \u001b[0mself\u001b[0m\u001b[0;34m.\u001b[0m\u001b[0m_callback_container\u001b[0m\u001b[0;34m.\u001b[0m\u001b[0mon_batch_begin\u001b[0m\u001b[0;34m(\u001b[0m\u001b[0mbatch_idx\u001b[0m\u001b[0;34m)\u001b[0m\u001b[0;34m\u001b[0m\u001b[0;34m\u001b[0m\u001b[0m\n\u001b[1;32m    433\u001b[0m \u001b[0;34m\u001b[0m\u001b[0m\n\u001b[0;32m--> 434\u001b[0;31m             \u001b[0mbatch_logs\u001b[0m \u001b[0;34m=\u001b[0m \u001b[0mself\u001b[0m\u001b[0;34m.\u001b[0m\u001b[0m_train_batch\u001b[0m\u001b[0;34m(\u001b[0m\u001b[0mX\u001b[0m\u001b[0;34m,\u001b[0m \u001b[0my\u001b[0m\u001b[0;34m)\u001b[0m\u001b[0;34m\u001b[0m\u001b[0;34m\u001b[0m\u001b[0m\n\u001b[0m\u001b[1;32m    435\u001b[0m \u001b[0;34m\u001b[0m\u001b[0m\n\u001b[1;32m    436\u001b[0m             \u001b[0mself\u001b[0m\u001b[0;34m.\u001b[0m\u001b[0m_callback_container\u001b[0m\u001b[0;34m.\u001b[0m\u001b[0mon_batch_end\u001b[0m\u001b[0;34m(\u001b[0m\u001b[0mbatch_idx\u001b[0m\u001b[0;34m,\u001b[0m \u001b[0mbatch_logs\u001b[0m\u001b[0;34m)\u001b[0m\u001b[0;34m\u001b[0m\u001b[0;34m\u001b[0m\u001b[0m\n",
            "\u001b[0;32m/usr/local/lib/python3.7/dist-packages/pytorch_tabnet/abstract_model.py\u001b[0m in \u001b[0;36m_train_batch\u001b[0;34m(self, X, y)\u001b[0m\n\u001b[1;32m    474\u001b[0m \u001b[0;34m\u001b[0m\u001b[0m\n\u001b[1;32m    475\u001b[0m         \u001b[0;31m# Perform backward pass and optimization\u001b[0m\u001b[0;34m\u001b[0m\u001b[0;34m\u001b[0m\u001b[0;34m\u001b[0m\u001b[0m\n\u001b[0;32m--> 476\u001b[0;31m         \u001b[0mloss\u001b[0m\u001b[0;34m.\u001b[0m\u001b[0mbackward\u001b[0m\u001b[0;34m(\u001b[0m\u001b[0;34m)\u001b[0m\u001b[0;34m\u001b[0m\u001b[0;34m\u001b[0m\u001b[0m\n\u001b[0m\u001b[1;32m    477\u001b[0m         \u001b[0;32mif\u001b[0m \u001b[0mself\u001b[0m\u001b[0;34m.\u001b[0m\u001b[0mclip_value\u001b[0m\u001b[0;34m:\u001b[0m\u001b[0;34m\u001b[0m\u001b[0;34m\u001b[0m\u001b[0m\n\u001b[1;32m    478\u001b[0m             \u001b[0mclip_grad_norm_\u001b[0m\u001b[0;34m(\u001b[0m\u001b[0mself\u001b[0m\u001b[0;34m.\u001b[0m\u001b[0mnetwork\u001b[0m\u001b[0;34m.\u001b[0m\u001b[0mparameters\u001b[0m\u001b[0;34m(\u001b[0m\u001b[0;34m)\u001b[0m\u001b[0;34m,\u001b[0m \u001b[0mself\u001b[0m\u001b[0;34m.\u001b[0m\u001b[0mclip_value\u001b[0m\u001b[0;34m)\u001b[0m\u001b[0;34m\u001b[0m\u001b[0;34m\u001b[0m\u001b[0m\n",
            "\u001b[0;32m/usr/local/lib/python3.7/dist-packages/torch/_tensor.py\u001b[0m in \u001b[0;36mbackward\u001b[0;34m(self, gradient, retain_graph, create_graph, inputs)\u001b[0m\n\u001b[1;32m    253\u001b[0m                 \u001b[0mcreate_graph\u001b[0m\u001b[0;34m=\u001b[0m\u001b[0mcreate_graph\u001b[0m\u001b[0;34m,\u001b[0m\u001b[0;34m\u001b[0m\u001b[0;34m\u001b[0m\u001b[0m\n\u001b[1;32m    254\u001b[0m                 inputs=inputs)\n\u001b[0;32m--> 255\u001b[0;31m         \u001b[0mtorch\u001b[0m\u001b[0;34m.\u001b[0m\u001b[0mautograd\u001b[0m\u001b[0;34m.\u001b[0m\u001b[0mbackward\u001b[0m\u001b[0;34m(\u001b[0m\u001b[0mself\u001b[0m\u001b[0;34m,\u001b[0m \u001b[0mgradient\u001b[0m\u001b[0;34m,\u001b[0m \u001b[0mretain_graph\u001b[0m\u001b[0;34m,\u001b[0m \u001b[0mcreate_graph\u001b[0m\u001b[0;34m,\u001b[0m \u001b[0minputs\u001b[0m\u001b[0;34m=\u001b[0m\u001b[0minputs\u001b[0m\u001b[0;34m)\u001b[0m\u001b[0;34m\u001b[0m\u001b[0;34m\u001b[0m\u001b[0m\n\u001b[0m\u001b[1;32m    256\u001b[0m \u001b[0;34m\u001b[0m\u001b[0m\n\u001b[1;32m    257\u001b[0m     \u001b[0;32mdef\u001b[0m \u001b[0mregister_hook\u001b[0m\u001b[0;34m(\u001b[0m\u001b[0mself\u001b[0m\u001b[0;34m,\u001b[0m \u001b[0mhook\u001b[0m\u001b[0;34m)\u001b[0m\u001b[0;34m:\u001b[0m\u001b[0;34m\u001b[0m\u001b[0;34m\u001b[0m\u001b[0m\n",
            "\u001b[0;32m/usr/local/lib/python3.7/dist-packages/torch/autograd/__init__.py\u001b[0m in \u001b[0;36mbackward\u001b[0;34m(tensors, grad_tensors, retain_graph, create_graph, grad_variables, inputs)\u001b[0m\n\u001b[1;32m    147\u001b[0m     Variable._execution_engine.run_backward(\n\u001b[1;32m    148\u001b[0m         \u001b[0mtensors\u001b[0m\u001b[0;34m,\u001b[0m \u001b[0mgrad_tensors_\u001b[0m\u001b[0;34m,\u001b[0m \u001b[0mretain_graph\u001b[0m\u001b[0;34m,\u001b[0m \u001b[0mcreate_graph\u001b[0m\u001b[0;34m,\u001b[0m \u001b[0minputs\u001b[0m\u001b[0;34m,\u001b[0m\u001b[0;34m\u001b[0m\u001b[0;34m\u001b[0m\u001b[0m\n\u001b[0;32m--> 149\u001b[0;31m         allow_unreachable=True, accumulate_grad=True)  # allow_unreachable flag\n\u001b[0m\u001b[1;32m    150\u001b[0m \u001b[0;34m\u001b[0m\u001b[0m\n\u001b[1;32m    151\u001b[0m \u001b[0;34m\u001b[0m\u001b[0m\n",
            "\u001b[0;31mKeyboardInterrupt\u001b[0m: "
          ]
        }
      ],
      "source": [
        "from pytorch_tabnet.tab_model import TabNetRegressor\n",
        "import torch.nn as nn\n",
        "import torch\n",
        "\n",
        "#criterion = torch.nn.MSELoss()\n",
        "criterion = nn.L1Loss()\n",
        "\n",
        "# class RMSELoss(nn.Module):\n",
        "#     def __init__(self, eps=1e-8):\n",
        "#         super().__init__()\n",
        "#         self.mse = nn.MSELoss()\n",
        "#         self.eps = eps\n",
        "        \n",
        "#     def forward(self,yhat,y):\n",
        "#         loss = torch.sqrt(self.mse(yhat,y) + self.eps)\n",
        "#         return loss\n",
        "\n",
        "# criterion = RMSELoss()\n",
        "\n",
        "clf = TabNetRegressor(\n",
        "    optimizer_fn=torch.optim.SGD,\n",
        "    optimizer_params=dict(lr=9e-1, momentum=0.9, weight_decay=5e-4, nesterov =True), # 7 -> 250\n",
        "    scheduler_params={\"patience\":10, \"factor\":0.7}, # 5, 0.7\n",
        "    #n_steps=3,\n",
        "    lambda_sparse=1e-4,\n",
        "    scheduler_fn=torch.optim.lr_scheduler.ReduceLROnPlateau, mask_type='entmax' \n",
        "    #scheduler_fn=torch.optim.lr_scheduler.StepLR, mask_type='entmax' # StepLR\n",
        ")  \n",
        "\n",
        "# scheduler_params={\"step_size\":10, # how to use learning rate scheduler\n",
        "#                     \"gamma\":0.7},\n",
        "\n",
        "# y_train_net = y_delete.values.reshape(-1, 1)\n",
        "# X_train_net = X_delete.values\n",
        "\n",
        "y_train_net = y_delete.values.reshape(-1, 1)\n",
        "X_train_net = X_scaled\n",
        "\n",
        "# y_train_net = y_train.values.reshape(-1, 1)\n",
        "# X_train_net = X_train.values\n",
        "\n",
        "clf.fit(\n",
        "  X_train_net, y_train_net,\n",
        "  eval_set=[(X_train_net, y_train_net)],\n",
        "  eval_metric=['rmse'],\n",
        "  max_epochs=2000,\n",
        "  batch_size=1024*2, virtual_batch_size=128,\n",
        "  drop_last=False,\n",
        "  patience=500,\n",
        "  loss_fn=criterion\n",
        ")"
      ]
    },
    {
      "cell_type": "code",
      "execution_count": null,
      "metadata": {
        "colab": {
          "base_uri": "https://localhost:8080/"
        },
        "id": "V3VOSTTHC2FZ",
        "outputId": "51f66d66-457c-4891-f3c2-44fef28934df"
      },
      "outputs": [
        {
          "data": {
            "text/plain": [
              "TabNetRegressor(n_d=8, n_a=8, n_steps=3, gamma=1.3, cat_idxs=[], cat_dims=[], cat_emb_dim=1, n_independent=2, n_shared=2, epsilon=1e-15, momentum=0.02, lambda_sparse=0.0001, seed=0, clip_value=1, verbose=1, optimizer_fn=<class 'torch.optim.adam.Adam'>, optimizer_params={'lr': 0.07}, scheduler_fn=<class 'torch.optim.lr_scheduler.ReduceLROnPlateau'>, scheduler_params={'patience': 5, 'factor': 0.5}, mask_type='entmax', input_dim=44, output_dim=1, device_name='auto')"
            ]
          },
          "execution_count": 62,
          "metadata": {},
          "output_type": "execute_result"
        }
      ],
      "source": [
        "clf"
      ]
    },
    {
      "cell_type": "code",
      "execution_count": null,
      "metadata": {
        "id": "xsEEngIFCnE3"
      },
      "outputs": [],
      "source": [
        "# save tabnet model\n",
        "saving_path_name = \"./tabnet_model_test_1\"\n",
        "saved_filepath = clf.save_model(saving_path_name)\n",
        "\n",
        "# define new model with basic parameters and load state dict weights\n",
        "loaded_clf = TabNetRegressor(\n",
        "    optimizer_params=dict(lr=7e-2), # 7 -> 250\n",
        "    scheduler_params={\"patience\":5, \"factor\":0.5}, # 0.7\n",
        "    #n_steps=3,\n",
        "    lambda_sparse=1e-4,\n",
        "    scheduler_fn=torch.optim.lr_scheduler.ReduceLROnPlateau, mask_type='entmax' \n",
        "    #scheduler_fn=torch.optim.lr_scheduler.StepLR, mask_type='entmax' # StepLR\n",
        ")  \n",
        "\n",
        "loaded_clf.load_model(saved_filepath)"
      ]
    },
    {
      "cell_type": "code",
      "execution_count": null,
      "metadata": {
        "colab": {
          "base_uri": "https://localhost:8080/"
        },
        "id": "BwqRElLXk4bY",
        "outputId": "6b06f90b-72cf-4bac-a608-8f5f7b371b16"
      },
      "outputs": [
        {
          "data": {
            "text/plain": [
              "252.5939150788076"
            ]
          },
          "execution_count": 79,
          "metadata": {},
          "output_type": "execute_result"
        }
      ],
      "source": [
        "preds = clf.predict(X_test.values)\n",
        "\n",
        "from sklearn.metrics import mean_squared_error\n",
        "mean_squared_error(preds, y_test.values, squared=False)"
      ]
    },
    {
      "cell_type": "code",
      "execution_count": null,
      "metadata": {
        "id": "6DQnT_GzRZRT"
      },
      "outputs": [],
      "source": [
        "# from pytorch_tabnet.pretraining import TabNetPretrainer\n",
        "# from pytorch_tabnet.tab_model import TabNetRegressor\n",
        "# import torch\n",
        "\n",
        "# unsupervised_model = TabNetPretrainer(\n",
        "#     optimizer_fn=torch.optim.Adam,\n",
        "   \n",
        "#     mask_type='entmax', # \"sparsemax\",\n",
        "    \n",
        "    \n",
        "# )\n",
        "\n",
        "# unsupervised_model.fit(\n",
        "#     X_train=X_train_net,\n",
        "#     eval_set=[X_train_net],\n",
        "#     pretraining_ratio=0.8,\n",
        "#     drop_last=False,\n",
        "#     batch_size=2048, virtual_batch_size=128,\n",
        "# )\n",
        "\n",
        "# clf = TabNetRegressor()  \n",
        "\n",
        "# clf.fit(\n",
        "#   X_train_net, y_train_net,\n",
        "#   eval_set=[(X_train_net, y_train_net)],\n",
        "#   eval_metric=['rmse'],\n",
        "#   from_unsupervised=unsupervised_model,\n",
        "#    max_epochs=2000\n",
        "# )"
      ]
    },
    {
      "cell_type": "code",
      "execution_count": null,
      "metadata": {
        "colab": {
          "base_uri": "https://localhost:8080/",
          "height": 316
        },
        "id": "gsWGVjPxSfrC",
        "outputId": "52053179-38b0-419e-da50-7512cb4d8e70"
      },
      "outputs": [
        {
          "ename": "RuntimeError",
          "evalue": "ignored",
          "output_type": "error",
          "traceback": [
            "\u001b[0;31m---------------------------------------------------------------------------\u001b[0m",
            "\u001b[0;31mRuntimeError\u001b[0m                              Traceback (most recent call last)",
            "\u001b[0;32m<ipython-input-31-08e7c2fd1e80>\u001b[0m in \u001b[0;36m<module>\u001b[0;34m()\u001b[0m\n\u001b[0;32m----> 1\u001b[0;31m \u001b[0munsupervised_model\u001b[0m\u001b[0;34m.\u001b[0m\u001b[0mpredict\u001b[0m\u001b[0;34m(\u001b[0m\u001b[0mX_test\u001b[0m\u001b[0;34m.\u001b[0m\u001b[0mvalues\u001b[0m\u001b[0;34m)\u001b[0m\u001b[0;34m\u001b[0m\u001b[0;34m\u001b[0m\u001b[0m\n\u001b[0m",
            "\u001b[0;32m/usr/local/lib/python3.7/dist-packages/pytorch_tabnet/pretraining.py\u001b[0m in \u001b[0;36mpredict\u001b[0;34m(self, X)\u001b[0m\n\u001b[1;32m    399\u001b[0m         \u001b[0;32mfor\u001b[0m \u001b[0mbatch_nb\u001b[0m\u001b[0;34m,\u001b[0m \u001b[0mdata\u001b[0m \u001b[0;32min\u001b[0m \u001b[0menumerate\u001b[0m\u001b[0;34m(\u001b[0m\u001b[0mdataloader\u001b[0m\u001b[0;34m)\u001b[0m\u001b[0;34m:\u001b[0m\u001b[0;34m\u001b[0m\u001b[0;34m\u001b[0m\u001b[0m\n\u001b[1;32m    400\u001b[0m             \u001b[0mdata\u001b[0m \u001b[0;34m=\u001b[0m \u001b[0mdata\u001b[0m\u001b[0;34m.\u001b[0m\u001b[0mto\u001b[0m\u001b[0;34m(\u001b[0m\u001b[0mself\u001b[0m\u001b[0;34m.\u001b[0m\u001b[0mdevice\u001b[0m\u001b[0;34m)\u001b[0m\u001b[0;34m.\u001b[0m\u001b[0mfloat\u001b[0m\u001b[0;34m(\u001b[0m\u001b[0;34m)\u001b[0m\u001b[0;34m\u001b[0m\u001b[0;34m\u001b[0m\u001b[0m\n\u001b[0;32m--> 401\u001b[0;31m             \u001b[0moutput\u001b[0m\u001b[0;34m,\u001b[0m \u001b[0membeded_x\u001b[0m\u001b[0;34m,\u001b[0m \u001b[0m_\u001b[0m \u001b[0;34m=\u001b[0m \u001b[0mself\u001b[0m\u001b[0;34m.\u001b[0m\u001b[0mnetwork\u001b[0m\u001b[0;34m(\u001b[0m\u001b[0mdata\u001b[0m\u001b[0;34m)\u001b[0m\u001b[0;34m\u001b[0m\u001b[0;34m\u001b[0m\u001b[0m\n\u001b[0m\u001b[1;32m    402\u001b[0m             \u001b[0mpredictions\u001b[0m \u001b[0;34m=\u001b[0m \u001b[0moutput\u001b[0m\u001b[0;34m.\u001b[0m\u001b[0mcpu\u001b[0m\u001b[0;34m(\u001b[0m\u001b[0;34m)\u001b[0m\u001b[0;34m.\u001b[0m\u001b[0mdetach\u001b[0m\u001b[0;34m(\u001b[0m\u001b[0;34m)\u001b[0m\u001b[0;34m.\u001b[0m\u001b[0mnumpy\u001b[0m\u001b[0;34m(\u001b[0m\u001b[0;34m)\u001b[0m\u001b[0;34m\u001b[0m\u001b[0;34m\u001b[0m\u001b[0m\n\u001b[1;32m    403\u001b[0m             \u001b[0mresults\u001b[0m\u001b[0;34m.\u001b[0m\u001b[0mappend\u001b[0m\u001b[0;34m(\u001b[0m\u001b[0mpredictions\u001b[0m\u001b[0;34m)\u001b[0m\u001b[0;34m\u001b[0m\u001b[0;34m\u001b[0m\u001b[0m\n",
            "\u001b[0;32m/usr/local/lib/python3.7/dist-packages/torch/nn/modules/module.py\u001b[0m in \u001b[0;36m_call_impl\u001b[0;34m(self, *input, **kwargs)\u001b[0m\n\u001b[1;32m   1049\u001b[0m         if not (self._backward_hooks or self._forward_hooks or self._forward_pre_hooks or _global_backward_hooks\n\u001b[1;32m   1050\u001b[0m                 or _global_forward_hooks or _global_forward_pre_hooks):\n\u001b[0;32m-> 1051\u001b[0;31m             \u001b[0;32mreturn\u001b[0m \u001b[0mforward_call\u001b[0m\u001b[0;34m(\u001b[0m\u001b[0;34m*\u001b[0m\u001b[0minput\u001b[0m\u001b[0;34m,\u001b[0m \u001b[0;34m**\u001b[0m\u001b[0mkwargs\u001b[0m\u001b[0;34m)\u001b[0m\u001b[0;34m\u001b[0m\u001b[0;34m\u001b[0m\u001b[0m\n\u001b[0m\u001b[1;32m   1052\u001b[0m         \u001b[0;31m# Do not call functions when jit is used\u001b[0m\u001b[0;34m\u001b[0m\u001b[0;34m\u001b[0m\u001b[0;34m\u001b[0m\u001b[0m\n\u001b[1;32m   1053\u001b[0m         \u001b[0mfull_backward_hooks\u001b[0m\u001b[0;34m,\u001b[0m \u001b[0mnon_full_backward_hooks\u001b[0m \u001b[0;34m=\u001b[0m \u001b[0;34m[\u001b[0m\u001b[0;34m]\u001b[0m\u001b[0;34m,\u001b[0m \u001b[0;34m[\u001b[0m\u001b[0;34m]\u001b[0m\u001b[0;34m\u001b[0m\u001b[0;34m\u001b[0m\u001b[0m\n",
            "\u001b[0;32m/usr/local/lib/python3.7/dist-packages/pytorch_tabnet/tab_network.py\u001b[0m in \u001b[0;36mforward\u001b[0;34m(self, x)\u001b[0m\n\u001b[1;32m    368\u001b[0m             \u001b[0;32mreturn\u001b[0m \u001b[0mres\u001b[0m\u001b[0;34m,\u001b[0m \u001b[0membedded_x\u001b[0m\u001b[0;34m,\u001b[0m \u001b[0mobf_vars\u001b[0m\u001b[0;34m\u001b[0m\u001b[0;34m\u001b[0m\u001b[0m\n\u001b[1;32m    369\u001b[0m         \u001b[0;32melse\u001b[0m\u001b[0;34m:\u001b[0m\u001b[0;34m\u001b[0m\u001b[0;34m\u001b[0m\u001b[0m\n\u001b[0;32m--> 370\u001b[0;31m             \u001b[0msteps_out\u001b[0m\u001b[0;34m,\u001b[0m \u001b[0m_\u001b[0m \u001b[0;34m=\u001b[0m \u001b[0mself\u001b[0m\u001b[0;34m.\u001b[0m\u001b[0mencoder\u001b[0m\u001b[0;34m(\u001b[0m\u001b[0membedded_x\u001b[0m\u001b[0;34m)\u001b[0m\u001b[0;34m\u001b[0m\u001b[0;34m\u001b[0m\u001b[0m\n\u001b[0m\u001b[1;32m    371\u001b[0m             \u001b[0mres\u001b[0m \u001b[0;34m=\u001b[0m \u001b[0mself\u001b[0m\u001b[0;34m.\u001b[0m\u001b[0mdecoder\u001b[0m\u001b[0;34m(\u001b[0m\u001b[0msteps_out\u001b[0m\u001b[0;34m)\u001b[0m\u001b[0;34m\u001b[0m\u001b[0;34m\u001b[0m\u001b[0m\n\u001b[1;32m    372\u001b[0m             \u001b[0;32mreturn\u001b[0m \u001b[0mres\u001b[0m\u001b[0;34m,\u001b[0m \u001b[0membedded_x\u001b[0m\u001b[0;34m,\u001b[0m \u001b[0mtorch\u001b[0m\u001b[0;34m.\u001b[0m\u001b[0mones\u001b[0m\u001b[0;34m(\u001b[0m\u001b[0membedded_x\u001b[0m\u001b[0;34m.\u001b[0m\u001b[0mshape\u001b[0m\u001b[0;34m)\u001b[0m\u001b[0;34m.\u001b[0m\u001b[0mto\u001b[0m\u001b[0;34m(\u001b[0m\u001b[0mx\u001b[0m\u001b[0;34m.\u001b[0m\u001b[0mdevice\u001b[0m\u001b[0;34m)\u001b[0m\u001b[0;34m\u001b[0m\u001b[0;34m\u001b[0m\u001b[0m\n",
            "\u001b[0;32m/usr/local/lib/python3.7/dist-packages/torch/nn/modules/module.py\u001b[0m in \u001b[0;36m_call_impl\u001b[0;34m(self, *input, **kwargs)\u001b[0m\n\u001b[1;32m   1049\u001b[0m         if not (self._backward_hooks or self._forward_hooks or self._forward_pre_hooks or _global_backward_hooks\n\u001b[1;32m   1050\u001b[0m                 or _global_forward_hooks or _global_forward_pre_hooks):\n\u001b[0;32m-> 1051\u001b[0;31m             \u001b[0;32mreturn\u001b[0m \u001b[0mforward_call\u001b[0m\u001b[0;34m(\u001b[0m\u001b[0;34m*\u001b[0m\u001b[0minput\u001b[0m\u001b[0;34m,\u001b[0m \u001b[0;34m**\u001b[0m\u001b[0mkwargs\u001b[0m\u001b[0;34m)\u001b[0m\u001b[0;34m\u001b[0m\u001b[0;34m\u001b[0m\u001b[0m\n\u001b[0m\u001b[1;32m   1052\u001b[0m         \u001b[0;31m# Do not call functions when jit is used\u001b[0m\u001b[0;34m\u001b[0m\u001b[0;34m\u001b[0m\u001b[0;34m\u001b[0m\u001b[0m\n\u001b[1;32m   1053\u001b[0m         \u001b[0mfull_backward_hooks\u001b[0m\u001b[0;34m,\u001b[0m \u001b[0mnon_full_backward_hooks\u001b[0m \u001b[0;34m=\u001b[0m \u001b[0;34m[\u001b[0m\u001b[0;34m]\u001b[0m\u001b[0;34m,\u001b[0m \u001b[0;34m[\u001b[0m\u001b[0;34m]\u001b[0m\u001b[0;34m\u001b[0m\u001b[0;34m\u001b[0m\u001b[0m\n",
            "\u001b[0;32m/usr/local/lib/python3.7/dist-packages/pytorch_tabnet/tab_network.py\u001b[0m in \u001b[0;36mforward\u001b[0;34m(self, x, prior)\u001b[0m\n\u001b[1;32m    148\u001b[0m \u001b[0;34m\u001b[0m\u001b[0m\n\u001b[1;32m    149\u001b[0m     \u001b[0;32mdef\u001b[0m \u001b[0mforward\u001b[0m\u001b[0;34m(\u001b[0m\u001b[0mself\u001b[0m\u001b[0;34m,\u001b[0m \u001b[0mx\u001b[0m\u001b[0;34m,\u001b[0m \u001b[0mprior\u001b[0m\u001b[0;34m=\u001b[0m\u001b[0;32mNone\u001b[0m\u001b[0;34m)\u001b[0m\u001b[0;34m:\u001b[0m\u001b[0;34m\u001b[0m\u001b[0;34m\u001b[0m\u001b[0m\n\u001b[0;32m--> 150\u001b[0;31m         \u001b[0mx\u001b[0m \u001b[0;34m=\u001b[0m \u001b[0mself\u001b[0m\u001b[0;34m.\u001b[0m\u001b[0minitial_bn\u001b[0m\u001b[0;34m(\u001b[0m\u001b[0mx\u001b[0m\u001b[0;34m)\u001b[0m\u001b[0;34m\u001b[0m\u001b[0;34m\u001b[0m\u001b[0m\n\u001b[0m\u001b[1;32m    151\u001b[0m \u001b[0;34m\u001b[0m\u001b[0m\n\u001b[1;32m    152\u001b[0m         \u001b[0;32mif\u001b[0m \u001b[0mprior\u001b[0m \u001b[0;32mis\u001b[0m \u001b[0;32mNone\u001b[0m\u001b[0;34m:\u001b[0m\u001b[0;34m\u001b[0m\u001b[0;34m\u001b[0m\u001b[0m\n",
            "\u001b[0;32m/usr/local/lib/python3.7/dist-packages/torch/nn/modules/module.py\u001b[0m in \u001b[0;36m_call_impl\u001b[0;34m(self, *input, **kwargs)\u001b[0m\n\u001b[1;32m   1049\u001b[0m         if not (self._backward_hooks or self._forward_hooks or self._forward_pre_hooks or _global_backward_hooks\n\u001b[1;32m   1050\u001b[0m                 or _global_forward_hooks or _global_forward_pre_hooks):\n\u001b[0;32m-> 1051\u001b[0;31m             \u001b[0;32mreturn\u001b[0m \u001b[0mforward_call\u001b[0m\u001b[0;34m(\u001b[0m\u001b[0;34m*\u001b[0m\u001b[0minput\u001b[0m\u001b[0;34m,\u001b[0m \u001b[0;34m**\u001b[0m\u001b[0mkwargs\u001b[0m\u001b[0;34m)\u001b[0m\u001b[0;34m\u001b[0m\u001b[0;34m\u001b[0m\u001b[0m\n\u001b[0m\u001b[1;32m   1052\u001b[0m         \u001b[0;31m# Do not call functions when jit is used\u001b[0m\u001b[0;34m\u001b[0m\u001b[0;34m\u001b[0m\u001b[0;34m\u001b[0m\u001b[0m\n\u001b[1;32m   1053\u001b[0m         \u001b[0mfull_backward_hooks\u001b[0m\u001b[0;34m,\u001b[0m \u001b[0mnon_full_backward_hooks\u001b[0m \u001b[0;34m=\u001b[0m \u001b[0;34m[\u001b[0m\u001b[0;34m]\u001b[0m\u001b[0;34m,\u001b[0m \u001b[0;34m[\u001b[0m\u001b[0;34m]\u001b[0m\u001b[0;34m\u001b[0m\u001b[0;34m\u001b[0m\u001b[0m\n",
            "\u001b[0;32m/usr/local/lib/python3.7/dist-packages/torch/nn/modules/batchnorm.py\u001b[0m in \u001b[0;36mforward\u001b[0;34m(self, input)\u001b[0m\n\u001b[1;32m    176\u001b[0m             \u001b[0mbn_training\u001b[0m\u001b[0;34m,\u001b[0m\u001b[0;34m\u001b[0m\u001b[0;34m\u001b[0m\u001b[0m\n\u001b[1;32m    177\u001b[0m             \u001b[0mexponential_average_factor\u001b[0m\u001b[0;34m,\u001b[0m\u001b[0;34m\u001b[0m\u001b[0;34m\u001b[0m\u001b[0m\n\u001b[0;32m--> 178\u001b[0;31m             \u001b[0mself\u001b[0m\u001b[0;34m.\u001b[0m\u001b[0meps\u001b[0m\u001b[0;34m,\u001b[0m\u001b[0;34m\u001b[0m\u001b[0;34m\u001b[0m\u001b[0m\n\u001b[0m\u001b[1;32m    179\u001b[0m         )\n\u001b[1;32m    180\u001b[0m \u001b[0;34m\u001b[0m\u001b[0m\n",
            "\u001b[0;32m/usr/local/lib/python3.7/dist-packages/torch/nn/functional.py\u001b[0m in \u001b[0;36mbatch_norm\u001b[0;34m(input, running_mean, running_var, weight, bias, training, momentum, eps)\u001b[0m\n\u001b[1;32m   2280\u001b[0m \u001b[0;34m\u001b[0m\u001b[0m\n\u001b[1;32m   2281\u001b[0m     return torch.batch_norm(\n\u001b[0;32m-> 2282\u001b[0;31m         \u001b[0minput\u001b[0m\u001b[0;34m,\u001b[0m \u001b[0mweight\u001b[0m\u001b[0;34m,\u001b[0m \u001b[0mbias\u001b[0m\u001b[0;34m,\u001b[0m \u001b[0mrunning_mean\u001b[0m\u001b[0;34m,\u001b[0m \u001b[0mrunning_var\u001b[0m\u001b[0;34m,\u001b[0m \u001b[0mtraining\u001b[0m\u001b[0;34m,\u001b[0m \u001b[0mmomentum\u001b[0m\u001b[0;34m,\u001b[0m \u001b[0meps\u001b[0m\u001b[0;34m,\u001b[0m \u001b[0mtorch\u001b[0m\u001b[0;34m.\u001b[0m\u001b[0mbackends\u001b[0m\u001b[0;34m.\u001b[0m\u001b[0mcudnn\u001b[0m\u001b[0;34m.\u001b[0m\u001b[0menabled\u001b[0m\u001b[0;34m\u001b[0m\u001b[0;34m\u001b[0m\u001b[0m\n\u001b[0m\u001b[1;32m   2283\u001b[0m     )\n\u001b[1;32m   2284\u001b[0m \u001b[0;34m\u001b[0m\u001b[0m\n",
            "\u001b[0;31mRuntimeError\u001b[0m: running_mean should contain 44 elements not 1"
          ]
        }
      ],
      "source": [
        "unsupervised_model.predict(X_test.values)"
      ]
    },
    {
      "cell_type": "code",
      "execution_count": null,
      "metadata": {
        "id": "tDq-P84BPojI"
      },
      "outputs": [],
      "source": [
        "preds = clf.predict(X_test)"
      ]
    },
    {
      "cell_type": "markdown",
      "metadata": {
        "id": "VE_bJNp22Wz2"
      },
      "source": [
        "\n",
        "#Model selection"
      ]
    },
    {
      "cell_type": "code",
      "execution_count": null,
      "metadata": {
        "id": "pLTsrvxFjRLK"
      },
      "outputs": [],
      "source": [
        "from sklearn.model_selection import RepeatedKFold\n",
        "from sklearn.ensemble import GradientBoostingRegressor\n",
        "from sklearn.tree import ExtraTreeRegressor\n",
        "from sklearn.ensemble import RandomForestRegressor\n",
        "from xgboost import XGBRegressor\n",
        "from lightgbm import LGBMRegressor\n",
        "from sklearn.pipeline import make_pipeline\n",
        "from sklearn.preprocessing import StandardScaler\n",
        "from sklearn.preprocessing import RobustScaler\n",
        "\n",
        "from sklearn.linear_model import Ridge\n",
        "from sklearn.kernel_ridge import KernelRidge\n",
        "\n",
        "from sklearn.model_selection import cross_val_score\n",
        "from numpy import mean, std\n"
      ]
    },
    {
      "cell_type": "markdown",
      "metadata": {
        "id": "5DGWruyf2o3Q"
      },
      "source": [
        "##GradientBoostingRegressor"
      ]
    },
    {
      "cell_type": "code",
      "execution_count": null,
      "metadata": {
        "id": "IER6iF0_rO5I"
      },
      "outputs": [],
      "source": [
        "# evaluate the model\n",
        "model = GradientBoostingRegressor()\n",
        "cv = RepeatedKFold(n_splits=10, n_repeats=3, random_state=SEED)\n",
        "n_scores = cross_val_score(model, X_train, y_train, scoring='neg_root_mean_squared_error', cv=cv, n_jobs=-1, error_score='raise')"
      ]
    },
    {
      "cell_type": "code",
      "execution_count": null,
      "metadata": {
        "colab": {
          "base_uri": "https://localhost:8080/"
        },
        "id": "Hbhx9mufz9-j",
        "outputId": "cdde8354-be0e-4e74-9176-f247df98d7ed"
      },
      "outputs": [
        {
          "name": "stdout",
          "output_type": "stream",
          "text": [
            "RMSE: -89.512 (8.465)\n"
          ]
        }
      ],
      "source": [
        "print('RMSE: %.3f (%.3f)' % (mean(n_scores), std(n_scores))) # RMSE: -89.512 (8.465)"
      ]
    },
    {
      "cell_type": "markdown",
      "metadata": {
        "id": "7Dlckb9u2sJl"
      },
      "source": [
        "##*ExtraTreeRegressor*"
      ]
    },
    {
      "cell_type": "markdown",
      "metadata": {
        "id": "IspBzmRpThIN"
      },
      "source": [
        "### iso"
      ]
    },
    {
      "cell_type": "code",
      "execution_count": null,
      "metadata": {
        "colab": {
          "base_uri": "https://localhost:8080/"
        },
        "id": "L06r9UWTnFyQ",
        "outputId": "f9afdd8c-da9f-44e1-a8fa-e357d93ff7a5"
      },
      "outputs": [
        {
          "name": "stdout",
          "output_type": "stream",
          "text": [
            "(9094, 45) (9094,)\n",
            "number of outlier row removed:  1011\n",
            "percentage of outliers removed:  0.10004948045522019\n"
          ]
        }
      ],
      "source": [
        "# used on X_train instead of X_delete as above\n",
        "\n",
        "from sklearn.ensemble import IsolationForest\n",
        "from sklearn.metrics import make_scorer, f1_score\n",
        "from sklearn import model_selection\n",
        "from sklearn.datasets import make_classification\n",
        "\n",
        "iso = IsolationForest(random_state=SEED, contamination=0.1)\n",
        "y_pred = iso.fit_predict(X_train)\n",
        "X_train_cleaned = X_train[np.where(y_pred == 1, True, False)]\n",
        "y_train_cleaned = y_train[np.where(y_pred == 1, True, False)]\n",
        "\n",
        "# summarize the shape of the updated training dataset\n",
        "print(X_train_cleaned.shape, y_train_cleaned.shape)\n",
        "cleaned,_ = X_train_cleaned.shape\n",
        "\n",
        "total, _ = X_train.shape\n",
        "print(\"number of outlier row removed: \", total - cleaned)\n",
        "print(\"percentage of outliers removed: \", (total-cleaned) / total)"
      ]
    },
    {
      "cell_type": "code",
      "execution_count": null,
      "metadata": {
        "id": "qG71ouC7Trfv"
      },
      "outputs": [],
      "source": [
        "# # used on X_train instead of X_delete as above\n",
        "\n",
        "# from sklearn.ensemble import IsolationForest\n",
        "# from sklearn.metrics import make_scorer, f1_score\n",
        "# from sklearn import model_selection\n",
        "# from sklearn.datasets import make_classification\n",
        "\n",
        "# iso = IsolationForest(random_state=SEED, contamination=0.3)\n",
        "# y_pred = iso.fit_predict(X_imputed)\n",
        "# X_imputed_cleaned = X_imputed[np.where(y_pred == 1, True, False)]\n",
        "# y_imputed_cleaned = y_train[np.where(y_pred == 1, True, False)]\n",
        "\n",
        "# # summarize the shape of the updated training dataset\n",
        "# print(X_imputed_cleaned.shape, y_imputed_cleaned.shape)\n",
        "# cleaned,_ = X_imputed_cleaned.shape\n",
        "\n",
        "# total, _ = X_imputed.shape\n",
        "# print(\"number of outlier row removed: \", total - cleaned)\n",
        "# print(\"percentage of outliers removed: \", (total-cleaned) / total)"
      ]
    },
    {
      "cell_type": "markdown",
      "metadata": {
        "id": "QYQkNKvrBHsW"
      },
      "source": [
        "### evaluate the model"
      ]
    },
    {
      "cell_type": "code",
      "execution_count": null,
      "metadata": {
        "colab": {
          "base_uri": "https://localhost:8080/"
        },
        "id": "f-KZZX1O2UZ8",
        "outputId": "49d73737-c019-43ce-f96d-4d9af77b15dc"
      },
      "outputs": [
        {
          "name": "stdout",
          "output_type": "stream",
          "text": [
            "RMSE: -105.176 (20.966)\n"
          ]
        }
      ],
      "source": [
        "def ext_rg(X_given,y_given=y_train):\n",
        "  model = ExtraTreeRegressor(random_state=SEED, max_depth=21, splitter=\"best\") #ExtraTreeRegressor(random_state=SEED, max_depth=26)\n",
        "  #model = ExtraTreeRegressor(random_state=SEED, criterion=\"friedman_mse\", max_depth=None, max_features=0.7929825166874074, max_leaf_nodes=None, min_impurity_decrease=0, min_samples_leaf=2, min_samples_split=6, min_weight_fraction_leaf=0)\n",
        "  #model = SimpleRegressionPipeline({'data_preprocessing:categorical_transformer:categorical_encoding:__choice__': 'no_encoding', 'data_preprocessing:categorical_transformer:category_coalescence:__choice__': 'minority_coalescer', 'data_preprocessing:numerical_transformer:imputation:strategy': 'mean', 'data_preprocessing:numerical_transformer:rescaling:__choice__': 'minmax', 'feature_preprocessor:__choice__': 'feature_agglomeration', 'regressor:__choice__': 'extra_trees', 'data_preprocessing:categorical_transformer:category_coalescence:minority_coalescer:minimum_fraction': 0.013555629780288401, 'feature_preprocessor:feature_agglomeration:affinity': 'euclidean', 'feature_preprocessor:feature_agglomeration:linkage': 'average', 'feature_preprocessor:feature_agglomeration:n_clusters': 361, 'feature_preprocessor:feature_agglomeration:pooling_func': 'median', 'regressor:extra_trees:bootstrap': 'False', 'regressor:extra_trees:criterion': 'friedman_mse', 'regressor:extra_trees:max_depth': 'None', 'regressor:extra_trees:max_features': 0.7929825166874074, 'regressor:extra_trees:max_leaf_nodes': 'None', 'regressor:extra_trees:min_impurity_decrease': 0.0, 'regressor:extra_trees:min_samples_leaf': 2, 'regressor:extra_trees:min_samples_split': 6, 'regressor:extra_trees:min_weight_fraction_leaf': 0.0})\n",
        "  \n",
        "  cv = RepeatedKFold(n_splits=10, n_repeats=3, random_state=SEED)\n",
        "  n_scores = cross_val_score(model, X_given, y_given, scoring='neg_root_mean_squared_error', cv=cv)\n",
        "  print('RMSE: %.3f (%.3f)' % (mean(n_scores), std(n_scores))) # RMSE: -104.756 (33.902), X_train_cleaned -> RMSE: -39.699 (14.663)\n",
        "\n",
        "#ext_rg(X_train) # current: RMSE: -82.658 (14.536), without youtube, medium columns -> RMSE: -80.446 (18.064)\n",
        "#ext_rg(X_train_cleaned, y_train_cleaned)\n",
        "ext_rg(X_delete, y_delete)\n",
        "#ext_rg(X_imp_mean, y_delete)\n",
        "#ext_rg(X_reduced, y_delete)"
      ]
    },
    {
      "cell_type": "code",
      "execution_count": null,
      "metadata": {
        "id": "H5H7yGDEBtpF"
      },
      "outputs": [],
      "source": [
        "'regressor:extra_trees:bootstrap': 'False', 'regressor:extra_trees:criterion': 'friedman_mse', 'regressor:extra_trees:max_depth': 'None', 'regressor:extra_trees:max_features': 0.7929825166874074, 'regressor:extra_trees:max_leaf_nodes': 'None', 'regressor:extra_trees:min_impurity_decrease': 0.0, 'regressor:extra_trees:min_samples_leaf': 2, 'regressor:extra_trees:min_samples_split': 6, 'regressor:extra_trees:min_weight_fraction_leaf': 0.0},"
      ]
    },
    {
      "cell_type": "markdown",
      "metadata": {
        "id": "-adI2961YChd"
      },
      "source": [
        "## submission"
      ]
    },
    {
      "cell_type": "code",
      "execution_count": null,
      "metadata": {
        "colab": {
          "base_uri": "https://localhost:8080/"
        },
        "id": "5LFoLFbahhMd",
        "outputId": "01fd1500-08e2-4b60-dca5-87a3b8ebe0eb"
      },
      "outputs": [
        {
          "data": {
            "text/plain": [
              "3210.1832141707114"
            ]
          },
          "execution_count": 359,
          "metadata": {},
          "output_type": "execute_result"
        }
      ],
      "source": [
        "#submission\n",
        "ext_model = ExtraTreeRegressor(random_state=SEED, max_depth=21, splitter=\"best\")\n",
        "\n",
        "#ext_model.fit(X_train_cleaned, y_train_cleaned)\n",
        "#ext_model.fit(X_train, y_train) # 103.01549008547863, 104.76005740251006 - remove highly missing cols\n",
        "\n",
        "#ext_model.fit(X_no_zeros, y_no_zeros) worse\n",
        "#ext_model.fit(X_imputed, y_train)\n",
        "\n",
        "ext_model.fit(X_delete, y_delete) \n",
        "y_pred = ext_model.predict(X_test)\n",
        "\n",
        "#ext_model.fit(X_scaled, y_delete) # zero mean worse\n",
        "#y_pred = ext_model.predict(X_test_scaled)\n",
        "\n",
        "from sklearn.metrics import mean_squared_error\n",
        "mean_squared_error(y_pred, y_test, squared=False)"
      ]
    },
    {
      "cell_type": "code",
      "execution_count": null,
      "metadata": {
        "colab": {
          "base_uri": "https://localhost:8080/",
          "height": 689
        },
        "id": "rGKn2vmyQs2j",
        "outputId": "c42bc90a-3f8b-4e34-a3c6-33daa205b8c1"
      },
      "outputs": [
        {
          "data": {
            "image/png": "[encoded data removed]",
            "text/plain": [
              "<Figure size 4320x1080 with 1 Axes>"
            ]
          },
          "metadata": {
            "needs_background": "light"
          },
          "output_type": "display_data"
        }
      ],
      "source": [
        "clf = ExtraTreeRegressor(random_state=SEED)\n",
        "clf.fit(X_delete, y_delete.values.ravel())\n",
        "\n",
        "# #############################################################################\n",
        "# Plot feature importance\n",
        "feature_importance = clf.feature_importances_\n",
        "# make importances relative to max importance\n",
        "feature_importance = 100.0 * (feature_importance / feature_importance.max())\n",
        "sorted_idx = np.argsort(feature_importance)\n",
        "\n",
        "pos = np.arange(sorted_idx.shape[0]) + 1 # start from 1\n",
        "plt.figure(figsize=(60,15))\n",
        "plt.subplot(1, 2, 2)\n",
        "plt.barh(pos, feature_importance[sorted_idx], align='center')\n",
        "plt.yticks(pos, X_delete.columns[sorted_idx])#boston.feature_names[sorted_idx])\n",
        "plt.xlabel('Relative Importance')\n",
        "plt.title('Variable Importance')\n",
        "plt.show()"
      ]
    },
    {
      "cell_type": "markdown",
      "metadata": {
        "id": "tBVJIbCRd7pK"
      },
      "source": [
        "##random tree"
      ]
    },
    {
      "cell_type": "code",
      "execution_count": null,
      "metadata": {
        "id": "WE8SC8y4d6mj"
      },
      "outputs": [],
      "source": [
        "# evaluate the model\n",
        "model = RandomForestRegressor()\n",
        "cv = RepeatedKFold(n_splits=10, n_repeats=3, random_state=SEED)\n",
        "#n_scores = cross_val_score(model, X_train_cleaned, y_train_cleaned, scoring='neg_root_mean_squared_error', cv=cv, n_jobs=-1, error_score='raise')\n",
        "n_scores = cross_val_score(model, X_train, y_train, scoring='neg_root_mean_squared_error', cv=cv, n_jobs=-1, error_score='raise')\n",
        "from numpy import mean, std\n",
        "print('RMSE: %.3f (%.3f)' % (mean(n_scores), std(n_scores))) # RMSE: -57.897 (6.050), x_trained_clean -> RMSE: -55.651 (21.680), X_delete -> -124.312 (30.900)"
      ]
    },
    {
      "cell_type": "code",
      "execution_count": null,
      "metadata": {
        "colab": {
          "base_uri": "https://localhost:8080/"
        },
        "id": "2issUcV84P60",
        "outputId": "8ea0ac48-55ed-471c-b265-ded19d26559f"
      },
      "outputs": [
        {
          "data": {
            "text/plain": [
              "78.83659223649168"
            ]
          },
          "execution_count": 115,
          "metadata": {},
          "output_type": "execute_result"
        }
      ],
      "source": [
        "#submission\n",
        "rand_tree_model = RandomForestRegressor(random_state=SEED) # , max_depth=21\n",
        "\n",
        "#rand_tree_model.fit(X_train_cleaned, y_train_cleaned)\n",
        "#rand_tree_model.fit(X_train, y_train)\n",
        "rand_tree_model.fit(X_delete, y_delete)\n",
        "\n",
        "y_pred = rand_tree_model.predict(X_test)\n",
        "\n",
        "from sklearn.metrics import mean_squared_error\n",
        "mean_squared_error(y_pred, y_test, squared=False)"
      ]
    },
    {
      "cell_type": "markdown",
      "metadata": {
        "id": "rpuzGXubH6Gv"
      },
      "source": [
        "## bayeisan regressor"
      ]
    },
    {
      "cell_type": "code",
      "execution_count": null,
      "metadata": {
        "id": "cF4pNuM-qa9M"
      },
      "outputs": [],
      "source": [
        "from sklearn.preprocessing import PolynomialFeatures\n",
        "poly = PolynomialFeatures(2, interaction_only=True)\n",
        "X_poly = poly.fit_transform(X_train)\n",
        "\n",
        "X_test_poly = poly.fit_transform(X_test)"
      ]
    },
    {
      "cell_type": "code",
      "execution_count": null,
      "metadata": {
        "colab": {
          "base_uri": "https://localhost:8080/"
        },
        "id": "ZOfvt0cPq5Mq",
        "outputId": "a5ff30e3-8023-415b-e9a9-82669f7e2ef3"
      },
      "outputs": [
        {
          "data": {
            "text/plain": [
              "(11368, 40)"
            ]
          },
          "execution_count": 155,
          "metadata": {},
          "output_type": "execute_result"
        }
      ],
      "source": [
        "X_train.shape"
      ]
    },
    {
      "cell_type": "code",
      "execution_count": null,
      "metadata": {
        "colab": {
          "base_uri": "https://localhost:8080/"
        },
        "id": "qqLHO4fCqz4k",
        "outputId": "5a68f0ed-65df-447c-87fb-fc534c1a177b"
      },
      "outputs": [
        {
          "data": {
            "text/plain": [
              "(11368, 3241)"
            ]
          },
          "execution_count": 31,
          "metadata": {},
          "output_type": "execute_result"
        }
      ],
      "source": [
        "X_poly.shape"
      ]
    },
    {
      "cell_type": "markdown",
      "metadata": {
        "id": "ahwnQu3zth1r"
      },
      "source": [
        "## add features"
      ]
    },
    {
      "cell_type": "code",
      "execution_count": null,
      "metadata": {
        "id": "QnZ2ul7ItaA0"
      },
      "outputs": [],
      "source": [
        "SEED = 23\n",
        "# Select main columns to be used in training\n",
        "main_cols = train.columns.difference(['id', 'close','medium','asset_id', 'social_volume_24h_rank', 'volume_24h_rank', 'market_cap_rank', 'social_score_24h_rank', 'tweet_followers']) # assert_id exclude since all 1, volatility, 'youtube', \n",
        "#main_cols = train.columns.difference(['id', 'close','medium','asset_id'])\n",
        "\n",
        "X = train[main_cols]\n",
        "y = train.close.astype(float)\n",
        "\n",
        "# Split data into train and test sets\n",
        "X_train, X_test, y_train, y_test = train_test_split(X,y,test_size=0.1, random_state=42)\n",
        "#X_train, X_test, y_train, y_test = train_test_split(X,y,test_size=0.2, random_state=23)\n",
        "\n",
        "X_train = X_train.reset_index().drop(\"index\", 1)\n",
        "y_train = y_train.reset_index().drop(\"index\", 1)"
      ]
    },
    {
      "cell_type": "code",
      "execution_count": null,
      "metadata": {
        "colab": {
          "base_uri": "https://localhost:8080/",
          "height": 204
        },
        "id": "HsVhwviBElx3",
        "outputId": "3621a8db-3620-4b24-bd1e-5de960312189"
      },
      "outputs": [
        {
          "data": {
            "text/html": [
              "<div>\n",
              "<style scoped>\n",
              "    .dataframe tbody tr th:only-of-type {\n",
              "        vertical-align: middle;\n",
              "    }\n",
              "\n",
              "    .dataframe tbody tr th {\n",
              "        vertical-align: top;\n",
              "    }\n",
              "\n",
              "    .dataframe thead th {\n",
              "        text-align: right;\n",
              "    }\n",
              "</style>\n",
              "<table border=\"1\" class=\"dataframe\">\n",
              "  <thead>\n",
              "    <tr style=\"text-align: right;\">\n",
              "      <th></th>\n",
              "      <th>close</th>\n",
              "    </tr>\n",
              "  </thead>\n",
              "  <tbody>\n",
              "    <tr>\n",
              "      <th>0</th>\n",
              "      <td>18305.759089</td>\n",
              "    </tr>\n",
              "    <tr>\n",
              "      <th>1</th>\n",
              "      <td>7538.033373</td>\n",
              "    </tr>\n",
              "    <tr>\n",
              "      <th>2</th>\n",
              "      <td>9123.040273</td>\n",
              "    </tr>\n",
              "    <tr>\n",
              "      <th>3</th>\n",
              "      <td>6309.281509</td>\n",
              "    </tr>\n",
              "    <tr>\n",
              "      <th>4</th>\n",
              "      <td>0.000000</td>\n",
              "    </tr>\n",
              "  </tbody>\n",
              "</table>\n",
              "</div>"
            ],
            "text/plain": [
              "          close\n",
              "0  18305.759089\n",
              "1   7538.033373\n",
              "2   9123.040273\n",
              "3   6309.281509\n",
              "4      0.000000"
            ]
          },
          "execution_count": 120,
          "metadata": {},
          "output_type": "execute_result"
        }
      ],
      "source": [
        "y_train.head()"
      ]
    },
    {
      "cell_type": "code",
      "execution_count": null,
      "metadata": {
        "colab": {
          "base_uri": "https://localhost:8080/"
        },
        "id": "FThXCGEDjJYG",
        "outputId": "1c2254fb-7807-441d-f30c-42f725d4d720"
      },
      "outputs": [
        {
          "name": "stdout",
          "output_type": "stream",
          "text": [
            "\n",
            "Start decomposition process...\n",
            "ICA\n",
            "Append decomposition components to datasets...\n",
            "\n",
            "Train shape: (11368, 80)\n",
            "Test shape: (1264, 80)\n"
          ]
        },
        {
          "name": "stderr",
          "output_type": "stream",
          "text": [
            "/usr/local/lib/python3.7/dist-packages/ipykernel_launcher.py:18: SettingWithCopyWarning: \n",
            "A value is trying to be set on a copy of a slice from a DataFrame.\n",
            "Try using .loc[row_indexer,col_indexer] = value instead\n",
            "\n",
            "See the caveats in the documentation: https://pandas.pydata.org/pandas-docs/stable/user_guide/indexing.html#returning-a-view-versus-a-copy\n",
            "/usr/local/lib/python3.7/dist-packages/ipykernel_launcher.py:19: SettingWithCopyWarning: \n",
            "A value is trying to be set on a copy of a slice from a DataFrame.\n",
            "Try using .loc[row_indexer,col_indexer] = value instead\n",
            "\n",
            "See the caveats in the documentation: https://pandas.pydata.org/pandas-docs/stable/user_guide/indexing.html#returning-a-view-versus-a-copy\n"
          ]
        }
      ],
      "source": [
        "from sklearn.decomposition import PCA, TruncatedSVD, FastICA\n",
        "from sklearn.random_projection import GaussianRandomProjection, SparseRandomProjection\n",
        "\n",
        "N_COMP = 40  # 30 PCA - 53, ICA: 40 - 49.5, 35 - 50\n",
        "\n",
        "print(\"\\nStart decomposition process...\")\n",
        "\n",
        "print(\"ICA\")\n",
        "ica = FastICA(n_components=40, random_state=17)\n",
        "ica_results_train = ica.fit_transform(X_train)\n",
        "ica_results_test = ica.transform(X_test)\n",
        "\n",
        "\n",
        "print(\"Append decomposition components to datasets...\")\n",
        "for i in range(1, 40 + 1):\n",
        "\n",
        "\n",
        "    X_train['ica_' + str(i)] = ica_results_train[:, i - 1]\n",
        "    X_test['ica_' + str(i)] = ica_results_test[:, i - 1]\n",
        "\n",
        "   \n",
        "print('\\nTrain shape: {}\\nTest shape: {}'.format(X_train.shape, X_test.shape))"
      ]
    },
    {
      "cell_type": "code",
      "execution_count": null,
      "metadata": {
        "colab": {
          "base_uri": "https://localhost:8080/"
        },
        "id": "baJS158IsAbQ",
        "outputId": "26e4286f-e522-4851-eb55-712dc4e3c09b"
      },
      "outputs": [
        {
          "name": "stdout",
          "output_type": "stream",
          "text": [
            "\n",
            "Start decomposition process...\n",
            "ICA\n",
            "Append decomposition components to datasets...\n",
            "\n",
            "Train shape: (11368, 80)\n",
            "Test shape: (1264, 80)\n"
          ]
        },
        {
          "name": "stderr",
          "output_type": "stream",
          "text": [
            "/usr/local/lib/python3.7/dist-packages/ipykernel_launcher.py:42: SettingWithCopyWarning: \n",
            "A value is trying to be set on a copy of a slice from a DataFrame.\n",
            "Try using .loc[row_indexer,col_indexer] = value instead\n",
            "\n",
            "See the caveats in the documentation: https://pandas.pydata.org/pandas-docs/stable/user_guide/indexing.html#returning-a-view-versus-a-copy\n",
            "/usr/local/lib/python3.7/dist-packages/ipykernel_launcher.py:43: SettingWithCopyWarning: \n",
            "A value is trying to be set on a copy of a slice from a DataFrame.\n",
            "Try using .loc[row_indexer,col_indexer] = value instead\n",
            "\n",
            "See the caveats in the documentation: https://pandas.pydata.org/pandas-docs/stable/user_guide/indexing.html#returning-a-view-versus-a-copy\n"
          ]
        }
      ],
      "source": [
        "# from sklearn.decomposition import PCA, TruncatedSVD, FastICA\n",
        "# from sklearn.random_projection import GaussianRandomProjection, SparseRandomProjection\n",
        "\n",
        "# N_COMP = 40  # 30 PCA - 53, ICA: 40 - 49.5, 35 - 50\n",
        "\n",
        "# print(\"\\nStart decomposition process...\")\n",
        "# # print(\"PCA\")\n",
        "# # pca = PCA(n_components=N_COMP, random_state=17)\n",
        "# # pca_results_train = pca.fit_transform(X_train)\n",
        "# # pca_results_test = pca.transform(X_test)\n",
        "# # print(pca.explained_variance_ratio_)\n",
        "\n",
        "# # print(\"tSVD\")\n",
        "# # tsvd = TruncatedSVD(n_components=N_COMP, random_state=17)\n",
        "# # tsvd_results_train = tsvd.fit_transform(X_train)\n",
        "# # tsvd_results_test = tsvd.transform(X_test)\n",
        "\n",
        "# print(\"ICA\")\n",
        "# ica = FastICA(n_components=40, random_state=17)\n",
        "# ica_results_train = ica.fit_transform(X_train)\n",
        "# ica_results_test = ica.transform(X_test)\n",
        "\n",
        "# # print(\"GRP\") # to be reduced\n",
        "# # grp = GaussianRandomProjection(n_components=N_COMP, eps=0.1, random_state=17)\n",
        "# # grp_results_train = grp.fit_transform(X_train)\n",
        "# # grp_results_test = grp.transform(X_test)\n",
        "\n",
        "# # print(\"SRP\")\n",
        "# # srp = SparseRandomProjection(n_components=N_COMP, dense_output=True, random_state=17)\n",
        "# # srp_results_train = srp.fit_transform(X_train)\n",
        "# # srp_results_test = srp.transform(X_test)\n",
        "\n",
        "# print(\"Append decomposition components to datasets...\")\n",
        "# for i in range(1, N_COMP + 1):\n",
        "#     # X_train['pca_' + str(i)] = pca_results_train[:, i - 1]\n",
        "#     # X_test['pca_' + str(i)] = pca_results_test[:, i - 1]\n",
        "    \n",
        "   \n",
        "#     # X_train['tsvd_' + str(i)] = tsvd_results_train[:, i - 1]\n",
        "#     # X_test['tsvd_' + str(i)] = tsvd_results_test[:, i - 1]\n",
        "\n",
        "#     X_train['ica_' + str(i)] = ica_results_train[:, i - 1]\n",
        "#     X_test['ica_' + str(i)] = ica_results_test[:, i - 1]\n",
        "\n",
        "\n",
        "#     # X_train['grp_' + str(i)] = grp_results_train[:, i - 1]\n",
        "#     # X_test['grp_' + str(i)] = grp_results_test[:, i - 1]\n",
        "\n",
        "#     # X_train['srp_' + str(i)] = srp_results_train[:, i - 1]\n",
        "#     # X_test['srp_' + str(i)] = srp_results_test[:, i - 1]\n",
        "\n",
        "# print('\\nTrain shape: {}\\nTest shape: {}'.format(X_train.shape, X_test.shape))"
      ]
    },
    {
      "cell_type": "code",
      "execution_count": null,
      "metadata": {
        "colab": {
          "base_uri": "https://localhost:8080/"
        },
        "id": "GcycczrUrEfg",
        "outputId": "993b0186-6444-41c4-9990-0f04d29f0b38"
      },
      "outputs": [
        {
          "data": {
            "text/plain": [
              "230906.94924252375"
            ]
          },
          "execution_count": 167,
          "metadata": {},
          "output_type": "execute_result"
        }
      ],
      "source": [
        "# from sklearn import linear_model\n",
        "\n",
        "# reg = linear_model.BayesianRidge(compute_score=True)\n",
        "# #submission\n",
        "\n",
        "# reg.fit(X_poly, y_train)\n",
        "\n",
        "# y_pred = reg.predict(X_test_poly)\n",
        "\n",
        "# from sklearn.metrics import mean_squared_error\n",
        "# mean_squared_error(y_pred, y_test, squared=False)"
      ]
    },
    {
      "cell_type": "code",
      "execution_count": null,
      "metadata": {
        "colab": {
          "base_uri": "https://localhost:8080/"
        },
        "id": "IL8Y6ms6H86M",
        "outputId": "69454ee1-dd13-431b-c6fa-393fcd85401a"
      },
      "outputs": [
        {
          "data": {
            "text/plain": [
              "39721963.81229357"
            ]
          },
          "execution_count": 175,
          "metadata": {},
          "output_type": "execute_result"
        }
      ],
      "source": [
        "from sklearn import linear_model\n",
        "\n",
        "reg = linear_model.BayesianRidge(compute_score=True)\n",
        "#submission\n",
        "\n",
        "reg.fit(X_train, y_train)\n",
        "\n",
        "y_pred = reg.predict(X_test)\n",
        "\n",
        "from sklearn.metrics import mean_squared_error\n",
        "mean_squared_error(y_pred, y_test, squared=False)"
      ]
    },
    {
      "cell_type": "markdown",
      "metadata": {
        "id": "jL2m-BXjeNQT"
      },
      "source": [
        "##kNN regressor"
      ]
    },
    {
      "cell_type": "code",
      "execution_count": null,
      "metadata": {
        "colab": {
          "base_uri": "https://localhost:8080/"
        },
        "id": "cbQglD2ReQ8f",
        "outputId": "eee1d08a-b0dd-4fd4-b7c3-b2e62ab7184c"
      },
      "outputs": [
        {
          "name": "stdout",
          "output_type": "stream",
          "text": [
            "RMSE: -307.799 (65.892)\n"
          ]
        }
      ],
      "source": [
        "from sklearn.neighbors import KNeighborsRegressor\n",
        "neigh = KNeighborsRegressor(n_neighbors=20)\n",
        "cv = RepeatedKFold(n_splits=10, n_repeats=3, random_state=SEED)\n",
        "n_scores = cross_val_score(neigh, X_train_cleaned, y_train_cleaned, scoring='neg_root_mean_squared_error', cv=cv, n_jobs=-1, error_score='raise')\n",
        "from numpy import mean, std\n",
        "print('RMSE: %.3f (%.3f)' % (mean(n_scores), std(n_scores))) "
      ]
    },
    {
      "cell_type": "markdown",
      "metadata": {
        "id": "cHcMLzxK24-F"
      },
      "source": [
        "##xgboost"
      ]
    },
    {
      "cell_type": "code",
      "execution_count": null,
      "metadata": {
        "id": "QM6SqAhR27GV"
      },
      "outputs": [],
      "source": [
        "#!pip install xgboost"
      ]
    },
    {
      "cell_type": "code",
      "execution_count": null,
      "metadata": {
        "colab": {
          "base_uri": "https://localhost:8080/"
        },
        "id": "XX1bxNdZYnyf",
        "outputId": "d24d4359-1e3d-44c6-bdc9-85ec24ffa406"
      },
      "outputs": [
        {
          "data": {
            "text/plain": [
              "(10368, 80)"
            ]
          },
          "execution_count": 46,
          "metadata": {},
          "output_type": "execute_result"
        }
      ],
      "source": [
        "X_t = X_train[:-1000]\n",
        "X_t.shape"
      ]
    },
    {
      "cell_type": "code",
      "execution_count": null,
      "metadata": {
        "colab": {
          "base_uri": "https://localhost:8080/"
        },
        "id": "iNXrbbBUVrhm",
        "outputId": "2fa16feb-7602-40fa-9030-157bca5c3677"
      },
      "outputs": [
        {
          "data": {
            "text/plain": [
              "53.15319123794743"
            ]
          },
          "execution_count": 228,
          "metadata": {},
          "output_type": "execute_result"
        }
      ],
      "source": [
        "#submission\n",
        "SEED = 104\n",
        "model = XGBRegressor(objective='reg:squarederror', max_depth=16, n_estimators=150, #16\n",
        "                     learning_rate= 0.0764, random_state=SEED, gamma=0, booster=\"gbtree\", # , subsample=0.90,\n",
        "                      tree_method='auto', # gpu_hist\n",
        "                      subsample=1,\n",
        "                      colsample_bytree=1,\n",
        "                      reg_alpha=0.5, # 52.96502463981406:0.5 without those added columns\n",
        "                      reg_lambda=1 \n",
        "                     # min_child_weight, TODO\n",
        "                     ) #54.14->0.0765\n",
        "# cut_off = -1000\n",
        "# X_t = X_train[:cut_off]\n",
        "# y_t = y_train[:cut_off]\n",
        "# X_c = X_train[cut_off:]\n",
        "# y_c = y_train[cut_off:]\n",
        "\n",
        "#model.fit(X_t, y_t, eval_metric=\"rmse\",  eval_set=[(X_t, y_t), (X_c, y_c)], verbose=True) # 49.51422068156787\n",
        "\n",
        "#model.fit(X_log, y_train)\n",
        "#model.fit(X_poly, y_train)\n",
        "#model.fit(X_train_cleaned, y_train_cleaned)\n",
        "#model.fit(X_imp_median, y_train)\n",
        "\n",
        "model.fit(X_train, y_train) # 49.51422068156787\n",
        "y_pred = model.predict(X_test)\n",
        "\n",
        "\n",
        "#y_pred = model.predict(X_test_imp_median)\n",
        "\n",
        "\n",
        "from sklearn.metrics import mean_squared_error\n",
        "mean_squared_error(y_pred, y_test, squared=False)"
      ]
    },
    {
      "cell_type": "code",
      "execution_count": null,
      "metadata": {
        "colab": {
          "base_uri": "https://localhost:8080/"
        },
        "id": "_yoJK3Tb_9le",
        "outputId": "e92df0ad-ba39-49eb-c130-f12c23a369b3"
      },
      "outputs": [
        {
          "data": {
            "text/plain": [
              "71.24768553984339"
            ]
          },
          "execution_count": 95,
          "metadata": {},
          "output_type": "execute_result"
        }
      ],
      "source": [
        "y_pred[(y_pred<2000)] = 0\n",
        "from sklearn.metrics import mean_squared_error\n",
        "mean_squared_error(y_pred, y_test, squared=False)"
      ]
    },
    {
      "cell_type": "code",
      "execution_count": null,
      "metadata": {
        "colab": {
          "base_uri": "https://localhost:8080/"
        },
        "id": "P-2mk6-kk-Bk",
        "outputId": "cb4965c9-1a7b-4d59-c4f5-163311811ea0"
      },
      "outputs": [
        {
          "data": {
            "text/plain": [
              "array([0., 0., 0., 0., 0., 0., 0., 0., 0., 0., 0., 0., 0., 0., 0., 0., 0.,\n",
              "       0., 0., 0., 0., 0., 0., 0., 0., 0., 0., 0., 0., 0., 0., 0., 0., 0.,\n",
              "       0., 0., 0., 0., 0., 0., 0., 0., 0., 0., 0., 0., 0., 0., 0., 0., 0.,\n",
              "       0., 0., 0., 0., 0., 0., 0., 0., 0., 0., 0., 0., 0., 0., 0., 0., 0.,\n",
              "       0., 0., 0., 0., 0., 0., 0., 0., 0., 0., 0., 0., 0., 0., 0., 0., 0.,\n",
              "       0., 0., 0., 0., 0., 0., 0., 0., 0., 0., 0., 0., 0., 0., 0., 0., 0.,\n",
              "       0., 0., 0., 0., 0., 0., 0., 0., 0., 0., 0., 0., 0., 0., 0., 0., 0.,\n",
              "       0., 0., 0., 0., 0., 0., 0., 0., 0., 0., 0., 0., 0., 0., 0., 0., 0.,\n",
              "       0., 0., 0., 0., 0., 0., 0., 0., 0., 0., 0., 0., 0., 0., 0., 0., 0.,\n",
              "       0., 0., 0., 0., 0., 0., 0., 0., 0., 0., 0., 0., 0., 0., 0., 0., 0.,\n",
              "       0., 0., 0., 0., 0., 0., 0., 0., 0., 0., 0., 0., 0., 0., 0., 0., 0.,\n",
              "       0., 0., 0., 0., 0., 0., 0., 0., 0., 0., 0., 0., 0., 0., 0., 0., 0.,\n",
              "       0., 0., 0., 0., 0., 0., 0., 0., 0., 0., 0., 0., 0., 0., 0., 0., 0.,\n",
              "       0., 0., 0., 0., 0., 0., 0., 0., 0., 0., 0., 0., 0., 0., 0., 0., 0.,\n",
              "       0., 0., 0., 0., 0., 0., 0., 0., 0., 0., 0., 0., 0., 0., 0., 0., 0.,\n",
              "       0., 0., 0., 0., 0., 0., 0., 0., 0., 0., 0., 0., 0., 0., 0., 0., 0.,\n",
              "       0., 0., 0., 0., 0., 0., 0., 0., 0., 0., 0., 0., 0., 0., 0., 0., 0.,\n",
              "       0., 0., 0., 0., 0., 0., 0., 0., 0., 0., 0., 0., 0., 0., 0., 0., 0.,\n",
              "       0., 0., 0., 0., 0., 0., 0., 0., 0., 0., 0., 0., 0., 0., 0., 0., 0.,\n",
              "       0., 0., 0., 0., 0., 0., 0., 0., 0., 0., 0., 0., 0., 0., 0., 0., 0.,\n",
              "       0., 0., 0., 0., 0., 0., 0., 0., 0., 0., 0., 0., 0., 0., 0., 0., 0.,\n",
              "       0., 0., 0., 0., 0., 0., 0., 0., 0., 0., 0., 0., 0., 0., 0., 0., 0.,\n",
              "       0., 0., 0., 0., 0., 0., 0., 0., 0., 0., 0., 0., 0., 0., 0., 0., 0.,\n",
              "       0., 0., 0., 0., 0., 0., 0., 0., 0., 0., 0., 0., 0., 0., 0., 0., 0.,\n",
              "       0., 0., 0., 0., 0., 0., 0., 0., 0., 0., 0., 0., 0.], dtype=float32)"
            ]
          },
          "execution_count": 117,
          "metadata": {},
          "output_type": "execute_result"
        }
      ],
      "source": [
        "y_pred[y_pred < 0.01]"
      ]
    },
    {
      "cell_type": "code",
      "execution_count": null,
      "metadata": {
        "colab": {
          "base_uri": "https://localhost:8080/"
        },
        "id": "Y95slvyOkxje",
        "outputId": "b30199e8-d85f-4210-b1d1-84d9240cbf9c"
      },
      "outputs": [
        {
          "data": {
            "text/plain": [
              "49.514220424855345"
            ]
          },
          "execution_count": 116,
          "metadata": {},
          "output_type": "execute_result"
        }
      ],
      "source": [
        "y_pred[y_pred < 0.01] = 0\n",
        "\n",
        "from sklearn.metrics import mean_squared_error\n",
        "mean_squared_error(y_pred, y_test, squared=False)"
      ]
    },
    {
      "cell_type": "code",
      "execution_count": null,
      "metadata": {
        "colab": {
          "base_uri": "https://localhost:8080/"
        },
        "id": "-tXuszfr3Eyy",
        "outputId": "50f124d3-272e-4df7-b7da-2abf66fef956"
      },
      "outputs": [
        {
          "name": "stdout",
          "output_type": "stream",
          "text": [
            "RMSE: -62.982 (4.828)\n"
          ]
        }
      ],
      "source": [
        "\n",
        "# model = XGBRegressor(objective='reg:squarederror', max_depth=16, n_estimators=150, #16\n",
        "#                      learning_rate=0.0764, random_state=SEED, gamma=0, booster=\"gbtree\", # , subsample=0.90,\n",
        "#                       tree_method='auto', # gpu_hist\n",
        "#                       subsample=1,\n",
        "#                       colsample_bytree=1,\n",
        "#                       reg_alpha=0.5, # 52.96502463981406:0.5 without those added columns\n",
        "#                       reg_lambda=1\n",
        "#                      ) #54.14->0.0765\n",
        "\n",
        "\n",
        "# cv = RepeatedKFold(n_splits=10, n_repeats=1, random_state=SEED)\n",
        "# #n_scores = cross_val_score(model, X_train, y_train, scoring='neg_root_mean_squared_error', cv=cv, n_jobs=-1, error_score='raise')\n",
        "# #n_scores = cross_val_score(model, X_cleaned, y_cleaned, scoring='neg_root_mean_squared_error', cv=cv, n_jobs=-1, error_score='raise')\n",
        "# n_scores = cross_val_score(model, X_log, y_train, scoring='neg_root_mean_squared_error', cv=cv, n_jobs=-1, error_score='raise')\n",
        "\n",
        "# print('RMSE: %.3f (%.3f)' % (mean(n_scores), std(n_scores))) # RMSEE: -63.467 (4.710)\n"
      ]
    },
    {
      "cell_type": "code",
      "execution_count": null,
      "metadata": {
        "colab": {
          "base_uri": "https://localhost:8080/"
        },
        "id": "UKQq89QuVxX4",
        "outputId": "dea6812e-f1ae-4205-94ec-b482375e77da"
      },
      "outputs": [
        {
          "data": {
            "text/plain": [
              "60.97172522355311"
            ]
          },
          "execution_count": 69,
          "metadata": {},
          "output_type": "execute_result"
        }
      ],
      "source": [
        "# model = XGBRegressor(objective='reg:squarederror', max_depth=16, n_estimators=200, \n",
        "#                      learning_rate=0.07, random_state=SEED, gamma=0, booster=\"gbtree\", # , subsample=0.90,\n",
        "#                       tree_method='auto', # gpu_hist\n",
        "#                       subsample=1,\n",
        "#                       colsample_bytree=1,\n",
        "#                       reg_alpha=0.5, # 52.96502463981406:0.5 without those added columns\n",
        "#                       reg_lambda=1\n",
        "#                      ) #54.14->0.0765\n",
        "\n",
        "# model.fit(X_cleaned, y_cleaned) #61.3\n",
        "\n",
        "# y_pred = model.predict(X_test_cleaned)\n",
        "\n",
        "# from sklearn.metrics import mean_squared_error\n",
        "# mean_squared_error(y_pred, y_test_cleaned, squared=False)"
      ]
    },
    {
      "cell_type": "code",
      "execution_count": null,
      "metadata": {
        "id": "dSc1Yi_jF_39"
      },
      "outputs": [],
      "source": [
        "a = X_train.skew(axis = 0, skipna = True)\n",
        "X_log = X_train.copy()\n",
        "for s in list(a[abs(a)>0.5].index):\n",
        "  X_log[s] = X_log[s].replace(0, 1)\n",
        "  X_log[s] = np.log(X_log[s])\n"
      ]
    },
    {
      "cell_type": "code",
      "execution_count": null,
      "metadata": {
        "id": "iqMokTD2eI74"
      },
      "outputs": [],
      "source": [
        "X_log.skew(axis = 0, skipna = True)\n",
        "\n",
        "#X_train['high'].iloc(10337)\n",
        "#X_train['high'].loc[[10337]]"
      ]
    },
    {
      "cell_type": "code",
      "execution_count": null,
      "metadata": {
        "id": "-mNIhs_nef-T"
      },
      "outputs": [],
      "source": [
        "b = X_test.skew(axis = 0, skipna = True)\n",
        "X_test_log = X_test.copy()\n",
        "for s in list(b[abs(b)>0.5].index):\n",
        "  X_test_log[s] = X_test_log[s].replace(0, 1)\n",
        "  X_test_log[s] = np.log(X_test_log[s])\n"
      ]
    },
    {
      "cell_type": "code",
      "execution_count": null,
      "metadata": {
        "colab": {
          "base_uri": "https://localhost:8080/"
        },
        "id": "gdHhFUKthatu",
        "outputId": "d1104d96-1130-4f07-e1d6-d133ff1de235"
      },
      "outputs": [
        {
          "data": {
            "text/plain": [
              "average_sentiment         -0.686842\n",
              "correlation_rank          -0.298934\n",
              "galaxy_score              -0.615003\n",
              "high                      -0.667238\n",
              "low                       -0.667464\n",
              "market_cap                -0.622442\n",
              "market_cap_global         -0.614809\n",
              "market_cap_rank           -0.609482\n",
              "news                       0.054088\n",
              "open                      -0.667327\n",
              "percent_change_24h        -0.018558\n",
              "percent_change_24h_rank   -0.095172\n",
              "price_score               -0.192176\n",
              "reddit_comments           -1.439801\n",
              "reddit_comments_score     -1.830200\n",
              "reddit_posts              -0.778394\n",
              "reddit_posts_score        -0.905402\n",
              "social_impact_score       -0.510264\n",
              "social_score              -0.656834\n",
              "social_score_24h_rank     -0.446903\n",
              "social_volume             -0.991945\n",
              "social_volume_24h_rank    -0.224202\n",
              "tweet_favorites           -0.537656\n",
              "tweet_followers           -0.673813\n",
              "tweet_quotes              -0.172718\n",
              "tweet_replies             -0.453357\n",
              "tweet_retweets            -0.527589\n",
              "tweet_sentiment1          -0.248925\n",
              "tweet_sentiment2          -0.451036\n",
              "tweet_sentiment3          -0.628043\n",
              "tweet_sentiment4          -0.628258\n",
              "tweet_sentiment5          -0.487821\n",
              "tweet_sentiment_impact1   -0.341086\n",
              "tweet_sentiment_impact2   -0.621575\n",
              "tweet_sentiment_impact3   -0.670192\n",
              "tweet_sentiment_impact4   -0.675430\n",
              "tweet_sentiment_impact5   -0.594638\n",
              "tweet_spam                -0.506890\n",
              "tweets                    -0.638259\n",
              "unique_url_shares          0.679240\n",
              "url_shares                 0.963782\n",
              "volatility                 0.491662\n",
              "volume                    -0.700363\n",
              "volume_24h_rank            0.150905\n",
              "youtube                    2.738911\n",
              "dtype: float64"
            ]
          },
          "execution_count": 106,
          "metadata": {},
          "output_type": "execute_result"
        }
      ],
      "source": [
        "X_test_log.skew(axis = 0, skipna = True)"
      ]
    },
    {
      "cell_type": "markdown",
      "metadata": {
        "id": "4Tz0lqwORsaW"
      },
      "source": [
        "### importance"
      ]
    },
    {
      "cell_type": "code",
      "execution_count": null,
      "metadata": {
        "colab": {
          "base_uri": "https://localhost:8080/",
          "height": 893
        },
        "id": "_GqgHfkqHmLU",
        "outputId": "14e055f3-abbe-4246-e60e-7a424d71040b"
      },
      "outputs": [
        {
          "data": {
            "image/png": "[encoded data removed]",
            "text/plain": [
              "<Figure size 1080x1080 with 1 Axes>"
            ]
          },
          "metadata": {
            "needs_background": "light"
          },
          "output_type": "display_data"
        }
      ],
      "source": [
        "from xgboost import plot_importance\n",
        "import matplotlib.pyplot as plt\n",
        "\n",
        "#print(model.feature_importances_)\n",
        "# plot feature importance\n",
        "fig, ax = plt.subplots(figsize=(15, 15))\n",
        "plot_importance(model, ax=ax)\n",
        "plt.show()"
      ]
    },
    {
      "cell_type": "markdown",
      "metadata": {
        "id": "eMQNygjc6v4I"
      },
      "source": [
        "## submit"
      ]
    },
    {
      "cell_type": "code",
      "execution_count": null,
      "metadata": {
        "colab": {
          "base_uri": "https://localhost:8080/"
        },
        "id": "m3vJ3YBEgeof",
        "outputId": "1e2a4115-e4a9-4d00-8311-c7d787a4c94f"
      },
      "outputs": [
        {
          "name": "stdout",
          "output_type": "stream",
          "text": [
            "\n",
            "Start decomposition process...\n",
            "ICA\n",
            "Append decomposition components to datasets...\n",
            "\n",
            "Train shape: (11368, 80)\n",
            "Test shape: (6222, 80)\n"
          ]
        }
      ],
      "source": [
        "from sklearn.decomposition import FastICA\n",
        "\n",
        "test_submit = test[main_cols].copy()\n",
        "print(\"\\nStart decomposition process...\")\n",
        "\n",
        "print(\"ICA\")\n",
        "submit_ica_test = ica.transform(test_submit)\n",
        "\n",
        "print(\"Append decomposition components to datasets...\")\n",
        "for i in range(1, N_COMP + 1):\n",
        "\n",
        "    test_submit['ica_' + str(i)] = submit_ica_test[:, i - 1]\n",
        "\n",
        "\n",
        "print('\\nTrain shape: {}\\nTest shape: {}'.format(X_train.shape, test_submit.shape))"
      ]
    },
    {
      "cell_type": "code",
      "execution_count": null,
      "metadata": {
        "id": "ksUzt17tXQn1"
      },
      "outputs": [],
      "source": [
        "# Make predictions in test set and prepare submission file\n",
        "predictions = model.predict(test_submit) # test[main_cols]\n",
        "sub_file = ss.copy()\n",
        "sub_file.close = predictions\n",
        "sub_file.to_csv('Baseline.csv', index = False)"
      ]
    },
    {
      "cell_type": "code",
      "execution_count": null,
      "metadata": {
        "colab": {
          "base_uri": "https://localhost:8080/",
          "height": 204
        },
        "id": "hShSqTYD6yfH",
        "outputId": "5e743cd5-d194-4ac8-dd31-9a6515bb6bb1"
      },
      "outputs": [
        {
          "data": {
            "text/html": [
              "<div>\n",
              "<style scoped>\n",
              "    .dataframe tbody tr th:only-of-type {\n",
              "        vertical-align: middle;\n",
              "    }\n",
              "\n",
              "    .dataframe tbody tr th {\n",
              "        vertical-align: top;\n",
              "    }\n",
              "\n",
              "    .dataframe thead th {\n",
              "        text-align: right;\n",
              "    }\n",
              "</style>\n",
              "<table border=\"1\" class=\"dataframe\">\n",
              "  <thead>\n",
              "    <tr style=\"text-align: right;\">\n",
              "      <th></th>\n",
              "      <th>id</th>\n",
              "      <th>close</th>\n",
              "    </tr>\n",
              "  </thead>\n",
              "  <tbody>\n",
              "    <tr>\n",
              "      <th>0</th>\n",
              "      <td>ID_323Sn2</td>\n",
              "      <td>0.000854</td>\n",
              "    </tr>\n",
              "    <tr>\n",
              "      <th>1</th>\n",
              "      <td>ID_325SNW</td>\n",
              "      <td>11350.486328</td>\n",
              "    </tr>\n",
              "    <tr>\n",
              "      <th>2</th>\n",
              "      <td>ID_325uzE</td>\n",
              "      <td>6315.891113</td>\n",
              "    </tr>\n",
              "    <tr>\n",
              "      <th>3</th>\n",
              "      <td>ID_328qCx</td>\n",
              "      <td>0.000854</td>\n",
              "    </tr>\n",
              "    <tr>\n",
              "      <th>4</th>\n",
              "      <td>ID_3293uJ</td>\n",
              "      <td>0.000854</td>\n",
              "    </tr>\n",
              "  </tbody>\n",
              "</table>\n",
              "</div>"
            ],
            "text/plain": [
              "          id         close\n",
              "0  ID_323Sn2      0.000854\n",
              "1  ID_325SNW  11350.486328\n",
              "2  ID_325uzE   6315.891113\n",
              "3  ID_328qCx      0.000854\n",
              "4  ID_3293uJ      0.000854"
            ]
          },
          "execution_count": 98,
          "metadata": {},
          "output_type": "execute_result"
        }
      ],
      "source": [
        "sub_file.head()"
      ]
    },
    {
      "cell_type": "code",
      "execution_count": null,
      "metadata": {
        "colab": {
          "base_uri": "https://localhost:8080/",
          "height": 17
        },
        "id": "rBwkR_cG62Qo",
        "outputId": "39d52b19-2847-47f2-f7c4-708902ee77cf"
      },
      "outputs": [
        {
          "data": {
            "application/javascript": "\n    async function download(id, filename, size) {\n      if (!google.colab.kernel.accessAllowed) {\n        return;\n      }\n      const div = document.createElement('div');\n      const label = document.createElement('label');\n      label.textContent = `Downloading \"${filename}\": `;\n      div.appendChild(label);\n      const progress = document.createElement('progress');\n      progress.max = size;\n      div.appendChild(progress);\n      document.body.appendChild(div);\n\n      const buffers = [];\n      let downloaded = 0;\n\n      const channel = await google.colab.kernel.comms.open(id);\n      // Send a message to notify the kernel that we're ready.\n      channel.send({})\n\n      for await (const message of channel.messages) {\n        // Send a message to notify the kernel that we're ready.\n        channel.send({})\n        if (message.buffers) {\n          for (const buffer of message.buffers) {\n            buffers.push(buffer);\n            downloaded += buffer.byteLength;\n            progress.value = downloaded;\n          }\n        }\n      }\n      const blob = new Blob(buffers, {type: 'application/binary'});\n      const a = document.createElement('a');\n      a.href = window.URL.createObjectURL(blob);\n      a.download = filename;\n      div.appendChild(a);\n      a.click();\n      div.remove();\n    }\n  ",
            "text/plain": [
              "<IPython.core.display.Javascript object>"
            ]
          },
          "metadata": {},
          "output_type": "display_data"
        },
        {
          "data": {
            "application/javascript": "download(\"download_906dd3ed-0144-465a-802c-3d5bcaad6939\", \"Baseline.csv\", 127763)",
            "text/plain": [
              "<IPython.core.display.Javascript object>"
            ]
          },
          "metadata": {},
          "output_type": "display_data"
        }
      ],
      "source": [
        "files.download('Baseline.csv') "
      ]
    },
    {
      "cell_type": "code",
      "execution_count": null,
      "metadata": {
        "colab": {
          "base_uri": "https://localhost:8080/"
        },
        "id": "bCkw4hRwVNU-",
        "outputId": "fcf07e90-1a85-4931-ec51-13180e3e754b"
      },
      "outputs": [
        {
          "name": "stdout",
          "output_type": "stream",
          "text": [
            "RMSE: 160.86\n"
          ]
        }
      ],
      "source": [
        "import xgboost as xgb\n",
        "\n",
        "dmatrix = xgb.DMatrix(data=X_train, label=y_train)\n",
        "params={ 'objective':'reg:squarederror',\n",
        "         'max_depth': 6, \n",
        "         'colsample_bylevel':0.5,\n",
        "         'learning_rate':0.5, # 0.5,\n",
        "        'n_estimators':200,\n",
        "        #'alpha ':2,\n",
        "        'lambda ':1.5,\n",
        "         'random_state':SEED}\n",
        "cv_results = xgb.cv(dtrain=dmatrix, params=params, nfold=10, metrics={'rmse'}, as_pandas=True, seed=SEED)\n",
        "print('RMSE: %.2f' % cv_results['test-rmse-mean'].min())\n"
      ]
    },
    {
      "cell_type": "code",
      "execution_count": null,
      "metadata": {
        "colab": {
          "base_uri": "https://localhost:8080/",
          "height": 423
        },
        "id": "meWeZrvXXeab",
        "outputId": "152c507b-dc07-417f-c989-24e1ecae2e8a"
      },
      "outputs": [
        {
          "name": "stdout",
          "output_type": "stream",
          "text": [
            "Fitting 5 folds for each of 25 candidates, totalling 125 fits\n"
          ]
        },
        {
          "name": "stderr",
          "output_type": "stream",
          "text": [
            "[Parallel(n_jobs=1)]: Using backend SequentialBackend with 1 concurrent workers.\n"
          ]
        },
        {
          "ename": "KeyboardInterrupt",
          "evalue": "ignored",
          "output_type": "error",
          "traceback": [
            "\u001b[0;31m---------------------------------------------------------------------------\u001b[0m",
            "\u001b[0;31mKeyboardInterrupt\u001b[0m                         Traceback (most recent call last)",
            "\u001b[0;32m<ipython-input-374-9352ad7aba9f>\u001b[0m in \u001b[0;36m<module>\u001b[0;34m()\u001b[0m\n\u001b[1;32m     16\u001b[0m                          verbose=1)\n\u001b[1;32m     17\u001b[0m \u001b[0;34m\u001b[0m\u001b[0m\n\u001b[0;32m---> 18\u001b[0;31m \u001b[0mclf\u001b[0m\u001b[0;34m.\u001b[0m\u001b[0mfit\u001b[0m\u001b[0;34m(\u001b[0m\u001b[0mX_train\u001b[0m\u001b[0;34m,\u001b[0m \u001b[0my_train\u001b[0m\u001b[0;34m)\u001b[0m\u001b[0;34m\u001b[0m\u001b[0;34m\u001b[0m\u001b[0m\n\u001b[0m\u001b[1;32m     19\u001b[0m \u001b[0;34m\u001b[0m\u001b[0m\n\u001b[1;32m     20\u001b[0m \u001b[0mprint\u001b[0m\u001b[0;34m(\u001b[0m\u001b[0;34m\"Best parameters:\"\u001b[0m\u001b[0;34m,\u001b[0m \u001b[0mclf\u001b[0m\u001b[0;34m.\u001b[0m\u001b[0mbest_params_\u001b[0m\u001b[0;34m)\u001b[0m\u001b[0;34m\u001b[0m\u001b[0;34m\u001b[0m\u001b[0m\n",
            "\u001b[0;32m/usr/local/lib/python3.7/dist-packages/sklearn/model_selection/_search.py\u001b[0m in \u001b[0;36mfit\u001b[0;34m(self, X, y, groups, **fit_params)\u001b[0m\n\u001b[1;32m    708\u001b[0m                 \u001b[0;32mreturn\u001b[0m \u001b[0mresults\u001b[0m\u001b[0;34m\u001b[0m\u001b[0;34m\u001b[0m\u001b[0m\n\u001b[1;32m    709\u001b[0m \u001b[0;34m\u001b[0m\u001b[0m\n\u001b[0;32m--> 710\u001b[0;31m             \u001b[0mself\u001b[0m\u001b[0;34m.\u001b[0m\u001b[0m_run_search\u001b[0m\u001b[0;34m(\u001b[0m\u001b[0mevaluate_candidates\u001b[0m\u001b[0;34m)\u001b[0m\u001b[0;34m\u001b[0m\u001b[0;34m\u001b[0m\u001b[0m\n\u001b[0m\u001b[1;32m    711\u001b[0m \u001b[0;34m\u001b[0m\u001b[0m\n\u001b[1;32m    712\u001b[0m         \u001b[0;31m# For multi-metric evaluation, store the best_index_, best_params_ and\u001b[0m\u001b[0;34m\u001b[0m\u001b[0;34m\u001b[0m\u001b[0;34m\u001b[0m\u001b[0m\n",
            "\u001b[0;32m/usr/local/lib/python3.7/dist-packages/sklearn/model_selection/_search.py\u001b[0m in \u001b[0;36m_run_search\u001b[0;34m(self, evaluate_candidates)\u001b[0m\n\u001b[1;32m   1482\u001b[0m         evaluate_candidates(ParameterSampler(\n\u001b[1;32m   1483\u001b[0m             \u001b[0mself\u001b[0m\u001b[0;34m.\u001b[0m\u001b[0mparam_distributions\u001b[0m\u001b[0;34m,\u001b[0m \u001b[0mself\u001b[0m\u001b[0;34m.\u001b[0m\u001b[0mn_iter\u001b[0m\u001b[0;34m,\u001b[0m\u001b[0;34m\u001b[0m\u001b[0;34m\u001b[0m\u001b[0m\n\u001b[0;32m-> 1484\u001b[0;31m             random_state=self.random_state))\n\u001b[0m",
            "\u001b[0;32m/usr/local/lib/python3.7/dist-packages/sklearn/model_selection/_search.py\u001b[0m in \u001b[0;36mevaluate_candidates\u001b[0;34m(candidate_params)\u001b[0m\n\u001b[1;32m    687\u001b[0m                                \u001b[0;32mfor\u001b[0m \u001b[0mparameters\u001b[0m\u001b[0;34m,\u001b[0m \u001b[0;34m(\u001b[0m\u001b[0mtrain\u001b[0m\u001b[0;34m,\u001b[0m \u001b[0mtest\u001b[0m\u001b[0;34m)\u001b[0m\u001b[0;34m\u001b[0m\u001b[0;34m\u001b[0m\u001b[0m\n\u001b[1;32m    688\u001b[0m                                in product(candidate_params,\n\u001b[0;32m--> 689\u001b[0;31m                                           cv.split(X, y, groups)))\n\u001b[0m\u001b[1;32m    690\u001b[0m \u001b[0;34m\u001b[0m\u001b[0m\n\u001b[1;32m    691\u001b[0m                 \u001b[0;32mif\u001b[0m \u001b[0mlen\u001b[0m\u001b[0;34m(\u001b[0m\u001b[0mout\u001b[0m\u001b[0;34m)\u001b[0m \u001b[0;34m<\u001b[0m \u001b[0;36m1\u001b[0m\u001b[0;34m:\u001b[0m\u001b[0;34m\u001b[0m\u001b[0;34m\u001b[0m\u001b[0m\n",
            "\u001b[0;32m/usr/local/lib/python3.7/dist-packages/joblib/parallel.py\u001b[0m in \u001b[0;36m__call__\u001b[0;34m(self, iterable)\u001b[0m\n\u001b[1;32m   1042\u001b[0m                 \u001b[0mself\u001b[0m\u001b[0;34m.\u001b[0m\u001b[0m_iterating\u001b[0m \u001b[0;34m=\u001b[0m \u001b[0mself\u001b[0m\u001b[0;34m.\u001b[0m\u001b[0m_original_iterator\u001b[0m \u001b[0;32mis\u001b[0m \u001b[0;32mnot\u001b[0m \u001b[0;32mNone\u001b[0m\u001b[0;34m\u001b[0m\u001b[0;34m\u001b[0m\u001b[0m\n\u001b[1;32m   1043\u001b[0m \u001b[0;34m\u001b[0m\u001b[0m\n\u001b[0;32m-> 1044\u001b[0;31m             \u001b[0;32mwhile\u001b[0m \u001b[0mself\u001b[0m\u001b[0;34m.\u001b[0m\u001b[0mdispatch_one_batch\u001b[0m\u001b[0;34m(\u001b[0m\u001b[0miterator\u001b[0m\u001b[0;34m)\u001b[0m\u001b[0;34m:\u001b[0m\u001b[0;34m\u001b[0m\u001b[0;34m\u001b[0m\u001b[0m\n\u001b[0m\u001b[1;32m   1045\u001b[0m                 \u001b[0;32mpass\u001b[0m\u001b[0;34m\u001b[0m\u001b[0;34m\u001b[0m\u001b[0m\n\u001b[1;32m   1046\u001b[0m \u001b[0;34m\u001b[0m\u001b[0m\n",
            "\u001b[0;32m/usr/local/lib/python3.7/dist-packages/joblib/parallel.py\u001b[0m in \u001b[0;36mdispatch_one_batch\u001b[0;34m(self, iterator)\u001b[0m\n\u001b[1;32m    857\u001b[0m                 \u001b[0;32mreturn\u001b[0m \u001b[0;32mFalse\u001b[0m\u001b[0;34m\u001b[0m\u001b[0;34m\u001b[0m\u001b[0m\n\u001b[1;32m    858\u001b[0m             \u001b[0;32melse\u001b[0m\u001b[0;34m:\u001b[0m\u001b[0;34m\u001b[0m\u001b[0;34m\u001b[0m\u001b[0m\n\u001b[0;32m--> 859\u001b[0;31m                 \u001b[0mself\u001b[0m\u001b[0;34m.\u001b[0m\u001b[0m_dispatch\u001b[0m\u001b[0;34m(\u001b[0m\u001b[0mtasks\u001b[0m\u001b[0;34m)\u001b[0m\u001b[0;34m\u001b[0m\u001b[0;34m\u001b[0m\u001b[0m\n\u001b[0m\u001b[1;32m    860\u001b[0m                 \u001b[0;32mreturn\u001b[0m \u001b[0;32mTrue\u001b[0m\u001b[0;34m\u001b[0m\u001b[0;34m\u001b[0m\u001b[0m\n\u001b[1;32m    861\u001b[0m \u001b[0;34m\u001b[0m\u001b[0m\n",
            "\u001b[0;32m/usr/local/lib/python3.7/dist-packages/joblib/parallel.py\u001b[0m in \u001b[0;36m_dispatch\u001b[0;34m(self, batch)\u001b[0m\n\u001b[1;32m    775\u001b[0m         \u001b[0;32mwith\u001b[0m \u001b[0mself\u001b[0m\u001b[0;34m.\u001b[0m\u001b[0m_lock\u001b[0m\u001b[0;34m:\u001b[0m\u001b[0;34m\u001b[0m\u001b[0;34m\u001b[0m\u001b[0m\n\u001b[1;32m    776\u001b[0m             \u001b[0mjob_idx\u001b[0m \u001b[0;34m=\u001b[0m \u001b[0mlen\u001b[0m\u001b[0;34m(\u001b[0m\u001b[0mself\u001b[0m\u001b[0;34m.\u001b[0m\u001b[0m_jobs\u001b[0m\u001b[0;34m)\u001b[0m\u001b[0;34m\u001b[0m\u001b[0;34m\u001b[0m\u001b[0m\n\u001b[0;32m--> 777\u001b[0;31m             \u001b[0mjob\u001b[0m \u001b[0;34m=\u001b[0m \u001b[0mself\u001b[0m\u001b[0;34m.\u001b[0m\u001b[0m_backend\u001b[0m\u001b[0;34m.\u001b[0m\u001b[0mapply_async\u001b[0m\u001b[0;34m(\u001b[0m\u001b[0mbatch\u001b[0m\u001b[0;34m,\u001b[0m \u001b[0mcallback\u001b[0m\u001b[0;34m=\u001b[0m\u001b[0mcb\u001b[0m\u001b[0;34m)\u001b[0m\u001b[0;34m\u001b[0m\u001b[0;34m\u001b[0m\u001b[0m\n\u001b[0m\u001b[1;32m    778\u001b[0m             \u001b[0;31m# A job can complete so quickly than its callback is\u001b[0m\u001b[0;34m\u001b[0m\u001b[0;34m\u001b[0m\u001b[0;34m\u001b[0m\u001b[0m\n\u001b[1;32m    779\u001b[0m             \u001b[0;31m# called before we get here, causing self._jobs to\u001b[0m\u001b[0;34m\u001b[0m\u001b[0;34m\u001b[0m\u001b[0;34m\u001b[0m\u001b[0m\n",
            "\u001b[0;32m/usr/local/lib/python3.7/dist-packages/joblib/_parallel_backends.py\u001b[0m in \u001b[0;36mapply_async\u001b[0;34m(self, func, callback)\u001b[0m\n\u001b[1;32m    206\u001b[0m     \u001b[0;32mdef\u001b[0m \u001b[0mapply_async\u001b[0m\u001b[0;34m(\u001b[0m\u001b[0mself\u001b[0m\u001b[0;34m,\u001b[0m \u001b[0mfunc\u001b[0m\u001b[0;34m,\u001b[0m \u001b[0mcallback\u001b[0m\u001b[0;34m=\u001b[0m\u001b[0;32mNone\u001b[0m\u001b[0;34m)\u001b[0m\u001b[0;34m:\u001b[0m\u001b[0;34m\u001b[0m\u001b[0;34m\u001b[0m\u001b[0m\n\u001b[1;32m    207\u001b[0m         \u001b[0;34m\"\"\"Schedule a func to be run\"\"\"\u001b[0m\u001b[0;34m\u001b[0m\u001b[0;34m\u001b[0m\u001b[0m\n\u001b[0;32m--> 208\u001b[0;31m         \u001b[0mresult\u001b[0m \u001b[0;34m=\u001b[0m \u001b[0mImmediateResult\u001b[0m\u001b[0;34m(\u001b[0m\u001b[0mfunc\u001b[0m\u001b[0;34m)\u001b[0m\u001b[0;34m\u001b[0m\u001b[0;34m\u001b[0m\u001b[0m\n\u001b[0m\u001b[1;32m    209\u001b[0m         \u001b[0;32mif\u001b[0m \u001b[0mcallback\u001b[0m\u001b[0;34m:\u001b[0m\u001b[0;34m\u001b[0m\u001b[0;34m\u001b[0m\u001b[0m\n\u001b[1;32m    210\u001b[0m             \u001b[0mcallback\u001b[0m\u001b[0;34m(\u001b[0m\u001b[0mresult\u001b[0m\u001b[0;34m)\u001b[0m\u001b[0;34m\u001b[0m\u001b[0;34m\u001b[0m\u001b[0m\n",
            "\u001b[0;32m/usr/local/lib/python3.7/dist-packages/joblib/_parallel_backends.py\u001b[0m in \u001b[0;36m__init__\u001b[0;34m(self, batch)\u001b[0m\n\u001b[1;32m    570\u001b[0m         \u001b[0;31m# Don't delay the application, to avoid keeping the input\u001b[0m\u001b[0;34m\u001b[0m\u001b[0;34m\u001b[0m\u001b[0;34m\u001b[0m\u001b[0m\n\u001b[1;32m    571\u001b[0m         \u001b[0;31m# arguments in memory\u001b[0m\u001b[0;34m\u001b[0m\u001b[0;34m\u001b[0m\u001b[0;34m\u001b[0m\u001b[0m\n\u001b[0;32m--> 572\u001b[0;31m         \u001b[0mself\u001b[0m\u001b[0;34m.\u001b[0m\u001b[0mresults\u001b[0m \u001b[0;34m=\u001b[0m \u001b[0mbatch\u001b[0m\u001b[0;34m(\u001b[0m\u001b[0;34m)\u001b[0m\u001b[0;34m\u001b[0m\u001b[0;34m\u001b[0m\u001b[0m\n\u001b[0m\u001b[1;32m    573\u001b[0m \u001b[0;34m\u001b[0m\u001b[0m\n\u001b[1;32m    574\u001b[0m     \u001b[0;32mdef\u001b[0m \u001b[0mget\u001b[0m\u001b[0;34m(\u001b[0m\u001b[0mself\u001b[0m\u001b[0;34m)\u001b[0m\u001b[0;34m:\u001b[0m\u001b[0;34m\u001b[0m\u001b[0;34m\u001b[0m\u001b[0m\n",
            "\u001b[0;32m/usr/local/lib/python3.7/dist-packages/joblib/parallel.py\u001b[0m in \u001b[0;36m__call__\u001b[0;34m(self)\u001b[0m\n\u001b[1;32m    261\u001b[0m         \u001b[0;32mwith\u001b[0m \u001b[0mparallel_backend\u001b[0m\u001b[0;34m(\u001b[0m\u001b[0mself\u001b[0m\u001b[0;34m.\u001b[0m\u001b[0m_backend\u001b[0m\u001b[0;34m,\u001b[0m \u001b[0mn_jobs\u001b[0m\u001b[0;34m=\u001b[0m\u001b[0mself\u001b[0m\u001b[0;34m.\u001b[0m\u001b[0m_n_jobs\u001b[0m\u001b[0;34m)\u001b[0m\u001b[0;34m:\u001b[0m\u001b[0;34m\u001b[0m\u001b[0;34m\u001b[0m\u001b[0m\n\u001b[1;32m    262\u001b[0m             return [func(*args, **kwargs)\n\u001b[0;32m--> 263\u001b[0;31m                     for func, args, kwargs in self.items]\n\u001b[0m\u001b[1;32m    264\u001b[0m \u001b[0;34m\u001b[0m\u001b[0m\n\u001b[1;32m    265\u001b[0m     \u001b[0;32mdef\u001b[0m \u001b[0m__reduce__\u001b[0m\u001b[0;34m(\u001b[0m\u001b[0mself\u001b[0m\u001b[0;34m)\u001b[0m\u001b[0;34m:\u001b[0m\u001b[0;34m\u001b[0m\u001b[0;34m\u001b[0m\u001b[0m\n",
            "\u001b[0;32m/usr/local/lib/python3.7/dist-packages/joblib/parallel.py\u001b[0m in \u001b[0;36m<listcomp>\u001b[0;34m(.0)\u001b[0m\n\u001b[1;32m    261\u001b[0m         \u001b[0;32mwith\u001b[0m \u001b[0mparallel_backend\u001b[0m\u001b[0;34m(\u001b[0m\u001b[0mself\u001b[0m\u001b[0;34m.\u001b[0m\u001b[0m_backend\u001b[0m\u001b[0;34m,\u001b[0m \u001b[0mn_jobs\u001b[0m\u001b[0;34m=\u001b[0m\u001b[0mself\u001b[0m\u001b[0;34m.\u001b[0m\u001b[0m_n_jobs\u001b[0m\u001b[0;34m)\u001b[0m\u001b[0;34m:\u001b[0m\u001b[0;34m\u001b[0m\u001b[0;34m\u001b[0m\u001b[0m\n\u001b[1;32m    262\u001b[0m             return [func(*args, **kwargs)\n\u001b[0;32m--> 263\u001b[0;31m                     for func, args, kwargs in self.items]\n\u001b[0m\u001b[1;32m    264\u001b[0m \u001b[0;34m\u001b[0m\u001b[0m\n\u001b[1;32m    265\u001b[0m     \u001b[0;32mdef\u001b[0m \u001b[0m__reduce__\u001b[0m\u001b[0;34m(\u001b[0m\u001b[0mself\u001b[0m\u001b[0;34m)\u001b[0m\u001b[0;34m:\u001b[0m\u001b[0;34m\u001b[0m\u001b[0;34m\u001b[0m\u001b[0m\n",
            "\u001b[0;32m/usr/local/lib/python3.7/dist-packages/sklearn/model_selection/_validation.py\u001b[0m in \u001b[0;36m_fit_and_score\u001b[0;34m(estimator, X, y, scorer, train, test, verbose, parameters, fit_params, return_train_score, return_parameters, return_n_test_samples, return_times, return_estimator, error_score)\u001b[0m\n\u001b[1;32m    513\u001b[0m             \u001b[0mestimator\u001b[0m\u001b[0;34m.\u001b[0m\u001b[0mfit\u001b[0m\u001b[0;34m(\u001b[0m\u001b[0mX_train\u001b[0m\u001b[0;34m,\u001b[0m \u001b[0;34m**\u001b[0m\u001b[0mfit_params\u001b[0m\u001b[0;34m)\u001b[0m\u001b[0;34m\u001b[0m\u001b[0;34m\u001b[0m\u001b[0m\n\u001b[1;32m    514\u001b[0m         \u001b[0;32melse\u001b[0m\u001b[0;34m:\u001b[0m\u001b[0;34m\u001b[0m\u001b[0;34m\u001b[0m\u001b[0m\n\u001b[0;32m--> 515\u001b[0;31m             \u001b[0mestimator\u001b[0m\u001b[0;34m.\u001b[0m\u001b[0mfit\u001b[0m\u001b[0;34m(\u001b[0m\u001b[0mX_train\u001b[0m\u001b[0;34m,\u001b[0m \u001b[0my_train\u001b[0m\u001b[0;34m,\u001b[0m \u001b[0;34m**\u001b[0m\u001b[0mfit_params\u001b[0m\u001b[0;34m)\u001b[0m\u001b[0;34m\u001b[0m\u001b[0;34m\u001b[0m\u001b[0m\n\u001b[0m\u001b[1;32m    516\u001b[0m \u001b[0;34m\u001b[0m\u001b[0m\n\u001b[1;32m    517\u001b[0m     \u001b[0;32mexcept\u001b[0m \u001b[0mException\u001b[0m \u001b[0;32mas\u001b[0m \u001b[0me\u001b[0m\u001b[0;34m:\u001b[0m\u001b[0;34m\u001b[0m\u001b[0;34m\u001b[0m\u001b[0m\n",
            "\u001b[0;32m/usr/local/lib/python3.7/dist-packages/xgboost/sklearn.py\u001b[0m in \u001b[0;36mfit\u001b[0;34m(self, X, y, sample_weight, eval_set, eval_metric, early_stopping_rounds, verbose, xgb_model, sample_weight_eval_set, callbacks)\u001b[0m\n\u001b[1;32m    394\u001b[0m                               \u001b[0mevals_result\u001b[0m\u001b[0;34m=\u001b[0m\u001b[0mevals_result\u001b[0m\u001b[0;34m,\u001b[0m \u001b[0mobj\u001b[0m\u001b[0;34m=\u001b[0m\u001b[0mobj\u001b[0m\u001b[0;34m,\u001b[0m \u001b[0mfeval\u001b[0m\u001b[0;34m=\u001b[0m\u001b[0mfeval\u001b[0m\u001b[0;34m,\u001b[0m\u001b[0;34m\u001b[0m\u001b[0;34m\u001b[0m\u001b[0m\n\u001b[1;32m    395\u001b[0m                               \u001b[0mverbose_eval\u001b[0m\u001b[0;34m=\u001b[0m\u001b[0mverbose\u001b[0m\u001b[0;34m,\u001b[0m \u001b[0mxgb_model\u001b[0m\u001b[0;34m=\u001b[0m\u001b[0mxgb_model\u001b[0m\u001b[0;34m,\u001b[0m\u001b[0;34m\u001b[0m\u001b[0;34m\u001b[0m\u001b[0m\n\u001b[0;32m--> 396\u001b[0;31m                               callbacks=callbacks)\n\u001b[0m\u001b[1;32m    397\u001b[0m \u001b[0;34m\u001b[0m\u001b[0m\n\u001b[1;32m    398\u001b[0m         \u001b[0;32mif\u001b[0m \u001b[0mevals_result\u001b[0m\u001b[0;34m:\u001b[0m\u001b[0;34m\u001b[0m\u001b[0;34m\u001b[0m\u001b[0m\n",
            "\u001b[0;32m/usr/local/lib/python3.7/dist-packages/xgboost/training.py\u001b[0m in \u001b[0;36mtrain\u001b[0;34m(params, dtrain, num_boost_round, evals, obj, feval, maximize, early_stopping_rounds, evals_result, verbose_eval, xgb_model, callbacks, learning_rates)\u001b[0m\n\u001b[1;32m    214\u001b[0m                            \u001b[0mevals\u001b[0m\u001b[0;34m=\u001b[0m\u001b[0mevals\u001b[0m\u001b[0;34m,\u001b[0m\u001b[0;34m\u001b[0m\u001b[0;34m\u001b[0m\u001b[0m\n\u001b[1;32m    215\u001b[0m                            \u001b[0mobj\u001b[0m\u001b[0;34m=\u001b[0m\u001b[0mobj\u001b[0m\u001b[0;34m,\u001b[0m \u001b[0mfeval\u001b[0m\u001b[0;34m=\u001b[0m\u001b[0mfeval\u001b[0m\u001b[0;34m,\u001b[0m\u001b[0;34m\u001b[0m\u001b[0;34m\u001b[0m\u001b[0m\n\u001b[0;32m--> 216\u001b[0;31m                            xgb_model=xgb_model, callbacks=callbacks)\n\u001b[0m\u001b[1;32m    217\u001b[0m \u001b[0;34m\u001b[0m\u001b[0m\n\u001b[1;32m    218\u001b[0m \u001b[0;34m\u001b[0m\u001b[0m\n",
            "\u001b[0;32m/usr/local/lib/python3.7/dist-packages/xgboost/training.py\u001b[0m in \u001b[0;36m_train_internal\u001b[0;34m(params, dtrain, num_boost_round, evals, obj, feval, xgb_model, callbacks)\u001b[0m\n\u001b[1;32m     72\u001b[0m         \u001b[0;31m# Skip the first update if it is a recovery step.\u001b[0m\u001b[0;34m\u001b[0m\u001b[0;34m\u001b[0m\u001b[0;34m\u001b[0m\u001b[0m\n\u001b[1;32m     73\u001b[0m         \u001b[0;32mif\u001b[0m \u001b[0mversion\u001b[0m \u001b[0;34m%\u001b[0m \u001b[0;36m2\u001b[0m \u001b[0;34m==\u001b[0m \u001b[0;36m0\u001b[0m\u001b[0;34m:\u001b[0m\u001b[0;34m\u001b[0m\u001b[0;34m\u001b[0m\u001b[0m\n\u001b[0;32m---> 74\u001b[0;31m             \u001b[0mbst\u001b[0m\u001b[0;34m.\u001b[0m\u001b[0mupdate\u001b[0m\u001b[0;34m(\u001b[0m\u001b[0mdtrain\u001b[0m\u001b[0;34m,\u001b[0m \u001b[0mi\u001b[0m\u001b[0;34m,\u001b[0m \u001b[0mobj\u001b[0m\u001b[0;34m)\u001b[0m\u001b[0;34m\u001b[0m\u001b[0;34m\u001b[0m\u001b[0m\n\u001b[0m\u001b[1;32m     75\u001b[0m             \u001b[0mbst\u001b[0m\u001b[0;34m.\u001b[0m\u001b[0msave_rabit_checkpoint\u001b[0m\u001b[0;34m(\u001b[0m\u001b[0;34m)\u001b[0m\u001b[0;34m\u001b[0m\u001b[0;34m\u001b[0m\u001b[0m\n\u001b[1;32m     76\u001b[0m             \u001b[0mversion\u001b[0m \u001b[0;34m+=\u001b[0m \u001b[0;36m1\u001b[0m\u001b[0;34m\u001b[0m\u001b[0;34m\u001b[0m\u001b[0m\n",
            "\u001b[0;32m/usr/local/lib/python3.7/dist-packages/xgboost/core.py\u001b[0m in \u001b[0;36mupdate\u001b[0;34m(self, dtrain, iteration, fobj)\u001b[0m\n\u001b[1;32m   1107\u001b[0m         \u001b[0;32mif\u001b[0m \u001b[0mfobj\u001b[0m \u001b[0;32mis\u001b[0m \u001b[0;32mNone\u001b[0m\u001b[0;34m:\u001b[0m\u001b[0;34m\u001b[0m\u001b[0;34m\u001b[0m\u001b[0m\n\u001b[1;32m   1108\u001b[0m             _check_call(_LIB.XGBoosterUpdateOneIter(self.handle, ctypes.c_int(iteration),\n\u001b[0;32m-> 1109\u001b[0;31m                                                     dtrain.handle))\n\u001b[0m\u001b[1;32m   1110\u001b[0m         \u001b[0;32melse\u001b[0m\u001b[0;34m:\u001b[0m\u001b[0;34m\u001b[0m\u001b[0;34m\u001b[0m\u001b[0m\n\u001b[1;32m   1111\u001b[0m             \u001b[0mpred\u001b[0m \u001b[0;34m=\u001b[0m \u001b[0mself\u001b[0m\u001b[0;34m.\u001b[0m\u001b[0mpredict\u001b[0m\u001b[0;34m(\u001b[0m\u001b[0mdtrain\u001b[0m\u001b[0;34m)\u001b[0m\u001b[0;34m\u001b[0m\u001b[0;34m\u001b[0m\u001b[0m\n",
            "\u001b[0;31mKeyboardInterrupt\u001b[0m: "
          ]
        }
      ],
      "source": [
        "from sklearn.model_selection import RandomizedSearchCV\n",
        "\n",
        "params = {\n",
        "          'max_depth': [3, 5, 6, 10, 15, 20],\n",
        "           'learning_rate': [0.01, 0.1, 0.2, 0.3],\n",
        "           'subsample': np.arange(0.5, 1.0, 0.1),\n",
        "           'colsample_bytree': np.arange(0.4, 1.0, 0.1),\n",
        "           'colsample_bylevel': np.arange(0.4, 1.0, 0.1),\n",
        "           'n_estimators': [100, 500, 1000]}\n",
        "xgbr = xgb.XGBRegressor(seed = SEED, objective='reg:squarederror')\n",
        "\n",
        "clf = RandomizedSearchCV(estimator=xgbr,\n",
        "                         param_distributions=params,\n",
        "                         scoring='neg_root_mean_squared_error',\n",
        "                         n_iter=25,\n",
        "                         verbose=1)\n",
        "\n",
        "clf.fit(X_train, y_train)\n",
        "\n",
        "print(\"Best parameters:\", clf.best_params_)\n",
        "print(\"Lowest RMSE: \", (-clf.best_score_)**(1/2.0))"
      ]
    },
    {
      "cell_type": "markdown",
      "metadata": {
        "id": "JN6rQVpP4FuW"
      },
      "source": [
        "##LGBM"
      ]
    },
    {
      "cell_type": "code",
      "execution_count": null,
      "metadata": {
        "colab": {
          "base_uri": "https://localhost:8080/"
        },
        "id": "lae3uI21qVCQ",
        "outputId": "08e4dc0d-753c-4715-eb40-ac27bdb2edb1"
      },
      "outputs": [
        {
          "name": "stdout",
          "output_type": "stream",
          "text": [
            "MAE: -107.906 (15.543)\n"
          ]
        }
      ],
      "source": [
        "#!pip install lightgbm\n",
        "from lightgbm import LGBMRegressor\n",
        "model = LGBMRegressor()\n",
        "cv = RepeatedKFold(n_splits=10, n_repeats=3, random_state=SEED)\n",
        "n_scores = cross_val_score(model, X_train, y_train, scoring='neg_root_mean_squared_error', cv=cv, n_jobs=-1, error_score='raise')\n",
        "print('MAE: %.3f (%.3f)' % (mean(n_scores), std(n_scores))) # MAE: -107.906 (15.543)"
      ]
    },
    {
      "cell_type": "markdown",
      "metadata": {
        "id": "whnEQxIf4e0V"
      },
      "source": [
        "##catboost"
      ]
    },
    {
      "cell_type": "code",
      "execution_count": null,
      "metadata": {
        "id": "I7ojBqTE4otH"
      },
      "outputs": [],
      "source": [
        "#!pip install catboost"
      ]
    },
    {
      "cell_type": "code",
      "execution_count": null,
      "metadata": {
        "colab": {
          "base_uri": "https://localhost:8080/",
          "height": 239
        },
        "id": "dOuokYpy4d3Q",
        "outputId": "47c3a6af-1d4c-4a56-dc8f-b04279a7c60c"
      },
      "outputs": [
        {
          "ename": "TypeError",
          "evalue": "ignored",
          "output_type": "error",
          "traceback": [
            "\u001b[0;31m---------------------------------------------------------------------------\u001b[0m",
            "\u001b[0;31mTypeError\u001b[0m                                 Traceback (most recent call last)",
            "\u001b[0;32m<ipython-input-153-a1fc2d15dbff>\u001b[0m in \u001b[0;36m<module>\u001b[0;34m()\u001b[0m\n\u001b[1;32m      1\u001b[0m \u001b[0;32mfrom\u001b[0m \u001b[0mcatboost\u001b[0m \u001b[0;32mimport\u001b[0m \u001b[0mCatBoostRegressor\u001b[0m\u001b[0;34m\u001b[0m\u001b[0;34m\u001b[0m\u001b[0m\n\u001b[1;32m      2\u001b[0m \u001b[0mmodel\u001b[0m \u001b[0;34m=\u001b[0m \u001b[0mCatBoostRegressor\u001b[0m\u001b[0;34m(\u001b[0m\u001b[0mverbose\u001b[0m\u001b[0;34m=\u001b[0m\u001b[0;36m0\u001b[0m\u001b[0;34m,\u001b[0m \u001b[0mn_estimators\u001b[0m\u001b[0;34m=\u001b[0m\u001b[0;36m100\u001b[0m\u001b[0;34m)\u001b[0m\u001b[0;34m\u001b[0m\u001b[0;34m\u001b[0m\u001b[0m\n\u001b[0;32m----> 3\u001b[0;31m \u001b[0mcv\u001b[0m \u001b[0;34m=\u001b[0m \u001b[0mRepeatedKFold\u001b[0m\u001b[0;34m(\u001b[0m\u001b[0mn_splits\u001b[0m\u001b[0;34m=\u001b[0m\u001b[0;36m10\u001b[0m\u001b[0;34m,\u001b[0m \u001b[0mn_repeats\u001b[0m\u001b[0;34m=\u001b[0m\u001b[0;36m3\u001b[0m\u001b[0;34m,\u001b[0m \u001b[0mrandom_state\u001b[0m\u001b[0;34m=\u001b[0m\u001b[0mSEED\u001b[0m\u001b[0;34m,\u001b[0m \u001b[0mlearning_rate\u001b[0m\u001b[0;34m=\u001b[0m\u001b[0;36m0.9\u001b[0m\u001b[0;34m)\u001b[0m\u001b[0;34m\u001b[0m\u001b[0;34m\u001b[0m\u001b[0m\n\u001b[0m\u001b[1;32m      4\u001b[0m \u001b[0mn_scores\u001b[0m \u001b[0;34m=\u001b[0m \u001b[0mcross_val_score\u001b[0m\u001b[0;34m(\u001b[0m\u001b[0mmodel\u001b[0m\u001b[0;34m,\u001b[0m \u001b[0mX_train\u001b[0m\u001b[0;34m,\u001b[0m \u001b[0my_train\u001b[0m\u001b[0;34m,\u001b[0m \u001b[0mscoring\u001b[0m\u001b[0;34m=\u001b[0m\u001b[0;34m'neg_root_mean_squared_error'\u001b[0m\u001b[0;34m,\u001b[0m \u001b[0mcv\u001b[0m\u001b[0;34m=\u001b[0m\u001b[0mcv\u001b[0m\u001b[0;34m,\u001b[0m \u001b[0mn_jobs\u001b[0m\u001b[0;34m=\u001b[0m\u001b[0;34m-\u001b[0m\u001b[0;36m1\u001b[0m\u001b[0;34m,\u001b[0m \u001b[0merror_score\u001b[0m\u001b[0;34m=\u001b[0m\u001b[0;34m'raise'\u001b[0m\u001b[0;34m)\u001b[0m\u001b[0;34m\u001b[0m\u001b[0;34m\u001b[0m\u001b[0m\n\u001b[1;32m      5\u001b[0m \u001b[0mprint\u001b[0m\u001b[0;34m(\u001b[0m\u001b[0;34m'MAE: %.3f (%.3f)'\u001b[0m \u001b[0;34m%\u001b[0m \u001b[0;34m(\u001b[0m\u001b[0mmean\u001b[0m\u001b[0;34m(\u001b[0m\u001b[0mn_scores\u001b[0m\u001b[0;34m)\u001b[0m\u001b[0;34m,\u001b[0m \u001b[0mstd\u001b[0m\u001b[0;34m(\u001b[0m\u001b[0mn_scores\u001b[0m\u001b[0;34m)\u001b[0m\u001b[0;34m)\u001b[0m\u001b[0;34m)\u001b[0m \u001b[0;31m# MAE: -227.432 (38.044)\u001b[0m\u001b[0;34m\u001b[0m\u001b[0;34m\u001b[0m\u001b[0m\n",
            "\u001b[0;31mTypeError\u001b[0m: __init__() got an unexpected keyword argument 'learning_rate'"
          ]
        }
      ],
      "source": [
        "from catboost import CatBoostRegressor\n",
        "model = CatBoostRegressor(verbose=0, n_estimators=100)\n",
        "cv = RepeatedKFold(n_splits=10, n_repeats=3, random_state=SEED)\n",
        "n_scores = cross_val_score(model, X_train, y_train, scoring='neg_root_mean_squared_error', cv=cv, n_jobs=-1, error_score='raise')\n",
        "print('MAE: %.3f (%.3f)' % (mean(n_scores), std(n_scores))) # MAE: -227.432 (38.044)"
      ]
    },
    {
      "cell_type": "code",
      "execution_count": null,
      "metadata": {
        "colab": {
          "base_uri": "https://localhost:8080/"
        },
        "id": "Rg6PjdZlga-5",
        "outputId": "edf9982f-b67c-4291-c0d2-30cb26ccdbda"
      },
      "outputs": [
        {
          "data": {
            "text/plain": [
              "163.97489758483152"
            ]
          },
          "execution_count": 204,
          "metadata": {},
          "output_type": "execute_result"
        }
      ],
      "source": [
        "from catboost import CatBoostRegressor\n",
        "\n",
        "model = CatBoostRegressor(verbose=0, iterations=200, depth=5, learning_rate=0.365, l2_leaf_reg=1, loss_function=\"RMSE\") # 5-193\n",
        "\n",
        "model.fit(X_train, y_train)\n",
        "\n",
        "y_pred = model.predict(X_test)\n",
        "\n",
        "from sklearn.metrics import mean_squared_error\n",
        "mean_squared_error(y_pred, y_test, squared=False)"
      ]
    },
    {
      "cell_type": "markdown",
      "metadata": {
        "id": "682hRas3pflX"
      },
      "source": [
        "##SVR"
      ]
    },
    {
      "cell_type": "code",
      "execution_count": null,
      "metadata": {
        "colab": {
          "base_uri": "https://localhost:8080/"
        },
        "id": "ptVLByHLph9Z",
        "outputId": "591f8874-2a2d-4731-f801-2f9cdd73ebb9"
      },
      "outputs": [
        {
          "name": "stdout",
          "output_type": "stream",
          "text": [
            "MAE: -13137.179 (606.234)\n"
          ]
        }
      ],
      "source": [
        "from sklearn.svm import SVR\n",
        "from sklearn.pipeline import make_pipeline\n",
        "from sklearn.preprocessing import StandardScaler\n",
        "\n",
        "#regr = make_pipeline(StandardScaler(), SVR(C=1.0, epsilon=0.2))\n",
        "regr = SVR(C=1.0, epsilon=0.2)\n",
        "\n",
        "cv = RepeatedKFold(n_splits=10, n_repeats=3, random_state=SEED)\n",
        "n_scores = cross_val_score(regr, X_train, y_train, scoring='neg_root_mean_squared_error', cv=cv, n_jobs=-1, error_score='raise')\n",
        "print('MAE: %.3f (%.3f)' % (mean(n_scores), std(n_scores)))"
      ]
    },
    {
      "cell_type": "markdown",
      "metadata": {
        "id": "5szDXbL8up3F"
      },
      "source": [
        "##ridge"
      ]
    },
    {
      "cell_type": "markdown",
      "metadata": {
        "id": "1henWebvjcZv"
      },
      "source": [
        "### test"
      ]
    },
    {
      "cell_type": "code",
      "execution_count": null,
      "metadata": {
        "colab": {
          "base_uri": "https://localhost:8080/"
        },
        "id": "sU3Iose-uliJ",
        "outputId": "dc573ac5-56d1-4abb-d867-98ee62c89852"
      },
      "outputs": [
        {
          "name": "stdout",
          "output_type": "stream",
          "text": [
            "RMSE: -17.580 (2.005)\n"
          ]
        }
      ],
      "source": [
        "#ridge_rg = make_pipeline(StandardScaler(), Ridge(alpha=1.0))\n",
        "def ridge_rg(X_given, y_given=y_train):\n",
        "  ridge_rg = Ridge(alpha=1, solver=\"auto\") # 52\n",
        "  #ridge_rg = make_pipeline(RobustScaler(), Ridge(alpha=1.0)) # 77\n",
        "  #ridge_rg = KernelRidge(alpha=1.0)\n",
        "\n",
        "  cv = RepeatedKFold(n_splits=10, n_repeats=5, random_state=SEED)\n",
        "  n_scores = cross_val_score(ridge_rg, X_given, y_given, scoring='neg_root_mean_squared_error', cv=cv, n_jobs=-1, error_score='raise')\n",
        "  print('RMSE: %.3f (%.3f)' % (mean(n_scores), std(n_scores)))\n",
        "\n",
        "#ridge_rg(X_imp_mean,y_delete) \n",
        "#ridge_rg(X_cleaned,y_cleaned) # RMSE: -63.052 (6.967)\n",
        "#ridge_rg(X_delete_cleaned,y_delete_cleaned) # RMSE: -32.634 (56.319)\n",
        "#ridge_rg(X_train_cleaned,y_train_cleaned) # RMSE: -19.272 (11.371), alpha = 100 -> RMSE: -17.142 (2.080)\n",
        "#ridge_rg(X_train, y_train) \n",
        "#ridge_rg(X_imputed, y_delete)\n",
        "#ridge_rg(X_delete_cleaned, y_delete_cleaned)\n",
        "#ridge_rg(X_delete_robust, y_delete)\n",
        "#ridge_rg(X_imp_knn, y_delete)\n",
        "#ridge_rg(X_reduced, y_delete)\n",
        "ridge_rg(X_imp_median, y_train)"
      ]
    },
    {
      "cell_type": "code",
      "execution_count": null,
      "metadata": {
        "colab": {
          "base_uri": "https://localhost:8080/"
        },
        "id": "NOJX2NE0jWus",
        "outputId": "0d29da09-837e-4978-dad0-32e0bd7ca3f7"
      },
      "outputs": [
        {
          "name": "stderr",
          "output_type": "stream",
          "text": [
            "/usr/local/lib/python3.7/dist-packages/sklearn/linear_model/_ridge.py:148: LinAlgWarning: Ill-conditioned matrix (rcond=1.61801e-27): result may not be accurate.\n",
            "  overwrite_a=True).T\n"
          ]
        },
        {
          "data": {
            "text/plain": [
              "83.38126033859747"
            ]
          },
          "execution_count": 87,
          "metadata": {},
          "output_type": "execute_result"
        }
      ],
      "source": [
        "#submission\n",
        "ridge_rg = Ridge(alpha=1, solver=\"auto\",random_state=SEED)\n",
        "\n",
        "ridge_rg.fit(X_train_cleaned, y_train_cleaned) # 81\n",
        "#ridge_rg.fit(X_train, y_train) # 77\n",
        "#ridge_rg.fit(X_delete, y_delete) # 81\n",
        "y_pred = ridge_rg.predict(X_test)\n",
        "\n",
        "#ridge_rg.fit(X_delete_cleaned, y_delete_cleaned) # 81\n",
        "#ridge_rg.fit(X_reduced, y_delete)x # 81\n",
        "#y_pred = ridge_rg.predict(X_test_reduced)\n",
        "\n",
        "#y_pred = ridge_rg.predict(X_test_imputed)\n",
        "\n",
        "from sklearn.metrics import mean_squared_error\n",
        "mean_squared_error(y_pred, y_test, squared=False)"
      ]
    },
    {
      "cell_type": "code",
      "execution_count": null,
      "metadata": {
        "colab": {
          "base_uri": "https://localhost:8080/"
        },
        "id": "BovGKtTW90OY",
        "outputId": "4e6a957a-2ed3-40d9-a6b1-965a2c7be45f"
      },
      "outputs": [
        {
          "data": {
            "text/plain": [
              "83.38057545483085"
            ]
          },
          "execution_count": 88,
          "metadata": {},
          "output_type": "execute_result"
        }
      ],
      "source": [
        "#y_pred[y_pred<0] = 0\n",
        "y_pred[(y_pred<100)] = 0\n",
        "\n",
        "from sklearn.metrics import mean_squared_error\n",
        "mean_squared_error(y_pred, y_test, squared=False)\n",
        "#X_train_cleaned.describe()"
      ]
    },
    {
      "cell_type": "code",
      "execution_count": null,
      "metadata": {
        "colab": {
          "base_uri": "https://localhost:8080/"
        },
        "id": "7ndr00J--5w0",
        "outputId": "62c9ea57-29ca-43be-c9d0-d8d0fe521c5b"
      },
      "outputs": [
        {
          "data": {
            "text/plain": [
              "array([0., 0., 0., 0., 0., 0., 0., 0., 0., 0., 0., 0., 0., 0., 0., 0., 0.,\n",
              "       0., 0., 0., 0., 0., 0., 0., 0., 0., 0., 0., 0., 0., 0., 0., 0., 0.,\n",
              "       0., 0., 0., 0., 0., 0., 0., 0., 0., 0., 0., 0., 0., 0., 0., 0., 0.,\n",
              "       0., 0., 0., 0., 0., 0., 0., 0., 0., 0., 0., 0., 0., 0., 0., 0., 0.,\n",
              "       0., 0., 0., 0., 0., 0., 0., 0., 0., 0., 0., 0., 0., 0., 0., 0., 0.,\n",
              "       0., 0., 0., 0., 0., 0., 0., 0., 0., 0., 0., 0., 0., 0., 0., 0., 0.,\n",
              "       0., 0., 0., 0., 0., 0., 0., 0., 0., 0., 0., 0., 0., 0., 0., 0., 0.,\n",
              "       0., 0., 0., 0., 0., 0., 0., 0., 0., 0., 0., 0., 0., 0., 0., 0., 0.,\n",
              "       0., 0., 0., 0., 0., 0., 0., 0., 0., 0., 0., 0., 0., 0., 0., 0., 0.,\n",
              "       0., 0., 0., 0., 0., 0., 0., 0., 0., 0., 0., 0., 0., 0., 0., 0., 0.,\n",
              "       0., 0., 0., 0., 0., 0., 0., 0., 0., 0., 0., 0., 0., 0., 0., 0., 0.,\n",
              "       0., 0., 0., 0., 0., 0., 0., 0., 0., 0., 0., 0., 0., 0., 0., 0., 0.,\n",
              "       0., 0., 0., 0., 0., 0., 0., 0., 0., 0., 0., 0., 0., 0., 0., 0., 0.,\n",
              "       0., 0., 0., 0., 0., 0., 0., 0., 0., 0., 0., 0., 0., 0., 0., 0., 0.,\n",
              "       0., 0., 0., 0., 0., 0., 0., 0., 0., 0., 0., 0., 0., 0., 0., 0., 0.,\n",
              "       0., 0., 0., 0., 0., 0., 0., 0., 0., 0., 0., 0., 0., 0., 0., 0., 0.,\n",
              "       0., 0., 0., 0., 0., 0., 0., 0., 0., 0., 0., 0., 0., 0., 0., 0., 0.,\n",
              "       0., 0., 0., 0., 0., 0., 0., 0., 0., 0., 0., 0., 0., 0., 0., 0., 0.,\n",
              "       0., 0., 0., 0., 0., 0., 0., 0., 0., 0., 0., 0., 0., 0., 0., 0., 0.,\n",
              "       0., 0., 0., 0., 0., 0., 0., 0., 0., 0., 0., 0., 0., 0., 0., 0., 0.,\n",
              "       0., 0., 0., 0., 0., 0., 0., 0., 0., 0., 0., 0., 0., 0., 0., 0., 0.,\n",
              "       0., 0., 0., 0., 0., 0., 0., 0., 0., 0., 0., 0., 0., 0., 0., 0., 0.,\n",
              "       0., 0., 0., 0., 0., 0., 0., 0., 0., 0., 0., 0., 0., 0., 0., 0., 0.,\n",
              "       0., 0., 0., 0., 0., 0., 0., 0., 0., 0., 0., 0., 0., 0., 0., 0., 0.,\n",
              "       0., 0., 0., 0., 0., 0., 0., 0., 0., 0., 0., 0., 0., 0., 0., 0., 0.,\n",
              "       0., 0., 0., 0., 0., 0., 0., 0., 0., 0., 0., 0., 0., 0., 0., 0., 0.,\n",
              "       0., 0., 0., 0., 0., 0., 0., 0., 0., 0., 0., 0., 0., 0., 0., 0., 0.,\n",
              "       0., 0., 0., 0., 0., 0., 0., 0., 0., 0., 0., 0., 0., 0., 0., 0., 0.,\n",
              "       0., 0., 0., 0., 0., 0., 0., 0., 0., 0., 0., 0., 0., 0., 0., 0., 0.,\n",
              "       0., 0., 0., 0., 0., 0., 0., 0., 0., 0., 0., 0., 0., 0., 0., 0., 0.,\n",
              "       0., 0., 0., 0., 0., 0., 0., 0., 0., 0., 0., 0., 0., 0., 0., 0., 0.,\n",
              "       0., 0., 0., 0., 0., 0., 0., 0., 0., 0., 0., 0., 0., 0., 0., 0., 0.,\n",
              "       0., 0., 0., 0., 0., 0., 0., 0., 0., 0., 0., 0., 0., 0., 0., 0., 0.,\n",
              "       0., 0., 0., 0., 0., 0., 0., 0., 0., 0., 0., 0., 0., 0., 0., 0., 0.,\n",
              "       0., 0., 0., 0., 0., 0., 0., 0., 0., 0., 0., 0., 0., 0., 0., 0., 0.,\n",
              "       0., 0., 0., 0., 0., 0., 0., 0., 0., 0., 0., 0., 0., 0., 0., 0., 0.,\n",
              "       0., 0., 0., 0., 0., 0., 0., 0., 0., 0., 0., 0., 0., 0., 0., 0., 0.,\n",
              "       0., 0., 0., 0., 0., 0., 0., 0., 0., 0., 0., 0., 0., 0., 0., 0., 0.,\n",
              "       0., 0., 0., 0., 0., 0., 0., 0., 0., 0., 0., 0., 0., 0., 0., 0., 0.,\n",
              "       0., 0., 0., 0., 0., 0., 0., 0., 0., 0., 0., 0., 0., 0., 0., 0., 0.,\n",
              "       0., 0., 0., 0., 0., 0., 0., 0., 0., 0., 0., 0., 0., 0., 0., 0., 0.,\n",
              "       0., 0., 0., 0., 0., 0., 0., 0., 0., 0., 0., 0., 0., 0., 0., 0., 0.,\n",
              "       0., 0., 0., 0., 0., 0., 0., 0., 0., 0., 0., 0., 0., 0., 0., 0., 0.,\n",
              "       0., 0., 0., 0., 0., 0., 0., 0., 0., 0., 0., 0., 0., 0., 0., 0., 0.,\n",
              "       0., 0., 0., 0., 0., 0., 0., 0., 0., 0., 0., 0., 0., 0., 0., 0., 0.,\n",
              "       0., 0., 0., 0., 0., 0., 0., 0., 0., 0., 0., 0., 0., 0., 0., 0., 0.,\n",
              "       0., 0., 0., 0., 0., 0., 0.])"
            ]
          },
          "execution_count": 89,
          "metadata": {},
          "output_type": "execute_result"
        }
      ],
      "source": [
        "y_pred[y_pred<100]"
      ]
    },
    {
      "cell_type": "code",
      "execution_count": null,
      "metadata": {
        "id": "dyumDDWbbjgi"
      },
      "outputs": [],
      "source": [
        "# Make predictions in test set and prepare submission file\n",
        "predictions = ridge_rg.predict(test[main_cols])\n",
        "sub_file = ss.copy()\n",
        "sub_file.close = predictions\n",
        "sub_file.to_csv('Baseline.csv', index = False)"
      ]
    },
    {
      "cell_type": "code",
      "execution_count": null,
      "metadata": {
        "colab": {
          "base_uri": "https://localhost:8080/",
          "height": 204
        },
        "id": "C1q12_mebsqf",
        "outputId": "bebbb3f6-e5cb-4b2d-c2d2-7a0d9f941b7f"
      },
      "outputs": [
        {
          "data": {
            "text/html": [
              "<div>\n",
              "<style scoped>\n",
              "    .dataframe tbody tr th:only-of-type {\n",
              "        vertical-align: middle;\n",
              "    }\n",
              "\n",
              "    .dataframe tbody tr th {\n",
              "        vertical-align: top;\n",
              "    }\n",
              "\n",
              "    .dataframe thead th {\n",
              "        text-align: right;\n",
              "    }\n",
              "</style>\n",
              "<table border=\"1\" class=\"dataframe\">\n",
              "  <thead>\n",
              "    <tr style=\"text-align: right;\">\n",
              "      <th></th>\n",
              "      <th>id</th>\n",
              "      <th>close</th>\n",
              "    </tr>\n",
              "  </thead>\n",
              "  <tbody>\n",
              "    <tr>\n",
              "      <th>0</th>\n",
              "      <td>ID_323Sn2</td>\n",
              "      <td>-0.929759</td>\n",
              "    </tr>\n",
              "    <tr>\n",
              "      <th>1</th>\n",
              "      <td>ID_325SNW</td>\n",
              "      <td>11364.683493</td>\n",
              "    </tr>\n",
              "    <tr>\n",
              "      <th>2</th>\n",
              "      <td>ID_325uzE</td>\n",
              "      <td>6303.025363</td>\n",
              "    </tr>\n",
              "    <tr>\n",
              "      <th>3</th>\n",
              "      <td>ID_328qCx</td>\n",
              "      <td>-0.333211</td>\n",
              "    </tr>\n",
              "    <tr>\n",
              "      <th>4</th>\n",
              "      <td>ID_3293uJ</td>\n",
              "      <td>-0.496252</td>\n",
              "    </tr>\n",
              "  </tbody>\n",
              "</table>\n",
              "</div>"
            ],
            "text/plain": [
              "          id         close\n",
              "0  ID_323Sn2     -0.929759\n",
              "1  ID_325SNW  11364.683493\n",
              "2  ID_325uzE   6303.025363\n",
              "3  ID_328qCx     -0.333211\n",
              "4  ID_3293uJ     -0.496252"
            ]
          },
          "execution_count": 343,
          "metadata": {},
          "output_type": "execute_result"
        }
      ],
      "source": [
        "sub_file.head()"
      ]
    },
    {
      "cell_type": "code",
      "execution_count": null,
      "metadata": {
        "colab": {
          "base_uri": "https://localhost:8080/",
          "height": 17
        },
        "id": "jONBhrbgbzTO",
        "outputId": "333e9131-b787-4370-8db0-babe18633957"
      },
      "outputs": [
        {
          "data": {
            "application/javascript": "\n    async function download(id, filename, size) {\n      if (!google.colab.kernel.accessAllowed) {\n        return;\n      }\n      const div = document.createElement('div');\n      const label = document.createElement('label');\n      label.textContent = `Downloading \"${filename}\": `;\n      div.appendChild(label);\n      const progress = document.createElement('progress');\n      progress.max = size;\n      div.appendChild(progress);\n      document.body.appendChild(div);\n\n      const buffers = [];\n      let downloaded = 0;\n\n      const channel = await google.colab.kernel.comms.open(id);\n      // Send a message to notify the kernel that we're ready.\n      channel.send({})\n\n      for await (const message of channel.messages) {\n        // Send a message to notify the kernel that we're ready.\n        channel.send({})\n        if (message.buffers) {\n          for (const buffer of message.buffers) {\n            buffers.push(buffer);\n            downloaded += buffer.byteLength;\n            progress.value = downloaded;\n          }\n        }\n      }\n      const blob = new Blob(buffers, {type: 'application/binary'});\n      const a = document.createElement('a');\n      a.href = window.URL.createObjectURL(blob);\n      a.download = filename;\n      div.appendChild(a);\n      a.click();\n      div.remove();\n    }\n  ",
            "text/plain": [
              "<IPython.core.display.Javascript object>"
            ]
          },
          "metadata": {},
          "output_type": "display_data"
        },
        {
          "data": {
            "application/javascript": "download(\"download_dcbd0986-83eb-402d-91f5-56f3b8c395d0\", \"Baseline.csv\", 178394)",
            "text/plain": [
              "<IPython.core.display.Javascript object>"
            ]
          },
          "metadata": {},
          "output_type": "display_data"
        }
      ],
      "source": [
        "files.download('Baseline.csv') "
      ]
    },
    {
      "cell_type": "markdown",
      "metadata": {
        "id": "8yVaqj_pjXaf"
      },
      "source": [
        "### formal"
      ]
    },
    {
      "cell_type": "code",
      "execution_count": null,
      "metadata": {
        "colab": {
          "base_uri": "https://localhost:8080/"
        },
        "id": "AkDyW5QYebTp",
        "outputId": "3c074ec5-8d2a-406e-93a2-f9929d50d68c"
      },
      "outputs": [
        {
          "data": {
            "text/plain": [
              "222.34371163499102"
            ]
          },
          "execution_count": 51,
          "metadata": {},
          "output_type": "execute_result"
        }
      ],
      "source": [
        "#submission\n",
        "ridge_rg = Ridge(alpha=10, solver=\"auto\")\n",
        "\n",
        "\n",
        "#ridge_rg = make_pipeline(StandardScaler(), Ridge(alpha=10.0)) # 77\n",
        "#ridge_rg.fit(X_train_cleaned, y_train_cleaned)\n",
        "#ridge_rg.fit(X_train, y_train) # 77.54780979871404\n",
        "#ridge_rg.fit(X_imputed, y_train)\n",
        "#ridge_rg.fit(X_delete, y_delete) # 77.58237723128258\n",
        "#ridge_rg.fit(X_delete_cleaned, y_delete_cleaned) # 83.99180726695666\n",
        "#ridge_rg.fit(X_delete_imputed, y_delete) # 83.99180726695666\n",
        "# ridge_rg.fit(X_delete, y_delete) \n",
        "\n",
        "# y_pred = ridge_rg.predict(X_test)\n",
        "\n",
        "\n",
        "# ridge_rg.fit(X_delete_robust, y_delete) \n",
        "# y_pred = ridge_rg.predict(X_test_robust) 222\n",
        "\n",
        "\n",
        "ridge_rg.fit(X_delete_robust, y_delete) \n",
        "y_pred = ridge_rg.predict(X_test_robust) 222\n",
        "\n",
        "\n",
        "from sklearn.metrics import mean_squared_error\n",
        "mean_squared_error(y_pred, y_test, squared=False)"
      ]
    },
    {
      "cell_type": "markdown",
      "metadata": {
        "id": "DMQs5AMsJwOe"
      },
      "source": [
        "## used on X_train instead of X_delete as above"
      ]
    },
    {
      "cell_type": "code",
      "execution_count": null,
      "metadata": {
        "colab": {
          "base_uri": "https://localhost:8080/"
        },
        "id": "LUYfhOcps8Qo",
        "outputId": "843040a4-53b4-4f63-db0c-0b2d4edecb93"
      },
      "outputs": [
        {
          "name": "stdout",
          "output_type": "stream",
          "text": [
            "(9599, 47) (9599,)\n",
            "number of outlier row removed:  506\n",
            "percentage of outliers removed:  0.05007422068283028\n"
          ]
        }
      ],
      "source": [
        "# used on X_train instead of X_delete as above\n",
        "\n",
        "from sklearn.ensemble import IsolationForest\n",
        "from sklearn.metrics import make_scorer, f1_score\n",
        "from sklearn import model_selection\n",
        "from sklearn.datasets import make_classification\n",
        "\n",
        "iso = IsolationForest(random_state=SEED, contamination=0.05)\n",
        "y_pred = iso.fit_predict(X_train)\n",
        "X_train_cleaned = X_train[np.where(y_pred == 1, True, False)]\n",
        "y_train_cleaned = y_train[np.where(y_pred == 1, True, False)]\n",
        "\n",
        "# summarize the shape of the updated training dataset\n",
        "print(X_train_cleaned.shape, y_train_cleaned.shape)\n",
        "cleaned,_ = X_train_cleaned.shape\n",
        "\n",
        "total, _ = X_train.shape\n",
        "print(\"number of outlier row removed: \", total - cleaned)\n",
        "print(\"percentage of outliers removed: \", (total-cleaned) / total)"
      ]
    },
    {
      "cell_type": "markdown",
      "metadata": {
        "id": "hJwEJzXFSD5b"
      },
      "source": [
        "### param tuning"
      ]
    },
    {
      "cell_type": "code",
      "execution_count": null,
      "metadata": {
        "colab": {
          "base_uri": "https://localhost:8080/"
        },
        "id": "wz5WF1GTAye-",
        "outputId": "4639ad8d-a39f-499b-da64-1602467e7a95"
      },
      "outputs": [
        {
          "name": "stdout",
          "output_type": "stream",
          "text": [
            "RMSE: -52.000\n",
            "Config: {'alpha': 3.95}\n"
          ]
        },
        {
          "name": "stderr",
          "output_type": "stream",
          "text": [
            "/usr/local/lib/python3.7/dist-packages/sklearn/linear_model/_ridge.py:148: LinAlgWarning: Ill-conditioned matrix (rcond=1.48786e-27): result may not be accurate.\n",
            "  overwrite_a=True).T\n"
          ]
        }
      ],
      "source": [
        "ridge_rg = Ridge()\n",
        "# define grid\n",
        "grid = dict()\n",
        "grid['alpha'] = np.arange(0, 4, 0.05)\n",
        "# define search\n",
        "search = GridSearchCV(ridge_rg, grid, scoring='neg_root_mean_squared_error', cv=cv, n_jobs=-1)\n",
        "# perform the search\n",
        "results = search.fit(X_train, y_train)\n",
        "# summarize\n",
        "print('RMSE: %.3f' % results.best_score_)\n",
        "print('Config: %s' % results.best_params_)"
      ]
    },
    {
      "cell_type": "code",
      "execution_count": null,
      "metadata": {
        "colab": {
          "base_uri": "https://localhost:8080/"
        },
        "id": "A8KXDSDBCTcZ",
        "outputId": "a8bed56b-1f60-4c4b-a4a3-11f9febfe205"
      },
      "outputs": [
        {
          "data": {
            "text/plain": [
              "GridSearchCV(cv=RepeatedKFold(n_repeats=3, n_splits=10, random_state=23),\n",
              "             error_score=nan,\n",
              "             estimator=Ridge(alpha=1.0, copy_X=True, fit_intercept=True,\n",
              "                             max_iter=None, normalize=False, random_state=None,\n",
              "                             solver='auto', tol=0.001),\n",
              "             iid='deprecated', n_jobs=-1,\n",
              "             param_grid={'alpha': array([0.  , 0.01, 0.02, 0.03, 0.04, 0.05, 0.06, 0.07, 0.08, 0.09, 0.1 ,\n",
              "       0.11, 0.12, 0.13, 0.14, 0.15, 0....\n",
              "       1.43, 1.44, 1.45, 1.46, 1.47, 1.48, 1.49, 1.5 , 1.51, 1.52, 1.53,\n",
              "       1.54, 1.55, 1.56, 1.57, 1.58, 1.59, 1.6 , 1.61, 1.62, 1.63, 1.64,\n",
              "       1.65, 1.66, 1.67, 1.68, 1.69, 1.7 , 1.71, 1.72, 1.73, 1.74, 1.75,\n",
              "       1.76, 1.77, 1.78, 1.79, 1.8 , 1.81, 1.82, 1.83, 1.84, 1.85, 1.86,\n",
              "       1.87, 1.88, 1.89, 1.9 , 1.91, 1.92, 1.93, 1.94, 1.95, 1.96, 1.97,\n",
              "       1.98, 1.99])},\n",
              "             pre_dispatch='2*n_jobs', refit=True, return_train_score=False,\n",
              "             scoring='neg_root_mean_squared_error', verbose=0)"
            ]
          },
          "execution_count": 72,
          "metadata": {},
          "output_type": "execute_result"
        }
      ],
      "source": [
        "results"
      ]
    },
    {
      "cell_type": "code",
      "execution_count": null,
      "metadata": {
        "id": "nMhLzBZkCPlv"
      },
      "outputs": [],
      "source": [
        "scores = [x[1] for x in clf.grid_scores_]\n",
        "scores = np.array(scores).reshape(len(Cs), len(Gammas))\n",
        "\n",
        "for ind, i in enumerate(Cs):\n",
        "    plt.plot(Gammas, scores[ind], label='C: ' + str(i))\n",
        "plt.legend()\n",
        "plt.xlabel('Gamma')\n",
        "plt.ylabel('Mean score')\n",
        "plt.show()"
      ]
    },
    {
      "cell_type": "markdown",
      "metadata": {
        "id": "4QaxE8Lt-0Cy"
      },
      "source": [
        "##Lasso reg"
      ]
    },
    {
      "cell_type": "code",
      "execution_count": null,
      "metadata": {
        "colab": {
          "base_uri": "https://localhost:8080/"
        },
        "id": "N1loGCwS-3H1",
        "outputId": "ff1a11e5-681c-4a76-85b5-c5a9ee7f2ed8"
      },
      "outputs": [
        {
          "name": "stdout",
          "output_type": "stream",
          "text": [
            "MAE: -88.216 (14.829)\n"
          ]
        }
      ],
      "source": [
        "from sklearn import linear_model\n",
        "lasso_rg = linear_model.Lasso(alpha=0.1)\n",
        "cv = RepeatedKFold(n_splits=10, n_repeats=3, random_state=SEED)\n",
        "n_scores = cross_val_score(lasso_rg, X_train, y_train, scoring='neg_root_mean_squared_error', cv=cv, n_jobs=-1, error_score='raise')\n",
        "print('MAE: %.3f (%.3f)' % (mean(n_scores), std(n_scores)))"
      ]
    },
    {
      "cell_type": "markdown",
      "metadata": {
        "id": "8NBEo6X__Smr"
      },
      "source": [
        "##Elasticnet"
      ]
    },
    {
      "cell_type": "code",
      "execution_count": null,
      "metadata": {
        "colab": {
          "base_uri": "https://localhost:8080/"
        },
        "id": "tXC_Na3J_U3i",
        "outputId": "abaf7925-8905-46e1-9c12-e61c201ab066"
      },
      "outputs": [
        {
          "name": "stdout",
          "output_type": "stream",
          "text": [
            "MAE: -34.489 (5.653)\n"
          ]
        }
      ],
      "source": [
        "from sklearn.linear_model import ElasticNet\n",
        "elastic = ElasticNet()\n",
        "cv = RepeatedKFold(n_splits=10, n_repeats=3, random_state=SEED)\n",
        "n_scores = cross_val_score(elastic, X_train_cleaned, y_train_cleaned, scoring='neg_root_mean_squared_error', cv=cv, n_jobs=-1, error_score='raise')\n",
        "print('MAE: %.3f (%.3f)' % (mean(n_scores), std(n_scores)))"
      ]
    },
    {
      "cell_type": "code",
      "execution_count": null,
      "metadata": {
        "colab": {
          "base_uri": "https://localhost:8080/"
        },
        "id": "5wYreWCelVqn",
        "outputId": "bfa1fe06-2395-45ad-b1ba-0b5e6644bd8f"
      },
      "outputs": [
        {
          "data": {
            "text/plain": [
              "91.70903709500718"
            ]
          },
          "execution_count": 229,
          "metadata": {},
          "output_type": "execute_result"
        }
      ],
      "source": [
        "#submission\n",
        "elastic = ElasticNet()\n",
        "#ridge_rg = make_pipeline(StandardScaler(), Ridge(alpha=0.8))\n",
        "elastic.fit(X_train_cleaned, y_train_cleaned)\n",
        "#elastic.fit(X_train, y_train)\n",
        "\n",
        "y_pred = elastic.predict(X_test)\n",
        "\n",
        "from sklearn.metrics import mean_squared_error\n",
        "mean_squared_error(y_pred, y_test, squared=False)"
      ]
    },
    {
      "cell_type": "markdown",
      "metadata": {
        "id": "6ksiJwKSw23w"
      },
      "source": [
        "##RGF regression"
      ]
    },
    {
      "cell_type": "code",
      "execution_count": null,
      "metadata": {
        "id": "WPctM9HA34Nl"
      },
      "outputs": [],
      "source": [
        "!pip install rgf_python"
      ]
    },
    {
      "cell_type": "code",
      "execution_count": null,
      "metadata": {
        "colab": {
          "base_uri": "https://localhost:8080/"
        },
        "id": "NKNvivG8w5w6",
        "outputId": "eb0d816e-3bb9-45cc-8d50-60d068a49879"
      },
      "outputs": [
        {
          "name": "stdout",
          "output_type": "stream",
          "text": [
            "MAE: -473.728 (29.295)\n"
          ]
        }
      ],
      "source": [
        "\n",
        "from rgf.sklearn import RGFRegressor\n",
        "rgf_rg = RGFRegressor(max_leaf=300, algorithm=\"RGF_Sib\", test_interval=100, loss=\"LS\")\n",
        "\n",
        "cv = RepeatedKFold(n_splits=10, n_repeats=3, random_state=SEED)\n",
        "n_scores = cross_val_score(rgf_rg, X_train, y_train, scoring='neg_root_mean_squared_error', cv=cv, n_jobs=-1, error_score='raise')\n",
        "print('MAE: %.3f (%.3f)' % (mean(n_scores), std(n_scores))) # MAE: -473.728 (29.295)"
      ]
    },
    {
      "cell_type": "markdown",
      "metadata": {
        "id": "L0XlJrSLZDbe"
      },
      "source": [
        "## linear regression"
      ]
    },
    {
      "cell_type": "code",
      "execution_count": null,
      "metadata": {
        "colab": {
          "base_uri": "https://localhost:8080/"
        },
        "id": "c6KoAnx6ZFEZ",
        "outputId": "6502eb32-fc9a-42a5-8216-0d754d4f1098"
      },
      "outputs": [
        {
          "data": {
            "text/plain": [
              "69.88118625011259"
            ]
          },
          "execution_count": 237,
          "metadata": {},
          "output_type": "execute_result"
        }
      ],
      "source": [
        "# Instantiate model\n",
        "lm2 = LinearRegression()\n",
        "# Fit Model\n",
        "lm2.fit(X_train, y_train)\n",
        "# Predict\n",
        "y_pred = lm2.predict(X_test)\n",
        "from sklearn.metrics import mean_squared_error\n",
        "mean_squared_error(y_pred, y_test, squared=False)"
      ]
    },
    {
      "cell_type": "markdown",
      "metadata": {
        "id": "8xgchYs5b2Iy"
      },
      "source": [
        "## autosklearn"
      ]
    },
    {
      "cell_type": "code",
      "execution_count": null,
      "metadata": {
        "id": "ZU9yWG1McSlC"
      },
      "outputs": [],
      "source": [
        "#!pip install auto-sklearn"
      ]
    },
    {
      "cell_type": "code",
      "execution_count": null,
      "metadata": {
        "colab": {
          "base_uri": "https://localhost:8080/"
        },
        "id": "XybnmNdOdRjv",
        "outputId": "b935b5ea-b719-4e08-d653-9a7569c849f1"
      },
      "outputs": [
        {
          "name": "stdout",
          "output_type": "stream",
          "text": [
            "          rank  ensemble_weight         type       cost   duration\n",
            "model_id                                                          \n",
            "138          1         0.666667  extra_trees  72.733075   9.529518\n",
            "212          2         0.166667     adaboost  79.614408  10.006911\n",
            "162          3         0.166667     adaboost  82.752278   4.703150\n",
            "[(0.666667, SimpleRegressionPipeline({'data_preprocessing:categorical_transformer:categorical_encoding:__choice__': 'no_encoding', 'data_preprocessing:categorical_transformer:category_coalescence:__choice__': 'minority_coalescer', 'data_preprocessing:numerical_transformer:imputation:strategy': 'mean', 'data_preprocessing:numerical_transformer:rescaling:__choice__': 'minmax', 'feature_preprocessor:__choice__': 'feature_agglomeration', 'regressor:__choice__': 'extra_trees', 'data_preprocessing:categorical_transformer:category_coalescence:minority_coalescer:minimum_fraction': 0.013555629780288401, 'feature_preprocessor:feature_agglomeration:affinity': 'euclidean', 'feature_preprocessor:feature_agglomeration:linkage': 'average', 'feature_preprocessor:feature_agglomeration:n_clusters': 361, 'feature_preprocessor:feature_agglomeration:pooling_func': 'median', 'regressor:extra_trees:bootstrap': 'False', 'regressor:extra_trees:criterion': 'friedman_mse', 'regressor:extra_trees:max_depth': 'None', 'regressor:extra_trees:max_features': 0.7929825166874074, 'regressor:extra_trees:max_leaf_nodes': 'None', 'regressor:extra_trees:min_impurity_decrease': 0.0, 'regressor:extra_trees:min_samples_leaf': 2, 'regressor:extra_trees:min_samples_split': 6, 'regressor:extra_trees:min_weight_fraction_leaf': 0.0},\n",
            "dataset_properties={\n",
            "  'task': 4,\n",
            "  'sparse': False,\n",
            "  'multioutput': False,\n",
            "  'target_type': 'regression',\n",
            "  'signed': False})),\n",
            "(0.166667, SimpleRegressionPipeline({'data_preprocessing:categorical_transformer:categorical_encoding:__choice__': 'encoding', 'data_preprocessing:categorical_transformer:category_coalescence:__choice__': 'no_coalescense', 'data_preprocessing:numerical_transformer:imputation:strategy': 'median', 'data_preprocessing:numerical_transformer:rescaling:__choice__': 'standardize', 'feature_preprocessor:__choice__': 'extra_trees_preproc_for_regression', 'regressor:__choice__': 'adaboost', 'feature_preprocessor:extra_trees_preproc_for_regression:bootstrap': 'True', 'feature_preprocessor:extra_trees_preproc_for_regression:criterion': 'mse', 'feature_preprocessor:extra_trees_preproc_for_regression:max_depth': 'None', 'feature_preprocessor:extra_trees_preproc_for_regression:max_features': 0.19782436692694, 'feature_preprocessor:extra_trees_preproc_for_regression:max_leaf_nodes': 'None', 'feature_preprocessor:extra_trees_preproc_for_regression:min_samples_leaf': 17, 'feature_preprocessor:extra_trees_preproc_for_regression:min_samples_split': 20, 'feature_preprocessor:extra_trees_preproc_for_regression:min_weight_fraction_leaf': 0.0, 'feature_preprocessor:extra_trees_preproc_for_regression:n_estimators': 100, 'regressor:adaboost:learning_rate': 0.12607892443038982, 'regressor:adaboost:loss': 'exponential', 'regressor:adaboost:max_depth': 9, 'regressor:adaboost:n_estimators': 294},\n",
            "dataset_properties={\n",
            "  'task': 4,\n",
            "  'sparse': False,\n",
            "  'multioutput': False,\n",
            "  'target_type': 'regression',\n",
            "  'signed': False})),\n",
            "(0.166667, SimpleRegressionPipeline({'data_preprocessing:categorical_transformer:categorical_encoding:__choice__': 'one_hot_encoding', 'data_preprocessing:categorical_transformer:category_coalescence:__choice__': 'no_coalescense', 'data_preprocessing:numerical_transformer:imputation:strategy': 'most_frequent', 'data_preprocessing:numerical_transformer:rescaling:__choice__': 'none', 'feature_preprocessor:__choice__': 'select_percentile_regression', 'regressor:__choice__': 'adaboost', 'feature_preprocessor:select_percentile_regression:percentile': 41.86380543467466, 'feature_preprocessor:select_percentile_regression:score_func': 'mutual_info', 'regressor:adaboost:learning_rate': 1.057700995650525, 'regressor:adaboost:loss': 'exponential', 'regressor:adaboost:max_depth': 6, 'regressor:adaboost:n_estimators': 123},\n",
            "dataset_properties={\n",
            "  'task': 4,\n",
            "  'sparse': False,\n",
            "  'multioutput': False,\n",
            "  'target_type': 'regression',\n",
            "  'signed': False})),\n",
            "]\n"
          ]
        },
        {
          "data": {
            "text/plain": [
              "75.24776710829738"
            ]
          },
          "execution_count": 21,
          "metadata": {},
          "output_type": "execute_result"
        }
      ],
      "source": [
        "import autosklearn.regression\n",
        "from autosklearn.metrics import root_mean_squared_error \n",
        "n_mins = 90\n",
        "automl = autosklearn.regression.AutoSklearnRegressor(\n",
        "    time_left_for_this_task=n_mins*60,\n",
        "    #include_preprocessors=[\"no_preprocessing\"], exclude_preprocessors=None,\n",
        "    exclude_estimators=[\"sgd\", \"gaussian_process\", \"ard_regression\", \"liblinear_svr\"], #,\n",
        "    per_run_time_limit=30,\n",
        "    ensemble_size=6,\n",
        "    metric=root_mean_squared_error \n",
        "#    n_jobs=4\n",
        ")\n",
        "automl.fit(X_delete, y_delete)\n",
        "print(automl.leaderboard())\n",
        "print(automl.show_models())\n",
        "\n",
        "train_predictions = automl.predict(X_test)\n",
        "#submission\n",
        "\n",
        "from sklearn.metrics import mean_squared_error\n",
        "mean_squared_error(train_predictions, y_test, squared=False)"
      ]
    },
    {
      "cell_type": "code",
      "execution_count": null,
      "metadata": {
        "colab": {
          "base_uri": "https://localhost:8080/",
          "height": 807
        },
        "id": "YHms98N65Ycn",
        "outputId": "640448cb-8602-4aa7-cc8f-bedd39eda13d"
      },
      "outputs": [
        {
          "data": {
            "text/html": [
              "<div>\n",
              "<style scoped>\n",
              "    .dataframe tbody tr th:only-of-type {\n",
              "        vertical-align: middle;\n",
              "    }\n",
              "\n",
              "    .dataframe tbody tr th {\n",
              "        vertical-align: top;\n",
              "    }\n",
              "\n",
              "    .dataframe thead th {\n",
              "        text-align: right;\n",
              "    }\n",
              "</style>\n",
              "<table border=\"1\" class=\"dataframe\">\n",
              "  <thead>\n",
              "    <tr style=\"text-align: right;\">\n",
              "      <th></th>\n",
              "      <th>rank</th>\n",
              "      <th>ensemble_weight</th>\n",
              "      <th>type</th>\n",
              "      <th>cost</th>\n",
              "      <th>duration</th>\n",
              "      <th>config_id</th>\n",
              "      <th>train_loss</th>\n",
              "      <th>seed</th>\n",
              "      <th>start_time</th>\n",
              "      <th>end_time</th>\n",
              "      <th>budget</th>\n",
              "      <th>status</th>\n",
              "      <th>data_preprocessors</th>\n",
              "      <th>feature_preprocessors</th>\n",
              "      <th>balancing_strategy</th>\n",
              "      <th>config_origin</th>\n",
              "    </tr>\n",
              "    <tr>\n",
              "      <th>model_id</th>\n",
              "      <th></th>\n",
              "      <th></th>\n",
              "      <th></th>\n",
              "      <th></th>\n",
              "      <th></th>\n",
              "      <th></th>\n",
              "      <th></th>\n",
              "      <th></th>\n",
              "      <th></th>\n",
              "      <th></th>\n",
              "      <th></th>\n",
              "      <th></th>\n",
              "      <th></th>\n",
              "      <th></th>\n",
              "      <th></th>\n",
              "      <th></th>\n",
              "    </tr>\n",
              "  </thead>\n",
              "  <tbody>\n",
              "    <tr>\n",
              "      <th>138</th>\n",
              "      <td>1</td>\n",
              "      <td>0.666667</td>\n",
              "      <td>extra_trees</td>\n",
              "      <td>7.273308e+01</td>\n",
              "      <td>9.529518</td>\n",
              "      <td>137</td>\n",
              "      <td>2.520348e+01</td>\n",
              "      <td>0</td>\n",
              "      <td>1.630304e+09</td>\n",
              "      <td>1.630304e+09</td>\n",
              "      <td>0.0</td>\n",
              "      <td>StatusType.SUCCESS</td>\n",
              "      <td>[no_encoding, minority_coalescer, minmax]</td>\n",
              "      <td>[feature_agglomeration]</td>\n",
              "      <td>None</td>\n",
              "      <td>Random Search</td>\n",
              "    </tr>\n",
              "    <tr>\n",
              "      <th>254</th>\n",
              "      <td>2</td>\n",
              "      <td>0.000000</td>\n",
              "      <td>random_forest</td>\n",
              "      <td>7.768864e+01</td>\n",
              "      <td>5.984977</td>\n",
              "      <td>253</td>\n",
              "      <td>3.526550e+01</td>\n",
              "      <td>0</td>\n",
              "      <td>1.630306e+09</td>\n",
              "      <td>1.630306e+09</td>\n",
              "      <td>0.0</td>\n",
              "      <td>StatusType.SUCCESS</td>\n",
              "      <td>[encoding, minority_coalescer, robust_scaler]</td>\n",
              "      <td>[extra_trees_preproc_for_regression]</td>\n",
              "      <td>None</td>\n",
              "      <td>Local Search</td>\n",
              "    </tr>\n",
              "    <tr>\n",
              "      <th>279</th>\n",
              "      <td>3</td>\n",
              "      <td>0.000000</td>\n",
              "      <td>random_forest</td>\n",
              "      <td>7.781746e+01</td>\n",
              "      <td>18.581241</td>\n",
              "      <td>278</td>\n",
              "      <td>4.018407e+01</td>\n",
              "      <td>0</td>\n",
              "      <td>1.630306e+09</td>\n",
              "      <td>1.630306e+09</td>\n",
              "      <td>0.0</td>\n",
              "      <td>StatusType.SUCCESS</td>\n",
              "      <td>[one_hot_encoding, minority_coalescer, robust_...</td>\n",
              "      <td>[extra_trees_preproc_for_regression]</td>\n",
              "      <td>None</td>\n",
              "      <td>Local Search</td>\n",
              "    </tr>\n",
              "    <tr>\n",
              "      <th>250</th>\n",
              "      <td>4</td>\n",
              "      <td>0.000000</td>\n",
              "      <td>random_forest</td>\n",
              "      <td>7.790338e+01</td>\n",
              "      <td>5.156501</td>\n",
              "      <td>249</td>\n",
              "      <td>4.289506e+01</td>\n",
              "      <td>0</td>\n",
              "      <td>1.630306e+09</td>\n",
              "      <td>1.630306e+09</td>\n",
              "      <td>0.0</td>\n",
              "      <td>StatusType.SUCCESS</td>\n",
              "      <td>[one_hot_encoding, minority_coalescer, minmax]</td>\n",
              "      <td>[extra_trees_preproc_for_regression]</td>\n",
              "      <td>None</td>\n",
              "      <td>Local Search</td>\n",
              "    </tr>\n",
              "    <tr>\n",
              "      <th>212</th>\n",
              "      <td>5</td>\n",
              "      <td>0.166667</td>\n",
              "      <td>adaboost</td>\n",
              "      <td>7.961441e+01</td>\n",
              "      <td>10.006911</td>\n",
              "      <td>211</td>\n",
              "      <td>2.084614e+01</td>\n",
              "      <td>0</td>\n",
              "      <td>1.630305e+09</td>\n",
              "      <td>1.630305e+09</td>\n",
              "      <td>0.0</td>\n",
              "      <td>StatusType.SUCCESS</td>\n",
              "      <td>[encoding, no_coalescense, standardize]</td>\n",
              "      <td>[extra_trees_preproc_for_regression]</td>\n",
              "      <td>None</td>\n",
              "      <td>Random Search</td>\n",
              "    </tr>\n",
              "    <tr>\n",
              "      <th>...</th>\n",
              "      <td>...</td>\n",
              "      <td>...</td>\n",
              "      <td>...</td>\n",
              "      <td>...</td>\n",
              "      <td>...</td>\n",
              "      <td>...</td>\n",
              "      <td>...</td>\n",
              "      <td>...</td>\n",
              "      <td>...</td>\n",
              "      <td>...</td>\n",
              "      <td>...</td>\n",
              "      <td>...</td>\n",
              "      <td>...</td>\n",
              "      <td>...</td>\n",
              "      <td>...</td>\n",
              "      <td>...</td>\n",
              "    </tr>\n",
              "    <tr>\n",
              "      <th>72</th>\n",
              "      <td>240</td>\n",
              "      <td>0.000000</td>\n",
              "      <td>mlp</td>\n",
              "      <td>7.224725e+04</td>\n",
              "      <td>1.044162</td>\n",
              "      <td>71</td>\n",
              "      <td>7.788008e+04</td>\n",
              "      <td>0</td>\n",
              "      <td>1.630303e+09</td>\n",
              "      <td>1.630303e+09</td>\n",
              "      <td>0.0</td>\n",
              "      <td>StatusType.SUCCESS</td>\n",
              "      <td>[one_hot_encoding, minority_coalescer, standar...</td>\n",
              "      <td>[select_percentile_regression]</td>\n",
              "      <td>None</td>\n",
              "      <td>Random Search</td>\n",
              "    </tr>\n",
              "    <tr>\n",
              "      <th>71</th>\n",
              "      <td>241</td>\n",
              "      <td>0.000000</td>\n",
              "      <td>libsvm_svr</td>\n",
              "      <td>2.025107e+08</td>\n",
              "      <td>4.539333</td>\n",
              "      <td>70</td>\n",
              "      <td>2.055586e+08</td>\n",
              "      <td>0</td>\n",
              "      <td>1.630303e+09</td>\n",
              "      <td>1.630303e+09</td>\n",
              "      <td>0.0</td>\n",
              "      <td>StatusType.SUCCESS</td>\n",
              "      <td>[one_hot_encoding, minority_coalescer, power_t...</td>\n",
              "      <td>[extra_trees_preproc_for_regression]</td>\n",
              "      <td>None</td>\n",
              "      <td>Local Search</td>\n",
              "    </tr>\n",
              "    <tr>\n",
              "      <th>142</th>\n",
              "      <td>242</td>\n",
              "      <td>0.000000</td>\n",
              "      <td>mlp</td>\n",
              "      <td>4.804678e+10</td>\n",
              "      <td>3.252325</td>\n",
              "      <td>141</td>\n",
              "      <td>7.504285e+10</td>\n",
              "      <td>0</td>\n",
              "      <td>1.630304e+09</td>\n",
              "      <td>1.630304e+09</td>\n",
              "      <td>0.0</td>\n",
              "      <td>StatusType.SUCCESS</td>\n",
              "      <td>[encoding, minority_coalescer, standardize]</td>\n",
              "      <td>[polynomial]</td>\n",
              "      <td>None</td>\n",
              "      <td>Random Search</td>\n",
              "    </tr>\n",
              "    <tr>\n",
              "      <th>230</th>\n",
              "      <td>243</td>\n",
              "      <td>0.000000</td>\n",
              "      <td>mlp</td>\n",
              "      <td>8.963465e+13</td>\n",
              "      <td>2.011017</td>\n",
              "      <td>229</td>\n",
              "      <td>7.336363e+16</td>\n",
              "      <td>0</td>\n",
              "      <td>1.630305e+09</td>\n",
              "      <td>1.630305e+09</td>\n",
              "      <td>0.0</td>\n",
              "      <td>StatusType.SUCCESS</td>\n",
              "      <td>[no_encoding, minority_coalescer, robust_scaler]</td>\n",
              "      <td>[feature_agglomeration]</td>\n",
              "      <td>None</td>\n",
              "      <td>Random Search</td>\n",
              "    </tr>\n",
              "    <tr>\n",
              "      <th>179</th>\n",
              "      <td>244</td>\n",
              "      <td>0.000000</td>\n",
              "      <td>mlp</td>\n",
              "      <td>1.255207e+14</td>\n",
              "      <td>1.651953</td>\n",
              "      <td>178</td>\n",
              "      <td>1.257901e+14</td>\n",
              "      <td>0</td>\n",
              "      <td>1.630305e+09</td>\n",
              "      <td>1.630305e+09</td>\n",
              "      <td>0.0</td>\n",
              "      <td>StatusType.SUCCESS</td>\n",
              "      <td>[no_encoding, no_coalescense, robust_scaler]</td>\n",
              "      <td>[extra_trees_preproc_for_regression]</td>\n",
              "      <td>None</td>\n",
              "      <td>Random Search</td>\n",
              "    </tr>\n",
              "  </tbody>\n",
              "</table>\n",
              "<p>244 rows × 16 columns</p>\n",
              "</div>"
            ],
            "text/plain": [
              "          rank  ensemble_weight  ... balancing_strategy  config_origin\n",
              "model_id                         ...                                  \n",
              "138          1         0.666667  ...               None  Random Search\n",
              "254          2         0.000000  ...               None   Local Search\n",
              "279          3         0.000000  ...               None   Local Search\n",
              "250          4         0.000000  ...               None   Local Search\n",
              "212          5         0.166667  ...               None  Random Search\n",
              "...        ...              ...  ...                ...            ...\n",
              "72         240         0.000000  ...               None  Random Search\n",
              "71         241         0.000000  ...               None   Local Search\n",
              "142        242         0.000000  ...               None  Random Search\n",
              "230        243         0.000000  ...               None  Random Search\n",
              "179        244         0.000000  ...               None  Random Search\n",
              "\n",
              "[244 rows x 16 columns]"
            ]
          },
          "execution_count": 193,
          "metadata": {},
          "output_type": "execute_result"
        }
      ],
      "source": [
        "automl.leaderboard(detailed=True, ensemble_only=False)#.loc[228] # , top_k=8"
      ]
    },
    {
      "cell_type": "code",
      "execution_count": null,
      "metadata": {
        "colab": {
          "base_uri": "https://localhost:8080/"
        },
        "id": "lybwwkzSMU9u",
        "outputId": "ee52a97a-6b7a-4d57-a631-43936f2f5387"
      },
      "outputs": [
        {
          "data": {
            "text/plain": [
              "[(0.6666666666666666,\n",
              "  SimpleRegressionPipeline({'data_preprocessing:categorical_transformer:categorical_encoding:__choice__': 'no_encoding', 'data_preprocessing:categorical_transformer:category_coalescence:__choice__': 'minority_coalescer', 'data_preprocessing:numerical_transformer:imputation:strategy': 'mean', 'data_preprocessing:numerical_transformer:rescaling:__choice__': 'minmax', 'feature_preprocessor:__choice__': 'feature_agglomeration', 'regressor:__choice__': 'extra_trees', 'data_preprocessing:categorical_transformer:category_coalescence:minority_coalescer:minimum_fraction': 0.013555629780288401, 'feature_preprocessor:feature_agglomeration:affinity': 'euclidean', 'feature_preprocessor:feature_agglomeration:linkage': 'average', 'feature_preprocessor:feature_agglomeration:n_clusters': 361, 'feature_preprocessor:feature_agglomeration:pooling_func': 'median', 'regressor:extra_trees:bootstrap': 'False', 'regressor:extra_trees:criterion': 'friedman_mse', 'regressor:extra_trees:max_depth': 'None', 'regressor:extra_trees:max_features': 0.7929825166874074, 'regressor:extra_trees:max_leaf_nodes': 'None', 'regressor:extra_trees:min_impurity_decrease': 0.0, 'regressor:extra_trees:min_samples_leaf': 2, 'regressor:extra_trees:min_samples_split': 6, 'regressor:extra_trees:min_weight_fraction_leaf': 0.0},\n",
              "  dataset_properties={\n",
              "    'task': 4,\n",
              "    'sparse': False,\n",
              "    'multioutput': False,\n",
              "    'target_type': 'regression',\n",
              "    'signed': False})),\n",
              " (0.16666666666666666,\n",
              "  SimpleRegressionPipeline({'data_preprocessing:categorical_transformer:categorical_encoding:__choice__': 'encoding', 'data_preprocessing:categorical_transformer:category_coalescence:__choice__': 'no_coalescense', 'data_preprocessing:numerical_transformer:imputation:strategy': 'median', 'data_preprocessing:numerical_transformer:rescaling:__choice__': 'standardize', 'feature_preprocessor:__choice__': 'extra_trees_preproc_for_regression', 'regressor:__choice__': 'adaboost', 'feature_preprocessor:extra_trees_preproc_for_regression:bootstrap': 'True', 'feature_preprocessor:extra_trees_preproc_for_regression:criterion': 'mse', 'feature_preprocessor:extra_trees_preproc_for_regression:max_depth': 'None', 'feature_preprocessor:extra_trees_preproc_for_regression:max_features': 0.19782436692694, 'feature_preprocessor:extra_trees_preproc_for_regression:max_leaf_nodes': 'None', 'feature_preprocessor:extra_trees_preproc_for_regression:min_samples_leaf': 17, 'feature_preprocessor:extra_trees_preproc_for_regression:min_samples_split': 20, 'feature_preprocessor:extra_trees_preproc_for_regression:min_weight_fraction_leaf': 0.0, 'feature_preprocessor:extra_trees_preproc_for_regression:n_estimators': 100, 'regressor:adaboost:learning_rate': 0.12607892443038982, 'regressor:adaboost:loss': 'exponential', 'regressor:adaboost:max_depth': 9, 'regressor:adaboost:n_estimators': 294},\n",
              "  dataset_properties={\n",
              "    'task': 4,\n",
              "    'sparse': False,\n",
              "    'multioutput': False,\n",
              "    'target_type': 'regression',\n",
              "    'signed': False})),\n",
              " (0.16666666666666666,\n",
              "  SimpleRegressionPipeline({'data_preprocessing:categorical_transformer:categorical_encoding:__choice__': 'one_hot_encoding', 'data_preprocessing:categorical_transformer:category_coalescence:__choice__': 'no_coalescense', 'data_preprocessing:numerical_transformer:imputation:strategy': 'most_frequent', 'data_preprocessing:numerical_transformer:rescaling:__choice__': 'none', 'feature_preprocessor:__choice__': 'select_percentile_regression', 'regressor:__choice__': 'adaboost', 'feature_preprocessor:select_percentile_regression:percentile': 41.86380543467466, 'feature_preprocessor:select_percentile_regression:score_func': 'mutual_info', 'regressor:adaboost:learning_rate': 1.057700995650525, 'regressor:adaboost:loss': 'exponential', 'regressor:adaboost:max_depth': 6, 'regressor:adaboost:n_estimators': 123},\n",
              "  dataset_properties={\n",
              "    'task': 4,\n",
              "    'sparse': False,\n",
              "    'multioutput': False,\n",
              "    'target_type': 'regression',\n",
              "    'signed': False}))]"
            ]
          },
          "execution_count": 112,
          "metadata": {},
          "output_type": "execute_result"
        }
      ],
      "source": [
        "automl.get_models_with_weights()"
      ]
    },
    {
      "cell_type": "code",
      "execution_count": null,
      "metadata": {
        "colab": {
          "base_uri": "https://localhost:8080/"
        },
        "id": "rHYAXxa8RiC_",
        "outputId": "271fb944-7cf7-41f1-f184-03b0e41afebe"
      },
      "outputs": [
        {
          "data": {
            "text/plain": [
              "dict_keys(['mean_test_score', 'mean_fit_time', 'params', 'rank_test_scores', 'status', 'budgets', 'param_data_preprocessing:categorical_transformer:categorical_encoding:__choice__', 'param_data_preprocessing:categorical_transformer:category_coalescence:__choice__', 'param_data_preprocessing:numerical_transformer:imputation:strategy', 'param_data_preprocessing:numerical_transformer:rescaling:__choice__', 'param_feature_preprocessor:__choice__', 'param_regressor:__choice__', 'param_data_preprocessing:categorical_transformer:category_coalescence:minority_coalescer:minimum_fraction', 'param_data_preprocessing:numerical_transformer:rescaling:quantile_transformer:n_quantiles', 'param_data_preprocessing:numerical_transformer:rescaling:quantile_transformer:output_distribution', 'param_data_preprocessing:numerical_transformer:rescaling:robust_scaler:q_max', 'param_data_preprocessing:numerical_transformer:rescaling:robust_scaler:q_min', 'param_feature_preprocessor:extra_trees_preproc_for_regression:bootstrap', 'param_feature_preprocessor:extra_trees_preproc_for_regression:criterion', 'param_feature_preprocessor:extra_trees_preproc_for_regression:max_depth', 'param_feature_preprocessor:extra_trees_preproc_for_regression:max_features', 'param_feature_preprocessor:extra_trees_preproc_for_regression:max_leaf_nodes', 'param_feature_preprocessor:extra_trees_preproc_for_regression:min_samples_leaf', 'param_feature_preprocessor:extra_trees_preproc_for_regression:min_samples_split', 'param_feature_preprocessor:extra_trees_preproc_for_regression:min_weight_fraction_leaf', 'param_feature_preprocessor:extra_trees_preproc_for_regression:n_estimators', 'param_feature_preprocessor:fast_ica:algorithm', 'param_feature_preprocessor:fast_ica:fun', 'param_feature_preprocessor:fast_ica:whiten', 'param_feature_preprocessor:feature_agglomeration:affinity', 'param_feature_preprocessor:feature_agglomeration:linkage', 'param_feature_preprocessor:feature_agglomeration:n_clusters', 'param_feature_preprocessor:feature_agglomeration:pooling_func', 'param_feature_preprocessor:kernel_pca:kernel', 'param_feature_preprocessor:kernel_pca:n_components', 'param_feature_preprocessor:kitchen_sinks:gamma', 'param_feature_preprocessor:kitchen_sinks:n_components', 'param_feature_preprocessor:nystroem_sampler:kernel', 'param_feature_preprocessor:nystroem_sampler:n_components', 'param_feature_preprocessor:pca:keep_variance', 'param_feature_preprocessor:pca:whiten', 'param_feature_preprocessor:polynomial:degree', 'param_feature_preprocessor:polynomial:include_bias', 'param_feature_preprocessor:polynomial:interaction_only', 'param_feature_preprocessor:random_trees_embedding:bootstrap', 'param_feature_preprocessor:random_trees_embedding:max_depth', 'param_feature_preprocessor:random_trees_embedding:max_leaf_nodes', 'param_feature_preprocessor:random_trees_embedding:min_samples_leaf', 'param_feature_preprocessor:random_trees_embedding:min_samples_split', 'param_feature_preprocessor:random_trees_embedding:min_weight_fraction_leaf', 'param_feature_preprocessor:random_trees_embedding:n_estimators', 'param_feature_preprocessor:select_percentile_regression:percentile', 'param_feature_preprocessor:select_percentile_regression:score_func', 'param_feature_preprocessor:select_rates_regression:alpha', 'param_feature_preprocessor:select_rates_regression:mode', 'param_feature_preprocessor:select_rates_regression:score_func', 'param_regressor:adaboost:learning_rate', 'param_regressor:adaboost:loss', 'param_regressor:adaboost:max_depth', 'param_regressor:adaboost:n_estimators', 'param_regressor:decision_tree:criterion', 'param_regressor:decision_tree:max_depth_factor', 'param_regressor:decision_tree:max_features', 'param_regressor:decision_tree:max_leaf_nodes', 'param_regressor:decision_tree:min_impurity_decrease', 'param_regressor:decision_tree:min_samples_leaf', 'param_regressor:decision_tree:min_samples_split', 'param_regressor:decision_tree:min_weight_fraction_leaf', 'param_regressor:extra_trees:bootstrap', 'param_regressor:extra_trees:criterion', 'param_regressor:extra_trees:max_depth', 'param_regressor:extra_trees:max_features', 'param_regressor:extra_trees:max_leaf_nodes', 'param_regressor:extra_trees:min_impurity_decrease', 'param_regressor:extra_trees:min_samples_leaf', 'param_regressor:extra_trees:min_samples_split', 'param_regressor:extra_trees:min_weight_fraction_leaf', 'param_regressor:gradient_boosting:early_stop', 'param_regressor:gradient_boosting:l2_regularization', 'param_regressor:gradient_boosting:learning_rate', 'param_regressor:gradient_boosting:loss', 'param_regressor:gradient_boosting:max_bins', 'param_regressor:gradient_boosting:max_depth', 'param_regressor:gradient_boosting:max_leaf_nodes', 'param_regressor:gradient_boosting:min_samples_leaf', 'param_regressor:gradient_boosting:scoring', 'param_regressor:gradient_boosting:tol', 'param_regressor:k_nearest_neighbors:n_neighbors', 'param_regressor:k_nearest_neighbors:p', 'param_regressor:k_nearest_neighbors:weights', 'param_regressor:libsvm_svr:C', 'param_regressor:libsvm_svr:epsilon', 'param_regressor:libsvm_svr:kernel', 'param_regressor:libsvm_svr:max_iter', 'param_regressor:libsvm_svr:shrinking', 'param_regressor:libsvm_svr:tol', 'param_regressor:mlp:activation', 'param_regressor:mlp:alpha', 'param_regressor:mlp:batch_size', 'param_regressor:mlp:beta_1', 'param_regressor:mlp:beta_2', 'param_regressor:mlp:early_stopping', 'param_regressor:mlp:epsilon', 'param_regressor:mlp:hidden_layer_depth', 'param_regressor:mlp:learning_rate_init', 'param_regressor:mlp:n_iter_no_change', 'param_regressor:mlp:num_nodes_per_layer', 'param_regressor:mlp:shuffle', 'param_regressor:mlp:solver', 'param_regressor:mlp:tol', 'param_regressor:random_forest:bootstrap', 'param_regressor:random_forest:criterion', 'param_regressor:random_forest:max_depth', 'param_regressor:random_forest:max_features', 'param_regressor:random_forest:max_leaf_nodes', 'param_regressor:random_forest:min_impurity_decrease', 'param_regressor:random_forest:min_samples_leaf', 'param_regressor:random_forest:min_samples_split', 'param_regressor:random_forest:min_weight_fraction_leaf', 'param_feature_preprocessor:fast_ica:n_components', 'param_feature_preprocessor:kernel_pca:coef0', 'param_feature_preprocessor:kernel_pca:degree', 'param_feature_preprocessor:kernel_pca:gamma', 'param_feature_preprocessor:nystroem_sampler:coef0', 'param_feature_preprocessor:nystroem_sampler:degree', 'param_feature_preprocessor:nystroem_sampler:gamma', 'param_regressor:gradient_boosting:n_iter_no_change', 'param_regressor:gradient_boosting:validation_fraction', 'param_regressor:libsvm_svr:coef0', 'param_regressor:libsvm_svr:degree', 'param_regressor:libsvm_svr:gamma', 'param_regressor:mlp:validation_fraction'])"
            ]
          },
          "execution_count": 152,
          "metadata": {},
          "output_type": "execute_result"
        }
      ],
      "source": [
        "automl.cv_results_.keys()"
      ]
    },
    {
      "cell_type": "code",
      "execution_count": null,
      "metadata": {
        "colab": {
          "base_uri": "https://localhost:8080/"
        },
        "id": "9JEG6_iP8lvV",
        "outputId": "bb50b5e3-b754-4683-c42d-98464f1bc13b"
      },
      "outputs": [
        {
          "data": {
            "text/plain": [
              "array([136, 252, 277, 248, 210, 243, 296, 260, 279, 288])"
            ]
          },
          "execution_count": 200,
          "metadata": {},
          "output_type": "execute_result"
        }
      ],
      "source": [
        "#np.argmax(automl.cv_results_['mean_test_score'])\n",
        "automl.cv_results_['mean_test_score'].argsort()[:10]#[::-1]"
      ]
    },
    {
      "cell_type": "code",
      "execution_count": null,
      "metadata": {
        "colab": {
          "base_uri": "https://localhost:8080/"
        },
        "id": "NqmAMjiYTLMT",
        "outputId": "27b6bd80-2190-47ec-dc12-a7f2a7f388b3"
      },
      "outputs": [
        {
          "data": {
            "text/plain": [
              "81.58740281006695"
            ]
          },
          "execution_count": 203,
          "metadata": {},
          "output_type": "execute_result"
        }
      ],
      "source": [
        "automl.cv_results_['mean_test_score'][288]"
      ]
    },
    {
      "cell_type": "code",
      "execution_count": null,
      "metadata": {
        "colab": {
          "base_uri": "https://localhost:8080/"
        },
        "id": "nyywZk7ZQ8w4",
        "outputId": "9386e8a2-a6c7-47df-cebb-ed09706b4db6"
      },
      "outputs": [
        {
          "data": {
            "text/plain": [
              "{'data_preprocessing:categorical_transformer:categorical_encoding:__choice__': 'one_hot_encoding',\n",
              " 'data_preprocessing:categorical_transformer:category_coalescence:__choice__': 'minority_coalescer',\n",
              " 'data_preprocessing:categorical_transformer:category_coalescence:minority_coalescer:minimum_fraction': 0.0017722578502371359,\n",
              " 'data_preprocessing:numerical_transformer:imputation:strategy': 'mean',\n",
              " 'data_preprocessing:numerical_transformer:rescaling:__choice__': 'robust_scaler',\n",
              " 'data_preprocessing:numerical_transformer:rescaling:robust_scaler:q_max': 0.7669964914816525,\n",
              " 'data_preprocessing:numerical_transformer:rescaling:robust_scaler:q_min': 0.1445762231545981,\n",
              " 'feature_preprocessor:__choice__': 'feature_agglomeration',\n",
              " 'feature_preprocessor:feature_agglomeration:affinity': 'cosine',\n",
              " 'feature_preprocessor:feature_agglomeration:linkage': 'average',\n",
              " 'feature_preprocessor:feature_agglomeration:n_clusters': 213,\n",
              " 'feature_preprocessor:feature_agglomeration:pooling_func': 'median',\n",
              " 'regressor:__choice__': 'random_forest',\n",
              " 'regressor:random_forest:bootstrap': 'True',\n",
              " 'regressor:random_forest:criterion': 'mse',\n",
              " 'regressor:random_forest:max_depth': 'None',\n",
              " 'regressor:random_forest:max_features': 0.4677972973375797,\n",
              " 'regressor:random_forest:max_leaf_nodes': 'None',\n",
              " 'regressor:random_forest:min_impurity_decrease': 0.0,\n",
              " 'regressor:random_forest:min_samples_leaf': 3,\n",
              " 'regressor:random_forest:min_samples_split': 7,\n",
              " 'regressor:random_forest:min_weight_fraction_leaf': 0.0}"
            ]
          },
          "execution_count": 202,
          "metadata": {},
          "output_type": "execute_result"
        }
      ],
      "source": [
        "automl.cv_results_['params'][288]"
      ]
    },
    {
      "cell_type": "markdown",
      "metadata": {
        "id": "cKxGkqshVLSU"
      },
      "source": [
        "### save result"
      ]
    },
    {
      "cell_type": "code",
      "execution_count": null,
      "metadata": {
        "id": "I_W0yP8hVM2h"
      },
      "outputs": [],
      "source": [
        "import pickle\n",
        "# x = automl.show_models()\n",
        "# results = autml # the classifier/regressor itself\n",
        "# pickle.dump(results, open('file.pickle','wb'))\n",
        "x = automl\n",
        "results = automl # the classifier/regressor itself\n",
        "pickle.dump(results, open('file.pickle','wb'))"
      ]
    },
    {
      "cell_type": "markdown",
      "metadata": {
        "id": "JcE97TZhdS1O"
      },
      "source": [
        "##old"
      ]
    },
    {
      "cell_type": "code",
      "execution_count": null,
      "metadata": {
        "colab": {
          "base_uri": "https://localhost:8080/",
          "height": 381
        },
        "id": "vfnvitDsbynI",
        "outputId": "20236c35-14b7-40da-ea43-acc0433b9cb6"
      },
      "outputs": [
        {
          "ename": "ModuleNotFoundError",
          "evalue": "ignored",
          "output_type": "error",
          "traceback": [
            "\u001b[0;31m---------------------------------------------------------------------------\u001b[0m",
            "\u001b[0;31mModuleNotFoundError\u001b[0m                       Traceback (most recent call last)",
            "\u001b[0;32m<ipython-input-1-28e9ebafa94a>\u001b[0m in \u001b[0;36m<module>\u001b[0;34m()\u001b[0m\n\u001b[0;32m----> 1\u001b[0;31m \u001b[0;32mimport\u001b[0m \u001b[0mautosklearn\u001b[0m\u001b[0;34m.\u001b[0m\u001b[0mregression\u001b[0m\u001b[0;34m\u001b[0m\u001b[0;34m\u001b[0m\u001b[0m\n\u001b[0m\u001b[1;32m      2\u001b[0m \u001b[0;32mfrom\u001b[0m \u001b[0mautosklearn\u001b[0m\u001b[0;34m.\u001b[0m\u001b[0mmetrics\u001b[0m \u001b[0;32mimport\u001b[0m \u001b[0mmean_squared_error\u001b[0m\u001b[0;34m\u001b[0m\u001b[0;34m\u001b[0m\u001b[0m\n\u001b[1;32m      3\u001b[0m \u001b[0;34m\u001b[0m\u001b[0m\n\u001b[1;32m      4\u001b[0m automl = autosklearn.regression.AutoSklearnRegressor(\n\u001b[1;32m      5\u001b[0m     \u001b[0mtime_left_for_this_task\u001b[0m\u001b[0;34m=\u001b[0m\u001b[0;36m30\u001b[0m\u001b[0;34m*\u001b[0m\u001b[0;36m60\u001b[0m\u001b[0;34m,\u001b[0m\u001b[0;34m\u001b[0m\u001b[0;34m\u001b[0m\u001b[0m\n",
            "\u001b[0;31mModuleNotFoundError\u001b[0m: No module named 'autosklearn'",
            "",
            "\u001b[0;31m---------------------------------------------------------------------------\u001b[0;32m\nNOTE: If your import is failing due to a missing package, you can\nmanually install dependencies using either !pip or !apt.\n\nTo view examples of installing some common dependencies, click the\n\"Open Examples\" button below.\n\u001b[0;31m---------------------------------------------------------------------------\u001b[0m\n"
          ]
        }
      ],
      "source": [
        "import autosklearn.regression\n",
        "from autosklearn.metrics import mean_squared_error\n",
        "\n",
        "automl = autosklearn.regression.AutoSklearnRegressor(\n",
        "    time_left_for_this_task=30*60,\n",
        "    per_run_time_limit=30,\n",
        "    metric=mean_squared_error\n",
        ")\n",
        "automl.fit(X_delete, y_delete)\n",
        "print(automl.leaderboard())\n",
        "train_predictions = automl.predict(X_test)\n",
        "#submission\n",
        "\n",
        "from sklearn.metrics import mean_squared_error\n",
        "mean_squared_error(train_predictions, y_test, squared=False)"
      ]
    },
    {
      "cell_type": "code",
      "execution_count": null,
      "metadata": {
        "id": "RzZyI1sreqQz"
      },
      "outputs": [],
      "source": [
        "print(automl.leaderboard())"
      ]
    },
    {
      "cell_type": "code",
      "execution_count": null,
      "metadata": {
        "id": "wYmPjNpve2xN"
      },
      "outputs": [],
      "source": [
        "train_predictions = automl.predict(X_test)\n",
        "#submission\n",
        "\n",
        "from sklearn.metrics import mean_squared_error\n",
        "mean_squared_error(train_predictions, y_test, squared=False)"
      ]
    },
    {
      "cell_type": "code",
      "execution_count": null,
      "metadata": {
        "id": "hJ5Tk3gahj79"
      },
      "outputs": [],
      "source": [
        "print(automl.show_models())\n"
      ]
    }
  ],
  "metadata": {
    "colab": {
      "collapsed_sections": [
        "hJwEJzXFSD5b",
        "JcE97TZhdS1O"
      ],
      "name": "crypto_prediction.ipynb",
      "provenance": [],
      "toc_visible": true
    },
    "interpreter": {
      "hash": "97643606afa0bdeaaecd0f24aa18bb8435e8e86e869d6d34c9b6af0ede22ba0d"
    },
    "kernelspec": {
      "display_name": "Python 3.8.8 64-bit",
      "name": "python3"
    },
    "language_info": {
      "codemirror_mode": {
        "name": "ipython",
        "version": 3
      },
      "file_extension": ".py",
      "mimetype": "text/x-python",
      "name": "python",
      "nbconvert_exporter": "python",
      "pygments_lexer": "ipython3",
      "version": "3.8.8"
    }
  },
  "nbformat": 4,
  "nbformat_minor": 0
}
