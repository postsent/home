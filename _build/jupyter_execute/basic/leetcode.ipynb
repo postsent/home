{
 "cells": [
  {
   "cell_type": "markdown",
   "metadata": {},
   "source": [
    "# Leetcode\n",
    "\n",
    "Below is the optimal solution, my attempt is in GitHub - another file in the same directory."
   ]
  },
  {
   "cell_type": "markdown",
   "metadata": {},
   "source": [
    "# Potential References  \n",
    "https://github.com/CyC2018/CS-Notes"
   ]
  },
  {
   "cell_type": "markdown",
   "metadata": {},
   "source": [
    "# --Basic--"
   ]
  },
  {
   "cell_type": "markdown",
   "metadata": {},
   "source": [
    "# --Algorithm--"
   ]
  },
  {
   "cell_type": "markdown",
   "metadata": {},
   "source": [
    "# Binary Search"
   ]
  },
  {
   "cell_type": "markdown",
   "metadata": {},
   "source": [
    "## search"
   ]
  },
  {
   "cell_type": "code",
   "execution_count": 25,
   "metadata": {},
   "outputs": [
    {
     "data": {
      "text/plain": [
       "0"
      ]
     },
     "execution_count": 25,
     "metadata": {},
     "output_type": "execute_result"
    }
   ],
   "source": [
    "\"\"\"\n",
    "assume ascending order, unique\n",
    "\"\"\"\n",
    "# https://leetcode.com/problems/binary-search/solution/\n",
    "from typing import * # import typing, for python3.9, see: https://stackoverflow.com/questions/57505071/nameerror-name-list-is-not-defined\n",
    "\n",
    "class Solution:\n",
    "    def search(self, nums: List[int], target: int) -> int:\n",
    "        left, right = 0, len(nums) - 1\n",
    "        while left <= right:\n",
    "            pivot = left + (right - left) // 2 # the middle between left & right then add the offset of current left position\n",
    "            if nums[pivot] == target:\n",
    "                return pivot\n",
    "            if target < nums[pivot]:\n",
    "                right = pivot - 1\n",
    "            else:\n",
    "                left = pivot + 1\n",
    "        return -1\n",
    "s = Solution()\n",
    "res = s.search(nums=[1,2,3], target=1)\n",
    "res"
   ]
  },
  {
   "cell_type": "markdown",
   "metadata": {},
   "source": [
    "## firstBadVersion"
   ]
  },
  {
   "cell_type": "code",
   "execution_count": null,
   "metadata": {},
   "outputs": [],
   "source": [
    "# https://leetcode.com/problems/first-bad-version/submissions/\n",
    "\n",
    "# The isBadVersion API is already defined for you.\n",
    "# @param version, an integer\n",
    "# @return a bool\n",
    "# def isBadVersion(version):\n",
    "\n",
    "class Solution(object):\n",
    "    def firstBadVersion(self, n):\n",
    "        \"\"\"\n",
    "        :type n: int\n",
    "        :rtype: int\n",
    "        \"\"\"\n",
    "        left, right = 1, n \n",
    "        first_bad = 0\n",
    "        if n == 1:\n",
    "            return 1\n",
    "        while left <= right:\n",
    "            pivot = left + (right - left) // 2\n",
    "            \n",
    "            if isBadVersion(pivot):\n",
    "                first_bad = pivot # store current, if next is not bad, use this\n",
    "                right = pivot - 1\n",
    "            else:\n",
    "                left = pivot + 1\n",
    "                \n",
    "        return first_bad"
   ]
  },
  {
   "cell_type": "markdown",
   "metadata": {},
   "source": [
    "## searchInsert"
   ]
  },
  {
   "cell_type": "code",
   "execution_count": null,
   "metadata": {},
   "outputs": [],
   "source": [
    "class Solution(object):\n",
    "    def searchInsert(self, nums, target):\n",
    "        \"\"\"\n",
    "        :type nums: List[int]\n",
    "        :type target: int\n",
    "        :rtype: int\n",
    "        \"\"\"\n",
    "        left,right = 0, len(nums) -1\n",
    "        is_left = True \n",
    "        # whether should insert at same index if target smaller than last compare element after finish binary search, \n",
    "        # otherwise insert at the last compared element index + 1\n",
    "        p = 0\n",
    "        \n",
    "        if not nums: # empty\n",
    "            return 0\n",
    "        \n",
    "        while left <= right:\n",
    "            p = left + (right - left) // 2\n",
    "            if target > nums[p]:\n",
    "                left = p + 1\n",
    "                is_left = False\n",
    "            elif target < nums[p]:\n",
    "                right = p - 1\n",
    "                is_left = True\n",
    "            else:\n",
    "                is_left = True\n",
    "                break\n",
    "        if is_left:\n",
    "            return p\n",
    "        return p + 1"
   ]
  },
  {
   "cell_type": "markdown",
   "metadata": {},
   "source": [
    "# Two pointers"
   ]
  },
  {
   "cell_type": "markdown",
   "metadata": {},
   "source": [
    "## sortedSquares\n",
    "\n",
    "[link](https://leetcode.com/problems/squares-of-a-sorted-array/discuss/1642628/Python-O(n)-Solution-or-Two-Pointers)  \n",
    "Two pointers. One pointer is at index 0 and the other at last index.     \n",
    "We execute while loop till first index is smaller than the last index. At every loop we check if the sqaure of number at first index (nums[i] ** 2) is greater than number at last index (nums[j] ** 2).   \n",
    "If square of number at index i (first pointer) is greater than square of number at index j (second pointer). We add nums[i] ** 2 to the result array, otherwise we add nums[j] ** 2 to the array.  \n",
    "Lastly, reverse the array.  \n",
    "O(2n) = O(n)."
   ]
  },
  {
   "cell_type": "code",
   "execution_count": null,
   "metadata": {},
   "outputs": [],
   "source": [
    "def sortedSquares(self, nums: List[int]) -> List[int]:       \n",
    "        \n",
    "        i,j = 0, len(nums)-1\n",
    "        result = []\n",
    "        while i < j:\n",
    "            a,b = nums[i] ** 2 , nums[j] ** 2\n",
    "            if a > b:\n",
    "                result.insert(0,a)\n",
    "                i+=1\n",
    "            else:\n",
    "                result.insert(0,b)\n",
    "                j-=1\n",
    "        result.insert(0, nums[i] ** 2)\n",
    "        \n",
    "        return result"
   ]
  },
  {
   "cell_type": "code",
   "execution_count": 7,
   "metadata": {},
   "outputs": [
    {
     "data": {
      "text/plain": [
       "[0, 4]"
      ]
     },
     "execution_count": 7,
     "metadata": {},
     "output_type": "execute_result"
    }
   ],
   "source": [
    "x"
   ]
  },
  {
   "cell_type": "markdown",
   "metadata": {},
   "source": [
    "## Rotate array"
   ]
  },
  {
   "cell_type": "code",
   "execution_count": null,
   "metadata": {},
   "outputs": [],
   "source": [
    "class Solution(object):\n",
    "    def rotate(self, nums, k):\n",
    "        \"\"\"\n",
    "        :type nums: List[int]\n",
    "        :type k: int\n",
    "        :rtype: None Do not return anything, modify nums in-place instead.\n",
    "        \"\"\"\n",
    "        k =  k % len(nums)  # if rotate exceed the len, then remove that full rotation and keep the remaining steps\n",
    "        split = len(nums)-k            \n",
    "        left = nums[0: split]\n",
    "        right = nums[split:]\n",
    "        nums[0:k] = right\n",
    "        nums[k:] = left"
   ]
  },
  {
   "cell_type": "markdown",
   "metadata": {},
   "source": [
    "## Move Zeroes\n",
    "https://leetcode.com/problems/move-zeroes/  \n",
    "Input: nums = [0,1,0,3,12]  \n",
    "Output: [1,3,12,0,0]"
   ]
  },
  {
   "cell_type": "markdown",
   "metadata": {},
   "source": [
    "One pointer to the zero, one iterate.  \n",
    "When meet non-zero, then swap inex with  with the zero.  \n",
    "The order of non-zeros are maintained since the swap order is same as the existing order."
   ]
  },
  {
   "cell_type": "code",
   "execution_count": 8,
   "metadata": {},
   "outputs": [
    {
     "name": "stdout",
     "output_type": "stream",
     "text": [
      "zero_pointer, i, el, nums: 0 0 0 [0, 1, 2, 4, 3]\n",
      "zero_pointer, i, el, nums: 0 1 1 [0, 1, 2, 4, 3]\n",
      "zero_pointer, i, el, nums: 1 2 2 [1, 0, 2, 4, 3]\n",
      "zero_pointer, i, el, nums: 2 3 4 [1, 2, 0, 4, 3]\n",
      "zero_pointer, i, el, nums: 3 4 3 [1, 2, 4, 0, 3]\n"
     ]
    },
    {
     "data": {
      "text/plain": [
       "[1, 2, 4, 3, 0]"
      ]
     },
     "execution_count": 8,
     "metadata": {},
     "output_type": "execute_result"
    }
   ],
   "source": [
    "class Solution:\n",
    "    def moveZeroes(self, nums):\n",
    "        \"\"\"\n",
    "        :type nums: List[int]\n",
    "        :rtype: void Do not return anything, modify nums in-place instead.\n",
    "        \"\"\"\n",
    "        zero_pointer = 0\n",
    "        for i, el in enumerate(nums):\n",
    "            print(\"zero_pointer, i, el, nums:\", zero_pointer, i, el, nums)\n",
    "            if el != 0:\n",
    "                nums[zero_pointer], nums[i] = nums[i], nums[zero_pointer]\n",
    "                zero_pointer += 1\n",
    "                \n",
    "s = Solution()\n",
    "nums=[0,1,2,4,3]\n",
    "s.moveZeroes(nums)\n",
    "nums"
   ]
  },
  {
   "cell_type": "markdown",
   "metadata": {},
   "source": [
    "## twoSums"
   ]
  },
  {
   "cell_type": "markdown",
   "metadata": {},
   "source": [
    "Since the pointers go from outside in, when reach one of the correct one, the pointer will\n",
    "not move any more inner as the values do not matched (sorted in non-descent).  \n",
    "\n",
    "Example: target = 6;  \n",
    "\n",
    ".... 2 ..... 4 .....  \n",
    "\n",
    "**Case 1:** pointer1 reach 2, pointer2 after 4.   \n",
    "Now, the value is always greater, and so pointer1 will not move.  \n",
    "**Case 2:** pointer1 before 2, pointer2 reach 4.  \n",
    "Now, the value is always smaller, so pointer2 will not move. And pointer1 will move until reach 2."
   ]
  },
  {
   "cell_type": "code",
   "execution_count": null,
   "metadata": {},
   "outputs": [],
   "source": [
    "# ref: https://leetcode.com/problems/two-sum-ii-input-array-is-sorted/discuss/1642733/Python-Two-Simple-Approaches-or-Binary-Search-and-Two-Pointers\n",
    "# Two Pointers Solution\n",
    "# Time O(n)\n",
    "class Solution:\n",
    "\tdef twoSum(self, arr: List[int], target: int) -> List[int]:\n",
    "\t\tstrt = 0\n",
    "\t\tend = len(arr)-1\n",
    "\t\twhile strt <= end:\n",
    "\t\t\tsum = arr[strt]+arr[end]\n",
    "\t\t\tif sum == target:\n",
    "\t\t\t\treturn [strt+1, end+1]\n",
    "\t\t\telif sum < target:\n",
    "\t\t\t\tstrt += 1\n",
    "\t\t\telse:\n",
    "\t\t\t\tend -= 1"
   ]
  },
  {
   "cell_type": "markdown",
   "metadata": {},
   "source": [
    "## reverseString"
   ]
  },
  {
   "cell_type": "code",
   "execution_count": null,
   "metadata": {},
   "outputs": [],
   "source": [
    "## Reverse String\n",
    "class Solution(object):\n",
    "    def reverseString(self, s):\n",
    "        \"\"\"\n",
    "        :type s: List[str]\n",
    "        :rtype: None Do not return anything, modify s in-place instead.\n",
    "        \"\"\"\n",
    "        left, right = 0, len(s) - 1\n",
    "        \n",
    "        while left <= right:\n",
    "            s[left], s[right] = s[right], s[left]\n",
    "            left += 1\n",
    "            right -= 1 "
   ]
  },
  {
   "cell_type": "markdown",
   "metadata": {},
   "source": [
    "or s.reseve() # not good"
   ]
  },
  {
   "cell_type": "markdown",
   "metadata": {},
   "source": [
    "# Linked List"
   ]
  },
  {
   "cell_type": "markdown",
   "metadata": {},
   "source": [
    " ## Middle of the Linked List"
   ]
  },
  {
   "cell_type": "code",
   "execution_count": null,
   "metadata": {},
   "outputs": [],
   "source": [
    "# ref: https://leetcode.com/problems/middle-of-the-linked-list/solution/\n",
    "class Solution:\n",
    "    def middleNode(self, head: ListNode) -> ListNode:\n",
    "        arr = [head]\n",
    "        while arr[-1].next:\n",
    "            arr.append(arr[-1].next)\n",
    "        return arr[len(arr) // 2]"
   ]
  },
  {
   "cell_type": "code",
   "execution_count": null,
   "metadata": {},
   "outputs": [],
   "source": [
    "class Solution:\n",
    "    def middleNode(self, head):\n",
    "        \"\"\"\n",
    "        When traversing the list with a pointer slow, make another pointer fast that traverses twice as fast. When fast reaches the end of the list, slow must be in the middle.\n",
    "        \"\"\"\n",
    "        slow = fast = head\n",
    "        while fast and fast.next:\n",
    "            slow = slow.next\n",
    "            fast = fast.next.next\n",
    "        return slow"
   ]
  },
  {
   "cell_type": "markdown",
   "metadata": {},
   "source": [
    "## removeNthFromEnd"
   ]
  },
  {
   "cell_type": "code",
   "execution_count": null,
   "metadata": {},
   "outputs": [],
   "source": [
    "def removeNthFromEnd(head, n):\n",
    "    \n",
    "    def remove(head, n):            \n",
    "        # base case\n",
    "        if head == None: \n",
    "            return head, 0 \n",
    "        # recursive til the end\n",
    "        node, count = remove(head.next, n)\n",
    "        # stack pop back up, and start counting \n",
    "        count += 1\n",
    "        # update head\n",
    "        head.next = node\n",
    "        \n",
    "        if count == n: # since count starts from 0, so use the next one instead once reach n\n",
    "            head = head.next\n",
    "        \n",
    "        return head, count\n",
    "    \n",
    "    return remove(head, n)[0]\n",
    "nums = [1,2,3,4,5]\n",
    "# Definition for singly-linked list.\n",
    "class ListNode(object):\n",
    "    def __init__(self, val=0, next=None):\n",
    "        self.val = val\n",
    "        self.next = next\n",
    "# head = ListNode()\n",
    "# p = head\n",
    "# i = 0\n",
    "# while i < len(nums):\n",
    "#     p.val = nums[i]\n",
    "#     if i + 1 == len(nums):\n",
    "#         a.next = None\n",
    "#         break\n",
    "#     p.next = nums[i+1]\n",
    "#     p = p.next\n",
    "#     i += 1 \n",
    "    \n",
    "# removeNthFromEnd(a)"
   ]
  },
  {
   "cell_type": "markdown",
   "metadata": {},
   "source": [
    "# Other"
   ]
  },
  {
   "cell_type": "markdown",
   "metadata": {},
   "source": [
    "## isPalindrome"
   ]
  },
  {
   "cell_type": "code",
   "execution_count": null,
   "metadata": {},
   "outputs": [
    {
     "data": {
      "text/plain": [
       "False"
      ]
     },
     "metadata": {},
     "output_type": "display_data"
    }
   ],
   "source": [
    "# with str\n",
    "x = -121\n",
    "\n",
    "x = str(x)\n",
    "x == x[::-1]\n",
    "                 "
   ]
  },
  {
   "cell_type": "code",
   "execution_count": null,
   "metadata": {},
   "outputs": [
    {
     "name": "stdout",
     "output_type": "stream",
     "text": [
      "x: 5432\n",
      "reverted: 1\n",
      "x: 543\n",
      "reverted: 12\n",
      "x: 54\n",
      "reverted: 123\n"
     ]
    },
    {
     "data": {
      "text/plain": [
       "False"
      ]
     },
     "metadata": {},
     "output_type": "display_data"
    }
   ],
   "source": [
    "# without str: https://leetcode.com/problems/palindrome-number/solution/\n",
    "# sidenotes, in C, if declare type int, then the rest are all int but python need to cast explicitly\n",
    "x = 54321 # 12345\n",
    "\n",
    "if x < 0 or (x % 10 == 0 and x != 0): # negative or last digit == 0 except for 0\n",
    "    print(False)\n",
    "    \n",
    "reverted = 0\n",
    "while x > reverted:\n",
    "    reverted = reverted * 10 + x % 10 # everytime the last digit will increment by 1 position\n",
    "    x /= 10\n",
    "    x = int(x)\n",
    "    reverted = int(reverted)\n",
    "    print(\"x:\", x)\n",
    "    print(\"reverted:\", reverted)\n",
    "\n",
    "# // When the length is an odd number, we can get rid of the middle digit by revertedNumber/10\n",
    "# // For example when the input is 12321, at the end of the while loop we get x = 12, revertedNumber = 123,\n",
    "# // since the middle digit doesn't matter in palidrome(it will always equal to itself), we can simply get rid of it.\n",
    "x == reverted or x == int(reverted/10) "
   ]
  },
  {
   "cell_type": "markdown",
   "metadata": {},
   "source": [
    "# TODO"
   ]
  }
 ],
 "metadata": {
  "interpreter": {
   "hash": "97643606afa0bdeaaecd0f24aa18bb8435e8e86e869d6d34c9b6af0ede22ba0d"
  },
  "kernelspec": {
   "display_name": "Python 3.8.8 64-bit",
   "name": "python3"
  },
  "language_info": {
   "codemirror_mode": {
    "name": "ipython",
    "version": 3
   },
   "file_extension": ".py",
   "mimetype": "text/x-python",
   "name": "python",
   "nbconvert_exporter": "python",
   "pygments_lexer": "ipython3",
   "version": "3.8.8"
  }
 },
 "nbformat": 4,
 "nbformat_minor": 2
}