{
 "cells": [
  {
   "cell_type": "markdown",
   "metadata": {},
   "source": [
    "# Python"
   ]
  },
  {
   "cell_type": "markdown",
   "metadata": {},
   "source": [
    "# Basic"
   ]
  },
  {
   "cell_type": "markdown",
   "metadata": {},
   "source": [
    "# Algorithm"
   ]
  },
  {
   "cell_type": "markdown",
   "metadata": {},
   "source": [
    "## isPalindrome"
   ]
  },
  {
   "cell_type": "code",
   "execution_count": 42,
   "metadata": {},
   "outputs": [
    {
     "data": {
      "text/plain": [
       "False"
      ]
     },
     "execution_count": 42,
     "metadata": {},
     "output_type": "execute_result"
    }
   ],
   "source": [
    "# with str\n",
    "x = -121\n",
    "\n",
    "x = str(x)\n",
    "x == x[::-1]\n",
    "                 "
   ]
  },
  {
   "cell_type": "code",
   "execution_count": 43,
   "metadata": {},
   "outputs": [
    {
     "name": "stdout",
     "output_type": "stream",
     "text": [
      "x: 5432\n",
      "reverted: 1\n",
      "x: 543\n",
      "reverted: 12\n",
      "x: 54\n",
      "reverted: 123\n"
     ]
    },
    {
     "data": {
      "text/plain": [
       "False"
      ]
     },
     "execution_count": 43,
     "metadata": {},
     "output_type": "execute_result"
    }
   ],
   "source": [
    "# without str: https://leetcode.com/problems/palindrome-number/solution/\n",
    "# sidenotes, in C, if declare type int, then the rest are all int but python need to cast explicitly\n",
    "x = 54321 # 12345\n",
    "\n",
    "if x < 0 or (x % 10 == 0 and x != 0): # negative or last digit == 0 except for 0\n",
    "    print(False)\n",
    "    \n",
    "reverted = 0\n",
    "while x > reverted:\n",
    "    reverted = reverted * 10 + x % 10 # everytime the last digit will increment by 1 position\n",
    "    x /= 10\n",
    "    x = int(x)\n",
    "    reverted = int(reverted)\n",
    "    print(\"x:\", x)\n",
    "    print(\"reverted:\", reverted)\n",
    "\n",
    "# // When the length is an odd number, we can get rid of the middle digit by revertedNumber/10\n",
    "# // For example when the input is 12321, at the end of the while loop we get x = 12, revertedNumber = 123,\n",
    "# // since the middle digit doesn't matter in palidrome(it will always equal to itself), we can simply get rid of it.\n",
    "x == reverted or x == int(reverted/10) "
   ]
  },
  {
   "cell_type": "markdown",
   "metadata": {},
   "source": [
    "## Binary Search"
   ]
  },
  {
   "cell_type": "code",
   "execution_count": 25,
   "metadata": {},
   "outputs": [
    {
     "data": {
      "text/plain": [
       "0"
      ]
     },
     "execution_count": 25,
     "metadata": {},
     "output_type": "execute_result"
    }
   ],
   "source": [
    "\"\"\"\n",
    "assume ascending order, unique\n",
    "\"\"\"\n",
    "# https://leetcode.com/problems/binary-search/solution/\n",
    "from typing import * # import typing, for python3.9, see: https://stackoverflow.com/questions/57505071/nameerror-name-list-is-not-defined\n",
    "\n",
    "class Solution:\n",
    "    def search(self, nums: List[int], target: int) -> int:\n",
    "        left, right = 0, len(nums) - 1\n",
    "        while left <= right:\n",
    "            pivot = left + (right - left) // 2 # the middle between left & right then add the offset of current left position\n",
    "            if nums[pivot] == target:\n",
    "                return pivot\n",
    "            if target < nums[pivot]:\n",
    "                right = pivot - 1\n",
    "            else:\n",
    "                left = pivot + 1\n",
    "        return -1\n",
    "s = Solution()\n",
    "res = s.search(nums=[1,2,3], target=1)\n",
    "res"
   ]
  },
  {
   "cell_type": "markdown",
   "metadata": {},
   "source": [
    "## firstBadVersion"
   ]
  },
  {
   "cell_type": "code",
   "execution_count": null,
   "metadata": {},
   "outputs": [],
   "source": [
    "# https://leetcode.com/problems/first-bad-version/submissions/\n",
    "\n",
    "# The isBadVersion API is already defined for you.\n",
    "# @param version, an integer\n",
    "# @return a bool\n",
    "# def isBadVersion(version):\n",
    "\n",
    "class Solution(object):\n",
    "    def firstBadVersion(self, n):\n",
    "        \"\"\"\n",
    "        :type n: int\n",
    "        :rtype: int\n",
    "        \"\"\"\n",
    "        left, right = 1, n \n",
    "        first_bad = 0\n",
    "        if n == 1:\n",
    "            return 1\n",
    "        while left <= right:\n",
    "            pivot = left + (right - left) // 2\n",
    "            \n",
    "            if isBadVersion(pivot):\n",
    "                first_bad = pivot # store current, if next is not bad, use this\n",
    "                right = pivot - 1\n",
    "            else:\n",
    "                left = pivot + 1\n",
    "                \n",
    "        return first_bad"
   ]
  },
  {
   "cell_type": "markdown",
   "metadata": {},
   "source": [
    "## searchInsert"
   ]
  },
  {
   "cell_type": "code",
   "execution_count": null,
   "metadata": {},
   "outputs": [],
   "source": [
    "class Solution(object):\n",
    "    def searchInsert(self, nums, target):\n",
    "        \"\"\"\n",
    "        :type nums: List[int]\n",
    "        :type target: int\n",
    "        :rtype: int\n",
    "        \"\"\"\n",
    "        left,right = 0, len(nums) -1\n",
    "        is_left = True \n",
    "        # whether should insert at same index if target smaller than last compare element after finish binary search, \n",
    "        # otherwise insert at the last compared element index + 1\n",
    "        p = 0\n",
    "        \n",
    "        if not nums: # empty\n",
    "            return 0\n",
    "        \n",
    "        while left <= right:\n",
    "            p = left + (right - left) // 2\n",
    "            if target > nums[p]:\n",
    "                left = p + 1\n",
    "                is_left = False\n",
    "            elif target < nums[p]:\n",
    "                right = p - 1\n",
    "                is_left = True\n",
    "            else:\n",
    "                is_left = True\n",
    "                break\n",
    "        if is_left:\n",
    "            return p\n",
    "        return p + 1"
   ]
  },
  {
   "cell_type": "code",
   "execution_count": 3,
   "metadata": {},
   "outputs": [
    {
     "data": {
      "text/plain": [
       "0"
      ]
     },
     "execution_count": 3,
     "metadata": {},
     "output_type": "execute_result"
    }
   ],
   "source": []
  },
  {
   "cell_type": "markdown",
   "metadata": {},
   "source": [
    "# TODO"
   ]
  }
 ],
 "metadata": {
  "interpreter": {
   "hash": "97643606afa0bdeaaecd0f24aa18bb8435e8e86e869d6d34c9b6af0ede22ba0d"
  },
  "kernelspec": {
   "display_name": "Python 3.8.8 64-bit",
   "name": "python3"
  },
  "language_info": {
   "codemirror_mode": {
    "name": "ipython",
    "version": 3
   },
   "file_extension": ".py",
   "mimetype": "text/x-python",
   "name": "python",
   "nbconvert_exporter": "python",
   "pygments_lexer": "ipython3",
   "version": "3.8.8"
  }
 },
 "nbformat": 4,
 "nbformat_minor": 2
}