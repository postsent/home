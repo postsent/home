{
 "cells": [
  {
   "cell_type": "markdown",
   "metadata": {},
   "source": [
    "# Python"
   ]
  },
  {
   "cell_type": "markdown",
   "metadata": {},
   "source": [
    "# Potential References  \n",
    "https://github.com/CyC2018/CS-Notes"
   ]
  },
  {
   "cell_type": "markdown",
   "metadata": {},
   "source": [
    "# --Basic--"
   ]
  },
  {
   "cell_type": "markdown",
   "metadata": {},
   "source": [
    "# --Algorithm--"
   ]
  },
  {
   "cell_type": "markdown",
   "metadata": {},
   "source": [
    "# Binary Search"
   ]
  },
  {
   "cell_type": "code",
   "execution_count": 25,
   "metadata": {},
   "outputs": [
    {
     "data": {
      "text/plain": [
       "0"
      ]
     },
     "execution_count": 25,
     "metadata": {},
     "output_type": "execute_result"
    }
   ],
   "source": [
    "\"\"\"\n",
    "assume ascending order, unique\n",
    "\"\"\"\n",
    "# https://leetcode.com/problems/binary-search/solution/\n",
    "from typing import * # import typing, for python3.9, see: https://stackoverflow.com/questions/57505071/nameerror-name-list-is-not-defined\n",
    "\n",
    "class Solution:\n",
    "    def search(self, nums: List[int], target: int) -> int:\n",
    "        left, right = 0, len(nums) - 1\n",
    "        while left <= right:\n",
    "            pivot = left + (right - left) // 2 # the middle between left & right then add the offset of current left position\n",
    "            if nums[pivot] == target:\n",
    "                return pivot\n",
    "            if target < nums[pivot]:\n",
    "                right = pivot - 1\n",
    "            else:\n",
    "                left = pivot + 1\n",
    "        return -1\n",
    "s = Solution()\n",
    "res = s.search(nums=[1,2,3], target=1)\n",
    "res"
   ]
  },
  {
   "cell_type": "markdown",
   "metadata": {},
   "source": [
    "## firstBadVersion"
   ]
  },
  {
   "cell_type": "code",
   "execution_count": null,
   "metadata": {},
   "outputs": [],
   "source": [
    "# https://leetcode.com/problems/first-bad-version/submissions/\n",
    "\n",
    "# The isBadVersion API is already defined for you.\n",
    "# @param version, an integer\n",
    "# @return a bool\n",
    "# def isBadVersion(version):\n",
    "\n",
    "class Solution(object):\n",
    "    def firstBadVersion(self, n):\n",
    "        \"\"\"\n",
    "        :type n: int\n",
    "        :rtype: int\n",
    "        \"\"\"\n",
    "        left, right = 1, n \n",
    "        first_bad = 0\n",
    "        if n == 1:\n",
    "            return 1\n",
    "        while left <= right:\n",
    "            pivot = left + (right - left) // 2\n",
    "            \n",
    "            if isBadVersion(pivot):\n",
    "                first_bad = pivot # store current, if next is not bad, use this\n",
    "                right = pivot - 1\n",
    "            else:\n",
    "                left = pivot + 1\n",
    "                \n",
    "        return first_bad"
   ]
  },
  {
   "cell_type": "markdown",
   "metadata": {},
   "source": [
    "## searchInsert"
   ]
  },
  {
   "cell_type": "code",
   "execution_count": null,
   "metadata": {},
   "outputs": [],
   "source": [
    "class Solution(object):\n",
    "    def searchInsert(self, nums, target):\n",
    "        \"\"\"\n",
    "        :type nums: List[int]\n",
    "        :type target: int\n",
    "        :rtype: int\n",
    "        \"\"\"\n",
    "        left,right = 0, len(nums) -1\n",
    "        is_left = True \n",
    "        # whether should insert at same index if target smaller than last compare element after finish binary search, \n",
    "        # otherwise insert at the last compared element index + 1\n",
    "        p = 0\n",
    "        \n",
    "        if not nums: # empty\n",
    "            return 0\n",
    "        \n",
    "        while left <= right:\n",
    "            p = left + (right - left) // 2\n",
    "            if target > nums[p]:\n",
    "                left = p + 1\n",
    "                is_left = False\n",
    "            elif target < nums[p]:\n",
    "                right = p - 1\n",
    "                is_left = True\n",
    "            else:\n",
    "                is_left = True\n",
    "                break\n",
    "        if is_left:\n",
    "            return p\n",
    "        return p + 1"
   ]
  },
  {
   "cell_type": "markdown",
   "metadata": {},
   "source": [
    "# Two pointers"
   ]
  },
  {
   "cell_type": "markdown",
   "metadata": {},
   "source": [
    "## sortedSquares\n",
    "\n",
    "[link](https://leetcode.com/problems/squares-of-a-sorted-array/discuss/1642628/Python-O(n)-Solution-or-Two-Pointers)  \n",
    "Two pointers. One pointer is at index 0 and the other at last index.     \n",
    "We execute while loop till first index is smaller than the last index. At every loop we check if the sqaure of number at first index (nums[i] ** 2) is greater than number at last index (nums[j] ** 2).   \n",
    "If square of number at index i (first pointer) is greater than square of number at index j (second pointer). We add nums[i] ** 2 to the result array, otherwise we add nums[j] ** 2 to the array.  \n",
    "Lastly, reverse the array.  \n",
    "O(2n) = O(n)."
   ]
  },
  {
   "cell_type": "code",
   "execution_count": null,
   "metadata": {},
   "outputs": [],
   "source": [
    "def sortedSquares(self, nums: List[int]) -> List[int]:       \n",
    "        \n",
    "        i,j = 0, len(nums)-1\n",
    "        result = []\n",
    "        while i < j:\n",
    "            a,b = nums[i] ** 2 , nums[j] ** 2\n",
    "            if a > b:\n",
    "                result.insert(0,a)\n",
    "                i+=1\n",
    "            else:\n",
    "                result.insert(0,b)\n",
    "                j-=1\n",
    "        result.insert(0, nums[i] ** 2)\n",
    "        \n",
    "        return result"
   ]
  },
  {
   "cell_type": "code",
   "execution_count": 7,
   "metadata": {},
   "outputs": [
    {
     "data": {
      "text/plain": [
       "[0, 4]"
      ]
     },
     "execution_count": 7,
     "metadata": {},
     "output_type": "execute_result"
    }
   ],
   "source": [
    "class Solution(object):\n",
    "    def sortedSquares(self, nums):\n",
    "        \"\"\"\n",
    "        :type nums: List[int]\n",
    "        :rtype: List[int]\n",
    "        \"\"\"\n",
    "\n",
    "        # all positive -> same order\n",
    "        # all negative -> reverse order\n",
    "        # mix -> two pointers\n",
    "        \n",
    "        # check postive\n",
    "        pos = 0\n",
    "        neg = 0\n",
    "        \n",
    "        for n in nums:\n",
    "            if n >= 0:\n",
    "                pos += 1\n",
    "            else:\n",
    "                neg += 1\n",
    "        \n",
    "        if not nums: # empty\n",
    "            return nums\n",
    "        \n",
    "        if len(nums) == 1:\n",
    "            return [n**2 for n in nums]\n",
    "        \n",
    "        if pos == 0: # all neg\n",
    "            reversed = nums[::-1]\n",
    "            squared = [n**2 for n in reversed]\n",
    "            return squared\n",
    "        elif neg == 0:\n",
    "            squared = [n**2 for n in nums]\n",
    "            return squared\n",
    "        \n",
    "        \n",
    "        first_pos = 0\n",
    "        \n",
    "        # find first pos\n",
    "        for i, n in enumerate(nums):\n",
    "            if n >= 0:\n",
    "                first_pos = i\n",
    "                break\n",
    "        \n",
    "        p1, p2 = first_pos - 1, first_pos\n",
    "        \n",
    "        sorted = []\n",
    "        \n",
    "        # two pointers, one post one neg\n",
    "        while p1 >= 0 and p2 < len(nums):\n",
    "            v_neg = nums[p1]\n",
    "            v_pos = nums[p2]\n",
    "            if v_pos <= abs(v_neg):\n",
    "                sorted.append(v_pos)\n",
    "                p2 += 1 \n",
    "            else:\n",
    "                sorted.append(v_neg)\n",
    "                p1 -= 1 \n",
    "                \n",
    "        if p1 >= 0: # some neg left\n",
    "            sorted += nums[:p1+1][::-1] # add remain and reverse since negative values\n",
    "            return [n**2 for n in sorted]\n",
    "        \n",
    "        elif p2 < len(nums): # some pos left\n",
    "            sorted += nums[p2:]\n",
    "            return [n**2 for n in sorted]\n",
    "        \n",
    "        # nothing left\n",
    "        return [n**2 for n in sorted]\n",
    "            \n",
    "        # worse case O(3n) = O(n)\n",
    "s = Solution()\n",
    "res = s.sortedSquares(nums=[0,2])\n",
    "res"
   ]
  },
  {
   "cell_type": "markdown",
   "metadata": {},
   "source": [
    "# Other"
   ]
  },
  {
   "cell_type": "markdown",
   "metadata": {},
   "source": [
    "## isPalindrome"
   ]
  },
  {
   "cell_type": "code",
   "execution_count": null,
   "metadata": {},
   "outputs": [
    {
     "data": {
      "text/plain": [
       "False"
      ]
     },
     "metadata": {},
     "output_type": "display_data"
    }
   ],
   "source": [
    "# with str\n",
    "x = -121\n",
    "\n",
    "x = str(x)\n",
    "x == x[::-1]\n",
    "                 "
   ]
  },
  {
   "cell_type": "code",
   "execution_count": null,
   "metadata": {},
   "outputs": [
    {
     "name": "stdout",
     "output_type": "stream",
     "text": [
      "x: 5432\n",
      "reverted: 1\n",
      "x: 543\n",
      "reverted: 12\n",
      "x: 54\n",
      "reverted: 123\n"
     ]
    },
    {
     "data": {
      "text/plain": [
       "False"
      ]
     },
     "metadata": {},
     "output_type": "display_data"
    }
   ],
   "source": [
    "# without str: https://leetcode.com/problems/palindrome-number/solution/\n",
    "# sidenotes, in C, if declare type int, then the rest are all int but python need to cast explicitly\n",
    "x = 54321 # 12345\n",
    "\n",
    "if x < 0 or (x % 10 == 0 and x != 0): # negative or last digit == 0 except for 0\n",
    "    print(False)\n",
    "    \n",
    "reverted = 0\n",
    "while x > reverted:\n",
    "    reverted = reverted * 10 + x % 10 # everytime the last digit will increment by 1 position\n",
    "    x /= 10\n",
    "    x = int(x)\n",
    "    reverted = int(reverted)\n",
    "    print(\"x:\", x)\n",
    "    print(\"reverted:\", reverted)\n",
    "\n",
    "# // When the length is an odd number, we can get rid of the middle digit by revertedNumber/10\n",
    "# // For example when the input is 12321, at the end of the while loop we get x = 12, revertedNumber = 123,\n",
    "# // since the middle digit doesn't matter in palidrome(it will always equal to itself), we can simply get rid of it.\n",
    "x == reverted or x == int(reverted/10) "
   ]
  },
  {
   "cell_type": "markdown",
   "metadata": {},
   "source": [
    "# TODO"
   ]
  }
 ],
 "metadata": {
  "interpreter": {
   "hash": "97643606afa0bdeaaecd0f24aa18bb8435e8e86e869d6d34c9b6af0ede22ba0d"
  },
  "kernelspec": {
   "display_name": "Python 3.8.8 64-bit",
   "name": "python3"
  },
  "language_info": {
   "codemirror_mode": {
    "name": "ipython",
    "version": 3
   },
   "file_extension": ".py",
   "mimetype": "text/x-python",
   "name": "python",
   "nbconvert_exporter": "python",
   "pygments_lexer": "ipython3",
   "version": "3.8.8"
  }
 },
 "nbformat": 4,
 "nbformat_minor": 2
}