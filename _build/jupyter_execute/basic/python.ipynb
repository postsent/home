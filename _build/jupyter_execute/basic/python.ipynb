{
 "cells": [
  {
   "cell_type": "markdown",
   "metadata": {},
   "source": [
    "# Python"
   ]
  },
  {
   "cell_type": "markdown",
   "metadata": {},
   "source": [
    "# isPalindrome"
   ]
  },
  {
   "cell_type": "code",
   "execution_count": 42,
   "metadata": {},
   "outputs": [
    {
     "data": {
      "text/plain": [
       "False"
      ]
     },
     "execution_count": 42,
     "metadata": {},
     "output_type": "execute_result"
    }
   ],
   "source": [
    "# with str\n",
    "x = -121\n",
    "\n",
    "x = str(x)\n",
    "x == x[::-1]\n",
    "                 "
   ]
  },
  {
   "cell_type": "code",
   "execution_count": 43,
   "metadata": {},
   "outputs": [
    {
     "name": "stdout",
     "output_type": "stream",
     "text": [
      "x: 5432\n",
      "reverted: 1\n",
      "x: 543\n",
      "reverted: 12\n",
      "x: 54\n",
      "reverted: 123\n"
     ]
    },
    {
     "data": {
      "text/plain": [
       "False"
      ]
     },
     "execution_count": 43,
     "metadata": {},
     "output_type": "execute_result"
    }
   ],
   "source": [
    "# without str: https://leetcode.com/problems/palindrome-number/solution/\n",
    "# sidenotes, in C, if declare type int, then the rest are all int but python need to cast explicitly\n",
    "x = 54321 # 12345\n",
    "\n",
    "if x < 0 or (x % 10 == 0 and x != 0): # negative or last digit == 0 except for 0\n",
    "    print(False)\n",
    "    \n",
    "reverted = 0\n",
    "while x > reverted:\n",
    "    reverted = reverted * 10 + x % 10 # everytime the last digit will increment by 1 position\n",
    "    x /= 10\n",
    "    x = int(x)\n",
    "    reverted = int(reverted)\n",
    "    print(\"x:\", x)\n",
    "    print(\"reverted:\", reverted)\n",
    "\n",
    "# // When the length is an odd number, we can get rid of the middle digit by revertedNumber/10\n",
    "# // For example when the input is 12321, at the end of the while loop we get x = 12, revertedNumber = 123,\n",
    "# // since the middle digit doesn't matter in palidrome(it will always equal to itself), we can simply get rid of it.\n",
    "x == reverted or x == int(reverted/10) "
   ]
  },
  {
   "cell_type": "code",
   "execution_count": null,
   "metadata": {},
   "outputs": [
    {
     "data": {
      "text/plain": [
       "10"
      ]
     },
     "metadata": {},
     "output_type": "display_data"
    }
   ],
   "source": [
    "109 // 10"
   ]
  },
  {
   "cell_type": "markdown",
   "metadata": {},
   "source": [
    "# TODO"
   ]
  }
 ],
 "metadata": {
  "interpreter": {
   "hash": "97643606afa0bdeaaecd0f24aa18bb8435e8e86e869d6d34c9b6af0ede22ba0d"
  },
  "kernelspec": {
   "display_name": "Python 3.8.8 64-bit",
   "name": "python3"
  },
  "language_info": {
   "codemirror_mode": {
    "name": "ipython",
    "version": 3
   },
   "file_extension": ".py",
   "mimetype": "text/x-python",
   "name": "python",
   "nbconvert_exporter": "python",
   "pygments_lexer": "ipython3",
   "version": "3.8.8"
  }
 },
 "nbformat": 4,
 "nbformat_minor": 2
}