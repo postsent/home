{
 "cells": [
  {
   "cell_type": "markdown",
   "metadata": {},
   "source": [
    "# Common"
   ]
  },
  {
   "cell_type": "code",
   "execution_count": null,
   "metadata": {},
   "outputs": [],
   "source": [
    "import numpy as np\n",
    "import pandas as pd\n",
    "import random\n",
    "import torch\n",
    "from torchtext.legacy import data\n",
    "import os\n",
    "\n",
    "%matplotlib inline \n",
    "from IPython.core.interactiveshell import InteractiveShell\n",
    "from IPython import get_ipython\n",
    "get_ipython().ast_node_interactivity = 'all'\n",
    "\n",
    "CONFIG = {\n",
    "    'seed': 23\n",
    "}\n",
    "\n",
    "def set_seed(seed=42):\n",
    "    '''Sets seed so result unchanged - reproducibility'''\n",
    "    np.random.seed(seed)\n",
    "    torch.manual_seed(seed)\n",
    "    torch.cuda.manual_seed(seed)\n",
    "    # When running on the CuDNN backend, two further options must be set\n",
    "    torch.backends.cudnn.deterministic = True\n",
    "    torch.backends.cudnn.benchmark = False\n",
    "    # Set a fixed value for the hash seed\n",
    "    os.environ['PYTHONHASHSEED'] = str(seed)\n",
    "    \n",
    "set_seed(CONFIG['seed'])"
   ]
  },
  {
   "cell_type": "markdown",
   "metadata": {},
   "source": [
    "##### Make mini trainnig data"
   ]
  },
  {
   "cell_type": "code",
   "execution_count": 52,
   "metadata": {},
   "outputs": [],
   "source": [
    "import pandas as pd\n",
    "from sklearn.feature_extraction.text import TfidfVectorizer\n",
    "\n",
    "%matplotlib inline \n",
    "from IPython.core.interactiveshell import InteractiveShell\n",
    "from IPython import get_ipython\n",
    "get_ipython().ast_node_interactivity = 'all'\n",
    "\n",
    "def p(t=''):\n",
    "    print('-------'+t+'-------')\n",
    "    print()\n",
    "    \n",
    "CONFIG = {'seed': 23\n",
    "          }"
   ]
  },
  {
   "cell_type": "markdown",
   "metadata": {},
   "source": [
    "##### READ data"
   ]
  },
  {
   "cell_type": "code",
   "execution_count": 53,
   "metadata": {},
   "outputs": [
    {
     "data": {
      "text/html": [
       "<div>\n",
       "<style scoped>\n",
       "    .dataframe tbody tr th:only-of-type {\n",
       "        vertical-align: middle;\n",
       "    }\n",
       "\n",
       "    .dataframe tbody tr th {\n",
       "        vertical-align: top;\n",
       "    }\n",
       "\n",
       "    .dataframe thead th {\n",
       "        text-align: right;\n",
       "    }\n",
       "</style>\n",
       "<table border=\"1\" class=\"dataframe\">\n",
       "  <thead>\n",
       "    <tr style=\"text-align: right;\">\n",
       "      <th></th>\n",
       "      <th>text</th>\n",
       "      <th>y</th>\n",
       "    </tr>\n",
       "  </thead>\n",
       "  <tbody>\n",
       "    <tr>\n",
       "      <th>14795</th>\n",
       "      <td>Queens of the stone age \\nHere's just a big th...</td>\n",
       "      <td>0</td>\n",
       "    </tr>\n",
       "    <tr>\n",
       "      <th>95894</th>\n",
       "      <td>MySpace?\\nIs the MySpace page that is linked a...</td>\n",
       "      <td>0</td>\n",
       "    </tr>\n",
       "    <tr>\n",
       "      <th>58770</th>\n",
       "      <td>I would defer to KateFan's judgement on this m...</td>\n",
       "      <td>0</td>\n",
       "    </tr>\n",
       "    <tr>\n",
       "      <th>131779</th>\n",
       "      <td>== prospider is a fag</td>\n",
       "      <td>1</td>\n",
       "    </tr>\n",
       "    <tr>\n",
       "      <th>141119</th>\n",
       "      <td>\"\\n\\nAnd you did that in 8 lines !!! Anyway, \"...</td>\n",
       "      <td>0</td>\n",
       "    </tr>\n",
       "  </tbody>\n",
       "</table>\n",
       "</div>"
      ],
      "text/plain": [
       "                                                     text  y\n",
       "14795   Queens of the stone age \\nHere's just a big th...  0\n",
       "95894   MySpace?\\nIs the MySpace page that is linked a...  0\n",
       "58770   I would defer to KateFan's judgement on this m...  0\n",
       "131779                              == prospider is a fag  1\n",
       "141119  \"\\n\\nAnd you did that in 8 lines !!! Anyway, \"...  0"
      ]
     },
     "execution_count": 53,
     "metadata": {},
     "output_type": "execute_result"
    }
   ],
   "source": [
    "df = pd.read_csv(\"../data/raw/jigsaw-toxic-comment-classification-challenge/train.csv\")\n",
    "df['y'] = (df[['toxic', 'severe_toxic', 'obscene', 'threat', 'insult', 'identity_hate']].sum(axis=1) > 0 ).astype(int)\n",
    "df = df[['comment_text', 'y']].rename(columns={'comment_text': 'text'})\n",
    "df.sample(5)"
   ]
  },
  {
   "cell_type": "code",
   "execution_count": 54,
   "metadata": {},
   "outputs": [
    {
     "data": {
      "text/plain": [
       "[0, 1]"
      ]
     },
     "execution_count": 54,
     "metadata": {},
     "output_type": "execute_result"
    }
   ],
   "source": [
    "list(df['y'].unique())"
   ]
  },
  {
   "cell_type": "code",
   "execution_count": 63,
   "metadata": {},
   "outputs": [
    {
     "data": {
      "text/plain": [
       "0    2000\n",
       "1    2000\n",
       "Name: y, dtype: int64"
      ]
     },
     "execution_count": 63,
     "metadata": {},
     "output_type": "execute_result"
    },
    {
     "data": {
      "text/html": [
       "<div>\n",
       "<style scoped>\n",
       "    .dataframe tbody tr th:only-of-type {\n",
       "        vertical-align: middle;\n",
       "    }\n",
       "\n",
       "    .dataframe tbody tr th {\n",
       "        vertical-align: top;\n",
       "    }\n",
       "\n",
       "    .dataframe thead th {\n",
       "        text-align: right;\n",
       "    }\n",
       "</style>\n",
       "<table border=\"1\" class=\"dataframe\">\n",
       "  <thead>\n",
       "    <tr style=\"text-align: right;\">\n",
       "      <th></th>\n",
       "      <th>text</th>\n",
       "      <th>label</th>\n",
       "    </tr>\n",
       "  </thead>\n",
       "  <tbody>\n",
       "    <tr>\n",
       "      <th>32504</th>\n",
       "      <td>Oppose For the sake of this decision, I don't ...</td>\n",
       "      <td>0</td>\n",
       "    </tr>\n",
       "    <tr>\n",
       "      <th>39965</th>\n",
       "      <td>REDIRECT Talk:Shabab Al-Bireh Institute</td>\n",
       "      <td>0</td>\n",
       "    </tr>\n",
       "    <tr>\n",
       "      <th>128463</th>\n",
       "      <td>Rutherford was a supporter of the Haultain gov...</td>\n",
       "      <td>0</td>\n",
       "    </tr>\n",
       "    <tr>\n",
       "      <th>66224</th>\n",
       "      <td>I didn't do it \\n\\nI didn't add improperly cit...</td>\n",
       "      <td>0</td>\n",
       "    </tr>\n",
       "    <tr>\n",
       "      <th>65530</th>\n",
       "      <td>\"Hang on a minute, scobey. I'm Irish. I'd just...</td>\n",
       "      <td>0</td>\n",
       "    </tr>\n",
       "  </tbody>\n",
       "</table>\n",
       "</div>"
      ],
      "text/plain": [
       "                                                     text  label\n",
       "32504   Oppose For the sake of this decision, I don't ...      0\n",
       "39965             REDIRECT Talk:Shabab Al-Bireh Institute      0\n",
       "128463  Rutherford was a supporter of the Haultain gov...      0\n",
       "66224   I didn't do it \\n\\nI didn't add improperly cit...      0\n",
       "65530   \"Hang on a minute, scobey. I'm Irish. I'd just...      0"
      ]
     },
     "execution_count": 63,
     "metadata": {},
     "output_type": "execute_result"
    },
    {
     "data": {
      "text/html": [
       "<div>\n",
       "<style scoped>\n",
       "    .dataframe tbody tr th:only-of-type {\n",
       "        vertical-align: middle;\n",
       "    }\n",
       "\n",
       "    .dataframe tbody tr th {\n",
       "        vertical-align: top;\n",
       "    }\n",
       "\n",
       "    .dataframe thead th {\n",
       "        text-align: right;\n",
       "    }\n",
       "</style>\n",
       "<table border=\"1\" class=\"dataframe\">\n",
       "  <thead>\n",
       "    <tr style=\"text-align: right;\">\n",
       "      <th></th>\n",
       "      <th>text</th>\n",
       "      <th>label</th>\n",
       "    </tr>\n",
       "  </thead>\n",
       "  <tbody>\n",
       "    <tr>\n",
       "      <th>0</th>\n",
       "      <td>Oppose For the sake of this decision, I don't ...</td>\n",
       "      <td>0</td>\n",
       "    </tr>\n",
       "    <tr>\n",
       "      <th>1</th>\n",
       "      <td>REDIRECT Talk:Shabab Al-Bireh Institute</td>\n",
       "      <td>0</td>\n",
       "    </tr>\n",
       "    <tr>\n",
       "      <th>2</th>\n",
       "      <td>Rutherford was a supporter of the Haultain gov...</td>\n",
       "      <td>0</td>\n",
       "    </tr>\n",
       "    <tr>\n",
       "      <th>3</th>\n",
       "      <td>I didn't do it \\n\\nI didn't add improperly cit...</td>\n",
       "      <td>0</td>\n",
       "    </tr>\n",
       "    <tr>\n",
       "      <th>4</th>\n",
       "      <td>\"Hang on a minute, scobey. I'm Irish. I'd just...</td>\n",
       "      <td>0</td>\n",
       "    </tr>\n",
       "  </tbody>\n",
       "</table>\n",
       "</div>"
      ],
      "text/plain": [
       "                                                text  label\n",
       "0  Oppose For the sake of this decision, I don't ...      0\n",
       "1            REDIRECT Talk:Shabab Al-Bireh Institute      0\n",
       "2  Rutherford was a supporter of the Haultain gov...      0\n",
       "3  I didn't do it \\n\\nI didn't add improperly cit...      0\n",
       "4  \"Hang on a minute, scobey. I'm Irish. I'd just...      0"
      ]
     },
     "execution_count": 63,
     "metadata": {},
     "output_type": "execute_result"
    }
   ],
   "source": [
    "def random_balance_subset(df, n=2000):\n",
    "    \"\"\"select random n sample for each class\n",
    "\n",
    "    Args:\n",
    "        df (df): with y label as e.g. [0, 1]\n",
    "        n (int): num\n",
    "    \"\"\"\n",
    "    list_of_dataframes = []\n",
    "    ys = list(df['y'].unique())\n",
    "    for y in ys:\n",
    "        subsample = df[df['y'] == y].sample(n=n, random_state=CONFIG['seed'])\n",
    "        list_of_dataframes.append(subsample)\n",
    "    res = pd.concat(list_of_dataframes)\n",
    "    return res\n",
    "df_mini = random_balance_subset(df, 2000)\n",
    "df_mini['y'].value_counts()\n",
    "df_mini = df_mini.rename({'y': 'label'}, axis=1)  # new method\n",
    "df_mini.head()\n",
    "df_mini.reset_index(drop=True, inplace=True)\n",
    "df_mini.head()\n"
   ]
  },
  {
   "cell_type": "code",
   "execution_count": 64,
   "metadata": {},
   "outputs": [
    {
     "data": {
      "text/html": [
       "<div>\n",
       "<style scoped>\n",
       "    .dataframe tbody tr th:only-of-type {\n",
       "        vertical-align: middle;\n",
       "    }\n",
       "\n",
       "    .dataframe tbody tr th {\n",
       "        vertical-align: top;\n",
       "    }\n",
       "\n",
       "    .dataframe thead th {\n",
       "        text-align: right;\n",
       "    }\n",
       "</style>\n",
       "<table border=\"1\" class=\"dataframe\">\n",
       "  <thead>\n",
       "    <tr style=\"text-align: right;\">\n",
       "      <th></th>\n",
       "      <th>text</th>\n",
       "      <th>label</th>\n",
       "    </tr>\n",
       "  </thead>\n",
       "  <tbody>\n",
       "    <tr>\n",
       "      <th>0</th>\n",
       "      <td>Oppose For the sake of this decision, I don't ...</td>\n",
       "      <td>0</td>\n",
       "    </tr>\n",
       "    <tr>\n",
       "      <th>1</th>\n",
       "      <td>REDIRECT Talk:Shabab Al-Bireh Institute</td>\n",
       "      <td>0</td>\n",
       "    </tr>\n",
       "    <tr>\n",
       "      <th>2</th>\n",
       "      <td>Rutherford was a supporter of the Haultain gov...</td>\n",
       "      <td>0</td>\n",
       "    </tr>\n",
       "    <tr>\n",
       "      <th>3</th>\n",
       "      <td>I didn't do it \\n\\nI didn't add improperly cit...</td>\n",
       "      <td>0</td>\n",
       "    </tr>\n",
       "    <tr>\n",
       "      <th>4</th>\n",
       "      <td>\"Hang on a minute, scobey. I'm Irish. I'd just...</td>\n",
       "      <td>0</td>\n",
       "    </tr>\n",
       "    <tr>\n",
       "      <th>...</th>\n",
       "      <td>...</td>\n",
       "      <td>...</td>\n",
       "    </tr>\n",
       "    <tr>\n",
       "      <th>3995</th>\n",
       "      <td>, 26 April 2015 (UTC)\\nnote restored stop fuck...</td>\n",
       "      <td>1</td>\n",
       "    </tr>\n",
       "    <tr>\n",
       "      <th>3996</th>\n",
       "      <td>Hello, you turd. \\n\\nFirśt, I aṃ ģoinģ ţo ţie ...</td>\n",
       "      <td>1</td>\n",
       "    </tr>\n",
       "    <tr>\n",
       "      <th>3997</th>\n",
       "      <td>You stupid nigger \\n\\nYou stupid nigger You st...</td>\n",
       "      <td>1</td>\n",
       "    </tr>\n",
       "    <tr>\n",
       "      <th>3998</th>\n",
       "      <td>fuckbook \\n\\nit sucks hairy balls</td>\n",
       "      <td>1</td>\n",
       "    </tr>\n",
       "    <tr>\n",
       "      <th>3999</th>\n",
       "      <td>\"  Also note that the comment about \"\"tenaciou...</td>\n",
       "      <td>1</td>\n",
       "    </tr>\n",
       "  </tbody>\n",
       "</table>\n",
       "<p>4000 rows × 2 columns</p>\n",
       "</div>"
      ],
      "text/plain": [
       "                                                   text  label\n",
       "0     Oppose For the sake of this decision, I don't ...      0\n",
       "1               REDIRECT Talk:Shabab Al-Bireh Institute      0\n",
       "2     Rutherford was a supporter of the Haultain gov...      0\n",
       "3     I didn't do it \\n\\nI didn't add improperly cit...      0\n",
       "4     \"Hang on a minute, scobey. I'm Irish. I'd just...      0\n",
       "...                                                 ...    ...\n",
       "3995  , 26 April 2015 (UTC)\\nnote restored stop fuck...      1\n",
       "3996  Hello, you turd. \\n\\nFirśt, I aṃ ģoinģ ţo ţie ...      1\n",
       "3997  You stupid nigger \\n\\nYou stupid nigger You st...      1\n",
       "3998                  fuckbook \\n\\nit sucks hairy balls      1\n",
       "3999  \"  Also note that the comment about \"\"tenaciou...      1\n",
       "\n",
       "[4000 rows x 2 columns]"
      ]
     },
     "execution_count": 64,
     "metadata": {},
     "output_type": "execute_result"
    }
   ],
   "source": [
    "df_mini"
   ]
  },
  {
   "cell_type": "code",
   "execution_count": 65,
   "metadata": {},
   "outputs": [],
   "source": [
    "df_mini.to_csv('train_mini.csv', index=False, encoding='utf-8')"
   ]
  },
  {
   "cell_type": "code",
   "execution_count": 70,
   "metadata": {},
   "outputs": [
    {
     "data": {
      "text/plain": [
       "0"
      ]
     },
     "execution_count": 70,
     "metadata": {},
     "output_type": "execute_result"
    }
   ],
   "source": [
    "df['text'].isnull().sum(axis = 0)"
   ]
  }
 ],
 "metadata": {
  "interpreter": {
   "hash": "b8b218f4d14db83bfa741eacffb5f08ec6a6f63e8f522dcfa695265ef8eb6fa4"
  },
  "kernelspec": {
   "display_name": "Python 3.9.10 64-bit (windows store)",
   "language": "python",
   "name": "python3"
  },
  "language_info": {
   "codemirror_mode": {
    "name": "ipython",
    "version": 3
   },
   "file_extension": ".py",
   "mimetype": "text/x-python",
   "name": "python",
   "nbconvert_exporter": "python",
   "pygments_lexer": "ipython3",
   "version": "3.9.10"
  },
  "orig_nbformat": 4
 },
 "nbformat": 4,
 "nbformat_minor": 2
}
