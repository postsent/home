{
 "cells": [
  {
   "cell_type": "markdown",
   "metadata": {},
   "source": [
    "# Pandas"
   ]
  },
  {
   "cell_type": "markdown",
   "metadata": {},
   "source": [
<<<<<<< HEAD
    "## count unique words in a column"
   ]
  },
  {
   "cell_type": "code",
   "execution_count": null,
   "metadata": {},
   "outputs": [],
   "source": [
    "results = set()\n",
    "df['text'].str.lower().str.split().apply(results.update)\n",
    "n_words = len(results)\n",
    "n_words"
   ]
  },
  {
   "cell_type": "markdown",
   "metadata": {},
   "source": [
=======
>>>>>>> cb20c7757ad6d8d367bc40a6c415d9b8505f804c
    "## Random sample for each class"
   ]
  },
  {
   "cell_type": "code",
   "execution_count": null,
   "metadata": {},
   "outputs": [],
   "source": [
    "def random_balance_subset(df, n=2000):\n",
    "    \"\"\"select random n sample for each class\n",
    "\n",
    "    Args:\n",
    "        df (df): with y label as e.g. [0, 1]\n",
    "        n (int): num\n",
    "    \"\"\"\n",
    "    list_of_dataframes = []\n",
    "    ys = list(df['y'].unique())\n",
    "    for y in ys:\n",
    "        subsample = df[df['y'] == y].sample(n=n, random_state=CONFIG['seed'])\n",
    "        list_of_dataframes.append(subsample)\n",
    "    res = pd.concat(list_of_dataframes)\n",
    "    return res\n",
    "df_mini = random_balance_subset(df)\n",
    "df_mini['y'].value_counts()\n",
    "\n"
   ]
  },
  {
   "cell_type": "markdown",
   "metadata": {},
   "source": [
    "## convert dataframe to csv"
   ]
  },
  {
   "cell_type": "code",
   "execution_count": null,
   "metadata": {},
   "outputs": [],
   "source": [
    "df.to_csv('train_mini.csv')"
   ]
  },
  {
   "cell_type": "markdown",
   "metadata": {},
   "source": [
    "## index reset"
   ]
  },
  {
   "cell_type": "code",
   "execution_count": null,
   "metadata": {},
   "outputs": [],
   "source": [
    "df.reset_index(drop=True, inplace=True)"
   ]
  },
  {
   "cell_type": "code",
   "execution_count": null,
   "metadata": {},
   "outputs": [],
   "source": []
  }
 ],
 "metadata": {
  "language_info": {
   "name": "python"
  },
  "orig_nbformat": 4
 },
 "nbformat": 4,
 "nbformat_minor": 2
}
