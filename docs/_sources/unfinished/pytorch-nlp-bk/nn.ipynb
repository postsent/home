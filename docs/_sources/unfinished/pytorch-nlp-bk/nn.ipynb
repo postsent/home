{
 "cells": [
  {
   "cell_type": "markdown",
   "metadata": {},
   "source": [
    "# Feed-Forward Networks for NLP"
   ]
  },
  {
   "cell_type": "markdown",
   "metadata": {},
   "source": [
    "- Learning **intermediate representations** that have specific properties, like being linearly separable for a classification task, is one of the most profound consequences of using neural networks and is quintessential to their modeling capabilities"
   ]
  },
  {
   "cell_type": "markdown",
   "metadata": {},
   "source": [
    "# Multilayer perceptron"
   ]
  },
  {
   "cell_type": "code",
   "execution_count": 9,
   "metadata": {},
   "outputs": [
    {
     "data": {
      "text/plain": [
       "<torch._C.Generator at 0x1ee5c552290>"
      ]
     },
     "execution_count": 9,
     "metadata": {},
     "output_type": "execute_result"
    }
   ],
   "source": [
    "%matplotlib inline \n",
    "from IPython.core.interactiveshell import InteractiveShell\n",
    "get_ipython().ast_node_interactivity = 'all'\n",
    "import torch\n",
    "import torch.nn as nn\n",
    "import matplotlib.pyplot as plt\n",
    "import torch.optim as optim\n",
    "import torch.nn.functional as F\n",
    "import numpy as np\n",
    "\n",
    "seed = 23\n",
    "\n",
    "torch.manual_seed(seed)\n",
    "torch.cuda.manual_seed_all(seed)\n",
    "np.random.seed(seed)"
   ]
  },
  {
   "cell_type": "code",
   "execution_count": 3,
   "metadata": {},
   "outputs": [],
   "source": [
    "class MultilayerPerceptron(nn.Module):\n",
    "    def __init__(self, input_dim, hidden_dim, output_dim):\n",
    "        \"\"\"\n",
    "        Args:\n",
    "        input_dim (int): the size of the input vectors\n",
    "        hidden_dim (int): the output size of the first Linear layer\n",
    "        output_dim (int): the output size of the second Linear layer\n",
    "        \"\"\"\n",
    "        super(MultilayerPerceptron, self).__init__()\n",
    "        self.fc1 = nn.Linear(input_dim, hidden_dim)\n",
    "        self.fc2 = nn.Linear(hidden_dim, output_dim)\n",
    "    def forward(self, x_in, apply_softmax=False):\n",
    "        \"\"\"The forward pass of the MLP\n",
    "        3\n",
    "        4\n",
    "        Args:\n",
    "        x_in (torch.Tensor): an input data tensor\n",
    "        x_in.shape should be (batch, input_dim)\n",
    "        apply_softmax (bool): a flag for the softmax activation\n",
    "        should be false if used with the cross-entropy losses\n",
    "        Returns:\n",
    "        the resulting tensor. tensor.shape should be (batch, output_dim)\n",
    "        \"\"\"\n",
    "        intermediate = F.relu(self.fc1(x_in))\n",
    "        output = self.fc2(intermediate)\n",
    "        if apply_softmax:\n",
    "            output = F.softmax(output, dim=1)\n",
    "        return output"
   ]
  },
  {
   "cell_type": "code",
   "execution_count": 4,
   "metadata": {},
   "outputs": [
    {
     "name": "stdout",
     "output_type": "stream",
     "text": [
      "MultilayerPerceptron(\n",
      "  (fc1): Linear(in_features=3, out_features=100, bias=True)\n",
      "  (fc2): Linear(in_features=100, out_features=4, bias=True)\n",
      ")\n"
     ]
    }
   ],
   "source": [
    "batch_size = 2 # number of samples input at once\n",
    "input_dim = 3\n",
    "hidden_dim = 100\n",
    "output_dim = 4\n",
    "# Initialize model\n",
    "mlp = MultilayerPerceptron(input_dim, hidden_dim, output_dim)\n",
    "print(mlp)"
   ]
  },
  {
   "cell_type": "markdown",
   "metadata": {},
   "source": [
    "## Testing the MLP with random inputs\n",
    "\n",
    "With no training"
   ]
  },
  {
   "cell_type": "code",
   "execution_count": 16,
   "metadata": {},
   "outputs": [
    {
     "name": "stdout",
     "output_type": "stream",
     "text": [
      "Type: torch.FloatTensor\n",
      "Shape/size: torch.Size([2, 3])\n",
      "Values: \n",
      "tensor([[0.2933, 0.9205, 0.5876],\n",
      "        [0.1299, 0.6729, 0.1028]])\n",
      "Type: torch.FloatTensor\n",
      "Shape/size: torch.Size([2, 4])\n",
      "Values: \n",
      "tensor([[-0.0724,  0.2681,  0.0131, -0.2113],\n",
      "        [-0.0952,  0.1580,  0.0931, -0.1087]], grad_fn=<AddmmBackward0>)\n",
      "Type: torch.FloatTensor\n",
      "Shape/size: torch.Size([2, 4])\n",
      "Values: \n",
      "tensor([[0.2291, 0.3220, 0.2495, 0.1994],\n",
      "        [0.2231, 0.2874, 0.2693, 0.2201]], grad_fn=<SoftmaxBackward0>)\n"
     ]
    },
    {
     "data": {
      "text/plain": [
       "True"
      ]
     },
     "execution_count": 16,
     "metadata": {},
     "output_type": "execute_result"
    }
   ],
   "source": [
    "def describe(x):\n",
    "    print(\"Type: {}\".format(x.type()))\n",
    "    print(\"Shape/size: {}\".format(x.shape))\n",
    "    print(\"Values: \\n{}\".format(x))\n",
    "x_input = torch.rand(batch_size, input_dim)\n",
    "describe(x_input)\n",
    "\n",
    "y_output = mlp(x_input, apply_softmax=False)\n",
    "describe(y_output)\n",
    "\n",
    "y_output = mlp(x_input, apply_softmax=True)\n",
    "describe(y_output)\n",
    "\n",
    "0.2403 + 0.3313 + 0.2284 + 0.2000 == 1\n"
   ]
  },
  {
   "cell_type": "markdown",
   "metadata": {},
   "source": [
    "## Example: Surname Classification with an MLP"
   ]
  },
  {
   "cell_type": "markdown",
   "metadata": {},
   "source": [
    "## The Surnames Dataset"
   ]
  },
  {
   "cell_type": "markdown",
   "metadata": {},
   "source": [
    "the surnames dataset, a collection of 10,000 surnames from 18 different nationalities"
   ]
  },
  {
   "cell_type": "markdown",
   "metadata": {},
   "source": [
    "These are the same data structures used in “Example: Classifying Sentiment of Restaurant Reviews”, exemplifying a **polymorphism** that treats the character tokens of surnames in the same way as the word tokens of Yelp reviews. Instead of vectorizing by mapping word **tokens** to **integers**, the data is vectorized by mapping **characters** to **integers**.\n",
    "\n",
    "-----------------\n",
    "\n",
    "the Vocabulary is a coordination of **two** Python **dictionaries** that form a bijection between tokens (characters, in this example) and integers; that is, the first dictionary maps characters to integer indices, and the second maps the integer indices to characters.\n",
    "\n",
    "------------------\n",
    "\n",
    "we use a one-hot representation and do not count the frequency of characters and restrict only to frequent items. This is mainly because the dataset is **small** and most characters are frequent enough."
   ]
  },
  {
   "cell_type": "code",
   "execution_count": null,
   "metadata": {},
   "outputs": [],
   "source": [
    "class SurnameDataset(Dataset):\n",
    "    # Implementation is nearly identical to Example 3-14\n",
    "    def __getitem__(self, index):\n",
    "        row = self._target_df.iloc[index]\n",
    "        surname_vector = \\\n",
    "        self._vectorizer.vectorize(row.surname)\n",
    "        nationality_index = \\\n",
    "        self._vectorizer.nationality_vocab.lookup_token(row.nationality)\n",
    "        return {'x_surname': surname_vector,\n",
    "        'y_nationality': nationality_index}"
   ]
  },
  {
   "cell_type": "markdown",
   "metadata": {},
   "source": [
    "## The SurnameVectorizer"
   ]
  },
  {
   "cell_type": "markdown",
   "metadata": {},
   "source": [
    "Surnames are **sequences** of characters, and each character is an individual token in our Vocabulary. However, until “Convolutional Neural Networks”, we will ignore the sequence information and create a collapsed **onehot** vector representation of the input by iterating over each character in the string input."
   ]
  }
 ],
 "metadata": {
  "interpreter": {
   "hash": "b8b218f4d14db83bfa741eacffb5f08ec6a6f63e8f522dcfa695265ef8eb6fa4"
  },
  "kernelspec": {
   "display_name": "Python 3.9.10 64-bit (windows store)",
   "language": "python",
   "name": "python3"
  },
  "language_info": {
   "codemirror_mode": {
    "name": "ipython",
    "version": 3
   },
   "file_extension": ".py",
   "mimetype": "text/x-python",
   "name": "python",
   "nbconvert_exporter": "python",
   "pygments_lexer": "ipython3",
   "version": "3.9.10"
  },
  "orig_nbformat": 4
 },
 "nbformat": 4,
 "nbformat_minor": 2
}
