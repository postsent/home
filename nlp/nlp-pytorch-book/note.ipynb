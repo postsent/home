{
 "cells": [
  {
   "cell_type": "markdown",
   "metadata": {},
   "source": [
    "# Acknowledgement"
   ]
  },
  {
   "cell_type": "markdown",
   "metadata": {},
   "source": [
    "[Supp code and exampels](https://github.com/joosthub/PyTorchNLPBookm) \n",
    "Perface > using code example: \"\"\n",
    "\n",
    "> “ Natural Language Processing with PyTorch by Delip Rao and Brian McMahan (O’Reilly). Copyright 2019, Delip Rao and Brian McMahan, 978-1-491-97823-8.”"
   ]
  }
 ],
 "metadata": {
  "interpreter": {
   "hash": "04c2c190d8d0e7e5e1678786cf96c5fe54de7e069d5117ea2521e84529e5d561"
  },
  "kernelspec": {
   "display_name": "Python 3.8.5 64-bit ('base': conda)",
   "name": "python3"
  },
  "language_info": {
   "name": "python",
   "version": "3.8.5"
  },
  "orig_nbformat": 4
 },
 "nbformat": 4,
 "nbformat_minor": 2
}
